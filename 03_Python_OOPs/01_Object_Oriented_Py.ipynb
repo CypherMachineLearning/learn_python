{
  "nbformat": 4,
  "nbformat_minor": 0,
  "metadata": {
    "colab": {
      "provenance": [],
      "collapsed_sections": [],
      "toc_visible": true
    },
    "kernelspec": {
      "name": "python3",
      "display_name": "Python 3"
    }
  },
  "cells": [
    {
      "cell_type": "markdown",
      "metadata": {
        "id": "7lf_rPHtwiE1"
      },
      "source": [
        "\n",
        "# <center>🐍$\\color{skyblue}{\\textbf{Object-Oriented-Programming}}$🐍</center>\n"
      ]
    },
    {
      "cell_type": "markdown",
      "source": [
        "<p align='center'>\n",
        "  <a href=\"#\">\n",
        "    <img src='https://github.com/mohd-faizy/learn_python/blob/master/_img/carClass.png?raw=true'>\n",
        "  </a>\n",
        "</p>\n",
        "\n"
      ],
      "metadata": {
        "id": "K_-IV08MsL2V"
      }
    },
    {
      "cell_type": "markdown",
      "source": [
        "```python\n",
        "class Student:\n",
        "    # Constructor - Parameter to constructor\n",
        "           ↓               ↓\n",
        "    def __init__(self, name, percentage):\n",
        "        self.name = name    ← # Instance variable\n",
        "        self.percentage = percentage\n",
        "\n",
        "    def show(self):         ← # Instance method\n",
        "        print(f\"Name is {self.name} and percentage is {self.percentage}\")\n",
        "\n",
        "# Object of class\n",
        "        ↓\n",
        "stud  = Student(\"Jhon\" , 80)\n",
        "stud.show()  \n",
        "```"
      ],
      "metadata": {
        "id": "1TeC2xjwuwXs"
      }
    },
    {
      "cell_type": "markdown",
      "source": [
        "> 📢Solving the problem by creating the $objects$ is one of the most popular approaches in the programming. This is called  $\\color{red}{\\textbf{Object Oriented Programming}}$.\n",
        "\n",
        "This concept focuses on $\\color{red}{\\textbf{Code Reusability}}$ $\\rightarrow$ Implements using $\\color{red}{\\textbf{DRY principle}}$ \n",
        "$(Don't-Repet-Yourself)$\n",
        "\n",
        "-  👉$\\color{red}{\\textbf{Class}}$: A class is the *blueprint* for creating the `objects`.\n",
        "\n",
        "    ```python\n",
        "    # Syntax\n",
        "    class Employee:\n",
        "        # Methods & Attributes\n",
        "    ```\n",
        "\n",
        "-  👉$\\color{red}{\\textbf{Object}}$: An Object is an instantiation of a `class`. when `class` is defined, a templet(info) is defined. Memory is only allocated only after the object instantiaion. `Objects` of a given class can invoke the `methods` avalible to it without revealing the implementation details to the user $\\rightarrow$ $Abstraction$ & $Encapsulation$\n",
        "\n",
        "-  👉Modelling a problem in $\\color{red}{\\textbf{OOPs}}$: \n",
        "    - 🟥$Noun$ $\\rightarrow$ $\\color{red}{\\textbf{Class}}$ $\\rightarrow$ $\\color{skyblue}{\\textbf{Employee}}$\n",
        "    - 🟥$Adjective$ $\\rightarrow$ $\\color{red}{\\textbf{Attributes}}$ $\\rightarrow$ $\\color{skyblue}{\\textbf{name, age, salary}}$\n",
        "    - 🟥$Verbs$ $\\rightarrow$ $\\color{red}{\\textbf{Methods}}$ $\\rightarrow$ $\\color{skyblue}{\\textbf{getSalary(), increment()}}$\n",
        "\n",
        "- $\\color{red}{\\textbf{Class Attribute}}$: An attribute that belong to the `class` rather than a particular `object`.\n",
        "\n",
        "    ```python\n",
        "    class Employee:\n",
        "        company = \"Google\"        # Specific to each class\n",
        "\n",
        "    jack = Employee()             # object instantiation\n",
        "    jack.company\n",
        "    Employee.company = \"Youtube\"  # changing the class attribute\n",
        "    ```\n",
        "\n",
        "-  👉$\\color{red}{\\textbf{Instance Attribute}}$: An attribute that belong to the `Instance(object)`.\n",
        "\n",
        "    - 🔴$Note:$ **Instance attribute** take preference over **class attributes** during assignment & retrival.\n",
        "    - `jack.attribute1`\n",
        "     - Is `attribute1` present in the `object`.\n",
        "     - Is `attribute1` present in the `class`.\n",
        "\n",
        "    ```python\n",
        "    jack.name = \"Jack\"\n",
        "    jack.salary = \"30K\"           # Adding instance attribute\n",
        "    ```\n",
        "-  👉$\\color{red}{\\textbf{self Parameter}}$: `self` refer to the $instance$ of a $class$. it is automatically passed with a function call form an object. it is used to access `variables` that belong to the class`.\n",
        "    - `jack.getSalary()` here self is jack is equvilant to `Employee.getSalary(jack)`\n",
        "    - the function `getSalary` is defined as:\n",
        "\n",
        "    ```python\n",
        "    class Employee:\n",
        "\n",
        "        def __init__(self, salary)\n",
        "        self.salary = salary\n",
        "\n",
        "        def getSalary(self):\n",
        "            print(\"The current salary is \"+ self.salary)\n",
        "\n",
        "    ```\n",
        "-  👉$\\color{red}{\\textbf{static method}}$: Sometimes we need to program a function that dose'nt use the `self` parameter, so we can use `static` method insted.\n",
        "\n",
        "    ```python\n",
        "    @staticmethod\n",
        "    def greet():\n",
        "        print(\"Hello user\")\n",
        "    ```\n",
        "-   👉$\\color{red}{\\textbf{__init__()}}$: The `__init__()` function is called automatically every time the class is being used to create a new object.\n",
        "    -  `__init__() ` is also known as $\\color{red}{\\textbf{Constructer}}$.\n",
        "    - it take `self` as it's first argument and can also take further arguments.\n",
        "\n",
        "    ```python\n",
        "    class Employee:\n",
        "        def __init__(self, name):\n",
        "            self.name = name\n",
        "\n",
        "        def getSalary(self):\n",
        "            ...\n",
        "\n",
        "    jack = Employee(\"Harry\") # object can be intantiated using constructer like this!\n",
        "    ```"
      ],
      "metadata": {
        "id": "a9n_r49l_cOh"
      }
    },
    {
      "cell_type": "code",
      "source": [
        "class Robot:                                \n",
        "    def __init__(self, name, color, weight): \n",
        "        self.name = name\n",
        "        self.color = color\n",
        "        self.weight = weight\n",
        "\n",
        "    def introduce_self(self):\n",
        "        print(\"My Name is \"+ self.name)\n",
        "\n",
        "# r1 = Robot()       # this means create a new object with name robot\n",
        "# r1.name = 'Tom'    # in order to avoide DRY we use __init__()\n",
        "# r1.color = 'Red'\n",
        "# r1.weight = 30\n",
        "\n",
        "# r2 = Robot()\n",
        "# r2.name = 'Jerry'\n",
        "# r2.color = 'Blue'\n",
        "# r2.weight = 10\n",
        "\n",
        "r1 = Robot('Tom', 'red', 30)                 \n",
        "r2 = Robot('Jerry', 'blue', 40)\n",
        "\n",
        "r1.introduce_self()                          \n",
        "r2.introduce_self()"
      ],
      "metadata": {
        "colab": {
          "base_uri": "https://localhost:8080/"
        },
        "id": "EUqAA4MnFJuZ",
        "outputId": "de78d266-0156-4987-ff63-3100d3bf7138"
      },
      "execution_count": null,
      "outputs": [
        {
          "output_type": "stream",
          "name": "stdout",
          "text": [
            "My Name is Tom\n",
            "My Name is Jerry\n"
          ]
        }
      ]
    },
    {
      "cell_type": "code",
      "source": [
        "class Robot:                      # class\n",
        "    def __init__(self, n, c, w):  # __init__: init'ializer method or Special Method\n",
        "        self.name = n             # attributes of a class\n",
        "        self.color = c\n",
        "        self.weight = w\n",
        "\n",
        "    def introduce_self(self):\n",
        "        print(\"My name is \" + self.name)\n",
        "\n",
        "\n",
        "class Person:                     # Methods of a class\n",
        "    def __init__(self, n, p, i):\n",
        "        self.name = n\n",
        "        self.personality = p\n",
        "        self.isSitting = i\n",
        "\n",
        "    def sit_down(self):\n",
        "        print(\"My name is \" + self.name)\n",
        "\n",
        "\n",
        "r1 = Robot(\"Tom\", \"red\", 30)      # object instantiation\n",
        "r2 = Robot(\"Jerry\", \"blue\", 40)\n",
        "\n",
        "p1 = Person(\"Alice\", \"aggressive\", False)\n",
        "p2 = Person(\"Becky\", \"aggressive\", True)\n",
        "\n",
        "p1.robot_owned = r2\n",
        "p2.robot_owned = r1\n",
        "\n",
        "\n",
        "p1.robot_owned.introduce_self()"
      ],
      "metadata": {
        "colab": {
          "base_uri": "https://localhost:8080/"
        },
        "id": "vhV6zaCEMaGX",
        "outputId": "7dc234b9-42c0-4c06-9ff2-895657a66081"
      },
      "execution_count": null,
      "outputs": [
        {
          "output_type": "stream",
          "name": "stdout",
          "text": [
            "My name is Jerry\n"
          ]
        }
      ]
    },
    {
      "cell_type": "markdown",
      "source": [
        "---\n",
        "<center>Detailed study👇</center>\n",
        "\n",
        "---"
      ],
      "metadata": {
        "id": "0vqhYdRUsJq7"
      }
    },
    {
      "cell_type": "markdown",
      "metadata": {
        "id": "0LUi2SaUJuF3"
      },
      "source": [
        "## $\\color{red}{\\textbf{Objects}}$:\n",
        "\n",
        "✔️In Python, *everything is an object*.\n",
        "\n",
        "we can use `type() `to check the type of object something is:"
      ]
    },
    {
      "cell_type": "code",
      "metadata": {
        "id": "gj8YODAXKBvE",
        "colab": {
          "base_uri": "https://localhost:8080/"
        },
        "outputId": "1b2d4904-6c06-40a8-d29b-37eb705ceb4b"
      },
      "source": [
        "print(type(1))\n",
        "print(type([]))\n",
        "print(type(()))\n",
        "print(type({}))"
      ],
      "execution_count": null,
      "outputs": [
        {
          "output_type": "stream",
          "name": "stdout",
          "text": [
            "<class 'int'>\n",
            "<class 'list'>\n",
            "<class 'tuple'>\n",
            "<class 'dict'>\n"
          ]
        }
      ]
    },
    {
      "cell_type": "markdown",
      "metadata": {
        "id": "68ubUaDwhOzO"
      },
      "source": [
        "\n",
        "- It allows the programmer to create their own $Objects$ that have $\\rightarrow$ $Methods$ and $\\rightarrow$  $Attributs$.\n",
        "\n",
        "\n",
        "- __OOP's__ combine $data$ and $functionality$ and wrap it inside something called an $object$.\n",
        "\n",
        "- Objects can store data using ordinary variables that belong to the object.\n",
        "\n",
        "\n",
        "- An $\\color{red}{\\textbf{Object}}$ has **two characteristics**:\n",
        "    - ✅$\\color{red}{\\textbf{Attributes}}$\n",
        "    - ✅$\\color{red}{\\textbf{Behavior}}$\n",
        "\n",
        " > *A parrot is can be an __object__,as it has the following properties:*\n",
        " - `name`, `age`, `color` as **attributes**\n",
        " - `singing`, `dancing` as **behavior**\n",
        "\n",
        "\n",
        "\n"
      ]
    },
    {
      "cell_type": "markdown",
      "metadata": {
        "id": "dHmJIXm0HZmy"
      },
      "source": [
        "<center><img src = 'https://media.geeksforgeeks.org/wp-content/uploads/Blank-Diagram-Page-1-3.png'></center>"
      ]
    },
    {
      "cell_type": "markdown",
      "metadata": {
        "id": "nN4BKutZ8fKr"
      },
      "source": [
        "## $\\color{red}{\\textbf{Method}}$:\n",
        "\n",
        "- $\\color{skyblue}{\\textbf{Methods}}$ are the $\\color{skyblue}{\\textbf{Functions}}$ inside the `class`.\n",
        "\n",
        "- These `method` acts as `functions` that uses information about the object. `methods` is basically the actions we perform on the `objects` we created. So they essentially defined inside the body of the `class` &  perform the operations that sometimes utilize the actul `attribute` of the `object` that we created.\n",
        "\n",
        "- `Method` can be think of as `functions` acting on an `object` that take the `object` itself into account, through the use of `self `argument.\n",
        "\n",
        "- ♻️**OPPs** allows us to write a code that is repetable and organised.\n",
        "\n",
        "- For ***larger scripts*** of python code, `functions` by themselves aren't enough for oragnization and repeatability.\n",
        "\n",
        "- Commonly repeated tasks and objects can be defined with **OOP's** to create code that is more usable.\n"
      ]
    },
    {
      "cell_type": "markdown",
      "source": [
        "### $\\color{red}{\\textbf{Decorators}}$:\n",
        "\n",
        "> `Decorators` are a very powerful and useful tool in Python since it allows programmers to `modify` the behaviour of a `function` or `class`. Decorators allow us to `wrap` another function in order to `extend` the behaviour of the `wrapped` function, without `permanently` modifying it.\n",
        "\n",
        "- A `wrapper` is a function that provides a `wrap-around` another function.\n",
        "- Decorators are like a `designer`, that helps to us `modify` a function.\n",
        "- The modified functions usually contain calls to the original function. This is also known as `metaProgramming` because a part of the program tries to modify and add functionality to another part of the program at compile time.\n",
        "- $Note:$ that a decorator is called before defining a function."
      ],
      "metadata": {
        "id": "WLWyWzWiSJo4"
      }
    },
    {
      "cell_type": "code",
      "source": [
        "def our_decorator(func):   # this function take another function as an argument.\n",
        "    def function_wrapper():\n",
        "        print(\"Before function execution\")\n",
        "        func()             # this function will execute after the above print function.\n",
        "        print(\"After function execution\")\n",
        "    return function_wrapper\n",
        "\n",
        "def function_to_be_used(): # function that we will pass as an argument above.\n",
        "    print(\"This is inside the function\")\n",
        "\n",
        "function_to_be_used = our_decorator(function_to_be_used)\n",
        "\n",
        "function_to_be_used() "
      ],
      "metadata": {
        "colab": {
          "base_uri": "https://localhost:8080/"
        },
        "id": "GEA0ZTBxYxDX",
        "outputId": "c2a355a1-9656-4ff6-eddc-da767ef42978"
      },
      "execution_count": null,
      "outputs": [
        {
          "output_type": "stream",
          "name": "stdout",
          "text": [
            "Before function execution\n",
            "This is inside the function\n",
            "After function execution\n"
          ]
        }
      ]
    },
    {
      "cell_type": "markdown",
      "source": [
        "Another way of writing `function_to_be_used = our_decorator(function_to_be_used)` is by putting `@our_decorator` decorator over the funtion."
      ],
      "metadata": {
        "id": "VyQ-jrBKZFq3"
      }
    },
    {
      "cell_type": "code",
      "source": [
        "def our_decorator(func):       # wrapper function \n",
        "    def function_wrapper():\n",
        "        print(\"Before function execution\")\n",
        "        func() \n",
        "        print(\"After function execution\")\n",
        "    return function_wrapper\n",
        "\n",
        "@our_decorator\n",
        "def function_to_be_used():    # function that is to be wrapped\n",
        "    print(\"This is inside the function\")\n",
        "\n",
        "function_to_be_used() "
      ],
      "metadata": {
        "colab": {
          "base_uri": "https://localhost:8080/"
        },
        "id": "8TjSMXf3SXqJ",
        "outputId": "8b9b1858-c9ff-4a8b-ef66-06ccf1990bc7"
      },
      "execution_count": null,
      "outputs": [
        {
          "output_type": "stream",
          "name": "stdout",
          "text": [
            "Before function execution\n",
            "This is inside the function\n",
            "After function execution\n"
          ]
        }
      ]
    },
    {
      "cell_type": "markdown",
      "source": [
        "$\\color{red}{\\textbf{Advantages:}}$:\n",
        "\n",
        "- Decorator function can make our work compact because we can pass all the functions to a decorator that requires the same sort of code that the wrapper provides.\n",
        "- We can get our work done **without any alteration in the original code** of our function.\n",
        "- We can apply multiple decorators to a single function.\n",
        "- We can use decorators in authorization in Python frameworks such as Flask and Django, Logging, and measuring execution time."
      ],
      "metadata": {
        "id": "LiBT9k7IVZiv"
      }
    },
    {
      "cell_type": "code",
      "source": [
        "def uppercase_decorator(func):\n",
        "    def function_wrapper(x):\n",
        "        print(\"Before calling \" + func.__name__)\n",
        "        # function that is decorated making name parameter always uppercase\n",
        "        func(x.upper())\n",
        "        print(\"After calling \" + func.__name__)\n",
        "    return function_wrapper\n",
        "\n",
        "@uppercase_decorator\n",
        "def user(name):\n",
        "    print(f\"Hi, {name}\")\n",
        "\n",
        "user(\"jhon\")"
      ],
      "metadata": {
        "colab": {
          "base_uri": "https://localhost:8080/"
        },
        "id": "Aml8eIfESo_-",
        "outputId": "d65b213e-d098-42c4-94b1-f5abda8cf7b0"
      },
      "execution_count": null,
      "outputs": [
        {
          "output_type": "stream",
          "name": "stdout",
          "text": [
            "Before calling user\n",
            "Hi, JHON\n",
            "After calling user\n"
          ]
        }
      ]
    },
    {
      "cell_type": "code",
      "source": [
        "from functools import wraps\n",
        "\n",
        "def debug(func):\n",
        "    @wraps(func)\n",
        "    def out(*args, **kwargs):\n",
        "        print('hello world')\n",
        "        return func(*args, **kwargs)\n",
        "    return out\n",
        "\n",
        "@debug\n",
        "def add(x, y):\n",
        "    return x + y\n",
        "\n",
        "add(3, 4)"
      ],
      "metadata": {
        "colab": {
          "base_uri": "https://localhost:8080/"
        },
        "id": "2jIUmNsGSset",
        "outputId": "506519f9-3499-4254-98ea-bde5bdbd69b5"
      },
      "execution_count": null,
      "outputs": [
        {
          "output_type": "stream",
          "name": "stdout",
          "text": [
            "hello world\n"
          ]
        },
        {
          "output_type": "execute_result",
          "data": {
            "text/plain": [
              "7"
            ]
          },
          "metadata": {},
          "execution_count": 31
        }
      ]
    },
    {
      "cell_type": "markdown",
      "source": [
        "### $\\color{red}{\\textbf{Class Vs Static Method}}$:"
      ],
      "metadata": {
        "id": "soCdPpCe-ogj"
      }
    },
    {
      "cell_type": "markdown",
      "source": [
        "The difference between the `Class method` and the `static method` is:\n",
        "\n",
        "- A `class method` takes `cls` as the `first parameter` while a `static method` needs `no specific parameters`.\n",
        "\n",
        "- A `class method` `can` **change** and **alter** the variables of the class. while a `static method` `can’t` change or alter the class state.\n",
        "\n",
        "- In general, `static methods` know nothing about the class state. They are `utility-type` methods that take some parameters and work upon those parameters. On the other hand `class methods` must have class as a parameter.\n",
        "\n",
        "- We use `@classmethod` decorator in python to create a `class method` and we use `@staticmethod` decorator to create a `static method` in python."
      ],
      "metadata": {
        "id": "RrPThOlk-9kB"
      }
    },
    {
      "cell_type": "markdown",
      "source": [
        "### **When to use the class or static method?**\n",
        "\n",
        "- We use the `class method` to create `factory methods`. Factory methods `return` `class objects` (***similar to a constructor***) for different use cases.\n",
        "- A `@classmethod` Decorator is a built-in function in Python. It can be applied to any method of the class. We can change the value of variables using this method too.\n",
        "- Using `@classmethod` as an alternative constructors for a class that behaves like a factory constructor.\n",
        "\n",
        "- We use `static methods` to create `utility` functions."
      ],
      "metadata": {
        "id": "R_aNeuhjDHHo"
      }
    },
    {
      "cell_type": "code",
      "source": [
        "# Example-1\n",
        "class Employee:\n",
        "    no_of_leaves = 8 # class varible\n",
        "\n",
        "    def __init__(self, name, salary, role):\n",
        "        self.name = name    # <- Instance variable\n",
        "        self.salary = salary\n",
        "        self.role = role\n",
        "    \n",
        "    def printDetails(self):\n",
        "        return f\"The name is {self.name}. Salary is {self.salary} and role is {self.role}\"\n",
        "\n",
        "jhon = Employee('jhon', 10000, 'DataScientist')\n",
        "maria = Employee('maria', 20000, 'DataAnalyst')\n",
        "\n",
        "Employee.no_of_leaves = 10 # Changing the class varible\n",
        "# jhon.no_of_leaves  = 10  # we cannot access the class varible this way \n",
        "jhon.no_of_leaves "
      ],
      "metadata": {
        "colab": {
          "base_uri": "https://localhost:8080/"
        },
        "id": "gsUexaE5GQkY",
        "outputId": "3c24f9c1-5626-445c-d33b-4c7def0c06fa"
      },
      "execution_count": null,
      "outputs": [
        {
          "output_type": "execute_result",
          "data": {
            "text/plain": [
              "10"
            ]
          },
          "metadata": {},
          "execution_count": 35
        }
      ]
    },
    {
      "cell_type": "markdown",
      "source": [
        "Suppose if we want to change the `no_of_leaves = 8` using the function then we use `@classmethod`."
      ],
      "metadata": {
        "id": "SzEDOFiu2yAs"
      }
    },
    {
      "cell_type": "code",
      "source": [
        "# Example-2\n",
        "class Employee:\n",
        "    no_of_leaves = 8 # class varible\n",
        "\n",
        "    def __init__(self, name, salary, role):\n",
        "        self.name = name\n",
        "        self.salary = salary\n",
        "        self.role = role\n",
        "    \n",
        "    def print_details(self):\n",
        "        return f\"The name is {self.name}. Salary is {self.salary} and role is {self.role}\"\n",
        "\n",
        "    @classmethod     # classmethod decorator\n",
        "    def change_leaves(cls, newleaves): \n",
        "        cls.no_of_leaves = newleaves\n",
        "\n",
        "jhon = Employee('jhon', 10000, 'DataScientist')\n",
        "maria = Employee('maria', 20000, 'DataAnalyst')\n",
        "\n",
        "\n",
        "jhon.change_leaves(15)  # adding the classmethod will allow the instance to access the class varible\n",
        "print(jhon.no_of_leaves)\n",
        "print(maria.no_of_leaves)"
      ],
      "metadata": {
        "colab": {
          "base_uri": "https://localhost:8080/"
        },
        "id": "AfIHDAEIpL3Q",
        "outputId": "20470ba9-118b-4a86-9ef3-81a55def42b7"
      },
      "execution_count": null,
      "outputs": [
        {
          "output_type": "stream",
          "name": "stdout",
          "text": [
            "15\n",
            "15\n"
          ]
        }
      ]
    },
    {
      "cell_type": "markdown",
      "source": [
        "**`@classmethod` as an alternate `constructor`.**"
      ],
      "metadata": {
        "id": "vl2Y8TAF3vWN"
      }
    },
    {
      "cell_type": "code",
      "source": [
        "# Example-3\n",
        "class Employee:\n",
        "    no_of_leaves = 8 \n",
        "\n",
        "    def __init__(self, name, salary, role):\n",
        "        self.name = name\n",
        "        self.salary = salary\n",
        "        self.role = role\n",
        "    \n",
        "    def print_details(self):\n",
        "        return f\"The name is {self.name}. Salary is {self.salary} and role is {self.role}\"\n",
        "\n",
        "    @classmethod \n",
        "    def change_leaves(cls, newleaves): \n",
        "        cls.no_of_leaves = newleaves\n",
        "    \n",
        "    @classmethod \n",
        "    def from_str(cls, string):\n",
        "        # params = string.split(\"-\")\n",
        "        # print(params)\n",
        "        # return cls(params[0], params[1], params[2])\n",
        "        return cls(*string.split(\"-\")) # one liner code\n",
        "\n",
        "jhon = Employee('jhon', 10000, 'DataScientist')\n",
        "maria = Employee('maria', 20000, 'DataAnalyst')\n",
        "mike = Employee.from_str('mike-25000-DataEngineer')\n",
        "\n",
        "mike.salary"
      ],
      "metadata": {
        "colab": {
          "base_uri": "https://localhost:8080/",
          "height": 35
        },
        "id": "Zz8TyLx54O3g",
        "outputId": "79f81e2d-5d1f-494c-ed2b-aae566568a53"
      },
      "execution_count": null,
      "outputs": [
        {
          "output_type": "execute_result",
          "data": {
            "text/plain": [
              "'25000'"
            ],
            "application/vnd.google.colaboratory.intrinsic+json": {
              "type": "string"
            }
          },
          "metadata": {},
          "execution_count": 46
        }
      ]
    },
    {
      "cell_type": "code",
      "source": [
        "class Calculator:\n",
        "\n",
        "    # create addNumbers static method\n",
        "    @staticmethod\n",
        "    def addNumbers(x, y):\n",
        "        return x + y\n",
        "\n",
        "print('Product:', Calculator.addNumbers(15, 110))"
      ],
      "metadata": {
        "colab": {
          "base_uri": "https://localhost:8080/"
        },
        "id": "LkITKIACKm_d",
        "outputId": "a75e6460-c9ad-433b-fd23-82b1a7d58f48"
      },
      "execution_count": null,
      "outputs": [
        {
          "output_type": "stream",
          "name": "stdout",
          "text": [
            "Product: 125\n"
          ]
        }
      ]
    },
    {
      "cell_type": "code",
      "source": [
        "# Python program to demonstrate\n",
        "# use of class method and static method.\n",
        "from datetime import date\n",
        "\n",
        "class Person:\n",
        "\tdef __init__(self, name, age):\n",
        "\t\tself.name = name\n",
        "\t\tself.age = age\n",
        "\n",
        "\t# a class method to create a Person object by birth year.\n",
        "\t@classmethod\n",
        "\tdef fromBirthYear(cls, name, year):\n",
        "\t\treturn cls(name, date.today().year - year)\n",
        "\n",
        "\t# a static method to check if a Person is adult or not.\n",
        "\t@staticmethod\n",
        "\tdef isAdult(age):\n",
        "\t\treturn age > 18\n",
        "\n",
        "\n",
        "person1 = Person('Jhon', 21)\n",
        "person2 = Person.fromBirthYear('jhon', 1990)\n",
        "\n",
        "print(person1.age)\n",
        "print(person2.age)\n",
        "\n",
        "# print the result\n",
        "print(Person.isAdult(22))"
      ],
      "metadata": {
        "colab": {
          "base_uri": "https://localhost:8080/"
        },
        "id": "ogSPIaQC-kp-",
        "outputId": "31b3d2c6-1c5b-4a81-cd0a-835ab3223681"
      },
      "execution_count": null,
      "outputs": [
        {
          "output_type": "stream",
          "name": "stdout",
          "text": [
            "21\n",
            "32\n",
            "True\n"
          ]
        }
      ]
    },
    {
      "cell_type": "markdown",
      "metadata": {
        "id": "NQIypks0Nvgk"
      },
      "source": [
        "## $\\color{red}{\\textbf{Class}}$:"
      ]
    },
    {
      "cell_type": "markdown",
      "metadata": {
        "id": "pwJkN30LNzi9"
      },
      "source": [
        "`class` are used to create new **user-defined data structures** called `Object` that contain arbitrary information about something.\n",
        "\n",
        "> We can think of `class` as a sketch of a parrot with labels. It contains all the details about the `name`, `colors`, `size` etc. Based on these descriptions, we can study about the parrot. Here, a parrot is an `object`.\n",
        "\n"
      ]
    },
    {
      "cell_type": "markdown",
      "metadata": {
        "id": "AwYt56NSPGWB"
      },
      "source": [
        "```\n",
        "class Parrot:\n",
        "    pass\n",
        "```\n",
        "Here, we use the `class `keyword to define an empty `class` Parrot. From `class`, we construct **instances**.\n",
        "\n",
        "\n",
        "$\\color{red}{\\textbf{Instance:}}$\n",
        "\n",
        "> An $instance$ is a specific object created from a particular `class.`\n"
      ]
    },
    {
      "cell_type": "markdown",
      "metadata": {
        "id": "18ueScWTLtos"
      },
      "source": [
        "User defined `objects` are created using the `class` keyword. The `class` is a **blueprint** that defines the nature of a future `object`. From classes we can construct instances. An instance is a specific object created from a particular class. For example, above we created the object `list` which was an instance of a `list object`. \n",
        "\n",
        "Let see how we can use `class`:"
      ]
    },
    {
      "cell_type": "code",
      "metadata": {
        "id": "h_RFXmFzL8mb",
        "colab": {
          "base_uri": "https://localhost:8080/",
          "height": 34
        },
        "outputId": "c1b4a0be-c573-4f40-a326-7ba3b8037b85"
      },
      "source": [
        "# Create a new object type called Sample\n",
        "class Sample:\n",
        "    pass\n",
        "\n",
        "# Instance of Sample\n",
        "x = Sample()\n",
        "\n",
        "print(type(x))"
      ],
      "execution_count": null,
      "outputs": [
        {
          "output_type": "stream",
          "text": [
            "<class '__main__.Sample'>\n"
          ],
          "name": "stdout"
        }
      ]
    },
    {
      "cell_type": "markdown",
      "metadata": {
        "id": "T10XStmNNhxU"
      },
      "source": [
        "Inside of the class we currently just have pass. But we can define class attributes and methods.\n",
        "\n",
        "- An $attribute$ is a characteristic of an object.\n",
        "\n",
        "- A $method$ is an operation we can perform with the object.\n",
        "\n",
        "**For example**, we can create a class called Dog. An attribute of a dog may be its breed or its name, while a method of a dog may be defined by a `.bark()` method which returns a sound.\n",
        "\n",
        "Let's get a better understanding of attributes through an example.\n",
        "\n",
        "\n",
        ">🛑$\\color{red}{\\textbf{NOTE}}$🛑 : $\\color{skyblue}{\\textbf{Attribute}}$ never have **open** & **close** pranthesis because attribute aren't something that we really execute, insted it is the characteristic of the of the __object__ that we call back.\n",
        "\n",
        "The syntax for creating an attribute is:\n",
        "\n",
        "```    \n",
        "self.attribute = something\n",
        "```    \n",
        "There is a special method called:\n",
        "\n",
        "```\n",
        "__init__()\n",
        "```\n",
        "This method is used to initialize the attributes of an object. "
      ]
    },
    {
      "cell_type": "markdown",
      "metadata": {
        "id": "Y3X-UbWASjJb"
      },
      "source": [
        "> $\\color{red}{\\textbf{NOTE}}$ : By Convention: classes follows the camel Casing.\n",
        "\n"
      ]
    },
    {
      "cell_type": "code",
      "metadata": {
        "id": "fayUAiKaeQk1"
      },
      "source": [
        "class Dog:\n",
        "\n",
        "    def __init__(self, mybreed):\n",
        "\n",
        "        # Attributes\n",
        "        # We take in the arguments\n",
        "        # Assign it usin vg self.attribute_name\n",
        "\n",
        "        self.my_attribute = mybreed\n"
      ],
      "execution_count": null,
      "outputs": []
    },
    {
      "cell_type": "code",
      "metadata": {
        "id": "8mi47QdBoTTI"
      },
      "source": [
        "my_dog = Dog(mybreed = 'Huskie')"
      ],
      "execution_count": null,
      "outputs": []
    },
    {
      "cell_type": "code",
      "metadata": {
        "id": "tRaY49n5o0Ie",
        "colab": {
          "base_uri": "https://localhost:8080/"
        },
        "outputId": "d0c032ee-4972-4185-ebe7-0635acd8fb79"
      },
      "source": [
        "type(my_dog)"
      ],
      "execution_count": null,
      "outputs": [
        {
          "output_type": "execute_result",
          "data": {
            "text/plain": [
              "__main__.Dog"
            ]
          },
          "metadata": {},
          "execution_count": 12
        }
      ]
    },
    {
      "cell_type": "code",
      "metadata": {
        "id": "bHrA1wsko5oW",
        "colab": {
          "base_uri": "https://localhost:8080/",
          "height": 35
        },
        "outputId": "71477dd4-7356-49ad-bc7a-216c3cf8757e"
      },
      "source": [
        "# Calling the attribute\n",
        "my_dog.my_attribute"
      ],
      "execution_count": null,
      "outputs": [
        {
          "output_type": "execute_result",
          "data": {
            "text/plain": [
              "'Huskie'"
            ],
            "application/vnd.google.colaboratory.intrinsic+json": {
              "type": "string"
            }
          },
          "metadata": {},
          "execution_count": 11
        }
      ]
    },
    {
      "cell_type": "code",
      "metadata": {
        "id": "gR-YiFGwpTcs",
        "colab": {
          "base_uri": "https://localhost:8080/"
        },
        "outputId": "b7f3d341-04ae-4fa8-fd78-dedb42700d76"
      },
      "source": [
        "class Dog:\n",
        "\n",
        "    # Class Object Attribute\n",
        "    # This is Same - Regardless of  instance of the class\n",
        "    species = 'mammal' \n",
        "\n",
        "    # instance ATTRIBUTES\n",
        "    def __init__(self, breed, name, spots): # __init__ Method for User defined attribute\n",
        "                            \n",
        "        # Here both breed & name is String\n",
        "        # But spots is boolean\n",
        "        self.breed = breed\n",
        "        self.name  = name\n",
        "        # Expect the Boolean True/False\n",
        "        self.spots = spots\n",
        "    \n",
        "    # Operations/Actions---> instance METHOD\n",
        "    def bark(self, number): # Here the \"Self\" is used to connect it to the actual object\n",
        "                            # Method can also take some outside arguments\n",
        "        print('WOOF! My name is {} & the number is {}'.format(self.name, number))\n",
        "        # print(f'WOOF! My name is {self.name} & the number is {number}')\n",
        "\n",
        "# creating an object from a class\n",
        "my_dog = Dog('Labra', 'Tommy', False ) \n",
        "# my_dog = Dog(breed = 'Labra', name = 'Tommy', spots = False )\n",
        "\n",
        "# TYPE \n",
        "print(type(my_dog))\n",
        "\n",
        "# Calling the ATTRIBUTE doesn't require pranthesis\n",
        "print(my_dog.breed)  \n",
        "print(my_dog.name)\n",
        "print(my_dog.spots)\n",
        "print(my_dog.species)"
      ],
      "execution_count": null,
      "outputs": [
        {
          "output_type": "stream",
          "name": "stdout",
          "text": [
            "<class '__main__.Dog'>\n",
            "Labra\n",
            "Tommy\n",
            "False\n",
            "mammal\n"
          ]
        }
      ]
    },
    {
      "cell_type": "code",
      "metadata": {
        "id": "yiDJFghSEJKm",
        "colab": {
          "base_uri": "https://localhost:8080/",
          "height": 34
        },
        "outputId": "dd457e23-896f-4985-fa7a-d26edd890e56"
      },
      "source": [
        "# Calling the METHOD requires --> pranthesis \n",
        "'''\n",
        "METHOD: it is the action that the actual object can take\n",
        "'''\n",
        "my_dog.bark(10)\n"
      ],
      "execution_count": null,
      "outputs": [
        {
          "output_type": "stream",
          "text": [
            "WOOF! My name is Tommy & the number is 10\n"
          ],
          "name": "stdout"
        }
      ]
    },
    {
      "cell_type": "markdown",
      "metadata": {
        "id": "oxnx17K_fxJv"
      },
      "source": [
        "## $\\color{red}{\\textbf{Instance Attributes}}$:\n",
        "\n",
        "- $Attributes$ are defined inside the `__init__` method of the `class`. It is the **initializer method** that is *first run* as soon as the **object** is created.\n",
        "\n",
        "- All classes create **objects**, and all **objects** contain characteristics called **attributes** \n",
        "\n",
        "- it uses the `__init__()` **method** to initialize (e.g. specify) an object’s initial attributes by giving them their default value (or state).\n",
        "\n",
        "- This **method** must have at least one argument as well as the `self` variable, which refers to the object itself (e.g., Dog).\n",
        "\n",
        "\n",
        "\n"
      ]
    },
    {
      "cell_type": "markdown",
      "metadata": {
        "id": "HjZfRZy8sKHW"
      },
      "source": [
        "The difference between a `class` and an `object`.\n",
        "\n",
        "-  `__init__` doesn't initialize a `class`, it initializes an **instance** of a `class` or an `object.\n",
        "\n",
        " - Each dog has colour, but dogs as a class don't.\n",
        " \n",
        " - Each dog has four feet, but the class of dogs doesn't.\n"
      ]
    },
    {
      "cell_type": "markdown",
      "metadata": {
        "id": "UnFKsMGis9p5"
      },
      "source": [
        "[Why do we use `__init__` in Python classes?](https://stackoverflow.com/questions/8609153/why-do-we-use-init-in-python-classes)\n",
        "\n",
        "```python\n",
        "class Dog:\n",
        "    def __init__(self, legs, colour):\n",
        "        self.legs = legs\n",
        "        self.colour = colour\n",
        "\n",
        "fido = Dog(4, \"brown\")\n",
        "spot = Dog(3, \"mostly yellow\")\n",
        "```\n",
        "\n",
        "\n",
        "- The `__init__` function is called a $\\color{skyblue}{\\textbf{constructor}}$, or $\\color{skyblue}{\\textbf{initializer}}$ , and is automatically called when you create a new `instance` of a class.\n",
        "\n",
        "- Within that function, the newly created object is assigned to the parameter `self`.\n",
        "\n",
        " - The notation `self.legs` is an **attribute** called legs of the object in the variable self. \n",
        " - Attributes are kind of like variables, but they describe the state of an object, or particular actions (functions) available to the object"
      ]
    },
    {
      "cell_type": "markdown",
      "metadata": {
        "id": "5F5MnUiHhb-v"
      },
      "source": [
        "## $\\color{red}{\\textbf{self}}$ :\n",
        "\n",
        "- `Class` ***methods have only one specific difference from ordinary function***\n",
        "\n",
        "They must have an extra first name that has to be added to the beginning of the parameter list.\n",
        "\n",
        "🛑$\\color{red}{\\textbf{NOTE}}$🛑 : when we call a `method`, this is the first `parameter` that is automatically provide by the **python**, we don't give a value for this parameter.This particular variable refers to the `object` itself, and by convention, it is given the name `self`.\n"
      ]
    },
    {
      "cell_type": "code",
      "metadata": {
        "id": "nZySIQz35eiN",
        "colab": {
          "base_uri": "https://localhost:8080/"
        },
        "outputId": "43792d31-7acc-4c4a-bb12-c48055bbf998"
      },
      "source": [
        "class Circle:   \n",
        "    pi = 22/7                                      # Class Object Attribute\n",
        "\n",
        "    def __init__(self, radius = 1):                # Instance Attributes\n",
        "        self.radius = radius\n",
        "        \n",
        "    def area(self):\n",
        "        return self.pi * self.radius * self.radius # Instance Method to cal area\n",
        "\n",
        "    def circumference(self):                       # Instance Method to cal circumfarnce\n",
        "        return 2 * self.pi * self.radius\n",
        "\n",
        "my_circle = Circle(7)                              # Creating object from a class \n",
        "print(my_circle.pi)                                # accessing the class attribute\n",
        "print(my_circle.radius)                            # accessing the instance attribute\n",
        "print(my_circle.area())                            # Calling an area Method\n",
        "print(my_circle.circumference())                   # Calling an circumfrance Method"
      ],
      "execution_count": null,
      "outputs": [
        {
          "output_type": "stream",
          "name": "stdout",
          "text": [
            "3.142857142857143\n",
            "7\n",
            "154.0\n",
            "44.0\n"
          ]
        }
      ]
    },
    {
      "cell_type": "markdown",
      "metadata": {
        "id": "RZ3_8JvreAOZ"
      },
      "source": [
        "Another Method of calling the $\\color{red}{\\textbf{Class Object Attribute}}$\n",
        "\n",
        "\n"
      ]
    },
    {
      "cell_type": "code",
      "source": [
        "class Circle:   \n",
        "    pi = 22/7                                      \n",
        "\n",
        "    def __init__(self, radius = 1):                \n",
        "        self.radius = radius\n",
        "        \n",
        "    def area(self):\n",
        "        return Circle.pi * self.radius * self.radius \n",
        "\n",
        "    def circumference(self):                      \n",
        "        return 2 * self.pi * self.radius\n",
        "\n",
        "myCircle = Circle(14)                          \n",
        "print(Circle.pi)                              \n",
        "print(myCircle.radius)                           \n",
        "print(myCircle.area())                 \n",
        "print(myCircle.circumference())                "
      ],
      "metadata": {
        "colab": {
          "base_uri": "https://localhost:8080/"
        },
        "id": "Gp2H0hr_3kys",
        "outputId": "20cc6804-f273-40a1-9f1a-88573ac3f894"
      },
      "execution_count": null,
      "outputs": [
        {
          "output_type": "stream",
          "name": "stdout",
          "text": [
            "3.142857142857143\n",
            "14\n",
            "616.0\n",
            "88.0\n"
          ]
        }
      ]
    },
    {
      "cell_type": "code",
      "metadata": {
        "id": "JzGKRYx1l4mq",
        "colab": {
          "base_uri": "https://localhost:8080/"
        },
        "outputId": "1bb21a43-0088-49ed-96a9-1a3a57e98a92"
      },
      "source": [
        "class Bird:\n",
        "    \n",
        "    # instance attributes\n",
        "    def __init__(self, name, age):\n",
        "        self.name = name\n",
        "        self.age = age\n",
        "    \n",
        "    # instance method\n",
        "    def sing(self, song):\n",
        "        return \"My {} sings {}\".format(self.name, song)   # .format without print func \n",
        "\n",
        "    def dance(self):\n",
        "        return \"{} is now dancing\".format(self.name)\n",
        "\n",
        "# instantiate the object\n",
        "myBird1 = Bird(\"Parrot\", 5)\n",
        "\n",
        "# call our instance methods\n",
        "print(myBird1.sing('Happy'))\n",
        "print(myBird1.dance())"
      ],
      "execution_count": null,
      "outputs": [
        {
          "output_type": "stream",
          "name": "stdout",
          "text": [
            "My Parrot sings Happy\n",
            "Parrot is now dancing\n"
          ]
        }
      ]
    },
    {
      "cell_type": "markdown",
      "metadata": {
        "id": "AJ75cVKalP1M"
      },
      "source": [
        "## $\\color{red}{\\textbf{Inheritance}}$ :"
      ]
    },
    {
      "cell_type": "markdown",
      "metadata": {
        "id": "4UZ5yXarnTv0"
      },
      "source": [
        "One of the major benefits of **Object Oriented Programming** is **reuse of code** and one of the ways this is achieved is through the $inheritance$ mechanism.\n",
        "\n",
        "- **Inheritance** is a $\\color{skyblue}{\\textbf{Way Of Creating A New Class}}$ for using details of an existing `class` without modifying it.\n",
        "\n",
        "- **Reduces the complexity of the code**.\n",
        "\n",
        "- The newly formed class is a **derived class** (or `child class`). Similarly, the existing class is a **base class** (or `parent class`)."
      ]
    },
    {
      "cell_type": "code",
      "source": [
        "class A:\n",
        "    def feature1(self): \n",
        "        print(\"Feature 1 working\")\n",
        "\n",
        "    def feature2(self):\n",
        "        print(\"Feature 2 working\")\n",
        "\n",
        "\n",
        "class B(A):\n",
        "    def feature3(self):\n",
        "        print(\"Feature 3 working\")\n",
        "\n",
        "    def feature4(self):\n",
        "        print(\"Feature 4 working\")\n",
        "\n",
        "\n",
        "class C(B):\n",
        "    def feature5(self):\n",
        "        print(\"Feature 5 working\")\n",
        "\n",
        "\n",
        "c1 = C()\n",
        "c1.feature1() # feature1 from A\n",
        "c1.feature3() # feature3 from B\n"
      ],
      "metadata": {
        "colab": {
          "base_uri": "https://localhost:8080/"
        },
        "id": "wvZ1TBT-3VoF",
        "outputId": "cbd79115-ef3e-4df2-f981-91ab76ce2d88"
      },
      "execution_count": null,
      "outputs": [
        {
          "output_type": "stream",
          "name": "stdout",
          "text": [
            "Feature 1 working\n",
            "Feature 3 working\n"
          ]
        }
      ]
    },
    {
      "cell_type": "code",
      "source": [
        "class A:\n",
        "    def feature1(self): \n",
        "        print(\"Feature 1 working\")\n",
        "\n",
        "    def feature2(self):\n",
        "        print(\"Feature 2 working\")\n",
        "\n",
        "\n",
        "class B:\n",
        "    def feature3(self):\n",
        "        print(\"Feature 3 working\")\n",
        "\n",
        "    def feature4(self):\n",
        "        print(\"Feature 4 working\")\n",
        "\n",
        "\n",
        "class C(A, B):\n",
        "    def feature5(self):\n",
        "        print(\"Feature 5 working\")\n",
        "\n",
        "\n",
        "c1 = C()\n",
        "c1.feature1() # feature1 from A\n",
        "c1.feature3() # feature3 from B\n"
      ],
      "metadata": {
        "colab": {
          "base_uri": "https://localhost:8080/"
        },
        "id": "v8rIi6KixTj9",
        "outputId": "52b343ef-3478-4468-eb5f-81e90ff58180"
      },
      "execution_count": null,
      "outputs": [
        {
          "output_type": "stream",
          "name": "stdout",
          "text": [
            "Feature 1 working\n",
            "Feature 3 working\n"
          ]
        }
      ]
    },
    {
      "cell_type": "code",
      "source": [
        "class A:\n",
        "\n",
        "    def __init__(self, a, b):\n",
        "        self.a = a\n",
        "        self.b = b\n",
        "\n",
        "    def feature1(self):\n",
        "        print(\"Feature 1 working\")\n",
        "\n",
        "    def feature2(self):\n",
        "        print(\"Feature 2 working\")\n",
        "\n",
        "\n",
        "class B(A):\n",
        "\n",
        "    def __init__(self, a, b, c, d):\n",
        "        self.c = c\n",
        "        self.d = d\n",
        "        A.__init__(self, a, b)\n",
        "\n",
        "    def feature3(self):\n",
        "        print(\"Feature 3 working\")\n",
        "\n",
        "    def feature4(self):\n",
        "        print(\"Feature 4 working\")\n",
        "\n",
        "\n",
        "a1 = B(a=1, b=2, c=3, d=4)\n",
        "a1.feature1()\n",
        "a1.feature3()"
      ],
      "metadata": {
        "colab": {
          "base_uri": "https://localhost:8080/"
        },
        "id": "HBNI2K8l13fe",
        "outputId": "80e2fa6e-0164-4c52-8da9-7f2b2bd66483"
      },
      "execution_count": null,
      "outputs": [
        {
          "output_type": "stream",
          "name": "stdout",
          "text": [
            "Feature 1 working\n",
            "Feature 3 working\n"
          ]
        }
      ]
    },
    {
      "cell_type": "code",
      "source": [
        "# Parent Class/Base class\n",
        "class Person(object):\n",
        " \n",
        "    # __init__ is known as the constructor\n",
        "    def __init__(self, name, idnumber):\n",
        "        self.name = name\n",
        "        self.idnumber = idnumber\n",
        " \n",
        "    def display(self):\n",
        "        print(self.name)\n",
        "        print(self.idnumber)\n",
        " \n",
        "# Child Class/Drived class\n",
        "class Employee(Person):\n",
        "\n",
        "    def __init__(self, name, idnumber, salary, post):\n",
        "        self.salary = salary\n",
        "        self.post = post\n",
        "        # invoking the __init__ of the parent class\n",
        "        Person.__init__(self, name, idnumber)\n",
        " \n",
        "# creation of an object variable or an instance\n",
        "a = Employee('Rahul', 'ID6022', 200000, 'Intern')\n",
        " \n",
        "# calling a function of the class Person using its instance\n",
        "a.display()\n",
        "print(a.salary)\n",
        "print(a.post)"
      ],
      "metadata": {
        "colab": {
          "base_uri": "https://localhost:8080/"
        },
        "id": "cLQebnJoRlze",
        "outputId": "6ae44d00-ffb8-4f78-fde6-4420cf09cce0"
      },
      "execution_count": null,
      "outputs": [
        {
          "output_type": "stream",
          "name": "stdout",
          "text": [
            "Rahul\n",
            "ID6022\n",
            "200000\n",
            "Intern\n"
          ]
        }
      ]
    },
    {
      "cell_type": "markdown",
      "source": [
        "### $\\color{red}{\\textbf{super():}}$\n",
        "\n"
      ],
      "metadata": {
        "id": "EnJh5y6aSbSl"
      }
    },
    {
      "cell_type": "markdown",
      "source": [
        "Python also has a `super()` function that will make the `child` class inherit all the methods and properties from its parent:"
      ],
      "metadata": {
        "id": "NCvGEyYmGUO4"
      }
    },
    {
      "cell_type": "code",
      "source": [
        "class Emp():\n",
        "    def __init__(self, id, name):\n",
        "        self.id = id\n",
        "        self.name = name\n",
        " \n",
        "# Class freelancer inherits EMP\n",
        "class Freelance(Emp):\n",
        "    def __init__(self, id, name, Add, Emails):\n",
        "        super().__init__(id, name)\n",
        "        self.Add = Add\n",
        "        self.Emails = Emails\n",
        " \n",
        "Emp_1 = Freelance(2022123, \"Rahul\", \"Delhi\" , \"rahul@gmails\")\n",
        "print('The ID is:', Emp_1.id)\n",
        "print('The Name is:', Emp_1.name)\n",
        "print('The Address is:', Emp_1.Add)\n",
        "print('The Emails is:', Emp_1.Emails)"
      ],
      "metadata": {
        "colab": {
          "base_uri": "https://localhost:8080/"
        },
        "id": "JGIfN7LDDM2C",
        "outputId": "f170153c-626f-435b-d3d0-3be1cce8af32"
      },
      "execution_count": null,
      "outputs": [
        {
          "output_type": "stream",
          "name": "stdout",
          "text": [
            "The ID is: 2022123\n",
            "The Name is: Rahul\n",
            "The Address is: Delhi\n",
            "The Emails is: rahul@gmails\n"
          ]
        }
      ]
    },
    {
      "cell_type": "code",
      "source": [
        "class A:\n",
        "\n",
        "    def __init__(self, a, b):\n",
        "        self.a = a\n",
        "        self.b = b\n",
        "\n",
        "    def feature1(self):\n",
        "        print(\"Feature 1 working\")\n",
        "\n",
        "    def feature2(self):\n",
        "        print(\"Feature 2 working\")\n",
        "\n",
        "\n",
        "class B(A):\n",
        "\n",
        "    def __init__(self, a, b):\n",
        "        super().__init__(a, b)\n",
        "\n",
        "    def feature3(self):\n",
        "        print(\"Feature 3 working\")\n",
        "\n",
        "    def feature4(self):\n",
        "        print(\"Feature 4 working\")\n",
        "\n",
        "\n",
        "a1 = B(a=1, b=2)\n",
        "a1.feature1()\n",
        "a1.feature3()"
      ],
      "metadata": {
        "colab": {
          "base_uri": "https://localhost:8080/"
        },
        "id": "LG0A3iLZ4mqq",
        "outputId": "1776a0d0-e1ab-4c60-d98d-0cb7b1ebc916"
      },
      "execution_count": null,
      "outputs": [
        {
          "output_type": "stream",
          "name": "stdout",
          "text": [
            "Feature 1 working\n",
            "Feature 3 working\n"
          ]
        }
      ]
    },
    {
      "cell_type": "code",
      "source": [
        "class A:\n",
        "\n",
        "    def __init__(self, a):\n",
        "        self.a = a\n",
        "        print(\"in A Init\")\n",
        "\n",
        "    def feature1(self):\n",
        "        print(\"Feature 1-A working\")\n",
        "\n",
        "    def feature2(self):\n",
        "        print(\"Feature 2-A working\")\n",
        "\n",
        "class B:\n",
        "\n",
        "    def __init__(self):\n",
        "        super().__init__() \n",
        "        print(\"in B Init\")\n",
        "\n",
        "    def feature3(self):\n",
        "        print(\"Feature 3-B working\")\n",
        "\n",
        "    def feature4(self):\n",
        "        print(\"Feature 4-B working\")\n",
        "\n",
        "class C(A,B):\n",
        "\n",
        "    def __init__(self, a, b):\n",
        "        super().__init__(a) # it will call the init from only one parent class  \n",
        "        print(\"in C init\")\n",
        "\n",
        "\n",
        "    def feature5(self):\n",
        "        super().feature2()\n",
        "\n",
        "\n",
        "a1 = C(a=1, b=2) \n",
        "a1.feature1()\n",
        "a1.feature3()\n",
        "a1.feature5()"
      ],
      "metadata": {
        "colab": {
          "base_uri": "https://localhost:8080/"
        },
        "id": "T8Mbi8-vxh0M",
        "outputId": "27deb521-a37a-4c87-f9c1-9e61ad520d5b"
      },
      "execution_count": null,
      "outputs": [
        {
          "output_type": "stream",
          "name": "stdout",
          "text": [
            "in A Init\n",
            "in C init\n",
            "Feature 1-A working\n",
            "Feature 3-B working\n",
            "Feature 2-A working\n"
          ]
        }
      ]
    },
    {
      "cell_type": "code",
      "source": [
        "# The super() function lets you run a parent class function inside the child class.\n",
        "class Parent:\n",
        "    def __init__(self, age):\n",
        "        self.age = age\n",
        "    \n",
        "    def func(self):\n",
        "        print(f\"Hi, my age is {self.age}!\")\n",
        "\n",
        "class Child(Parent):\n",
        "    def __init__(self, age):\n",
        "        # Here is where I can use the super to run the parent class \n",
        "        # __init__ function to set the childs name\n",
        "        super().__init__(age)\n",
        "\n",
        "dad = Parent(36)\n",
        "kid = Child(8)\n",
        "\n",
        "dad.func()\n",
        "kid.func() # The kid inherits it from the dad, so I could run it like that too"
      ],
      "metadata": {
        "colab": {
          "base_uri": "https://localhost:8080/"
        },
        "id": "LAdCArVBSEIx",
        "outputId": "2e0c82e9-747a-41da-a5eb-abc9a570b0f5"
      },
      "execution_count": null,
      "outputs": [
        {
          "output_type": "stream",
          "name": "stdout",
          "text": [
            "Hi, my age is 36!\n",
            "Hi, my age is 8!\n"
          ]
        }
      ]
    },
    {
      "cell_type": "code",
      "source": [
        "class Animals:\n",
        "    # Initializing constructor\n",
        "    def __init__(self):\n",
        "        self.legs = 4\n",
        "        self.domestic = True\n",
        "        self.tail = True\n",
        "        self.mammals = True\n",
        " \n",
        "    def isMammal(self):\n",
        "        if self.mammals:\n",
        "            print(\"It is a mammal.\")\n",
        " \n",
        "    def isDomestic(self):\n",
        "        if self.domestic:\n",
        "            print(\"It is a domestic animal.\")\n",
        " \n",
        "class Dogs(Animals):\n",
        "    def __init__(self):\n",
        "        super().__init__()\n",
        " \n",
        "    def isMammal(self):\n",
        "        super().isMammal()\n",
        "\n",
        "    def isDomestic(self):\n",
        "        super().isDomestic()\n",
        " \n",
        "class Horses(Animals):\n",
        "    def __init__(self):\n",
        "        super().__init__()\n",
        " \n",
        "    def hasTailandLegs(self):\n",
        "        if self.tail and self.legs == 4:\n",
        "            print(\"Has legs and tail\")\n",
        " "
      ],
      "metadata": {
        "id": "_QV6ULl8ETFj"
      },
      "execution_count": null,
      "outputs": []
    },
    {
      "cell_type": "code",
      "source": [
        "# Dog\n",
        "Tom = Dogs()\n",
        "Tom.isMammal()\n",
        "Tom.isDomestic()"
      ],
      "metadata": {
        "colab": {
          "base_uri": "https://localhost:8080/"
        },
        "id": "X6plfyLTy2Qy",
        "outputId": "d83738a2-5da1-48a9-ca60-a1ea59b42dba"
      },
      "execution_count": null,
      "outputs": [
        {
          "output_type": "stream",
          "name": "stdout",
          "text": [
            "It is a mammal.\n",
            "It is a domestic animal.\n"
          ]
        }
      ]
    },
    {
      "cell_type": "code",
      "source": [
        "# Horse\n",
        "Cowboy = Horses()\n",
        "Cowboy.isMammal()\n",
        "Cowboy.isDomestic()\n",
        "Cowboy.hasTailandLegs()"
      ],
      "metadata": {
        "colab": {
          "base_uri": "https://localhost:8080/"
        },
        "id": "uYRONsM2y5XJ",
        "outputId": "9be06f17-831d-4fc2-8f9e-d038f55ada34"
      },
      "execution_count": null,
      "outputs": [
        {
          "output_type": "stream",
          "name": "stdout",
          "text": [
            "It is a mammal.\n",
            "It is a domestic animal.\n",
            "Has legs and tail\n"
          ]
        }
      ]
    },
    {
      "cell_type": "code",
      "source": [
        "class Mammal():\n",
        " \n",
        "    def __init__(self, name):\n",
        "        print(name, \"is a mammal\")\n",
        " \n",
        "class canFly(Mammal):\n",
        " \n",
        "    def __init__(self, canFly_name):\n",
        "        print(canFly_name, \"cannot fly\")\n",
        "        # Calling Parent class\n",
        "        # Constructor\n",
        "        super().__init__(canFly_name)\n",
        " \n",
        "class canSwim(Mammal):\n",
        " \n",
        "    def __init__(self, canSwim_name):\n",
        "        print(canSwim_name, \"cannot swim\")\n",
        "        super().__init__(canSwim_name)\n",
        " \n",
        "class Animal(canFly, canSwim):\n",
        " \n",
        "    def __init__(self, name):\n",
        "        super().__init__(name)\n",
        " \n",
        "# Driver Code\n",
        "Bruno = Animal(\"Dog\")"
      ],
      "metadata": {
        "colab": {
          "base_uri": "https://localhost:8080/"
        },
        "id": "KY48dXC3F2IH",
        "outputId": "d2ad570f-fca0-44bc-d2c3-d7860e281dca"
      },
      "execution_count": null,
      "outputs": [
        {
          "output_type": "stream",
          "name": "stdout",
          "text": [
            "Dog cannot fly\n",
            "Dog cannot swim\n",
            "Dog is a mammal\n"
          ]
        }
      ]
    },
    {
      "cell_type": "markdown",
      "source": [
        "### $\\color{red}{\\textbf{MRO}}$ $\\rightarrow$ **Method Resolution Order** in Multiple Inheritance"
      ],
      "metadata": {
        "id": "yBvZCgJjF9V1"
      }
    },
    {
      "cell_type": "code",
      "source": [
        "class A:\n",
        "\tdef age(self):\n",
        "\t\tprint(\"Age is 21\")\n",
        "class B:\n",
        "\tdef age(self):\n",
        "\t\tprint(\"Age is 23\")\n",
        "class C(A, B):\n",
        "\tdef age(self):\n",
        "\t\tsuper(C, self).age()\n",
        "\t\n",
        "c = C()\n",
        "print(C.__mro__)\n",
        "print(C.mro())\n"
      ],
      "metadata": {
        "colab": {
          "base_uri": "https://localhost:8080/"
        },
        "id": "GFQNonCIGJNY",
        "outputId": "28b1a500-e96b-406d-fd71-6d9262604428"
      },
      "execution_count": null,
      "outputs": [
        {
          "output_type": "stream",
          "name": "stdout",
          "text": [
            "(<class '__main__.C'>, <class '__main__.A'>, <class '__main__.B'>, <class 'object'>)\n",
            "[<class '__main__.C'>, <class '__main__.A'>, <class '__main__.B'>, <class 'object'>]\n"
          ]
        }
      ]
    },
    {
      "cell_type": "markdown",
      "metadata": {
        "id": "c4-Yxhl403Wn"
      },
      "source": [
        "## $\\color{red}{\\textbf{Polymorphism}}$ :"
      ]
    },
    {
      "cell_type": "markdown",
      "metadata": {
        "id": "M3-l_O0M08OZ"
      },
      "source": [
        "> ***The literal meaning of `polymorphism is the condition of occurrence in different forms.***\n",
        "\n",
        "It refers to the use of a single type entity (`method`, `operator` or `object`) to represent different types in different scenarios.\n",
        "\n",
        "Python allows **different** `classes` to have `methods` with the **same name**."
      ]
    },
    {
      "cell_type": "code",
      "metadata": {
        "id": "STPaI8H7IAN9",
        "colab": {
          "base_uri": "https://localhost:8080/"
        },
        "outputId": "04ed8c50-1459-4783-cc9d-61c40b7aff70"
      },
      "source": [
        "# Example-1\n",
        "class Parrot:\n",
        "\n",
        "    def fly(self):\n",
        "        print(\"Parrot can fly\")\n",
        "    \n",
        "    def swim(self):\n",
        "        print(\"Parrot can't swim\")\n",
        "\n",
        "class Penguin:\n",
        "\n",
        "    def fly(self):\n",
        "        print(\"Penguin can't fly\")\n",
        "    \n",
        "    def swim(self):\n",
        "        print(\"Penguin can swim\")\n",
        "\n",
        "# Common interface\n",
        "def flying_test(bird):\n",
        "    bird.fly()\n",
        "\n",
        "def swim_test(bird):\n",
        "    bird.swim()\n",
        "\n",
        "# Instantiate objects\n",
        "blu = Parrot()\n",
        "peggy = Penguin()\n",
        "\n",
        "# Passing the object(Flying test)\n",
        "flying_test(blu)\n",
        "flying_test(peggy)\n",
        "\n",
        "# Passing the object(Flying test)\n",
        "swim_test(blu)\n",
        "swim_test(peggy)"
      ],
      "execution_count": null,
      "outputs": [
        {
          "output_type": "stream",
          "name": "stdout",
          "text": [
            "Parrot can fly\n",
            "Penguin can't fly\n",
            "Parrot can't swim\n",
            "Penguin can swim\n"
          ]
        }
      ]
    },
    {
      "cell_type": "markdown",
      "metadata": {
        "id": "TcEKUhhdIQ98"
      },
      "source": [
        "In the above program, we defined **two classes** `Parrot` and `Penguin`. Each of them have a common `fly()` and `swim` **method**. However, their functions are different.\n",
        "\n",
        "To use **polymorphism**, we created a **common interface** i.e \n",
        "- `flying_test()` **function** that takes any object and calls the object's **`fly()` method**.\n",
        "- `swim_test()` **function** that takes any object and calls the object's **`swim()` method**.\n",
        "\n",
        "Thus, when we passed the `blu` and `peggy` objects in the `flying_test()` function, it ran effectively.\n",
        "\n"
      ]
    },
    {
      "cell_type": "code",
      "source": [
        "# Example-2\n",
        "class Cat:\n",
        "    def __init__(self, name, age):\n",
        "        self.name = name\n",
        "        self.age = age\n",
        "\n",
        "    def info(self):\n",
        "        print(f\"I am a cat. My name is {self.name}. I am {self.age} years old.\")\n",
        "\n",
        "    def make_sound(self):\n",
        "        print(\"Meow\")\n",
        "\n",
        "\n",
        "class Dog:\n",
        "    def __init__(self, name, age):\n",
        "        self.name = name\n",
        "        self.age = age\n",
        "\n",
        "    def info(self):\n",
        "        print(f\"I am a dog. My name is {self.name}. I am {self.age} years old.\")\n",
        "\n",
        "    def make_sound(self):\n",
        "        print(\"Woof!\")\n",
        "\n",
        "\n",
        "cat1 = Cat(\"Kitty\", 2.5) # Object Creation\n",
        "dog1 = Dog(\"Bruno\", 4)\n",
        "\n",
        "for animal in (cat1, dog1):\n",
        "    animal.make_sound()\n",
        "    animal.info()  "
      ],
      "metadata": {
        "colab": {
          "base_uri": "https://localhost:8080/"
        },
        "id": "6zCpRNmU6fxp",
        "outputId": "4c51f47e-4fc1-4e34-960b-8d903783cade"
      },
      "execution_count": null,
      "outputs": [
        {
          "output_type": "stream",
          "name": "stdout",
          "text": [
            "Meow\n",
            "I am a cat. My name is Kitty. I am 2.5 years old.\n",
            "Woof!\n",
            "I am a dog. My name is Bruno. I am 4 years old.\n"
          ]
        }
      ]
    },
    {
      "cell_type": "markdown",
      "source": [
        "- Here, we have created two classes `Cat` and `Dog`.\n",
        "\n",
        "- They share a **similar structur**e and have the **same method** names `info()` and `make_sound()`.\n",
        "\n",
        "- However, notice that **we have not created a common `superclass`** or **linked the classes together** in any way.\n",
        "\n",
        "- Even then, **we can pack these two different objects** into a `tuple` and ***iterate*** through it using a common `animal` variable. It is possible due to $\\color{red}{\\textbf{Polymorphism}}$."
      ],
      "metadata": {
        "id": "4xjD_st39GhS"
      }
    },
    {
      "cell_type": "code",
      "metadata": {
        "id": "UkeTnvo9C112",
        "colab": {
          "base_uri": "https://localhost:8080/"
        },
        "outputId": "a71603a7-88bb-432d-b64e-948a2ce58f92"
      },
      "source": [
        "class Animal:\n",
        "    def __init__(self, name):    # Constructor of the class\n",
        "        self.name = name\n",
        "    def talk(self):              # Abstract method, defined by convention only\n",
        "        raise NotImplementedError(\"Subclass must implement abstract method\")\n",
        "\n",
        "class Cat(Animal):\n",
        "    def talk(self):\n",
        "        return 'Meow!'\n",
        "\n",
        "class Dog(Animal):\n",
        "    def talk(self):\n",
        "        return 'Woof! Woof!'\n",
        "\n",
        "animals = [Cat('kitty'), Dog('Bruno')]\n",
        "\n",
        "for animal in animals:\n",
        "    print(animal.name + ': ' + animal.talk())"
      ],
      "execution_count": null,
      "outputs": [
        {
          "output_type": "stream",
          "name": "stdout",
          "text": [
            "kitty: Meow!\n",
            "Bruno: Woof! Woof!\n"
          ]
        }
      ]
    },
    {
      "cell_type": "markdown",
      "metadata": {
        "id": "XHLWtTLx9wNT"
      },
      "source": [
        "$\\color{red}{\\textbf{Note}}$:\n",
        "> Since we never expect to make an instance of the `class Animal:`, Insted the `class Animal:` is basically meant to be use as a **base class**. "
      ]
    },
    {
      "cell_type": "markdown",
      "metadata": {
        "id": "NRHtu_-_JEdV"
      },
      "source": [
        "👉`raise NotImplementedError`:\n",
        "\n",
        "> User-defined **base classes** can `raise` 👉 `NotImplementedError` **to indicate that a method or behavior needs to be defined by a subclass**, simulating an interface. This exception is derived from **RuntimeError**. In user defined base classes, **abstract methods should raise this exception when they require derived classes to override the method**."
      ]
    },
    {
      "cell_type": "markdown",
      "metadata": {
        "id": "fh-druTZBccg"
      },
      "source": [
        "if we create the **instance** of `class Animal:`. \n",
        "\n",
        "```python\n",
        "my_animal = Animal()\n",
        "my_animal.speaks()\n",
        "```\n",
        "runing the above code will genrate the following error:\n",
        "\n",
        "```\n",
        "NotImplementedError 'Sub class must implemet this abstract method'\n",
        "```\n",
        "$\\color{skyblue}{\\textbf{Reason}}$: Because this is an `abstract method` and `base class` itself dosen't do anything, it's expecting to **inherit** the `class Animal:` and overwrite the `def speak()`"
      ]
    },
    {
      "cell_type": "markdown",
      "source": [
        "### **Method Overriding**"
      ],
      "metadata": {
        "id": "ivwgV_RJ_AjL"
      }
    },
    {
      "cell_type": "code",
      "source": [
        "# Method-1\n",
        "from math import pi\n",
        "\n",
        "class Shape:\n",
        "    def __init__(self, name):\n",
        "        self.name = name\n",
        "\n",
        "    def area(self):\n",
        "        pass\n",
        "\n",
        "    def fact(self):\n",
        "        return \"I am a two-dimensional shape.\"\n",
        "\n",
        "    def __str__(self):\n",
        "        return self.name\n",
        "\n",
        "\n",
        "class Square(Shape):\n",
        "    def __init__(self, length):\n",
        "        super().__init__(\"Square\")\n",
        "        self.length = length\n",
        "\n",
        "    def area(self):\n",
        "        return self.length**2\n",
        "\n",
        "    def fact(self):\n",
        "        return \"Squares have each angle equal to 90 degrees.\"\n",
        "\n",
        "\n",
        "class Circle(Shape):\n",
        "    def __init__(self, radius):\n",
        "        super().__init__(\"Circle\")\n",
        "        self.radius = radius\n",
        "\n",
        "    def area(self):\n",
        "        return pi*self.radius**2\n",
        "\n",
        "\n",
        "a = Square(4)\n",
        "b = Circle(7)\n",
        "print(b)\n",
        "print(b.fact())\n",
        "print(a.fact())\n",
        "print(b.area())"
      ],
      "metadata": {
        "id": "BNwK8PCR_BIb",
        "colab": {
          "base_uri": "https://localhost:8080/"
        },
        "outputId": "ed2ee28b-e114-452e-b5e5-83c2ab650a94"
      },
      "execution_count": null,
      "outputs": [
        {
          "output_type": "stream",
          "name": "stdout",
          "text": [
            "Circle\n",
            "I am a two-dimensional shape.\n",
            "Squares have each angle equal to 90 degrees.\n",
            "153.93804002589985\n"
          ]
        }
      ]
    },
    {
      "cell_type": "code",
      "source": [
        "# Method-2\n",
        "from math import pi\n",
        "\n",
        "class Shape:\n",
        "    def __init__(self, name):\n",
        "        self.name = name\n",
        "\n",
        "    def area(self):\n",
        "        pass\n",
        "\n",
        "    def fact(self):\n",
        "        return \"I am a two-dimensional shape.\"\n",
        "\n",
        "    def __str__(self):\n",
        "        return self.name\n",
        "\n",
        "\n",
        "class Square(Shape):\n",
        "    def __init__(self, name, side):\n",
        "        super().__init__(name)\n",
        "        self.side = side\n",
        "\n",
        "    def area(self):\n",
        "        return self.side**2\n",
        "\n",
        "    def fact(self):\n",
        "        return \"Squares have each angle equal to 90 degrees.\"\n",
        "\n",
        "\n",
        "class Circle(Shape):\n",
        "    def __init__(self, name, radius):\n",
        "        super().__init__(name)\n",
        "        self.radius = radius\n",
        "\n",
        "    def area(self):\n",
        "        return pi*self.radius**2\n",
        "\n",
        "\n",
        "a = Square('Square',4)\n",
        "b = Circle('Circle', 7)\n",
        "print(b)\n",
        "print(b.fact())\n",
        "print(a.fact())\n",
        "print(b.area())"
      ],
      "metadata": {
        "colab": {
          "base_uri": "https://localhost:8080/"
        },
        "id": "HZuMXtscErC2",
        "outputId": "a89870b6-e5b9-4408-efb8-4b8e453e1509"
      },
      "execution_count": null,
      "outputs": [
        {
          "output_type": "stream",
          "name": "stdout",
          "text": [
            "Circle\n",
            "I am a two-dimensional shape.\n",
            "Squares have each angle equal to 90 degrees.\n",
            "153.93804002589985\n"
          ]
        }
      ]
    },
    {
      "cell_type": "markdown",
      "source": [
        "The `__str__` method in Python represents the `class objects` as a `string` – it can be used for classes. This method is called when `print()` or `str()` function is invoked on an `object`. This method must return the **String object**."
      ],
      "metadata": {
        "id": "x7niMKVKDXb5"
      }
    },
    {
      "cell_type": "markdown",
      "metadata": {
        "id": "ay-IG1JoIm6b"
      },
      "source": [
        "## $\\color{red}{\\textbf{Special (Magic/Dunder) Methods}}$"
      ]
    },
    {
      "cell_type": "code",
      "metadata": {
        "id": "sU4XLJ-VEgqO",
        "colab": {
          "base_uri": "https://localhost:8080/"
        },
        "outputId": "5aa94d94-a94a-4162-abf3-a0f52f1bd506"
      },
      "source": [
        "class Book:\n",
        "    \n",
        "    def __init__(self, title, author, pages):\n",
        "\n",
        "        self.title  = title\n",
        "        self.author = author\n",
        "        self.pages  = pages\n",
        "\n",
        "b = Book('How to win friends and inflence people' , 'Dale Carnegie', 250)\n",
        "print(b)"
      ],
      "execution_count": null,
      "outputs": [
        {
          "output_type": "stream",
          "name": "stdout",
          "text": [
            "<__main__.Book object at 0x7ffabcafe5d0>\n"
          ]
        }
      ]
    },
    {
      "cell_type": "markdown",
      "metadata": {
        "id": "2F8spTJrEpLr"
      },
      "source": [
        "In the above code when we call the `print` function, it will return the **string** representation of $\\rightarrow$ `b` "
      ]
    },
    {
      "cell_type": "code",
      "metadata": {
        "id": "P22_tL4xFjPg",
        "colab": {
          "base_uri": "https://localhost:8080/",
          "height": 35
        },
        "outputId": "f637c254-1c23-4bdd-f3b7-07843e720fc3"
      },
      "source": [
        "str(b) # This will print the string version of 'b'"
      ],
      "execution_count": null,
      "outputs": [
        {
          "output_type": "execute_result",
          "data": {
            "text/plain": [
              "'<__main__.Book object at 0x7ffabcafe5d0>'"
            ],
            "application/vnd.google.colaboratory.intrinsic+json": {
              "type": "string"
            }
          },
          "metadata": {},
          "execution_count": 13
        }
      ]
    },
    {
      "cell_type": "markdown",
      "metadata": {
        "id": "HPisxA1QGNJb"
      },
      "source": [
        "Insted we can Use the Special function realated to the string call"
      ]
    },
    {
      "cell_type": "code",
      "metadata": {
        "id": "oTL-4t6uIlvw",
        "colab": {
          "base_uri": "https://localhost:8080/",
          "height": 52
        },
        "outputId": "74e07928-9e4e-4120-e556-02dbe40914a5"
      },
      "source": [
        "class Book:\n",
        "    \n",
        "    def __init__(self, title, author, pages):\n",
        "\n",
        "        self.title  = title\n",
        "        self.author = author\n",
        "        self.pages  = pages\n",
        "\n",
        "    # `__str__` Method which will retutn the string\n",
        "    def __str__(self):\n",
        "        return f'{self.title} by {self.author}'\n",
        "    \n",
        "    # `__len__` Method which will return the length of the object \n",
        "    def __len__(self):\n",
        "        return self.pages\n",
        "\n",
        "b = Book('How to win friends and inflence people' , 'Dale Carnegie', 250)\n",
        "print(b)\n",
        "print(('Number of pages in the Book = {}'.format(len(b))))\n",
        "    "
      ],
      "execution_count": null,
      "outputs": [
        {
          "output_type": "stream",
          "text": [
            "How to win friends and inflence people by Dale Carnegie\n",
            "Number of pages in the Book = 250\n"
          ],
          "name": "stdout"
        }
      ]
    },
    {
      "cell_type": "markdown",
      "metadata": {
        "id": "Vs-SKJxRSPvU"
      },
      "source": [
        "To delet the Book from the computer Memory, we use the following code\n",
        "```\n",
        "del (b)\n",
        "```\n",
        "And Now if we run the above code again, it will give us the following $\\color{orange}{\\textbf{NameError : }}$ name `b` is **not defined**.\n",
        "\n"
      ]
    },
    {
      "cell_type": "code",
      "metadata": {
        "id": "4T-ZCgm-RSHQ",
        "colab": {
          "base_uri": "https://localhost:8080/",
          "height": 235
        },
        "outputId": "5681416f-a416-449c-fcb0-624b8311da48"
      },
      "source": [
        "class Book:\n",
        "    \n",
        "    def __init__(self, title, author, pages):\n",
        "\n",
        "        self.title  = title\n",
        "        self.author = author\n",
        "        self.pages  = pages\n",
        "\n",
        "    # we have this special __str__ Method which will retutn the string\n",
        "    def __str__(self):\n",
        "        return f'{self.title} by {self.author}'\n",
        "\n",
        "    def __len__(self):\n",
        "        return self.pages\n",
        "    \n",
        "    def __del__(self):\n",
        "        print('A book object has been deleted') \n",
        "\n",
        "b = Book('How to win friends and inflence people' , 'Dale Carnegie', 250)\n",
        "\n",
        "print(b)\n",
        "del b\n",
        "print(b)"
      ],
      "execution_count": null,
      "outputs": [
        {
          "output_type": "stream",
          "name": "stdout",
          "text": [
            "How to win friends and inflence people by Dale Carnegie\n",
            "A book object has been deleted\n"
          ]
        },
        {
          "output_type": "error",
          "ename": "NameError",
          "evalue": "ignored",
          "traceback": [
            "\u001b[0;31m---------------------------------------------------------------------------\u001b[0m",
            "\u001b[0;31mNameError\u001b[0m                                 Traceback (most recent call last)",
            "\u001b[0;32m<ipython-input-14-f27e759a1a00>\u001b[0m in \u001b[0;36m<module>\u001b[0;34m\u001b[0m\n\u001b[1;32m     21\u001b[0m \u001b[0mprint\u001b[0m\u001b[0;34m(\u001b[0m\u001b[0mb\u001b[0m\u001b[0;34m)\u001b[0m\u001b[0;34m\u001b[0m\u001b[0;34m\u001b[0m\u001b[0m\n\u001b[1;32m     22\u001b[0m \u001b[0;32mdel\u001b[0m \u001b[0mb\u001b[0m\u001b[0;34m\u001b[0m\u001b[0;34m\u001b[0m\u001b[0m\n\u001b[0;32m---> 23\u001b[0;31m \u001b[0mprint\u001b[0m\u001b[0;34m(\u001b[0m\u001b[0mb\u001b[0m\u001b[0;34m)\u001b[0m\u001b[0;34m\u001b[0m\u001b[0;34m\u001b[0m\u001b[0m\n\u001b[0m",
            "\u001b[0;31mNameError\u001b[0m: name 'b' is not defined"
          ]
        }
      ]
    },
    {
      "cell_type": "markdown",
      "metadata": {
        "id": "1fnIZzpeLgmw"
      },
      "source": [
        "### **Python** `__str__()` **&** `__repr__()` **functions**\n",
        "\n",
        "The difference between `str()` and `repr()` is: The `str()` function returns a `user-friendly` description of an object. The `repr()` method returns a `developer-friendly` string representation of an object.\n",
        "\n",
        "- If we don’t implement `__str__()` function for a class, then built-in object implementation is used that actually calls `__repr__() `function.\n",
        "\n",
        "- This method is called when `repr()` function is invoked on the object, in that case, `__repr__(`) function must return a **String** otherwise error will be thrown.\n",
        "\n",
        "\n",
        "\n"
      ]
    },
    {
      "cell_type": "code",
      "metadata": {
        "id": "beXWczQYIlrL",
        "colab": {
          "base_uri": "https://localhost:8080/",
          "height": 52
        },
        "outputId": "3be26cad-8ab0-4527-c101-d57006c0a8ee"
      },
      "source": [
        "class Person:\n",
        "\n",
        "    def __init__(self, name, age):\n",
        "        self.name = name\n",
        "        self.age  =  age\n",
        "\n",
        "p = Person('Pankaj', 34)\n",
        "\n",
        "print(p.__str__())\n",
        "print(p.__repr__())"
      ],
      "execution_count": null,
      "outputs": [
        {
          "output_type": "stream",
          "text": [
            "<__main__.Person object at 0x7f871605e470>\n",
            "<__main__.Person object at 0x7f871605e470>\n"
          ],
          "name": "stdout"
        }
      ]
    },
    {
      "cell_type": "markdown",
      "metadata": {
        "id": "Wos6w_LWOiYe"
      },
      "source": [
        "As you can see that the default implementation is useless. Let’s go ahead and implement both of these methods."
      ]
    },
    {
      "cell_type": "code",
      "metadata": {
        "id": "IJJFJOu7Ilpr"
      },
      "source": [
        "class Person:\n",
        "\n",
        "    def __init__(self, name, age):\n",
        "        self.name = name\n",
        "        self.age  =  age\n",
        "\n",
        "    def __repr__(self):\n",
        "        return {'name':self.name, 'age':self.age} # dict implementation\n",
        "\n",
        "    def __str__(self):\n",
        "        return 'Person(name='+self.name+', age='+str(self.age)+ ')' # string implementation\n",
        "\n",
        "\n",
        "p = Person('Pankaj', 34) # Creating the object of a class"
      ],
      "execution_count": null,
      "outputs": []
    },
    {
      "cell_type": "code",
      "source": [
        "# __str__() example\n",
        "print(p)\n",
        "print(p.__str__())\n",
        "\n",
        "s = str(p)\n",
        "print(s)"
      ],
      "metadata": {
        "colab": {
          "base_uri": "https://localhost:8080/"
        },
        "id": "WlmflSQa3Kkt",
        "outputId": "04690e31-50f1-4d6d-f22e-b204479e12c1"
      },
      "execution_count": null,
      "outputs": [
        {
          "output_type": "stream",
          "name": "stdout",
          "text": [
            "Person(name=Pankaj, age=34)\n",
            "Person(name=Pankaj, age=34)\n",
            "Person(name=Pankaj, age=34)\n"
          ]
        }
      ]
    },
    {
      "cell_type": "code",
      "source": [
        "# __repr__() example\n",
        "print(p.__repr__())\n",
        "print(type(p.__repr__()))\n",
        "print(repr(p))"
      ],
      "metadata": {
        "colab": {
          "base_uri": "https://localhost:8080/",
          "height": 235
        },
        "id": "6a5DSpGW3KWr",
        "outputId": "3a935c4d-166b-462d-dfdf-d324e4e6f975"
      },
      "execution_count": null,
      "outputs": [
        {
          "output_type": "stream",
          "name": "stdout",
          "text": [
            "{'name': 'Pankaj', 'age': 34}\n",
            "<class 'dict'>\n"
          ]
        },
        {
          "output_type": "error",
          "ename": "TypeError",
          "evalue": "ignored",
          "traceback": [
            "\u001b[0;31m---------------------------------------------------------------------------\u001b[0m",
            "\u001b[0;31mTypeError\u001b[0m                                 Traceback (most recent call last)",
            "\u001b[0;32m<ipython-input-5-2405c8d5cc59>\u001b[0m in \u001b[0;36m<module>\u001b[0;34m\u001b[0m\n\u001b[1;32m      2\u001b[0m \u001b[0mprint\u001b[0m\u001b[0;34m(\u001b[0m\u001b[0mp\u001b[0m\u001b[0;34m.\u001b[0m\u001b[0m__repr__\u001b[0m\u001b[0;34m(\u001b[0m\u001b[0;34m)\u001b[0m\u001b[0;34m)\u001b[0m\u001b[0;34m\u001b[0m\u001b[0;34m\u001b[0m\u001b[0m\n\u001b[1;32m      3\u001b[0m \u001b[0mprint\u001b[0m\u001b[0;34m(\u001b[0m\u001b[0mtype\u001b[0m\u001b[0;34m(\u001b[0m\u001b[0mp\u001b[0m\u001b[0;34m.\u001b[0m\u001b[0m__repr__\u001b[0m\u001b[0;34m(\u001b[0m\u001b[0;34m)\u001b[0m\u001b[0;34m)\u001b[0m\u001b[0;34m)\u001b[0m\u001b[0;34m\u001b[0m\u001b[0;34m\u001b[0m\u001b[0m\n\u001b[0;32m----> 4\u001b[0;31m \u001b[0mprint\u001b[0m\u001b[0;34m(\u001b[0m\u001b[0mrepr\u001b[0m\u001b[0;34m(\u001b[0m\u001b[0mp\u001b[0m\u001b[0;34m)\u001b[0m\u001b[0;34m)\u001b[0m\u001b[0;34m\u001b[0m\u001b[0;34m\u001b[0m\u001b[0m\n\u001b[0m",
            "\u001b[0;31mTypeError\u001b[0m: __repr__ returned non-string (type dict)"
          ]
        }
      ]
    },
    {
      "cell_type": "markdown",
      "metadata": {
        "id": "LpyrAehvPMZM"
      },
      "source": [
        "$\\color{red}{\\textbf{Note:}}$ the code above is genration the error since our `__repr__ ` implementation is returning `dict` and not `str`.\n",
        "\n",
        "Let’s change the implementation of `__repr__` function as follows:"
      ]
    },
    {
      "cell_type": "code",
      "metadata": {
        "id": "OyTMpgVuIllb",
        "colab": {
          "base_uri": "https://localhost:8080/",
          "height": 123
        },
        "outputId": "2c19fd76-e4a3-4250-aab6-644ea64343dc"
      },
      "source": [
        "class Person:\n",
        "\n",
        "    def __init__(self, name, age):\n",
        "        self.name = name\n",
        "        self.age  =  age\n",
        "\n",
        "    def __repr__(self):\n",
        "        return '{name:'+self.name+', age:'+str(self.age)+ '}'\n",
        "\n",
        "    def __str__(self):\n",
        "        return 'Person(name='+self.name+', age='+str(self.age)+ ')'\n",
        "\n",
        "\n",
        "p = Person('Pankaj', 34)\n",
        "\n",
        "# __str__() example\n",
        "print(p)\n",
        "print(p.__str__())\n",
        "\n",
        "s = str(p)\n",
        "print(s)\n",
        "\n",
        "# __repr__() example\n",
        "print(p.__repr__())\n",
        "print(type(p.__repr__()))\n",
        "print(repr(p))"
      ],
      "execution_count": null,
      "outputs": [
        {
          "output_type": "stream",
          "text": [
            "Person(name=Pankaj, age=34)\n",
            "Person(name=Pankaj, age=34)\n",
            "Person(name=Pankaj, age=34)\n",
            "{name:Pankaj, age:34}\n",
            "<class 'str'>\n",
            "{name:Pankaj, age:34}\n"
          ],
          "name": "stdout"
        }
      ]
    },
    {
      "cell_type": "markdown",
      "metadata": {
        "id": "B4Cf-kEYQiwf"
      },
      "source": [
        "<p align='center'>\n",
        "  <a href=\"#\">\n",
        "    <img src='https://i.stack.imgur.com/cpqeK.png'>\n",
        "  </a>\n",
        "</p>\n"
      ]
    },
    {
      "cell_type": "markdown",
      "metadata": {
        "id": "21pe1nFsFS2y"
      },
      "source": [
        "--------------------------------------------------------------------------------\n",
        "🔴$\\color{red}{\\textbf{Inheritance :}}$ \n",
        "\n",
        "**Inheritance** is a special type of relationship where a `Child` class acquires the **inherent** properties of its `parent` class along with this it also contains its own exclusive properties.\n",
        "\n",
        "```python\n",
        "# creating parent class\n",
        "class Parent:\n",
        "    BloodGroup = 'A'\n",
        "    Gender = 'Male'\n",
        "    Hobby = 'Chess'\n",
        "    \n",
        "# creating child class\n",
        "class Child(Parent): # inheriting parent class\n",
        "    BloodGroup = 'A+'\n",
        "    Gender = 'Female\n",
        "    \n",
        "    def print_data():\n",
        "        print(BloodGroup, Gender, Hobby)\n",
        "    \n",
        "# creating object for child class\n",
        "child1 = Child()\n",
        "# as child1 inherits it's parent's hobby printed data would be it's parent's\n",
        "child1.print_data()\n",
        "```\n",
        "--------------------------------------------------------------------------------\n",
        "🔴$\\color{red}{\\textbf{Polymorphism :}}$ The process of representing one form in multiple forms is known as **Polymorphism**.\n",
        "\n",
        "```python\n",
        "class Animal: \n",
        "  def type(self): \n",
        "    print(\"Various types of animals\") \n",
        "       \n",
        "  def age(self): \n",
        "    print(\"Age of the animal.\") \n",
        "     \n",
        "class Rabbit(Animal): \n",
        "  def age(self): \n",
        "    print(\"Age of rabbit.\") \n",
        "       \n",
        "class Horse(Animal): \n",
        "  def age(self): \n",
        "    print(\"Age of horse.\") \n",
        "       \n",
        "obj_animal = Animal() \n",
        "obj_rabbit = Rabbit() \n",
        "obj_horse = Horse() \n",
        "   \n",
        "obj_animal.type() \n",
        "obj_animal.age() \n",
        "   \n",
        "obj_rabbit.type() \n",
        "obj_rabbit.age() \n",
        "   \n",
        "obj_horse.type() \n",
        "obj_horse.age()\n",
        "```\n",
        "\n",
        "--------------------------------------------------------------------------------\n",
        "\n",
        "🔴$\\color{red}{\\textbf{Encapsulation :}}$ **Encapsulation** in Python describes the concept of **bundling data** and **methods** within a single unit.\n",
        "\n",
        "```python\n",
        " Python program to\n",
        "# demonstrate protected members\n",
        " \n",
        "# Creating a base class\n",
        "class Base:\n",
        "    def __init__(self):\n",
        " \n",
        "        # Protected member\n",
        "        self._a = 2\n",
        " \n",
        "# Creating a derived class\n",
        "class Derived(Base):\n",
        "    def __init__(self):\n",
        " \n",
        "        # Calling constructor of\n",
        "        # Base class\n",
        "        Base.__init__(self)\n",
        "        print(\"Calling protected member of base class: \",\n",
        "              self._a)\n",
        " \n",
        "        # Modify the protected variable:\n",
        "        self._a = 3\n",
        "        print(\"Calling modified protected member outside class: \",\n",
        "              self._a)\n",
        " \n",
        " \n",
        "obj1 = Derived()\n",
        " \n",
        "obj2 = Base()\n",
        " \n",
        "# Calling protected member\n",
        "# Can be accessed but should not be done due to convention\n",
        "print(\"Accessing protedted member of obj1: \", obj1._a)\n",
        " \n",
        "# Accessing the protected variable outside\n",
        "print(\"Accessing protedted member of obj2: \", obj2._a)\n",
        "```\n",
        "\n",
        "--------------------------------------------------------------------------------\n",
        "\n",
        "🔴$\\color{red}{\\textbf{Abstraction :}}$ **Abstraction** in python is defined as a process of handling complexity by hiding unnecessary information from the user. This is one of the core concepts of object-oriented programming (OOP) languages\n",
        "\n",
        "```python\n",
        "from abc import ABC,abstractclassmethod\n",
        "\n",
        "class Parent(ABC):\n",
        "\n",
        "    @abstractclassmethod\n",
        "    def pqr(self):\n",
        "        pass\n",
        "\n",
        "class Child(Parent):\n",
        "\n",
        "    def pqr(self):\n",
        "        print(\"PQR\")\n",
        "\n",
        "obj = Child()\n",
        "obj.pqr()\n",
        "```\n",
        "\n",
        "```python\n",
        "# Python program showing\n",
        "# abstract base class work\n",
        "\n",
        "from abc import ABC, abstractmethod\n",
        "\n",
        "class Polygon(ABC):\n",
        "\n",
        "\t@abstractmethod\n",
        "\tdef noofsides(self):\n",
        "\t\tpass\n",
        "\n",
        "class Triangle(Polygon):\n",
        "\n",
        "\t# overriding abstract method\n",
        "\tdef noofsides(self):\n",
        "\t\tprint(\"I have 3 sides\")\n",
        "\n",
        "class Pentagon(Polygon):\n",
        "\n",
        "\t# overriding abstract method\n",
        "\tdef noofsides(self):\n",
        "\t\tprint(\"I have 5 sides\")\n",
        "\n",
        "class Hexagon(Polygon):\n",
        "\n",
        "\t# overriding abstract method\n",
        "\tdef noofsides(self):\n",
        "\t\tprint(\"I have 6 sides\")\n",
        "\n",
        "class Quadrilateral(Polygon):\n",
        "\n",
        "\t# overriding abstract method\n",
        "\tdef noofsides(self):\n",
        "\t\tprint(\"I have 4 sides\")\n",
        "\n",
        "# Driver code\n",
        "R = Triangle()\n",
        "R.noofsides()\n",
        "\n",
        "K = Quadrilateral()\n",
        "K.noofsides()\n",
        "\n",
        "R = Pentagon()\n",
        "R.noofsides()\n",
        "\n",
        "K = Hexagon()\n",
        "K.noofsides()\n",
        "```\n",
        "\n",
        "```output\n",
        "I have 3 sides\n",
        "I have 4 sides\n",
        "I have 5 sides\n",
        "I have 6 sides\n",
        "```\n",
        "--------------------------------------------------------------------------------"
      ]
    },
    {
      "cell_type": "markdown",
      "source": [
        "\n",
        "## $\\color{skyblue}{\\textbf{Connect with me:}}$\n",
        "\n",
        "\n",
        "[<img align=\"left\" src=\"https://cdn.jsdelivr.net/npm/simple-icons@v3/icons/twitter.svg\" width=\"32px\"/>][twitter]\n",
        "[<img align=\"left\" src=\"https://cdn.jsdelivr.net/npm/simple-icons@v3/icons/linkedin.svg\" width=\"32px\"/>][linkedin]\n",
        "[<img align=\"left\" src=\"https://raw.githubusercontent.com/iconic/open-iconic/master/svg/globe.svg\" width=\"32px\"/>][StackExchange AI]\n",
        "\n",
        "[twitter]: https://twitter.com/F4izy\n",
        "[linkedin]: https://www.linkedin.com/in/mohd-faizy/\n",
        "[StackExchange AI]: https://ai.stackexchange.com/users/36737/cypher\n",
        "\n",
        "\n",
        "---"
      ],
      "metadata": {
        "id": "wXwbSiY_84Ks"
      }
    }
  ]
}