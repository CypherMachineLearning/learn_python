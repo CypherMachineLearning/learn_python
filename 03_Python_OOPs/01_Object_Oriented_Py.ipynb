{
  "nbformat": 4,
  "nbformat_minor": 0,
  "metadata": {
    "colab": {
      "name": "01_Object_Oriented_Py.ipynb",
      "provenance": [],
      "collapsed_sections": [],
      "toc_visible": true
    },
    "kernelspec": {
      "name": "python3",
      "display_name": "Python 3"
    }
  },
  "cells": [
    {
      "cell_type": "markdown",
      "metadata": {
        "id": "7lf_rPHtwiE1"
      },
      "source": [
        "\n",
        "# <center>🐍$\\color{skyblue}{\\textbf{Object-Oriented-Programming}}$🐍</center>\n"
      ]
    },
    {
      "cell_type": "markdown",
      "source": [
        "> Solving the problem by creating the $objects$ is one of the most popular approaches in the programming. This is called  $\\color{red}{\\textbf{Object Oriented Programming}}$.\n",
        "\n",
        "This concept focuses on $\\color{red}{\\textbf{Code Reusability}}$ $\\rightarrow$ Implements using $\\color{red}{\\textbf{DRY principle}}$ \n",
        "$(Don't-Repet-Yourself)$\n",
        "\n",
        "-  👉$\\color{red}{\\textbf{Class}}$: A class is the *blueprint* for creating the `objects`.\n",
        "\n",
        "    ```python\n",
        "    # Syntax\n",
        "    class Employee:\n",
        "        # Methods & Attributes\n",
        "    ```\n",
        "\n",
        "-  👉$\\color{red}{\\textbf{Object}}$: An Object is an instantiation of a `class`. when `class` is defined, a templet(info) is defined. Memory is only allocated only after the object instantiaion. `Objects` of a given class can invoke the `methods` avalible to it without revealing the implementation details to the user $\\rightarrow$ $Abstraction$ & $Encapsulation$\n",
        "\n",
        "-  👉Modelling a problem in $\\color{red}{\\textbf{OOPs}}$: \n",
        "    - $Noun$ $\\rightarrow$ $\\color{red}{\\textbf{Class}}$ $\\rightarrow$ $\\color{skyblue}{\\textbf{Employee}}$\n",
        "    - $Adjective$ $\\rightarrow$ $\\color{red}{\\textbf{Attributes}}$ $\\rightarrow$ $\\color{skyblue}{\\textbf{name, age, salary}}$\n",
        "    - $Verbs$ $\\rightarrow$ $\\color{red}{\\textbf{Methods}}$ $\\rightarrow$ $\\color{skyblue}{\\textbf{getSalary(), increment()}}$\n",
        "\n",
        "- $\\color{red}{\\textbf{Class Attribute}}$: An attribute that belong to the `class` rather than a particular `object`.\n",
        "\n",
        "    ```python\n",
        "    class Employee:\n",
        "        company = \"Google\"        # Specific to each class\n",
        "\n",
        "    jack = Employee()             # object instantiation\n",
        "    jack.company\n",
        "    Employee.company = \"Youtube\"  # changing the class attribute\n",
        "    ```\n",
        "\n",
        "-  👉$\\color{red}{\\textbf{Instance Attribute}}$: An attribute that belong to the `Instance(object)`.\n",
        "\n",
        "    - $Note:$ **Instance attribute** take preference over **class attributes** during assignment & retrival.\n",
        "    - `jack.attribute1`\n",
        "     1. Is `attribute1` present in the `object`.\n",
        "     2. Is `attribute1` present in the `class`.\n",
        "\n",
        "    ```python\n",
        "    jack.name = \"Jack\"\n",
        "    jack.salary = \"30K\"           # Adding instance attribute\n",
        "    ```\n",
        "-  👉$\\color{red}{\\textbf{self Parameter}}$: `self` refer to the $instance$ of a $class$. it is automatically passed with a function call form an object.\n",
        "    - `jack.getSalary()` here self is jack is equvilant to `Employee.getSalary(jack)`\n",
        "    - the function `getSalary` is defined as:\n",
        "\n",
        "    ```python\n",
        "    class Employee:\n",
        "\n",
        "        def __init__(self, salary)\n",
        "        self.salary = salary\n",
        "\n",
        "        def getSalary(self):\n",
        "            print(\"The current salary is \"+ self.salary)\n",
        "\n",
        "    ```\n",
        "-  👉$\\color{red}{\\textbf{static method}}$: Sometimes we need to program a function that dose'nt use the `self` parameter, so we can use `static` method insted.\n",
        "\n",
        "    ```python\n",
        "    @staticmethod\n",
        "    def greet():\n",
        "        print(\"Hello user\")\n",
        "    ```\n",
        "-   👉$\\color{red}{\\textbf{__init__()}}$: this is special method which is first run as soon as the $object$ is created.\n",
        "    -  `__init__() ` is also known as $\\color{red}{\\textbf{Constructer}}$.\n",
        "    - it take `self` argument and can also take further arguments.\n",
        "\n",
        "    ```python\n",
        "    class Employee:\n",
        "        def __init__(self, name):\n",
        "            self.name = name\n",
        "\n",
        "        def getSalary(self):\n",
        "            ...\n",
        "\n",
        "    jack = Employee(\"Harry\")\n",
        "    ```"
      ],
      "metadata": {
        "id": "a9n_r49l_cOh"
      }
    },
    {
      "cell_type": "code",
      "source": [
        ":class Robot:\n",
        "    def __init__(self, name, color, weight):\n",
        "        self.name = name\n",
        "        self.color = color\n",
        "        self.weight = weight\n",
        "\n",
        "    def introduce_self(self):\n",
        "        print(\"My Name is \"+ self.name)\n",
        "\n",
        "# r1 = Robot()       # this means create a new object with name robot\n",
        "# r1.name = 'Tom'\n",
        "# r1.color = 'Red'\n",
        "# r1.weight = 30\n",
        "\n",
        "# r2 = Robot()\n",
        "# r2.name = 'Jerry'\n",
        "# r2.color = 'Blue'\n",
        "# r2.weight = 10\n",
        "\n",
        "r1 = Robot('Tom', 'red', 30)\n",
        "r2 = Robot('Jerry', 'blue', 40)\n",
        "\n",
        "r1.introduce_self()\n",
        "r2.introduce_self()"
      ],
      "metadata": {
        "colab": {
          "base_uri": "https://localhost:8080/"
        },
        "id": "EUqAA4MnFJuZ",
        "outputId": "ecfb1cbe-3fe3-401a-ca87-ddd5834f43c9"
      },
      "execution_count": 11,
      "outputs": [
        {
          "output_type": "stream",
          "name": "stdout",
          "text": [
            "My Name is Tom\n",
            "My Name is Jerry\n"
          ]
        }
      ]
    },
    {
      "cell_type": "code",
      "source": [
        "class Robot:\n",
        "    def __init__(self, n, c, w):\n",
        "        self.name = n\n",
        "        self.color = c\n",
        "        self.weight = w\n",
        "\n",
        "    def introduce_self(self):\n",
        "        print(\"My name is \" + self.name)\n",
        "\n",
        "\n",
        "class Person:\n",
        "    def __init__(self, n, p, i):\n",
        "        self.name = n\n",
        "        self.personality = p\n",
        "        self.isSitting = i\n",
        "\n",
        "    def sit_down(self):\n",
        "        print(\"My name is \" + self.name)\n",
        "\n",
        "\n",
        "r1 = Robot(\"Tom\", \"red\", 30)\n",
        "r2 = Robot(\"Jerry\", \"blue\", 40)\n",
        "\n",
        "p1 = Person(\"Alice\", \"aggressive\", False)\n",
        "p2 = Person(\"Becky\", \"aggressive\", True)\n",
        "\n",
        "p1.robot_owned = r2\n",
        "p2.robot_owned = r1\n",
        "\n",
        "\n",
        "p1.robot_owned.introduce_self()"
      ],
      "metadata": {
        "colab": {
          "base_uri": "https://localhost:8080/"
        },
        "id": "vhV6zaCEMaGX",
        "outputId": "7dc234b9-42c0-4c06-9ff2-895657a66081"
      },
      "execution_count": 25,
      "outputs": [
        {
          "output_type": "stream",
          "name": "stdout",
          "text": [
            "My name is Jerry\n"
          ]
        }
      ]
    },
    {
      "cell_type": "markdown",
      "source": [
        "---\n",
        "<center>Detailed study👇</center>\n",
        "\n",
        "---"
      ],
      "metadata": {
        "id": "0vqhYdRUsJq7"
      }
    },
    {
      "cell_type": "markdown",
      "metadata": {
        "id": "0LUi2SaUJuF3"
      },
      "source": [
        "## $\\color{red}{\\textbf{Objects}}$:\n",
        "\n",
        "In Python, *everything is an object*.\n",
        "\n",
        "we can use `type() `to check the type of object something is:"
      ]
    },
    {
      "cell_type": "code",
      "metadata": {
        "id": "gj8YODAXKBvE",
        "colab": {
          "base_uri": "https://localhost:8080/"
        },
        "outputId": "1b2d4904-6c06-40a8-d29b-37eb705ceb4b"
      },
      "source": [
        "print(type(1))\n",
        "print(type([]))\n",
        "print(type(()))\n",
        "print(type({}))"
      ],
      "execution_count": 2,
      "outputs": [
        {
          "output_type": "stream",
          "name": "stdout",
          "text": [
            "<class 'int'>\n",
            "<class 'list'>\n",
            "<class 'tuple'>\n",
            "<class 'dict'>\n"
          ]
        }
      ]
    },
    {
      "cell_type": "markdown",
      "metadata": {
        "id": "68ubUaDwhOzO"
      },
      "source": [
        "\n",
        "- It allows the programmer to create their own __Objects__ that have $\\rightarrow$ __Methods__ and $\\rightarrow$  __Attributs__.\n",
        "\n",
        "\n",
        "- __OOP's__ combine __data__ and __functionality__ and wrap it inside something called an **object**.\n",
        "\n",
        "- Objects can store data using ordinary variables that belong to the object.\n",
        "\n",
        "\n",
        "- An **object** has two characteristics:\n",
        "\n",
        " - **Attributes**\n",
        " - **Behavior**\n",
        "\n",
        " > *A parrot is can be an __object__,as it has the following properties:*\n",
        " - name, age, color as **attributes**\n",
        " - singing, dancing as **behavior**\n",
        "\n",
        "\n",
        "\n"
      ]
    },
    {
      "cell_type": "markdown",
      "metadata": {
        "id": "dHmJIXm0HZmy"
      },
      "source": [
        "<center><img src = 'https://media.geeksforgeeks.org/wp-content/uploads/Blank-Diagram-Page-1-3.png'></center>"
      ]
    },
    {
      "cell_type": "markdown",
      "metadata": {
        "id": "nN4BKutZ8fKr"
      },
      "source": [
        "## $\\color{red}{\\textbf{Method}}$:\n",
        "\n",
        "- ***Method is a Function inside the class***\n",
        "\n",
        "- These __method__ acts as __functions__ that uses information about the object. __Methods__ is basically the actions we perform on the objects we created. So __Methods__ are functions essentially defined inside the body of the class & they perform the operations that sometimes utilize the actul attribute of the __object__ we created.\n",
        "\n",
        "- So __Method__ can be think of as functions acting on an object that take the object itself into account, through the use of `self `argument.\n",
        "\n",
        "- OPPs allows us to write a code that is repetable and organised.\n",
        "\n",
        "- For __larger scripts__ of python code, __functions__ by themselves aren't enough for oragnization and repeatability.\n",
        "\n",
        "- Commonly repeated tasks and objects can be defined with OOP's to create code that is more usable.\n"
      ]
    },
    {
      "cell_type": "markdown",
      "metadata": {
        "id": "NQIypks0Nvgk"
      },
      "source": [
        "## $\\color{red}{\\textbf{Class}}$ :"
      ]
    },
    {
      "cell_type": "markdown",
      "metadata": {
        "id": "pwJkN30LNzi9"
      },
      "source": [
        "Classes are used to create new **user-defined data structures** called __Object__ that contain arbitrary information about something.\n",
        "\n",
        "> We can think of class as a sketch of a parrot with labels. It contains all the details about the **name, colors, size** etc. Based on these descriptions, we can study about the parrot. Here, a parrot is an object.\n",
        "\n"
      ]
    },
    {
      "cell_type": "markdown",
      "metadata": {
        "id": "AwYt56NSPGWB"
      },
      "source": [
        "```\n",
        "class Parrot:\n",
        "    pass\n",
        "```\n",
        "Here, we use the `class `keyword to define an empty `class` Parrot. From `class`, we construct **instances**.\n",
        "\n",
        "\n",
        "__INSTANCE__\n",
        "\n",
        "> An **instance** is a specific object created from a particular `class.`\n"
      ]
    },
    {
      "cell_type": "markdown",
      "metadata": {
        "id": "18ueScWTLtos"
      },
      "source": [
        "User defined objects are created using the <code>class</code> keyword. The class is a blueprint that defines the nature of a future object. From classes we can construct instances. An instance is a specific object created from a particular class. For example, above we created the object <code>lst</code> which was an instance of a list object. \n",
        "\n",
        "Let see how we can use <code>class</code>:"
      ]
    },
    {
      "cell_type": "code",
      "metadata": {
        "id": "h_RFXmFzL8mb",
        "colab": {
          "base_uri": "https://localhost:8080/",
          "height": 34
        },
        "outputId": "c1b4a0be-c573-4f40-a326-7ba3b8037b85"
      },
      "source": [
        "# Create a new object type called Sample\n",
        "class Sample:\n",
        "    pass\n",
        "\n",
        "# Instance of Sample\n",
        "x = Sample()\n",
        "\n",
        "print(type(x))"
      ],
      "execution_count": null,
      "outputs": [
        {
          "output_type": "stream",
          "text": [
            "<class '__main__.Sample'>\n"
          ],
          "name": "stdout"
        }
      ]
    },
    {
      "cell_type": "markdown",
      "metadata": {
        "id": "T10XStmNNhxU"
      },
      "source": [
        "Inside of the class we currently just have pass. But we can define class attributes and methods.\n",
        "\n",
        "An **attribute** is a characteristic of an object.\n",
        "\n",
        "A **method** is an operation we can perform with the object.\n",
        "\n",
        "For example, we can create a class called Dog. An attribute of a dog may be its breed or its name, while a method of a dog may be defined by a .bark() method which returns a sound.\n",
        "\n",
        "Let's get a better understanding of attributes through an example.\n",
        "\n",
        " __Attributes__\n",
        "\n",
        "> $\\color{red}{\\textbf{NOTE}}$ : Attribute never have open & close pranthesis becoz attribute aren't something that we really execute, insted it is the characteristic of the of the __object__ that we call back.\n",
        "\n",
        "The syntax for creating an attribute is:\n",
        "    \n",
        "    self.attribute = something\n",
        "    \n",
        "There is a special method called:\n",
        "\n",
        "    __init__()\n",
        "\n",
        "This method is used to initialize the attributes of an object. For example:"
      ]
    },
    {
      "cell_type": "markdown",
      "metadata": {
        "id": "Y3X-UbWASjJb"
      },
      "source": [
        "> $\\color{red}{\\textbf{NOTE}}$ : By Convention: classes follows the camel Casing.\n",
        "\n"
      ]
    },
    {
      "cell_type": "code",
      "metadata": {
        "id": "fayUAiKaeQk1"
      },
      "source": [
        "class Dog:\n",
        "\n",
        "    def __init__(self, mybreed):\n",
        "\n",
        "        # Attributes\n",
        "        # We take in the arguments\n",
        "        # Assign it usin vg self.attribute_name\n",
        "\n",
        "        self.my_attribute = mybreed\n"
      ],
      "execution_count": null,
      "outputs": []
    },
    {
      "cell_type": "code",
      "metadata": {
        "id": "8mi47QdBoTTI"
      },
      "source": [
        "my_dog = Dog(mybreed = 'Huskie')"
      ],
      "execution_count": null,
      "outputs": []
    },
    {
      "cell_type": "code",
      "metadata": {
        "id": "tRaY49n5o0Ie",
        "colab": {
          "base_uri": "https://localhost:8080/",
          "height": 34
        },
        "outputId": "e301d4f3-43be-4fb2-e45a-d0b59f3ac492"
      },
      "source": [
        "type(my_dog)"
      ],
      "execution_count": null,
      "outputs": [
        {
          "output_type": "execute_result",
          "data": {
            "text/plain": [
              "__main__.Dog"
            ]
          },
          "metadata": {
            "tags": []
          },
          "execution_count": 5
        }
      ]
    },
    {
      "cell_type": "code",
      "metadata": {
        "id": "bHrA1wsko5oW",
        "colab": {
          "base_uri": "https://localhost:8080/",
          "height": 35
        },
        "outputId": "40174acc-a08b-461e-b15e-6b52b41d03cb"
      },
      "source": [
        "# Calling the attribute\n",
        "my_dog.my_attribute"
      ],
      "execution_count": null,
      "outputs": [
        {
          "output_type": "execute_result",
          "data": {
            "application/vnd.google.colaboratory.intrinsic": {
              "type": "string"
            },
            "text/plain": [
              "'Huskie'"
            ]
          },
          "metadata": {
            "tags": []
          },
          "execution_count": 6
        }
      ]
    },
    {
      "cell_type": "code",
      "metadata": {
        "id": "gR-YiFGwpTcs",
        "colab": {
          "base_uri": "https://localhost:8080/",
          "height": 105
        },
        "outputId": "cbefffc2-bd20-4b89-8f2e-78d55312dc9b"
      },
      "source": [
        "# Cleaner code\n",
        "\n",
        "class Dog:\n",
        "\n",
        "    # Class Object Attribute\n",
        "    # This is Same - Regardless of  instance of the class\n",
        "    species = 'mammal' \n",
        "\n",
        "    # instance ATTRIBUTES\n",
        "    def __init__(self, breed, name, spots): # __init__ Method for User defined attribute\n",
        "                            \n",
        "        # Here both breed & name is String\n",
        "        # But spots is boolean\n",
        "        self.breed = breed\n",
        "        self.name  = name\n",
        "        # Expect the Boolean True/False\n",
        "        self.spots = spots\n",
        "    \n",
        "    # Operations/Actions---> instance METHOD\n",
        "    def bark(self, number): # Here the \"Self\" is used to connect it to the actual object\n",
        "                            # Method can also take some outside arguments\n",
        "        print('WOOF! My name is {} & the number is {}'.format(self.name, number))\n",
        "\n",
        "\n",
        "my_dog = Dog(breed = 'Labra', name = 'Tommy', spots = False )\n",
        "\n",
        "# TYPE \n",
        "print(type(my_dog))\n",
        "\n",
        "# Calling the ATTRIBUTE doesn't require pranthesis\n",
        "print(my_dog.breed)  \n",
        "print(my_dog.name)\n",
        "print(my_dog.spots)\n",
        "print(my_dog.species)"
      ],
      "execution_count": null,
      "outputs": [
        {
          "output_type": "stream",
          "text": [
            "<class '__main__.Dog'>\n",
            "Labra\n",
            "Tommy\n",
            "False\n",
            "mammal\n"
          ],
          "name": "stdout"
        }
      ]
    },
    {
      "cell_type": "code",
      "metadata": {
        "id": "yiDJFghSEJKm",
        "colab": {
          "base_uri": "https://localhost:8080/",
          "height": 34
        },
        "outputId": "dd457e23-896f-4985-fa7a-d26edd890e56"
      },
      "source": [
        "# Calling the METHOD requires --> pranthesis \n",
        "'''\n",
        "METHOD: it is the action that the actual object can take\n",
        "'''\n",
        "my_dog.bark(10)\n"
      ],
      "execution_count": null,
      "outputs": [
        {
          "output_type": "stream",
          "text": [
            "WOOF! My name is Tommy & the number is 10\n"
          ],
          "name": "stdout"
        }
      ]
    },
    {
      "cell_type": "markdown",
      "metadata": {
        "id": "oxnx17K_fxJv"
      },
      "source": [
        "## $\\color{red}{\\textbf{Instance Attributes}}$:\n",
        "\n",
        "- **Attributes** are defined inside the `__init__` method of the `class`. It is the **initializer method** that is *first run* as soon as the **object** is created.\n",
        "\n",
        "- All classes create **objects**, and all **objects** contain characteristics called **attributes** \n",
        "\n",
        "- it uses the `__init__()` **method** to initialize (e.g. specify) an object’s initial attributes by giving them their default value (or state).\n",
        "\n",
        "- This **method** must have at least one argument as well as the `self` variable, which refers to the object itself (e.g., Dog).\n",
        "\n",
        "\n",
        "\n"
      ]
    },
    {
      "cell_type": "markdown",
      "metadata": {
        "id": "HjZfRZy8sKHW"
      },
      "source": [
        "The difference between a class and an object.\n",
        "\n",
        "-  `__init__` doesn't initialize a class, *it initializes an **instance** of a class or an object*.\n",
        "\n",
        " - Each dog has colour, but dogs as a class don't.\n",
        " \n",
        " - Each dog has four or fewer feet, but the class of dogs doesn't.\n"
      ]
    },
    {
      "cell_type": "markdown",
      "metadata": {
        "id": "UnFKsMGis9p5"
      },
      "source": [
        "[Why do we use `__init__` in Python classes?](https://stackoverflow.com/questions/8609153/why-do-we-use-init-in-python-classes)\n",
        "\n",
        "\n",
        "\n",
        "```\n",
        "class Dog:\n",
        "    def __init__(self, legs, colour):\n",
        "        self.legs = legs\n",
        "        self.colour = colour\n",
        "\n",
        "fido = Dog(4, \"brown\")\n",
        "spot = Dog(3, \"mostly yellow\")\n",
        "```\n",
        "\n",
        "\n",
        "- The `__init__` function is called a $\\color{red}{\\textbf{constructor}}$, or $\\color{green}{\\textbf{initializer}}$ , and is automatically called when you create a new **instance** of a class.\n",
        "\n",
        "- Within that function, the newly created object is assigned to the parameter `self`.\n",
        "\n",
        " - The notation `self.legs` is an attribute called legs of the object in the variable self. \n",
        " - Attributes are kind of like variables, but they describe the state of an object, or particular actions (functions) available to the object"
      ]
    },
    {
      "cell_type": "markdown",
      "metadata": {
        "id": "5F5MnUiHhb-v"
      },
      "source": [
        "## $\\color{red}{\\textbf{self}}$ :\n",
        "\n",
        "- `Class` methods have only one specific difference from ordinary function\n",
        "\n",
        " - they must have an extra first name that has to be added to the beginning of the parameter list.\n",
        " -  __Note__ : we do not give a **value** for this parameter when we call the method, Python will provide it. This particular variable refers to the object itself, and by convention, it is given the name `self`.\n"
      ]
    },
    {
      "cell_type": "code",
      "metadata": {
        "id": "nZySIQz35eiN"
      },
      "source": [
        "class Circle:\n",
        "\n",
        "    # Class Object attribute\n",
        "    pi = 22/7\n",
        "\n",
        "    # instance attributes\n",
        "    def __init__(self, radius = 1):\n",
        "\n",
        "        self.radius = radius\n",
        "        self.area   = self.pi * radius * radius\n",
        "\n",
        "    # instance method\n",
        "    def circumference(self):\n",
        "\n",
        "        return 2 * self.pi * self.radius\n"
      ],
      "execution_count": null,
      "outputs": []
    },
    {
      "cell_type": "code",
      "metadata": {
        "id": "oM_K2iOCT63Z"
      },
      "source": [
        "my_circle = Circle(7)"
      ],
      "execution_count": null,
      "outputs": []
    },
    {
      "cell_type": "code",
      "metadata": {
        "id": "-iDaITFOdPgk",
        "colab": {
          "base_uri": "https://localhost:8080/",
          "height": 34
        },
        "outputId": "84d7e091-5224-4d14-f9a2-8d4174890646"
      },
      "source": [
        "my_circle.radius"
      ],
      "execution_count": null,
      "outputs": [
        {
          "output_type": "execute_result",
          "data": {
            "text/plain": [
              "7"
            ]
          },
          "metadata": {
            "tags": []
          },
          "execution_count": 11
        }
      ]
    },
    {
      "cell_type": "code",
      "metadata": {
        "id": "8zPtEpY4UCrp",
        "colab": {
          "base_uri": "https://localhost:8080/",
          "height": 34
        },
        "outputId": "6cab5b2e-7aa8-4d41-9a15-5881360b1544"
      },
      "source": [
        "my_circle.pi"
      ],
      "execution_count": null,
      "outputs": [
        {
          "output_type": "execute_result",
          "data": {
            "text/plain": [
              "3.142857142857143"
            ]
          },
          "metadata": {
            "tags": []
          },
          "execution_count": 12
        }
      ]
    },
    {
      "cell_type": "code",
      "metadata": {
        "id": "vWJLqji5cvF2",
        "colab": {
          "base_uri": "https://localhost:8080/",
          "height": 34
        },
        "outputId": "c5dc104a-c284-4b92-a494-0ef8934192d4"
      },
      "source": [
        "my_circle.area # Calling an Attribute"
      ],
      "execution_count": null,
      "outputs": [
        {
          "output_type": "execute_result",
          "data": {
            "text/plain": [
              "154.0"
            ]
          },
          "metadata": {
            "tags": []
          },
          "execution_count": 13
        }
      ]
    },
    {
      "cell_type": "code",
      "metadata": {
        "id": "NVfQNNDGc8j5",
        "colab": {
          "base_uri": "https://localhost:8080/",
          "height": 34
        },
        "outputId": "fe06d17b-6bb5-45e6-e609-f8daf7addb6d"
      },
      "source": [
        "my_circle.circumference() # Calling an Method"
      ],
      "execution_count": null,
      "outputs": [
        {
          "output_type": "execute_result",
          "data": {
            "text/plain": [
              "44.0"
            ]
          },
          "metadata": {
            "tags": []
          },
          "execution_count": 14
        }
      ]
    },
    {
      "cell_type": "markdown",
      "metadata": {
        "id": "RZ3_8JvreAOZ"
      },
      "source": [
        "$\\color{red}{\\textbf{Another-Method-of-calling-the-class-object-Attribute}}$\n",
        "\n",
        "```\n",
        "class Circle:\n",
        "\n",
        "    # Class Object attribute\n",
        "    pi = 22/7\n",
        "\n",
        "    def __init__(self, radius = 1):\n",
        "\n",
        "        self.radius = radius\n",
        "        self.area   = Circle.pi * radius * radius\n",
        "\n",
        "    # Method\n",
        "    def circumference(self):\n",
        "\n",
        "        return 2 * Circle.pi * self.radius\n",
        "\n",
        "```\n",
        "\n"
      ]
    },
    {
      "cell_type": "code",
      "metadata": {
        "id": "JzGKRYx1l4mq",
        "colab": {
          "base_uri": "https://localhost:8080/",
          "height": 52
        },
        "outputId": "fe411226-33db-4f2d-b9c3-2361dd1aaca9"
      },
      "source": [
        "# Creating Methods in Python\n",
        "\n",
        "class Bird:\n",
        "    \n",
        "    # instance attributes\n",
        "    def __init__(self, name, age):\n",
        "        self.name = name\n",
        "        self.age = age\n",
        "    \n",
        "    # instance method\n",
        "    def sing(self, song):\n",
        "        return \"{} sings {}\".format(self.name, song)\n",
        "\n",
        "    def dance(self):\n",
        "        return \"{} is now dancing\".format(self.name)\n",
        "\n",
        "# instantiate the object\n",
        "my_bird = Bird(\"parrot\", 10)\n",
        "\n",
        "# call our instance methods\n",
        "print(my_bird.sing(\"'Happy'\"))\n",
        "print(my_bird.dance())"
      ],
      "execution_count": null,
      "outputs": [
        {
          "output_type": "stream",
          "text": [
            "parrot sings 'Happy'\n",
            "parrot is now dancing\n"
          ],
          "name": "stdout"
        }
      ]
    },
    {
      "cell_type": "markdown",
      "metadata": {
        "id": "AJ75cVKalP1M"
      },
      "source": [
        "## $\\color{red}{\\textbf{Inheritance}}$ :"
      ]
    },
    {
      "cell_type": "markdown",
      "metadata": {
        "id": "4UZ5yXarnTv0"
      },
      "source": [
        "- One of the major benefits of **object oriented programming** is **reuse of code** and one of the ways this is achieved is through the **inheritance** mechanism.\n",
        "\n",
        "- **Inheritance** is a $\\color{red}{\\text{Way-Of-Creating-A-New-Class}}$ for using details of an existing class without modifying it.\n",
        "\n",
        "- Reduces the complexity of the code.\n",
        "\n",
        "- The newly formed class is a derived class (or **child class**). Similarly, the existing class is a base class (or **parent class**)."
      ]
    },
    {
      "cell_type": "code",
      "metadata": {
        "id": "y6qB_JQyp3lo"
      },
      "source": [
        "# Parent Class\n",
        "class Animal:\n",
        "\n",
        "    def __init__(self):\n",
        "        print('Animal is created')\n",
        "\n",
        "    def who_am_i(self):\n",
        "        print('I am an animal')\n",
        "\n",
        "    def eat(self):\n",
        "        print('I am eating')\n",
        "\n",
        "# Child Class\n",
        "class Dog(Animal):\n",
        "\n",
        "    def __init__(self):\n",
        "        # Creating an instance of Animal class\n",
        "        # we can now inherit the base class & can have all the method\n",
        "        Animal.__init__(self)\n",
        "        print('Dog created')\n",
        "    \n",
        "    # overwriting the previous method\n",
        "    def who_am_i(self): \n",
        "        print('I am an dog!')\n",
        "    \n",
        "    def eat(self):\n",
        "        print('I am dog and eating')\n",
        "\n",
        "\n",
        "    # Adding the New Method\n",
        "    def bark(self):\n",
        "        print('WOOF!')\n",
        "    \n",
        "\n",
        "\n"
      ],
      "execution_count": null,
      "outputs": []
    },
    {
      "cell_type": "code",
      "metadata": {
        "id": "nUR8x-FWvMfc",
        "colab": {
          "base_uri": "https://localhost:8080/",
          "height": 52
        },
        "outputId": "0c7825f6-e3e0-4c2e-892f-87a15f8d61bd"
      },
      "source": [
        "'''this will not only call the __init__ method of Dog\n",
        "   but also of the Animal.\n",
        "'''\n",
        "my_dog = Dog() \n"
      ],
      "execution_count": null,
      "outputs": [
        {
          "output_type": "stream",
          "text": [
            "Animal is created\n",
            "Dog created\n"
          ],
          "name": "stdout"
        }
      ]
    },
    {
      "cell_type": "code",
      "metadata": {
        "id": "6yWCiCkvwGSm",
        "colab": {
          "base_uri": "https://localhost:8080/",
          "height": 34
        },
        "outputId": "a604def9-6620-4bb4-be65-b34077e45232"
      },
      "source": [
        "my_dog.eat() # This is called inheritance"
      ],
      "execution_count": null,
      "outputs": [
        {
          "output_type": "stream",
          "text": [
            "I am dog and eating\n"
          ],
          "name": "stdout"
        }
      ]
    },
    {
      "cell_type": "code",
      "metadata": {
        "id": "3S25wxq8wLxj",
        "colab": {
          "base_uri": "https://localhost:8080/",
          "height": 34
        },
        "outputId": "fba7f17e-f77a-4768-f73f-4f545bbb5889"
      },
      "source": [
        "my_dog.who_am_i()"
      ],
      "execution_count": null,
      "outputs": [
        {
          "output_type": "stream",
          "text": [
            "I am an dog!\n"
          ],
          "name": "stdout"
        }
      ]
    },
    {
      "cell_type": "code",
      "metadata": {
        "id": "N3R6eOAkwkAn",
        "colab": {
          "base_uri": "https://localhost:8080/",
          "height": 34
        },
        "outputId": "62f5a4aa-ffe7-49cf-ebee-d68cf22e8e23"
      },
      "source": [
        "my_dog.bark()"
      ],
      "execution_count": null,
      "outputs": [
        {
          "output_type": "stream",
          "text": [
            "WOOF!\n"
          ],
          "name": "stdout"
        }
      ]
    },
    {
      "cell_type": "code",
      "metadata": {
        "id": "Z_EdJGeF1MTf",
        "colab": {
          "base_uri": "https://localhost:8080/",
          "height": 105
        },
        "outputId": "1b6c8c97-2c3b-480c-b9c5-9d4a4b6aeb4f"
      },
      "source": [
        "# parent class\n",
        "class Bird:\n",
        "    \n",
        "    def __init__(self):\n",
        "        print(\"Bird is ready\")\n",
        "\n",
        "    def whoisThis(self):\n",
        "        print(\"Bird\")\n",
        "\n",
        "    def swim(self):\n",
        "        print(\"Swim faster\")\n",
        "\n",
        "# child class\n",
        "class Penguin(Bird):\n",
        "\n",
        "    def __init__(self):\n",
        "        # call super() function\n",
        "        super().__init__()\n",
        "        print(\"Penguin is ready\")\n",
        "\n",
        "    def whoisThis(self):\n",
        "        print(\"Penguin\")\n",
        "\n",
        "    def run(self):\n",
        "        print(\"Run faster\")\n",
        "\n",
        "peggy = Penguin()\n",
        "peggy.whoisThis()\n",
        "peggy.swim()\n",
        "peggy.run()"
      ],
      "execution_count": null,
      "outputs": [
        {
          "output_type": "stream",
          "text": [
            "Bird is ready\n",
            "Penguin is ready\n",
            "Penguin\n",
            "Swim faster\n",
            "Run faster\n"
          ],
          "name": "stdout"
        }
      ]
    },
    {
      "cell_type": "markdown",
      "metadata": {
        "id": "c4-Yxhl403Wn"
      },
      "source": [
        "## $\\color{red}{\\textbf{Polymorphism}}$ :"
      ]
    },
    {
      "cell_type": "markdown",
      "metadata": {
        "id": "M3-l_O0M08OZ"
      },
      "source": [
        "**Polymorphism** is an ability (in OOP) to use a common interface for multiple forms (data types).\n",
        "\n",
        "- i.e **Polymorphism** refers to the way in which different **object classes** can share the same **method** name and then those methods can be called from the same place even though a varity of different objects might be passed in,\n",
        "\n",
        "Suppose, we need to color a shape, there are multiple shape options (rectangle, square, circle). However we could use the same method to color any shape. This concept is called **Polymorphism.**"
      ]
    },
    {
      "cell_type": "code",
      "metadata": {
        "id": "S7vMuRHd02hi",
        "colab": {
          "base_uri": "https://localhost:8080/",
          "height": 52
        },
        "outputId": "97e3de29-85bd-4fb6-e818-e919d4308b96"
      },
      "source": [
        "class Dog:\n",
        "\n",
        "    def __init__(self, name):\n",
        "        self.name = name\n",
        "    \n",
        "    def speak(self):\n",
        "        return self.name + ' Says WOOF!'\n",
        "\n",
        "class Cat():\n",
        "\n",
        "    def __init__(self, name):\n",
        "        self.name = name\n",
        "    \n",
        "    def speak(self):\n",
        "        return self.name + ' Says MEOW!'\n",
        "\n",
        "tommy = Dog('tommy')\n",
        "kitti = Cat('kitti')\n",
        "\n",
        "print(tommy.speak())\n",
        "print(kitti.speak())"
      ],
      "execution_count": null,
      "outputs": [
        {
          "output_type": "stream",
          "text": [
            "tommy Says WOOF!\n",
            "kitti Says MEOW!\n"
          ],
          "name": "stdout"
        }
      ]
    },
    {
      "cell_type": "code",
      "metadata": {
        "id": "jrJoAgTZxvIl",
        "colab": {
          "base_uri": "https://localhost:8080/",
          "height": 87
        },
        "outputId": "e7118a8b-7ac1-4cae-dbb2-5da62e911caf"
      },
      "source": [
        "# Method_1\n",
        "\n",
        "for pet in [tommy, kitti]:\n",
        "\n",
        "    print(type(pet))\n",
        "    print(pet.speak())"
      ],
      "execution_count": null,
      "outputs": [
        {
          "output_type": "stream",
          "text": [
            "<class '__main__.Dog'>\n",
            "tommy Says WOOF!\n",
            "<class '__main__.Cat'>\n",
            "kitti Says MEOW!\n"
          ],
          "name": "stdout"
        }
      ]
    },
    {
      "cell_type": "code",
      "metadata": {
        "id": "u4gQsdXfAH7Y"
      },
      "source": [
        "# Method_2\n",
        "\n",
        "def pet_speak(pet):\n",
        "    print(pet.speak())\n"
      ],
      "execution_count": null,
      "outputs": []
    },
    {
      "cell_type": "code",
      "metadata": {
        "id": "Gwal7WWQAjeL",
        "colab": {
          "base_uri": "https://localhost:8080/",
          "height": 34
        },
        "outputId": "b4c65e67-69e2-4468-c14a-e2dae7f4ef3b"
      },
      "source": [
        "pet_speak(tommy)"
      ],
      "execution_count": null,
      "outputs": [
        {
          "output_type": "stream",
          "text": [
            "tommy Says WOOF!\n"
          ],
          "name": "stdout"
        }
      ]
    },
    {
      "cell_type": "code",
      "metadata": {
        "id": "1OugJUfQA2kK",
        "colab": {
          "base_uri": "https://localhost:8080/",
          "height": 34
        },
        "outputId": "babb31aa-f0b2-465a-a88b-9845683f7cf2"
      },
      "source": [
        "pet_speak(kitti)"
      ],
      "execution_count": null,
      "outputs": [
        {
          "output_type": "stream",
          "text": [
            "kitti Says MEOW!\n"
          ],
          "name": "stdout"
        }
      ]
    },
    {
      "cell_type": "code",
      "metadata": {
        "id": "UkeTnvo9C112"
      },
      "source": [
        "# BaseClass\n",
        "class Animal:\n",
        "\n",
        "    def __init__(self, name):\n",
        "        self.name = name\n",
        "\n",
        "    def speak(self):\n",
        "        raise NotImplementedError('Sub class must implemet this abstract method')\n",
        "\n",
        "# SubClass\n",
        "class Dog(Animal):\n",
        "\n",
        "    def speak(self):\n",
        "        return self.name + ' Says WOOF!'\n",
        "\n",
        "class Cat(Animal):\n",
        "    \n",
        "    def speak(self):\n",
        "        return self.name + ' Says MEOW!'"
      ],
      "execution_count": null,
      "outputs": []
    },
    {
      "cell_type": "markdown",
      "metadata": {
        "id": "XHLWtTLx9wNT"
      },
      "source": [
        "$\\color{red}{\\textbf{Note}}$:\n",
        "> Since we never expect to make an instance of the __Animal class__, Insted the __Animal class__ is basically meant to be use as a **base class**. "
      ]
    },
    {
      "cell_type": "markdown",
      "metadata": {
        "id": "NRHtu_-_JEdV"
      },
      "source": [
        "`raise NotImplementedError`:\n",
        "\n",
        "> User-defined base classes can `raise` `NotImplementedError` **to indicate that a method or behavior needs to be defined by a subclass**, simulating an interface. This exception is derived from **RuntimeError**. In user defined base classes, abstract methods should raise this exception when they require derived classes to override the method."
      ]
    },
    {
      "cell_type": "markdown",
      "metadata": {
        "id": "fh-druTZBccg"
      },
      "source": [
        "so if actually creat the instance of an animal.\n",
        "\n",
        "*So the thing we not expect to not do*\n",
        "\n",
        "\n",
        "```\n",
        "my_animal = Animal()\n",
        "my_animal.speaks()\n",
        "```\n",
        "runing the above code will genrate the following error:\n",
        "\n",
        "```\n",
        "NotImplementedError 'Sub class must implemet this abstract method'\n",
        "```\n",
        "So the reason this is an abstract method because in the base class itself it dosen't actually do anything, it's expecting you to inherit the aniomal class and overwrite the speak method. \n",
        "\n",
        "\n"
      ]
    },
    {
      "cell_type": "code",
      "metadata": {
        "id": "ykd8QN3QDqmM",
        "colab": {
          "base_uri": "https://localhost:8080/",
          "height": 52
        },
        "outputId": "448e28ab-a1ef-47c2-9d2e-616265e1e7dd"
      },
      "source": [
        "jackey = Dog('jackey') \n",
        "kitto  = Cat('kitto')\n",
        "\n",
        "print(jackey.speak())\n",
        "print(kitto.speak())"
      ],
      "execution_count": null,
      "outputs": [
        {
          "output_type": "stream",
          "text": [
            "jackey Says WOOF!\n",
            "kitto Says MEOW!\n"
          ],
          "name": "stdout"
        }
      ]
    },
    {
      "cell_type": "code",
      "metadata": {
        "id": "STPaI8H7IAN9",
        "colab": {
          "base_uri": "https://localhost:8080/",
          "height": 52
        },
        "outputId": "462c00b5-4922-40b4-db91-71511748db62"
      },
      "source": [
        "# Example Ploymorphism\n",
        "\n",
        "class Parrot:\n",
        "\n",
        "    def fly(self):\n",
        "        print(\"Parrot can fly\")\n",
        "    \n",
        "    def swim(self):\n",
        "        print(\"Parrot can't swim\")\n",
        "\n",
        "class Penguin():\n",
        "\n",
        "    def fly(self):\n",
        "        print(\"Penguin can't fly\")\n",
        "    \n",
        "    def swim(self):\n",
        "        print(\"Penguin can swim\")\n",
        "\n",
        "# common interface\n",
        "def flying_test(bird):\n",
        "    bird.fly()\n",
        "\n",
        "#instantiate objects\n",
        "blu = Parrot()\n",
        "peggy = Penguin()\n",
        "\n",
        "# passing the object\n",
        "flying_test(blu)\n",
        "flying_test(peggy)"
      ],
      "execution_count": null,
      "outputs": [
        {
          "output_type": "stream",
          "text": [
            "Parrot can fly\n",
            "Penguin can't fly\n"
          ],
          "name": "stdout"
        }
      ]
    },
    {
      "cell_type": "markdown",
      "metadata": {
        "id": "TcEKUhhdIQ98"
      },
      "source": [
        "In the above program, we defined **two classes** **Parrot** and **Penguin**. Each of them have a `common fly()` **method**. However, *their functions are different.*\n",
        "\n",
        "To use polymorphism, we created a **common interface** i.e `flying_test()` **function** that takes any object and calls the object's **fly() method**. Thus, when we passed the **blu** and **peggy** objects in the `flying_test()` function, it ran effectively.\n",
        "\n"
      ]
    },
    {
      "cell_type": "markdown",
      "metadata": {
        "id": "ay-IG1JoIm6b"
      },
      "source": [
        "## $\\color{red}{\\textbf{Special (Magic/Dunder) Methods}}$"
      ]
    },
    {
      "cell_type": "code",
      "metadata": {
        "id": "sU4XLJ-VEgqO",
        "colab": {
          "base_uri": "https://localhost:8080/",
          "height": 34
        },
        "outputId": "d206d57f-ca2c-4b8e-e552-bbd1020ced21"
      },
      "source": [
        "class Book:\n",
        "    \n",
        "    def __init__(self, title, author, pages):\n",
        "\n",
        "        self.title  = title\n",
        "        self.author = author\n",
        "        self.pages  = pages\n",
        "\n",
        "b = Book('How to win friends and inflence people' , 'Dale Carnegie', 250)\n",
        "print(b)"
      ],
      "execution_count": null,
      "outputs": [
        {
          "output_type": "stream",
          "text": [
            "<__main__.Book object at 0x7f87160d86d8>\n"
          ],
          "name": "stdout"
        }
      ]
    },
    {
      "cell_type": "markdown",
      "metadata": {
        "id": "2F8spTJrEpLr"
      },
      "source": [
        "In the above code when we call the `print` function, it will return the **string** representation of $\\color{red}{\\textbf{--> b}}$ "
      ]
    },
    {
      "cell_type": "code",
      "metadata": {
        "id": "P22_tL4xFjPg",
        "colab": {
          "base_uri": "https://localhost:8080/",
          "height": 35
        },
        "outputId": "8a75bc21-714b-4f25-c805-b84ab8aa8e7d"
      },
      "source": [
        "str(b) # This will print the string version of 'b'"
      ],
      "execution_count": null,
      "outputs": [
        {
          "output_type": "execute_result",
          "data": {
            "application/vnd.google.colaboratory.intrinsic": {
              "type": "string"
            },
            "text/plain": [
              "'<__main__.Book object at 0x7f87160d86d8>'"
            ]
          },
          "metadata": {
            "tags": []
          },
          "execution_count": 31
        }
      ]
    },
    {
      "cell_type": "markdown",
      "metadata": {
        "id": "HPisxA1QGNJb"
      },
      "source": [
        "Insted we can Use the Special function realated to the string call"
      ]
    },
    {
      "cell_type": "code",
      "metadata": {
        "id": "oTL-4t6uIlvw",
        "colab": {
          "base_uri": "https://localhost:8080/",
          "height": 52
        },
        "outputId": "74e07928-9e4e-4120-e556-02dbe40914a5"
      },
      "source": [
        "class Book:\n",
        "    \n",
        "    def __init__(self, title, author, pages):\n",
        "\n",
        "        self.title  = title\n",
        "        self.author = author\n",
        "        self.pages  = pages\n",
        "\n",
        "    # we have this special __str__ Method which will retutn the string\n",
        "    def __str__(self):\n",
        "        return f'{self.title} by {self.author}'\n",
        "\n",
        "    def __len__(self):\n",
        "        return self.pages\n",
        "\n",
        "b = Book('How to win friends and inflence people' , 'Dale Carnegie', 250)\n",
        "print(b)\n",
        "print(('Number of pages in the Book = {}'.format(len(b))))\n",
        "    "
      ],
      "execution_count": null,
      "outputs": [
        {
          "output_type": "stream",
          "text": [
            "How to win friends and inflence people by Dale Carnegie\n",
            "Number of pages in the Book = 250\n"
          ],
          "name": "stdout"
        }
      ]
    },
    {
      "cell_type": "markdown",
      "metadata": {
        "id": "Vs-SKJxRSPvU"
      },
      "source": [
        "To delet the Book from the computer Memory, we use the following code\n",
        "```\n",
        "del (b)\n",
        "```\n",
        "And Now if we run the above code again, it will give us the following $\\color{orange}{\\textbf{NameError : }}$ name 'b' is not defined.\n",
        "\n"
      ]
    },
    {
      "cell_type": "code",
      "metadata": {
        "id": "4T-ZCgm-RSHQ",
        "colab": {
          "base_uri": "https://localhost:8080/",
          "height": 238
        },
        "outputId": "323eb5a9-dc44-4c5c-bc77-a35faea4b0b5"
      },
      "source": [
        "class Book:\n",
        "    \n",
        "    def __init__(self, title, author, pages):\n",
        "\n",
        "        self.title  = title\n",
        "        self.author = author\n",
        "        self.pages  = pages\n",
        "\n",
        "    # we have this special __str__ Method which will retutn the string\n",
        "    def __str__(self):\n",
        "        return f'{self.title} by {self.author}'\n",
        "\n",
        "    def __len__(self):\n",
        "        return self.pages\n",
        "    \n",
        "    def __del__(self):\n",
        "        print('A book object has been deleted') \n",
        "\n",
        "b = Book('How to win friends and inflence people' , 'Dale Carnegie', 250)\n",
        "\n",
        "print(b)\n",
        "del b\n",
        "print(b)"
      ],
      "execution_count": null,
      "outputs": [
        {
          "output_type": "stream",
          "text": [
            "How to win friends and inflence people by Dale Carnegie\n",
            "A book object has been deleted\n"
          ],
          "name": "stdout"
        },
        {
          "output_type": "error",
          "ename": "NameError",
          "evalue": "ignored",
          "traceback": [
            "\u001b[0;31m---------------------------------------------------------------------------\u001b[0m",
            "\u001b[0;31mNameError\u001b[0m                                 Traceback (most recent call last)",
            "\u001b[0;32m<ipython-input-33-f27e759a1a00>\u001b[0m in \u001b[0;36m<module>\u001b[0;34m()\u001b[0m\n\u001b[1;32m     21\u001b[0m \u001b[0mprint\u001b[0m\u001b[0;34m(\u001b[0m\u001b[0mb\u001b[0m\u001b[0;34m)\u001b[0m\u001b[0;34m\u001b[0m\u001b[0;34m\u001b[0m\u001b[0m\n\u001b[1;32m     22\u001b[0m \u001b[0;32mdel\u001b[0m \u001b[0mb\u001b[0m\u001b[0;34m\u001b[0m\u001b[0;34m\u001b[0m\u001b[0m\n\u001b[0;32m---> 23\u001b[0;31m \u001b[0mprint\u001b[0m\u001b[0;34m(\u001b[0m\u001b[0mb\u001b[0m\u001b[0;34m)\u001b[0m\u001b[0;34m\u001b[0m\u001b[0;34m\u001b[0m\u001b[0m\n\u001b[0m",
            "\u001b[0;31mNameError\u001b[0m: name 'b' is not defined"
          ]
        }
      ]
    },
    {
      "cell_type": "markdown",
      "metadata": {
        "id": "1fnIZzpeLgmw"
      },
      "source": [
        "**Python** `__str__()` **&** `__repr__()` **functions**\n",
        "\n",
        "\n",
        "---\n",
        "\n",
        "\n",
        "**Python** `__str__()`:\n",
        "\n",
        "This method $\\color{red}{\\textbf{returns-the-string-representation-of-the-object}}$. This method is called when `print()` or `str()` function is invoked on an object.\n",
        "\n",
        "This method must return the String object. If we don’t implement `__str__()` function for a class, then built-in object implementation is used that actually calls `__repr__() `function.\n",
        "\n",
        "\n",
        "---\n",
        "\n",
        "\n",
        "\n",
        "**Python** `__repr__()`\n",
        "\n",
        "Python `__repr__()` function $\\color{red}{\\textbf{returns-the-object-representation}}$. It could be any valid python expression such as tuple, dictionary, string etc.\n",
        "\n",
        "This method is called when `repr()` function is invoked on the object, in that case, `__repr__(`) function must return a String otherwise error will be thrown.\n",
        "\n",
        "\n",
        "\n"
      ]
    },
    {
      "cell_type": "code",
      "metadata": {
        "id": "beXWczQYIlrL",
        "colab": {
          "base_uri": "https://localhost:8080/",
          "height": 52
        },
        "outputId": "3be26cad-8ab0-4527-c101-d57006c0a8ee"
      },
      "source": [
        "class Person:\n",
        "\n",
        "    def __init__(self, name, age):\n",
        "        self.name = name\n",
        "        self.age  =  age\n",
        "\n",
        "p = Person('Pankaj', 34)\n",
        "\n",
        "print(p.__str__())\n",
        "print(p.__repr__())"
      ],
      "execution_count": null,
      "outputs": [
        {
          "output_type": "stream",
          "text": [
            "<__main__.Person object at 0x7f871605e470>\n",
            "<__main__.Person object at 0x7f871605e470>\n"
          ],
          "name": "stdout"
        }
      ]
    },
    {
      "cell_type": "markdown",
      "metadata": {
        "id": "Wos6w_LWOiYe"
      },
      "source": [
        "As you can see that the default implementation is useless. Let’s go ahead and implement both of these methods."
      ]
    },
    {
      "cell_type": "code",
      "metadata": {
        "id": "IJJFJOu7Ilpr",
        "colab": {
          "base_uri": "https://localhost:8080/",
          "height": 292
        },
        "outputId": "27b44034-f801-498b-bd18-69850527d81a"
      },
      "source": [
        "class Person:\n",
        "\n",
        "    def __init__(self, name, age):\n",
        "        self.name = name\n",
        "        self.age  =  age\n",
        "\n",
        "    def __repr__(self):\n",
        "        return {'name':self.name, 'age':self.age}\n",
        "\n",
        "    def __str__(self):\n",
        "        return 'Person(name='+self.name+', age='+str(self.age)+ ')'\n",
        "\n",
        "\n",
        "p = Person('Pankaj', 34)\n",
        "\n",
        "# __str__() example\n",
        "print(p)\n",
        "print(p.__str__())\n",
        "\n",
        "s = str(p)\n",
        "print(s)\n",
        "\n",
        "# __repr__() example\n",
        "print(p.__repr__())\n",
        "print(type(p.__repr__()))\n",
        "print(repr(p))"
      ],
      "execution_count": null,
      "outputs": [
        {
          "output_type": "stream",
          "text": [
            "Person(name=Pankaj, age=34)\n",
            "Person(name=Pankaj, age=34)\n",
            "Person(name=Pankaj, age=34)\n",
            "{'name': 'Pankaj', 'age': 34}\n",
            "<class 'dict'>\n"
          ],
          "name": "stdout"
        },
        {
          "output_type": "error",
          "ename": "TypeError",
          "evalue": "ignored",
          "traceback": [
            "\u001b[0;31m---------------------------------------------------------------------------\u001b[0m",
            "\u001b[0;31mTypeError\u001b[0m                                 Traceback (most recent call last)",
            "\u001b[0;32m<ipython-input-35-d188523e0ec9>\u001b[0m in \u001b[0;36m<module>\u001b[0;34m()\u001b[0m\n\u001b[1;32m     24\u001b[0m \u001b[0mprint\u001b[0m\u001b[0;34m(\u001b[0m\u001b[0mp\u001b[0m\u001b[0;34m.\u001b[0m\u001b[0m__repr__\u001b[0m\u001b[0;34m(\u001b[0m\u001b[0;34m)\u001b[0m\u001b[0;34m)\u001b[0m\u001b[0;34m\u001b[0m\u001b[0;34m\u001b[0m\u001b[0m\n\u001b[1;32m     25\u001b[0m \u001b[0mprint\u001b[0m\u001b[0;34m(\u001b[0m\u001b[0mtype\u001b[0m\u001b[0;34m(\u001b[0m\u001b[0mp\u001b[0m\u001b[0;34m.\u001b[0m\u001b[0m__repr__\u001b[0m\u001b[0;34m(\u001b[0m\u001b[0;34m)\u001b[0m\u001b[0;34m)\u001b[0m\u001b[0;34m)\u001b[0m\u001b[0;34m\u001b[0m\u001b[0;34m\u001b[0m\u001b[0m\n\u001b[0;32m---> 26\u001b[0;31m \u001b[0mprint\u001b[0m\u001b[0;34m(\u001b[0m\u001b[0mrepr\u001b[0m\u001b[0;34m(\u001b[0m\u001b[0mp\u001b[0m\u001b[0;34m)\u001b[0m\u001b[0;34m)\u001b[0m\u001b[0;34m\u001b[0m\u001b[0;34m\u001b[0m\u001b[0m\n\u001b[0m",
            "\u001b[0;31mTypeError\u001b[0m: __repr__ returned non-string (type dict)"
          ]
        }
      ]
    },
    {
      "cell_type": "markdown",
      "metadata": {
        "id": "LpyrAehvPMZM"
      },
      "source": [
        "Notice that `repr()` function is throwing TypeError since our `__repr__ `**implementation is returning dict and not string**.\n",
        "\n",
        "Let’s change the implementation of `__repr__` function as follows:"
      ]
    },
    {
      "cell_type": "code",
      "metadata": {
        "id": "OyTMpgVuIllb",
        "colab": {
          "base_uri": "https://localhost:8080/",
          "height": 123
        },
        "outputId": "2c19fd76-e4a3-4250-aab6-644ea64343dc"
      },
      "source": [
        "class Person:\n",
        "\n",
        "    def __init__(self, name, age):\n",
        "        self.name = name\n",
        "        self.age  =  age\n",
        "\n",
        "    def __repr__(self):\n",
        "        return '{name:'+self.name+', age:'+str(self.age)+ '}'\n",
        "\n",
        "    def __str__(self):\n",
        "        return 'Person(name='+self.name+', age='+str(self.age)+ ')'\n",
        "\n",
        "\n",
        "p = Person('Pankaj', 34)\n",
        "\n",
        "# __str__() example\n",
        "print(p)\n",
        "print(p.__str__())\n",
        "\n",
        "s = str(p)\n",
        "print(s)\n",
        "\n",
        "# __repr__() example\n",
        "print(p.__repr__())\n",
        "print(type(p.__repr__()))\n",
        "print(repr(p))\n"
      ],
      "execution_count": null,
      "outputs": [
        {
          "output_type": "stream",
          "text": [
            "Person(name=Pankaj, age=34)\n",
            "Person(name=Pankaj, age=34)\n",
            "Person(name=Pankaj, age=34)\n",
            "{name:Pankaj, age:34}\n",
            "<class 'str'>\n",
            "{name:Pankaj, age:34}\n"
          ],
          "name": "stdout"
        }
      ]
    },
    {
      "cell_type": "markdown",
      "metadata": {
        "id": "h0GOlH0UQM_I"
      },
      "source": [
        "Earlier we mentioned that if we don’t implement `__str__` function then the `__repr__` function is called. Just comment the `__str__` function implementation from Person class and `print(p)` will print `{name:Pankaj, age:34}`."
      ]
    },
    {
      "cell_type": "markdown",
      "metadata": {
        "id": "B4Cf-kEYQiwf"
      },
      "source": [
        "Difference-between `__str__` and `__repr__` functions : \n",
        "\n",
        "1.   `__str__` must return string object whereas `__repr__` can return any python expression.\n",
        "2.   If `__str__` implementation is missing then `__repr__` function is used as fallback. There is no fallback if `__repr__` function implementation is missing.\n",
        "3.   If `__repr__` function is returning String representation of the object, we can skip implementation of `__str__` function.\n",
        "\n",
        "\n",
        "\n",
        "\n"
      ]
    },
    {
      "cell_type": "markdown",
      "metadata": {
        "id": "21pe1nFsFS2y"
      },
      "source": [
        "--------------------------------------------------------------------------------\n",
        "$\\color{red}{\\textbf{Inheritance :}}$ \n",
        "**Inheritance** is a special type of relationship where a Child class acquires the inherent properties of its parent class along with this it also contains its own exclusive properties.\n",
        "> $\\color{green}{\\textbf{Example :}}$ Father and Son Relationship . Here son inherits Father physical properties but father can't get son physical properties.\n",
        "\n",
        "--------------------------------------------------------------------------------\n",
        "$\\color{red}{\\textbf{Polymorphism :}}$ The process of representing one form in multiple forms is known as **Polymorphism**.\n",
        "> $\\color{green}{\\textbf{Example :}}$Suppose if you are in class room that time you behave like a student, when you are in market at that time you behave like a customer, when you at your home at that time you behave like a son or daughter, Here one person present in different-different behaviors.\n",
        "\n",
        "--------------------------------------------------------------------------------\n",
        "\n",
        "$\\color{red}{\\textbf{Encapsulation :}}$ **Encapsulation** in java is a process of wrapping code and data together into a single unit. also Encapsulation means data hiding in-order to make it safe from any modification.\n",
        "> $\\color{green}{\\textbf{Example :}}$Television is loaded with different functionalies that we don't know because they are completely hidden.\n",
        "\n",
        "--------------------------------------------------------------------------------\n",
        "\n",
        "$\\color{red}{\\textbf{Abstraction :}}$ **Abstraction** is the concept of exposing only the required essential characteristics and behavior with respect to a co.\n",
        "> $\\color{green}{\\textbf{Example :}}$ As a smartphone user , we are nor aware of internal complexity of smartphone like internal circuits etc. , we a user we only use touchscreen and some buttons."
      ]
    },
    {
      "cell_type": "markdown",
      "source": [
        "## $\\color{skyblue}{\\textbf{Connect with me:}}$\n",
        "\n",
        "\n",
        "[<img align=\"left\" src=\"https://cdn.jsdelivr.net/npm/simple-icons@v3/icons/twitter.svg\" width=\"32px\"/>][twitter]\n",
        "[<img align=\"left\" src=\"https://cdn.jsdelivr.net/npm/simple-icons@v3/icons/linkedin.svg\" width=\"32px\"/>][linkedin]\n",
        "[<img align=\"left\" src=\"https://raw.githubusercontent.com/iconic/open-iconic/master/svg/globe.svg\" width=\"32px\"/>][StackExchange AI]\n",
        "\n",
        "[twitter]: https://twitter.com/F4izy\n",
        "[linkedin]: https://www.linkedin.com/in/mohd-faizy/\n",
        "[StackExchange AI]: https://ai.stackexchange.com/users/36737/cypher\n",
        "\n",
        "\n",
        "---"
      ],
      "metadata": {
        "id": "wXwbSiY_84Ks"
      }
    }
  ]
}