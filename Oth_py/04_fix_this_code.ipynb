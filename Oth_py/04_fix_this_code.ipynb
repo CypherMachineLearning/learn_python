{
  "nbformat": 4,
  "nbformat_minor": 0,
  "metadata": {
    "colab": {
      "name": "04_fix_this_code.ipynb",
      "provenance": []
    },
    "kernelspec": {
      "name": "python3",
      "display_name": "Python 3"
    },
    "language_info": {
      "name": "python"
    }
  },
  "cells": [
    {
      "cell_type": "markdown",
      "source": [
        "How to make your `own_range` function in python?\n"
      ],
      "metadata": {
        "id": "1Ng3cooab3OC"
      }
    },
    {
      "cell_type": "code",
      "source": [
        "def own_range(start=0, end=0, step=1):\n",
        "\tif step == 0:\n",
        "\t\traise ValueError(\"own_range() arg 3 must be not zero\")\n",
        "\tif start > end and step < 0:\n",
        "\t\twhile start > end:\n",
        "\t\t\tyield start \n",
        "\t\t\tstart += step\n",
        "\telif start > end or (start != 0 or end == 0) and start != 0 and end == 0:\n",
        "\t\twhile end < start:\n",
        "\t\t\tyield end\n",
        "\t\t\tend += step\n",
        "\telif start == 0 and end != 0 and end > 0 and step > 0 or (start != 0 or end == 0) and start != 0 and start < end and step > 0:\n",
        "\t\twhile start < end:\n",
        "\t\t\tyield start\n",
        "\t\t\tstart += step\n",
        "\n",
        "print(list(own_range(0, 10, 2)))"
      ],
      "metadata": {
        "colab": {
          "base_uri": "https://localhost:8080/"
        },
        "id": "MxCIQeOsbWxN",
        "outputId": "3a95d205-b486-4f4c-af64-2bc85b598dae"
      },
      "execution_count": null,
      "outputs": [
        {
          "output_type": "stream",
          "name": "stdout",
          "text": [
            "[0, 2, 4, 6, 8]\n"
          ]
        }
      ]
    },
    {
      "cell_type": "markdown",
      "source": [
        "Difference between Yield and Return in Python?\n"
      ],
      "metadata": {
        "id": "Df7CNKKHEbtd"
      }
    },
    {
      "cell_type": "code",
      "source": [
        ""
      ],
      "metadata": {
        "id": "Cee7_ZXcEftb"
      },
      "execution_count": null,
      "outputs": []
    },
    {
      "cell_type": "markdown",
      "source": [
        ""
      ],
      "metadata": {
        "id": "5_DWZgEtEgMT"
      }
    },
    {
      "cell_type": "code",
      "source": [
        "marks = {} \n",
        "subjects = [\"Economics\",\"English\",\"Maths\",\"Science\",\"Social\"] \n",
        "\n",
        "#here we populate the dictionary with the marks for every subject\n",
        "for subject in subjects:\n",
        "   marks[subject] = input(\"Enter the \" + subject + \" marks: \")\n",
        "\n",
        "#and finally the calculation of the total and the average\n",
        "total = sum(marks.itervalues())\n",
        "average = float(total) / len(marks)\n",
        "\n",
        "print (\"The total is \" + str(total) + \" and the average is \" + str(average))"
      ],
      "metadata": {
        "id": "zmJz8eeAE3wk"
      },
      "execution_count": null,
      "outputs": []
    },
    {
      "cell_type": "markdown",
      "source": [
        ""
      ],
      "metadata": {
        "id": "OooU_y1HE3M0"
      }
    }
  ]
}