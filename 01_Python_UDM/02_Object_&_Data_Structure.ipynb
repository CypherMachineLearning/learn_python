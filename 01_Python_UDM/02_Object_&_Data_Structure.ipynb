{
  "nbformat": 4,
  "nbformat_minor": 0,
  "metadata": {
    "colab": {
      "name": "02_Object_&_Data_Structure.ipynb",
      "provenance": [],
      "collapsed_sections": [],
      "toc_visible": true
    },
    "kernelspec": {
      "name": "python3",
      "display_name": "Python 3"
    }
  },
  "cells": [
    {
      "cell_type": "markdown",
      "metadata": {
        "id": "view-in-github"
      },
      "source": [
        "<center>\n",
        "        <a href=\"https://colab.research.google.com/drive/192n9xDtqwF7280o_0bn4blIf330BrDtF#scrollTo=view-in-github\" target=\"_parent\">\n",
        "        <img src=\"https://colab.research.google.com/assets/colab-badge.svg\" alt=\"Open In Colab\"/>\n",
        "        </a>\n",
        "</center>\n",
        "\n",
        "# <center><b>Python Object and Data Structure Basics</b></center>\n",
        "\n",
        "\n"
      ]
    },
    {
      "cell_type": "markdown",
      "source": [
        "<center>\n",
        "    <table style='font-family:\"Courier New\", Courier, monospace; font-size:100%'>\n",
        "        <caption>Data Structure</caption>\n",
        "        <tbody>\n",
        "            <tr>\n",
        "                <th colspan=\"1\" scope=\"colgroup\">Premitive</th>\n",
        "                <th colspan=\"2\" scope=\"colgroup\">Non-Premitive</th>\n",
        "            </tr>\n",
        "            <tr>\n",
        "                <th scope=\"col\">&nbsp;</th>\n",
        "                <th scope=\"col\">Built-in</th>\n",
        "                <th scope=\"col\">User-defined</th>\n",
        "            </tr>\n",
        "            <tr>\n",
        "                <td>Integer</td>\n",
        "                <td>List</td>\n",
        "                <td>Stack</td>\n",
        "            </tr>\n",
        "            <tr>\n",
        "                <td>Float</td>\n",
        "                <td>Tuple</td>\n",
        "                <td>Queue</td>\n",
        "            </tr>\n",
        "            <tr>\n",
        "                <td>String</td>\n",
        "                <td>Dictionary</td>\n",
        "                <td>Tree</td>\n",
        "            </tr>\n",
        "            <tr>\n",
        "                <td>Boolean</td>\n",
        "                <td>Set</td>\n",
        "                <td>Graph</td>\n",
        "            </tr>\n",
        "        </tbody>\n",
        "    </table>\n",
        "</center>"
      ],
      "metadata": {
        "id": "gDTOCggtbyc6"
      }
    },
    {
      "cell_type": "code",
      "source": [
        "help(\"keywords\")"
      ],
      "metadata": {
        "colab": {
          "base_uri": "https://localhost:8080/"
        },
        "id": "5c-Pwilq480X",
        "outputId": "879a4ee8-9d54-443e-e06d-efd8fddc15c9"
      },
      "execution_count": 1,
      "outputs": [
        {
          "output_type": "stream",
          "name": "stdout",
          "text": [
            "\n",
            "Here is a list of the Python keywords.  Enter any keyword to get more help.\n",
            "\n",
            "False               class               from                or\n",
            "None                continue            global              pass\n",
            "True                def                 if                  raise\n",
            "and                 del                 import              return\n",
            "as                  elif                in                  try\n",
            "assert              else                is                  while\n",
            "async               except              lambda              with\n",
            "await               finally             nonlocal            yield\n",
            "break               for                 not                 \n",
            "\n"
          ]
        }
      ]
    },
    {
      "cell_type": "markdown",
      "metadata": {
        "id": "2VSzQMfbAhbt"
      },
      "source": [
        "\n",
        "### __1. Numbers__"
      ]
    },
    {
      "cell_type": "code",
      "metadata": {
        "id": "RNGSy8Xa_vng",
        "colab": {
          "base_uri": "https://localhost:8080/"
        },
        "outputId": "536afe6f-fcfa-470e-a69d-284ba07ba519"
      },
      "source": [
        "# Basic Arithmetic\n",
        "\n",
        "a = 2+1  # Addition\n",
        "b = 2-1  # Subtraction\n",
        "c = 2*2  # Multiplication\n",
        "d = 3/2  # Division\n",
        "e = 7//4 # Floor Division\n",
        "f = 7%4  # modulo Divison\n",
        "g = 2**3 # Powers\n",
        "\n",
        "print(a)\n",
        "print(b)\n",
        "print(c)\n",
        "print(d)\n",
        "print(e)\n",
        "print(f)\n",
        "print(g)"
      ],
      "execution_count": 2,
      "outputs": [
        {
          "output_type": "stream",
          "name": "stdout",
          "text": [
            "3\n",
            "1\n",
            "4\n",
            "1.5\n",
            "1\n",
            "3\n",
            "8\n"
          ]
        }
      ]
    },
    {
      "cell_type": "markdown",
      "source": [
        "![BODMAS](https://www.skillsyouneed.com/images/bodmas.png)"
      ],
      "metadata": {
        "id": "-GzceT8SbVYo"
      }
    },
    {
      "cell_type": "code",
      "metadata": {
        "id": "Be6vWSib_vof",
        "colab": {
          "base_uri": "https://localhost:8080/"
        },
        "outputId": "f951a616-11e2-4ac7-8a4d-d28b53e91682"
      },
      "source": [
        "# Order of Operations followed in Python\n",
        "a = 2 + 10 *10 + 3\n",
        "b = (2 + 10) * (10 + 3)\n",
        "c = 10 / 2 * 10 + (3 - 1)\n",
        "d = 17 - 6 * 3 + 4 * 16 / 4\n",
        "\n",
        "print(a)\n",
        "print(b)\n",
        "print(c)\n",
        "print(d)"
      ],
      "execution_count": 3,
      "outputs": [
        {
          "output_type": "stream",
          "name": "stdout",
          "text": [
            "105\n",
            "156\n",
            "52.0\n",
            "15.0\n"
          ]
        }
      ]
    },
    {
      "cell_type": "markdown",
      "metadata": {
        "id": "1v76EYrFC0ur"
      },
      "source": [
        "### __2. Variable__"
      ]
    },
    {
      "cell_type": "code",
      "metadata": {
        "id": "xfg7xPlR_von",
        "colab": {
          "base_uri": "https://localhost:8080/"
        },
        "outputId": "9dc29e9f-ed96-431b-8e53-692323305c4d"
      },
      "source": [
        "# Let's create an object called \"a\" and assign it the number 5\n",
        "b = 5\n",
        "t = b + b # Adding the objects\n",
        "print(t)"
      ],
      "execution_count": 4,
      "outputs": [
        {
          "output_type": "stream",
          "name": "stdout",
          "text": [
            "10\n"
          ]
        }
      ]
    },
    {
      "cell_type": "markdown",
      "metadata": {
        "id": "VneWcYLG_vpP"
      },
      "source": [
        "**The names you use when creating these labels need to follow a few rules:**\n",
        "\n",
        "1. Names can not start with a number.\n",
        "\n",
        "2. There can be no spaces in the name, use `_` instead.\n",
        "\n",
        "3. Can't use any of these symbols `:'\",<>/?|\\()!@#$%^&*~-+`\n",
        "\n",
        "4. It's considered best practice `(PEP8)` that names are lowercase.\n",
        "\n",
        "5. Avoid using the characters `l` *(lowercase letter el)*, `O` *(uppercase letter oh)*, or `I` *(uppercase letter eye)* as single character variable names.\n",
        "\n",
        "6. Avoid using words that have special meaning in Python like `list`, `str`, `dict`, `int`, `float` etc.\n",
        "\n",
        ">Using variable names can be a very useful way to keep track of different variables in Python."
      ]
    },
    {
      "cell_type": "code",
      "metadata": {
        "id": "oJ-wTghr_vpQ",
        "colab": {
          "base_uri": "https://localhost:8080/"
        },
        "outputId": "7e48ec60-8eca-498c-a305-71ab1b3a6346"
      },
      "source": [
        "# Use object names to keep better track of what's going on in your code!\n",
        "my_income = 100\n",
        "tax_rate = 0.1\n",
        "my_taxes = my_income * tax_rate\n",
        "print(my_taxes)"
      ],
      "execution_count": 5,
      "outputs": [
        {
          "output_type": "stream",
          "name": "stdout",
          "text": [
            "10.0\n"
          ]
        }
      ]
    },
    {
      "cell_type": "markdown",
      "metadata": {
        "id": "saVdEf9mBzdD"
      },
      "source": [
        "**Dynamic Typing**\n",
        "\n",
        ">Python uses __dynamic typing__, meaning you can `re-assign` variables to different data types. This makes Python very flexible in assigning data types; it differs from other languages that are __statically typed__."
      ]
    },
    {
      "cell_type": "code",
      "metadata": {
        "id": "FWyFt8lsBzdF",
        "colab": {
          "base_uri": "https://localhost:8080/"
        },
        "outputId": "40aa7cbe-7c9b-4b6f-d00d-db8eaf28a503"
      },
      "source": [
        "my_dogs = 2\n",
        "my_dogs"
      ],
      "execution_count": 6,
      "outputs": [
        {
          "output_type": "execute_result",
          "data": {
            "text/plain": [
              "2"
            ]
          },
          "metadata": {},
          "execution_count": 6
        }
      ]
    },
    {
      "cell_type": "code",
      "metadata": {
        "id": "DMk7vqZFBzdR",
        "colab": {
          "base_uri": "https://localhost:8080/"
        },
        "outputId": "64d961b0-669d-43c6-c3f0-765d0d055810"
      },
      "source": [
        "my_dogs = ['Sammy', 'Frankie']\n",
        "my_dogs"
      ],
      "execution_count": 7,
      "outputs": [
        {
          "output_type": "execute_result",
          "data": {
            "text/plain": [
              "['Sammy', 'Frankie']"
            ]
          },
          "metadata": {},
          "execution_count": 7
        }
      ]
    },
    {
      "cell_type": "markdown",
      "metadata": {
        "id": "3a0Rz1MUBzdb"
      },
      "source": [
        "> __Pros__:\n",
        "- easy to work with\n",
        "- faster development time \n",
        "\n",
        ">__Cons__\n",
        "- may result in unexpected bugs!\n",
        "- you need to be aware of `type()`\n",
        "\n"
      ]
    },
    {
      "cell_type": "markdown",
      "metadata": {
        "id": "lT97pbnbBzdb"
      },
      "source": [
        "**Assigning Variables**\n",
        "\n",
        "Variable assignment follows `name = object`, where a single equals sign `=` is an *assignment operator*"
      ]
    },
    {
      "cell_type": "code",
      "metadata": {
        "id": "n6Yl4i3CBzdc",
        "colab": {
          "base_uri": "https://localhost:8080/"
        },
        "outputId": "a87f4498-014c-4cad-c5d9-5072a600b9f3"
      },
      "source": [
        "y_1 = 5\n",
        "print(y_1)"
      ],
      "execution_count": 8,
      "outputs": [
        {
          "output_type": "stream",
          "name": "stdout",
          "text": [
            "5\n"
          ]
        }
      ]
    },
    {
      "cell_type": "markdown",
      "metadata": {
        "id": "n8hHhDLjBzdm"
      },
      "source": [
        "Here we assigned the integer object `5` to the variable name `y`.<br>Let's assign `y` to something else:"
      ]
    },
    {
      "cell_type": "markdown",
      "metadata": {
        "id": "NZ1wEPDmBzd2"
      },
      "source": [
        "**Re-assigning Variables**\n",
        "Python lets you reassign variables with a reference to the same object."
      ]
    },
    {
      "cell_type": "code",
      "metadata": {
        "id": "vkgrJ0TeBzd3",
        "colab": {
          "base_uri": "https://localhost:8080/"
        },
        "outputId": "81b66707-e7fa-47f5-f8a6-32d001d619a0"
      },
      "source": [
        "a = 20\n",
        "a = a + 10\n",
        "a"
      ],
      "execution_count": 9,
      "outputs": [
        {
          "output_type": "execute_result",
          "data": {
            "text/plain": [
              "30"
            ]
          },
          "metadata": {},
          "execution_count": 9
        }
      ]
    },
    {
      "cell_type": "markdown",
      "metadata": {
        "id": "KqZZix28BzeA"
      },
      "source": [
        "There's actually a shortcut for this. Python lets you `add`, `subtract`, `multiply` and `divide` numbers with reassignment using \n",
        "\n",
        "- `+=`\n",
        "- `-=`\n",
        "- `*=`\n",
        "- & `/=`."
      ]
    },
    {
      "cell_type": "code",
      "source": [
        "a = 20\n",
        "b = 20\n",
        "c = 20\n",
        "d = 20\n",
        "\n",
        "a += 10\n",
        "b -= 10 \n",
        "c *= 10\n",
        "d /= 10\n",
        "\n",
        "print(a)\n",
        "print(b)\n",
        "print(c)\n",
        "print(d)"
      ],
      "metadata": {
        "colab": {
          "base_uri": "https://localhost:8080/"
        },
        "id": "ZHe3KLutXXcI",
        "outputId": "38cc57ff-b959-484d-b1f1-e74387b11104"
      },
      "execution_count": 10,
      "outputs": [
        {
          "output_type": "stream",
          "name": "stdout",
          "text": [
            "30\n",
            "10\n",
            "200\n",
            "2.0\n"
          ]
        }
      ]
    },
    {
      "cell_type": "markdown",
      "metadata": {
        "id": "VyYbRp2cBzeQ"
      },
      "source": [
        "**Determining variable type** with `type()`\n",
        "You can check what type of object is assigned to a variable using Python's built-in `type()` function. \n",
        "\n",
        "__Common data types include:__\n",
        "\n",
        "\n",
        "* `int` \n",
        "* `float`\n",
        "* `str` \n",
        "* `list`\n",
        "* `tuple`\n",
        "* `dict` \n",
        "* `set`\n",
        "* `bool` "
      ]
    },
    {
      "cell_type": "code",
      "metadata": {
        "id": "4D8HKKrPBzeR",
        "colab": {
          "base_uri": "https://localhost:8080/"
        },
        "outputId": "ac1285af-ecf7-44c8-f2b4-591370ce5b35"
      },
      "source": [
        "a = 100\n",
        "type(a)"
      ],
      "execution_count": 11,
      "outputs": [
        {
          "output_type": "execute_result",
          "data": {
            "text/plain": [
              "int"
            ]
          },
          "metadata": {},
          "execution_count": 11
        }
      ]
    },
    {
      "cell_type": "code",
      "metadata": {
        "id": "mFPqKajoBuwG",
        "colab": {
          "base_uri": "https://localhost:8080/"
        },
        "outputId": "d5a86e72-6efa-44bd-cb16-10c94c8e68f2"
      },
      "source": [
        "b = [1, 2]\n",
        "type(b) "
      ],
      "execution_count": 12,
      "outputs": [
        {
          "output_type": "execute_result",
          "data": {
            "text/plain": [
              "list"
            ]
          },
          "metadata": {},
          "execution_count": 12
        }
      ]
    },
    {
      "cell_type": "code",
      "metadata": {
        "id": "V7qqn04EBzeX",
        "colab": {
          "base_uri": "https://localhost:8080/"
        },
        "outputId": "5b41a1e1-19b6-418c-f6b0-f8d9cebc9292"
      },
      "source": [
        "c = (1,2)\n",
        "type(c)"
      ],
      "execution_count": 13,
      "outputs": [
        {
          "output_type": "execute_result",
          "data": {
            "text/plain": [
              "tuple"
            ]
          },
          "metadata": {},
          "execution_count": 13
        }
      ]
    },
    {
      "cell_type": "code",
      "metadata": {
        "id": "vDnVG9HaCCUI",
        "colab": {
          "base_uri": "https://localhost:8080/"
        },
        "outputId": "e7dfa722-98f3-4244-ffea-dc27a53c1b01"
      },
      "source": [
        "d = {\"a\": 2, \"b\": 1}\n",
        "type(d)"
      ],
      "execution_count": 14,
      "outputs": [
        {
          "output_type": "execute_result",
          "data": {
            "text/plain": [
              "dict"
            ]
          },
          "metadata": {},
          "execution_count": 14
        }
      ]
    },
    {
      "cell_type": "code",
      "metadata": {
        "id": "IxK3h7_2Bzea",
        "colab": {
          "base_uri": "https://localhost:8080/"
        },
        "outputId": "870c785c-c479-4fe5-9135-d9a13edb01a7"
      },
      "source": [
        "e = {1, 2, 3, 4}\n",
        "type(e)"
      ],
      "execution_count": 15,
      "outputs": [
        {
          "output_type": "execute_result",
          "data": {
            "text/plain": [
              "set"
            ]
          },
          "metadata": {},
          "execution_count": 15
        }
      ]
    },
    {
      "cell_type": "code",
      "source": [
        "f = 1/2\n",
        "type(f)"
      ],
      "metadata": {
        "colab": {
          "base_uri": "https://localhost:8080/"
        },
        "id": "474XowvtYlO3",
        "outputId": "74fca34e-1099-4fc6-acf2-f7d3a8e3ae35"
      },
      "execution_count": 16,
      "outputs": [
        {
          "output_type": "execute_result",
          "data": {
            "text/plain": [
              "float"
            ]
          },
          "metadata": {},
          "execution_count": 16
        }
      ]
    },
    {
      "cell_type": "code",
      "source": [
        "print(type(True))\n",
        "print(type(False))"
      ],
      "metadata": {
        "colab": {
          "base_uri": "https://localhost:8080/"
        },
        "id": "kZx2RuZmYwFD",
        "outputId": "89bbafca-ea07-416c-fc09-18224b2033d1"
      },
      "execution_count": 17,
      "outputs": [
        {
          "output_type": "stream",
          "name": "stdout",
          "text": [
            "<class 'bool'>\n",
            "<class 'bool'>\n"
          ]
        }
      ]
    },
    {
      "cell_type": "markdown",
      "metadata": {
        "id": "rZdVj53AptGE"
      },
      "source": [
        "### __3. String Formatting__\n"
      ]
    },
    {
      "cell_type": "code",
      "metadata": {
        "id": "o8_KH5xaa49j",
        "colab": {
          "base_uri": "https://localhost:8080/"
        },
        "outputId": "7b1442ef-894f-4917-e717-b536961773c5"
      },
      "source": [
        "#Method-1\n",
        "age = 36\n",
        "txt = \"My name is John Snow, and I am {}\"\n",
        "\n",
        "print(txt.format(age))"
      ],
      "execution_count": 18,
      "outputs": [
        {
          "output_type": "stream",
          "name": "stdout",
          "text": [
            "My name is John Snow, and I am 36\n"
          ]
        }
      ]
    },
    {
      "cell_type": "code",
      "metadata": {
        "id": "ABKN-yGAp2sI",
        "colab": {
          "base_uri": "https://localhost:8080/"
        },
        "outputId": "243dd6c6-44a7-464c-f011-80ae350fa3d5"
      },
      "source": [
        "print('this is a string {}'.format('inserted'))\n",
        "print(\"the {} {} {}\".format(\"big\", \"brown\", \"bear\"))\n",
        "print(\"the {1} {0} {2}\".format(\"big\", \"brown\", \"bear\"))\n",
        "print(\"the {0} {0} {0}\".format(\"big\", \"brown\", \"bear\"))\n",
        "print(\"the {f} {s} {d}\".format(f=\"big\", s = \"brown\", d = \"bear\"))"
      ],
      "execution_count": 19,
      "outputs": [
        {
          "output_type": "stream",
          "name": "stdout",
          "text": [
            "this is a string inserted\n",
            "the big brown bear\n",
            "the brown big bear\n",
            "the big big big\n",
            "the big brown bear\n"
          ]
        }
      ]
    },
    {
      "cell_type": "markdown",
      "metadata": {
        "id": "BkWY34D8AYg5"
      },
      "source": [
        "### __4. Float formatting__\n"
      ]
    },
    {
      "cell_type": "markdown",
      "metadata": {
        "id": "4Um0fnpLdaWW"
      },
      "source": [
        "$syntax:$\n",
        "\n",
        "`{value:width.precison f}`\n"
      ]
    },
    {
      "cell_type": "code",
      "metadata": {
        "id": "FD_rLrw6_ilI",
        "colab": {
          "base_uri": "https://localhost:8080/"
        },
        "outputId": "4b80eba8-e9ce-4a11-ca02-08093a56c83e"
      },
      "source": [
        "result = 22/7\n",
        "\n",
        "print(\"the result is {r}\".format(r = result))\n",
        "print(\"the result is {r:10.5f}\".format(r = result))\n",
        "print(\"the result is {r:10.5e}\".format(r = result))"
      ],
      "execution_count": 20,
      "outputs": [
        {
          "output_type": "stream",
          "name": "stdout",
          "text": [
            "the result is 3.142857142857143\n",
            "the result is    3.14286\n",
            "the result is 3.14286e+00\n"
          ]
        }
      ]
    },
    {
      "cell_type": "code",
      "metadata": {
        "id": "Psszq0y6BaOt",
        "colab": {
          "base_uri": "https://localhost:8080/"
        },
        "outputId": "24dd3a27-c120-4eab-dea8-4c7cb36fa5f9"
      },
      "source": [
        "name = \"faizy\"\n",
        "collage = \"Jamia Millia Islamia\"\n",
        "\n",
        "print(\"hello my name is {}\".format(name))\n",
        "print(f\"hello! my name is {name}\")\n",
        "print(f\"hello my name is {name} and i studied in {collage}\")"
      ],
      "execution_count": 21,
      "outputs": [
        {
          "output_type": "stream",
          "name": "stdout",
          "text": [
            "hello my name is faizy\n",
            "hello! my name is faizy\n",
            "hello my name is faizy and i studied in Jamia Millia Islamia\n"
          ]
        }
      ]
    },
    {
      "cell_type": "markdown",
      "metadata": {
        "id": "VvsdWHLwPc9K"
      },
      "source": [
        "### __5. Python: Data Types__"
      ]
    },
    {
      "cell_type": "markdown",
      "metadata": {
        "id": "rKm0-IteUNG-"
      },
      "source": [
        "#### __Strings__\n"
      ]
    },
    {
      "cell_type": "markdown",
      "metadata": {
        "id": "4XVnMex2UXIG"
      },
      "source": [
        "- Strings are the sequence of characters using the syntax of either single quotes or double.\n",
        "\n",
        "\n",
        "```\n",
        "\"hello World\"\n",
        "'hello'\n",
        "```\n",
        "\n",
        "- A string is a **sequence** of charactes.\n",
        "\n",
        "- It is **immutable**.\n",
        "\n",
        "- It is created by enclosing text with single, double or triple quotes"
      ]
    },
    {
      "cell_type": "code",
      "source": [
        "word = \"Python\"\n",
        "\n",
        "print(word.lower())\n",
        "print(word.upper())\n",
        "print(len(word))\n",
        "print(word.startswith(\"P\"))\n",
        "print(word.endswith(\"n\"))\n",
        "\n",
        "# Slicing the string\n",
        "print(word[0:5])\n",
        "\n",
        "# Coverting string to a list of characters\n",
        "print(list(word))"
      ],
      "metadata": {
        "colab": {
          "base_uri": "https://localhost:8080/"
        },
        "id": "xEg0PlYwigU3",
        "outputId": "13429a18-6ed5-46bf-f8b4-48f11be337ab"
      },
      "execution_count": 22,
      "outputs": [
        {
          "output_type": "stream",
          "name": "stdout",
          "text": [
            "python\n",
            "PYTHON\n",
            "6\n",
            "True\n",
            "True\n",
            "Pytho\n",
            "['P', 'y', 't', 'h', 'o', 'n']\n"
          ]
        }
      ]
    },
    {
      "cell_type": "code",
      "source": [
        "# splitting the text\n",
        "sentence = \"A string is a sequence of charactes\"\n",
        "words = sentence.split(\" \")\n",
        "\n",
        "print(words)\n",
        "print(len(words))"
      ],
      "metadata": {
        "colab": {
          "base_uri": "https://localhost:8080/"
        },
        "id": "0gIFv_U3i8M9",
        "outputId": "a816d408-41a4-4d57-daaa-0c95d945fb99"
      },
      "execution_count": 23,
      "outputs": [
        {
          "output_type": "stream",
          "name": "stdout",
          "text": [
            "['A', 'string', 'is', 'a', 'sequence', 'of', 'charactes']\n",
            "7\n"
          ]
        }
      ]
    },
    {
      "cell_type": "markdown",
      "source": [
        "${\\color{red}{\\textbf{Note:}}}$ `.split` functon convert the string into `list` so the opearion like `.upper`, `.lower`, `.startswith` or `.endswith` won't work. "
      ],
      "metadata": {
        "id": "pXwCWelujll0"
      }
    },
    {
      "cell_type": "markdown",
      "metadata": {
        "id": "z7bvZExqE2yN"
      },
      "source": [
        "#### __List__ `[ ]`\n",
        "\n",
        "\n",
        "- __Mutable__\n",
        "- __Ordered__\n",
        "- __Allows duplicate__\n",
        "\n",
        "\n",
        "\n",
        "\n"
      ]
    },
    {
      "cell_type": "code",
      "metadata": {
        "id": "bqAITq6UF6IF",
        "colab": {
          "base_uri": "https://localhost:8080/"
        },
        "outputId": "226850cc-528b-49d3-b780-01046a636969"
      },
      "source": [
        "a = ['bear', 'monkey', 'cat', 10, 20, 30, 40, 50]\n",
        "\n",
        "#syntax[start:stop:step]\n",
        "\n",
        "print(\"out_1 = {}\".format(type(a)))\n",
        "print(\"out_2 = {}\".format(len(a)))\n",
        "print(\"out_3 = {}\".format(a[0]))\n",
        "print(\"out_4 = {}\".format(a[2:]))\n",
        "print(\"out_5 = {}\".format(a[:2]))\n",
        "print(\"out_6 = {}\".format(a[0:6:2]))\n",
        "print(\"out_7 = {}\".format(a[0::2]))\n",
        "print(\"out_7 = {}\".format(a[0:6:]))\n",
        "print(\"out_8 = {}\".format(a[:6:2]))"
      ],
      "execution_count": 24,
      "outputs": [
        {
          "output_type": "stream",
          "name": "stdout",
          "text": [
            "out_1 = <class 'list'>\n",
            "out_2 = 8\n",
            "out_3 = bear\n",
            "out_4 = ['cat', 10, 20, 30, 40, 50]\n",
            "out_5 = ['bear', 'monkey']\n",
            "out_6 = ['bear', 'cat', 20]\n",
            "out_7 = ['bear', 'cat', 20, 40]\n",
            "out_7 = ['bear', 'monkey', 'cat', 10, 20, 30]\n",
            "out_8 = ['bear', 'cat', 20]\n"
          ]
        }
      ]
    },
    {
      "cell_type": "code",
      "metadata": {
        "id": "Z_4T1_kXwlo3",
        "colab": {
          "base_uri": "https://localhost:8080/"
        },
        "outputId": "5004df8a-430f-453c-d656-78edcb4c5a8f"
      },
      "source": [
        "#list Concatination\n",
        "list_1 = ['bear','monkey','cat']\n",
        "list_2 = [10, 20, 30]\n",
        "list_3 = list_1 + list_2\n",
        "\n",
        "print(list_3)"
      ],
      "execution_count": 25,
      "outputs": [
        {
          "output_type": "stream",
          "name": "stdout",
          "text": [
            "['bear', 'monkey', 'cat', 10, 20, 30]\n"
          ]
        }
      ]
    },
    {
      "cell_type": "code",
      "metadata": {
        "id": "EW8vTwIcytkF",
        "colab": {
          "base_uri": "https://localhost:8080/"
        },
        "outputId": "925ea6d3-92bd-470c-e716-b3300f4d0d51"
      },
      "source": [
        "#List are mutable\n",
        "list_1[0] = 'lion'\n",
        "print(list_1)"
      ],
      "execution_count": 26,
      "outputs": [
        {
          "output_type": "stream",
          "name": "stdout",
          "text": [
            "['lion', 'monkey', 'cat']\n"
          ]
        }
      ]
    },
    {
      "cell_type": "code",
      "metadata": {
        "id": "aYtcHbMwz9x6",
        "colab": {
          "base_uri": "https://localhost:8080/"
        },
        "outputId": "23d9cb19-6896-48f8-eb36-dc69abcaeba7"
      },
      "source": [
        "#adding item to the list\n",
        "list_n = ['bear','monkey','cat']\n",
        "list_n.append('tiger')\n",
        "print(list_n)"
      ],
      "execution_count": 27,
      "outputs": [
        {
          "output_type": "stream",
          "name": "stdout",
          "text": [
            "['bear', 'monkey', 'cat', 'tiger']\n"
          ]
        }
      ]
    },
    {
      "cell_type": "markdown",
      "metadata": {
        "id": "3BZdpK1x1j_K"
      },
      "source": [
        "`pop()` is an inbuilt function in Python that *removes and returns* **last value** from the list or the given **index value**\n",
        "\n",
        "$\\Rightarrow$ by default index location is `[-1]`\n"
      ]
    },
    {
      "cell_type": "code",
      "metadata": {
        "id": "iRs6zkMq0Xzj",
        "colab": {
          "base_uri": "https://localhost:8080/"
        },
        "outputId": "0ade21da-d15a-4ac1-dea4-039fe490da71"
      },
      "source": [
        "#removing the item form the list\n",
        "a = ['bear', 'monkey', 'cat', 10, 20, 30, 40, 50]\n",
        "a.pop()\n",
        "print(a)"
      ],
      "execution_count": 28,
      "outputs": [
        {
          "output_type": "stream",
          "name": "stdout",
          "text": [
            "['bear', 'monkey', 'cat', 10, 20, 30, 40]\n"
          ]
        }
      ]
    },
    {
      "cell_type": "markdown",
      "metadata": {
        "id": "wyeUkcxY2cK8"
      },
      "source": [
        "`.sort`"
      ]
    },
    {
      "cell_type": "code",
      "metadata": {
        "id": "p4qFNT3w2jHJ",
        "colab": {
          "base_uri": "https://localhost:8080/"
        },
        "outputId": "cbdd7ee8-ab1a-48d4-9814-edb559597f04"
      },
      "source": [
        "a = ['b', 'd', 'f', 'a', 'c', 'e']\n",
        "b = [2, 4, 6, 8, 1, 3, 5, 7, 9]\n",
        "\n",
        "a.sort()\n",
        "b.sort()\n",
        "\n",
        "print(a)\n",
        "print(b)"
      ],
      "execution_count": 29,
      "outputs": [
        {
          "output_type": "stream",
          "name": "stdout",
          "text": [
            "['a', 'b', 'c', 'd', 'e', 'f']\n",
            "[1, 2, 3, 4, 5, 6, 7, 8, 9]\n"
          ]
        }
      ]
    },
    {
      "cell_type": "markdown",
      "metadata": {
        "id": "19M0qXG63veW"
      },
      "source": [
        "- In Python, **None** keyword is an object, and it is a **data type** of the class **NoneType**.\n",
        "\n",
        "- We can assign None to any variable, but you can not create other NoneType objects. \n",
        "\n",
        "- New instances of None are not created."
      ]
    },
    {
      "cell_type": "code",
      "metadata": {
        "id": "aIawg_0s4K4Y",
        "colab": {
          "base_uri": "https://localhost:8080/"
        },
        "outputId": "ffa61c51-5772-404f-c730-f383a0f7ca44"
      },
      "source": [
        "a = [1, 2, 3, 4, 5, 6, 7, 8, 9]\n",
        "a.reverse()\n",
        "print(a)"
      ],
      "execution_count": 30,
      "outputs": [
        {
          "output_type": "stream",
          "name": "stdout",
          "text": [
            "[9, 8, 7, 6, 5, 4, 3, 2, 1]\n"
          ]
        }
      ]
    },
    {
      "cell_type": "markdown",
      "metadata": {
        "id": "g426QH__LB8t"
      },
      "source": [
        "**Loooping through a list**"
      ]
    },
    {
      "cell_type": "code",
      "metadata": {
        "id": "Mq9CYS7H72ot",
        "colab": {
          "base_uri": "https://localhost:8080/"
        },
        "outputId": "fff5763b-a6cb-4da1-c5f3-fbf17498c692"
      },
      "source": [
        "fruits = ['apple', 'banana', 'ornage']\n",
        "for x in fruits:\n",
        "    print(x)"
      ],
      "execution_count": 31,
      "outputs": [
        {
          "output_type": "stream",
          "name": "stdout",
          "text": [
            "apple\n",
            "banana\n",
            "ornage\n"
          ]
        }
      ]
    },
    {
      "cell_type": "markdown",
      "metadata": {
        "id": "P8KckB-bK0Kf"
      },
      "source": [
        "Checking if the item exist in the list\n",
        "\n",
        "\n",
        "\n"
      ]
    },
    {
      "cell_type": "code",
      "metadata": {
        "id": "4IotMQPS8uUO",
        "colab": {
          "base_uri": "https://localhost:8080/"
        },
        "outputId": "93092a2b-3886-4d26-81f5-9d88b2c247c2"
      },
      "source": [
        "if 'apple' in fruits:\n",
        "    print('Yes')\n",
        "print(len(fruits))"
      ],
      "execution_count": 32,
      "outputs": [
        {
          "output_type": "stream",
          "name": "stdout",
          "text": [
            "Yes\n",
            "3\n"
          ]
        }
      ]
    },
    {
      "cell_type": "markdown",
      "metadata": {
        "id": "4wFIWJvrK6bW"
      },
      "source": [
        "`.append` "
      ]
    },
    {
      "cell_type": "code",
      "metadata": {
        "id": "15LbXURC9Zv3",
        "colab": {
          "base_uri": "https://localhost:8080/"
        },
        "outputId": "881ae70f-1468-4b0b-b2b8-69fd4c4327af"
      },
      "source": [
        "fruits = ['apple', 'banana', 'ornage']\n",
        "fruits.append('apricot')\n",
        "print(fruits)"
      ],
      "execution_count": 33,
      "outputs": [
        {
          "output_type": "stream",
          "name": "stdout",
          "text": [
            "['apple', 'banana', 'ornage', 'apricot']\n"
          ]
        }
      ]
    },
    {
      "cell_type": "markdown",
      "metadata": {
        "id": "9XMf-XYh9yiz"
      },
      "source": [
        "`insert()` \n",
        "\n"
      ]
    },
    {
      "cell_type": "code",
      "metadata": {
        "id": "moA-eLuG9vUX",
        "colab": {
          "base_uri": "https://localhost:8080/"
        },
        "outputId": "40ef4f79-8bd3-44f7-e9ce-2da82d92868d"
      },
      "source": [
        "fruits = ['apple', 'banana', 'ornage']\n",
        "fruits.insert(1, 'papaya')\n",
        "print(fruits)"
      ],
      "execution_count": 34,
      "outputs": [
        {
          "output_type": "stream",
          "name": "stdout",
          "text": [
            "['apple', 'papaya', 'banana', 'ornage']\n"
          ]
        }
      ]
    },
    {
      "cell_type": "markdown",
      "source": [
        "`.remove`"
      ],
      "metadata": {
        "id": "D7wRZ2nZtKyK"
      }
    },
    {
      "cell_type": "code",
      "metadata": {
        "id": "RUV73-jo-VAO",
        "colab": {
          "base_uri": "https://localhost:8080/"
        },
        "outputId": "4a61ae64-b68f-433d-df15-0b229c167bc7"
      },
      "source": [
        "thelist = ['apple', 'papaya', 'banana', 'ornage']\n",
        "thelist.remove('papaya')\n",
        "print(thelist)"
      ],
      "execution_count": 35,
      "outputs": [
        {
          "output_type": "stream",
          "name": "stdout",
          "text": [
            "['apple', 'banana', 'ornage']\n"
          ]
        }
      ]
    },
    {
      "cell_type": "markdown",
      "metadata": {
        "id": "Pb08Fwub_pUT"
      },
      "source": [
        "__`.pop()` method removes the specified index__"
      ]
    },
    {
      "cell_type": "code",
      "metadata": {
        "id": "-uZiPYMX_Wmm",
        "colab": {
          "base_uri": "https://localhost:8080/"
        },
        "outputId": "97864db0-5ecf-4468-8ec7-b89c6873bf43"
      },
      "source": [
        "thelist = ['apple', 'papaya', 'banana', 'ornage']\n",
        "\n",
        "thelist.pop()\n",
        "print(thelist)"
      ],
      "execution_count": 36,
      "outputs": [
        {
          "output_type": "stream",
          "name": "stdout",
          "text": [
            "['apple', 'papaya', 'banana']\n"
          ]
        }
      ]
    },
    {
      "cell_type": "markdown",
      "metadata": {
        "id": "qYRcrRQOAbLR"
      },
      "source": [
        "`del` keyword can also delete the list completely"
      ]
    },
    {
      "cell_type": "code",
      "metadata": {
        "id": "S7m1Vi7_ACvs"
      },
      "source": [
        "fruits= [\"apple\", \"banana\", \"cherry\"]\n",
        "\n",
        "del fruits"
      ],
      "execution_count": 37,
      "outputs": []
    },
    {
      "cell_type": "markdown",
      "metadata": {
        "id": "c_Y6Kbi8Azt0"
      },
      "source": [
        "`clear()` method empties the list"
      ]
    },
    {
      "cell_type": "code",
      "metadata": {
        "id": "Mg3iJIbXAybc",
        "colab": {
          "base_uri": "https://localhost:8080/"
        },
        "outputId": "54c309aa-c95f-42ee-d536-0315562e6060"
      },
      "source": [
        "fruits = [\"apple\", \"banana\", \"cherry\"]\n",
        "fruits.clear()\n",
        "\n",
        "print(fruits)"
      ],
      "execution_count": 38,
      "outputs": [
        {
          "output_type": "stream",
          "name": "stdout",
          "text": [
            "[]\n"
          ]
        }
      ]
    },
    {
      "cell_type": "markdown",
      "metadata": {
        "id": "_huzPwrTJ8QM"
      },
      "source": [
        "`.reverse`"
      ]
    },
    {
      "cell_type": "code",
      "metadata": {
        "id": "Lis14lpHIx-x",
        "colab": {
          "base_uri": "https://localhost:8080/"
        },
        "outputId": "559738c1-4726-415d-9742-97a697ae8ff5"
      },
      "source": [
        "fruits = [\"apple\", \"banana\", \"cherry\", \"grapes\"]\n",
        "fruits.reverse()\n",
        "\n",
        "print(fruits)"
      ],
      "execution_count": 39,
      "outputs": [
        {
          "output_type": "stream",
          "name": "stdout",
          "text": [
            "['grapes', 'cherry', 'banana', 'apple']\n"
          ]
        }
      ]
    },
    {
      "cell_type": "markdown",
      "metadata": {
        "id": "zKF1vE3RCzOR"
      },
      "source": [
        "`.copy`"
      ]
    },
    {
      "cell_type": "code",
      "metadata": {
        "id": "c7cbdAieBWcL",
        "colab": {
          "base_uri": "https://localhost:8080/"
        },
        "outputId": "fa3bf880-3a13-4dec-f412-02883a842be6"
      },
      "source": [
        "#Method_1\n",
        "a= ['apple', 'papaya', 'banana', 'ornage']\n",
        "b = a.copy()\n",
        "print(b)"
      ],
      "execution_count": 40,
      "outputs": [
        {
          "output_type": "stream",
          "name": "stdout",
          "text": [
            "['apple', 'papaya', 'banana', 'ornage']\n"
          ]
        }
      ]
    },
    {
      "cell_type": "code",
      "metadata": {
        "id": "_84t5xzSC6Px",
        "colab": {
          "base_uri": "https://localhost:8080/"
        },
        "outputId": "8981276f-0c0a-4b69-f38c-ed1df92379e1"
      },
      "source": [
        "#Method_2\n",
        "a = ['apple', 'papaya', 'banana', 'ornage']\n",
        "b = list(a)\n",
        "print(b)"
      ],
      "execution_count": 41,
      "outputs": [
        {
          "output_type": "stream",
          "name": "stdout",
          "text": [
            "['apple', 'papaya', 'banana', 'ornage']\n"
          ]
        }
      ]
    },
    {
      "cell_type": "markdown",
      "metadata": {
        "id": "IlSswV52DQyu"
      },
      "source": [
        "**Join Two Lists**"
      ]
    },
    {
      "cell_type": "code",
      "metadata": {
        "id": "wjFqxvTBDV5P",
        "colab": {
          "base_uri": "https://localhost:8080/"
        },
        "outputId": "cc22ba70-a64a-44a7-fdb0-e9ba3b642885"
      },
      "source": [
        "# Method-1\n",
        "list1 = ['a', 'b', 'c']\n",
        "list2 = [1, 2, 3]\n",
        "\n",
        "list3 = list1 +list2\n",
        "\n",
        "print(list3)"
      ],
      "execution_count": 42,
      "outputs": [
        {
          "output_type": "stream",
          "name": "stdout",
          "text": [
            "['a', 'b', 'c', 1, 2, 3]\n"
          ]
        }
      ]
    },
    {
      "cell_type": "markdown",
      "metadata": {
        "id": "Gj3KWTCdE_ig"
      },
      "source": [
        "appending `list2` into `list1`:"
      ]
    },
    {
      "cell_type": "code",
      "metadata": {
        "id": "p71Fth_WE-Bm",
        "colab": {
          "base_uri": "https://localhost:8080/"
        },
        "outputId": "cad039fb-b9a4-49da-8f35-6d8a81643d90"
      },
      "source": [
        "# Method-2\n",
        "list1 = ['a', 'b', 'c']\n",
        "list2 = [1, 2, 3]\n",
        "\n",
        "for x in list2:\n",
        "    list1.append(x)\n",
        "print(list1)"
      ],
      "execution_count": 43,
      "outputs": [
        {
          "output_type": "stream",
          "name": "stdout",
          "text": [
            "['a', 'b', 'c', 1, 2, 3]\n"
          ]
        }
      ]
    },
    {
      "cell_type": "markdown",
      "source": [
        "`.extend`"
      ],
      "metadata": {
        "id": "yip42Bt_wHx3"
      }
    },
    {
      "cell_type": "code",
      "metadata": {
        "id": "9MeJ2oILFy4M",
        "colab": {
          "base_uri": "https://localhost:8080/"
        },
        "outputId": "fa69892d-0df0-4ab5-8ca7-bf080b361819"
      },
      "source": [
        "# Method-3\n",
        "list1 = [\"a\", \"b\" , \"c\"]\n",
        "list2 = [1, 2, 3]\n",
        "\n",
        "list1.extend(list2)\n",
        "print(list1)"
      ],
      "execution_count": 44,
      "outputs": [
        {
          "output_type": "stream",
          "name": "stdout",
          "text": [
            "['a', 'b', 'c', 1, 2, 3]\n"
          ]
        }
      ]
    },
    {
      "cell_type": "markdown",
      "metadata": {
        "id": "yZB80h_6GE4s"
      },
      "source": [
        "**The `list()` Constructor**"
      ]
    },
    {
      "cell_type": "code",
      "metadata": {
        "id": "nsXQFAAqGD7w",
        "colab": {
          "base_uri": "https://localhost:8080/"
        },
        "outputId": "03535222-dfe2-4be5-8db0-f258ff329b97"
      },
      "source": [
        "thelist = list((\"a\", \"b\" , \"c\"))\n",
        "print(thelist)"
      ],
      "execution_count": 45,
      "outputs": [
        {
          "output_type": "stream",
          "name": "stdout",
          "text": [
            "['a', 'b', 'c']\n"
          ]
        }
      ]
    },
    {
      "cell_type": "markdown",
      "metadata": {
        "id": "z-7qjmvR4w3C"
      },
      "source": [
        "####  __Dictionary__ `{key:value}`\n",
        "\n",
        "\n",
        "- __Mutable__\n",
        "- __Unordered__\n"
      ]
    },
    {
      "cell_type": "code",
      "metadata": {
        "id": "7uwHY9CZ4vTb",
        "colab": {
          "base_uri": "https://localhost:8080/"
        },
        "outputId": "ae52d4b1-cc14-44e3-ca90-7431eeb05327"
      },
      "source": [
        "price_lookup = {'apple':100, 'banana':40, 'milk':29}\n",
        "price_lookup['apple']"
      ],
      "execution_count": 46,
      "outputs": [
        {
          "output_type": "execute_result",
          "data": {
            "text/plain": [
              "100"
            ]
          },
          "metadata": {},
          "execution_count": 46
        }
      ]
    },
    {
      "cell_type": "code",
      "metadata": {
        "id": "ixSZieUXABSv",
        "colab": {
          "base_uri": "https://localhost:8080/"
        },
        "outputId": "0488506e-0497-44e6-9b50-1cd925c7759b"
      },
      "source": [
        "d = {'k1':123,\n",
        "     'k2':[0, 1, 2],\n",
        "     'k3':{'inside_key':100},\n",
        "     'k4':['apple', 'ball', 'cat']\n",
        "     }\n",
        "     \n",
        "print(d['k1'])\n",
        "print(d['k2'])\n",
        "print(d['k2'][2])\n",
        "print(d['k3']['inside_key'])\n",
        "\n",
        "d2 = d['k4'][1]\n",
        "print(d2.upper())\n",
        "\n",
        "print(d['k4'][2].upper())"
      ],
      "execution_count": 47,
      "outputs": [
        {
          "output_type": "stream",
          "name": "stdout",
          "text": [
            "123\n",
            "[0, 1, 2]\n",
            "2\n",
            "100\n",
            "BALL\n",
            "CAT\n"
          ]
        }
      ]
    },
    {
      "cell_type": "markdown",
      "metadata": {
        "id": "Sp0Cqwb4LssU"
      },
      "source": [
        "**Adding new `key:value` pairs**"
      ]
    },
    {
      "cell_type": "code",
      "metadata": {
        "id": "bu01fsPeGt1M",
        "colab": {
          "base_uri": "https://localhost:8080/"
        },
        "outputId": "18f0cad1-be6d-42c2-f4de-a3adf7791454"
      },
      "source": [
        "my_dict = {'k1':100, 'k2':200, 'k3':300}\n",
        "my_dict['k4'] = 400\n",
        "print(my_dict)"
      ],
      "execution_count": 48,
      "outputs": [
        {
          "output_type": "stream",
          "name": "stdout",
          "text": [
            "{'k1': 100, 'k2': 200, 'k3': 300, 'k4': 400}\n"
          ]
        }
      ]
    },
    {
      "cell_type": "markdown",
      "metadata": {
        "id": "IaYu2uiRL3WN"
      },
      "source": [
        "**Overwriting `key:value` pairs**"
      ]
    },
    {
      "cell_type": "code",
      "metadata": {
        "id": "_yHE4LuBHp35",
        "colab": {
          "base_uri": "https://localhost:8080/"
        },
        "outputId": "68c1f2a5-fbc4-475a-f2ec-4c0d380fb780"
      },
      "source": [
        "my_dict = {'k1':100, 'k2':200, 'k3':300}\n",
        "my_dict['k2'] = 'New Value'\n",
        "print(my_dict)"
      ],
      "execution_count": 49,
      "outputs": [
        {
          "output_type": "stream",
          "name": "stdout",
          "text": [
            "{'k1': 100, 'k2': 'New Value', 'k3': 300}\n"
          ]
        }
      ]
    },
    {
      "cell_type": "code",
      "metadata": {
        "id": "LJeJ1R3lH-GT",
        "colab": {
          "base_uri": "https://localhost:8080/"
        },
        "outputId": "0dcc3099-fa20-41cb-bcd9-16e5b28c8c36"
      },
      "source": [
        "my_dict = {'k1':100, 'k2':200, 'k3':300}\n",
        "my_dict.keys()"
      ],
      "execution_count": 50,
      "outputs": [
        {
          "output_type": "execute_result",
          "data": {
            "text/plain": [
              "dict_keys(['k1', 'k2', 'k3'])"
            ]
          },
          "metadata": {},
          "execution_count": 50
        }
      ]
    },
    {
      "cell_type": "code",
      "metadata": {
        "id": "H72rN3dqILHM",
        "colab": {
          "base_uri": "https://localhost:8080/"
        },
        "outputId": "62dc9c33-fe6a-42d1-abdf-a54eab2b6454"
      },
      "source": [
        "my_dict = {'k1':100, 'k2':200, 'k3':300}\n",
        "my_dict.values()"
      ],
      "execution_count": 51,
      "outputs": [
        {
          "output_type": "execute_result",
          "data": {
            "text/plain": [
              "dict_values([100, 200, 300])"
            ]
          },
          "metadata": {},
          "execution_count": 51
        }
      ]
    },
    {
      "cell_type": "code",
      "metadata": {
        "id": "ocHfbvxKIno1",
        "colab": {
          "base_uri": "https://localhost:8080/"
        },
        "outputId": "f7d126e5-61e2-4988-d919-34b9b59d6524"
      },
      "source": [
        "# return Tuple\n",
        "my_dict = {'k1':100, 'k2':200, 'k3':300}\n",
        "my_dict.items()"
      ],
      "execution_count": 52,
      "outputs": [
        {
          "output_type": "execute_result",
          "data": {
            "text/plain": [
              "dict_items([('k1', 100), ('k2', 200), ('k3', 300)])"
            ]
          },
          "metadata": {},
          "execution_count": 52
        }
      ]
    },
    {
      "cell_type": "markdown",
      "source": [
        "`.get` Method"
      ],
      "metadata": {
        "id": "Sd1QNwjKlsfP"
      }
    },
    {
      "cell_type": "code",
      "metadata": {
        "id": "grJnVPZHBo9F",
        "colab": {
          "base_uri": "https://localhost:8080/"
        },
        "outputId": "533fc9d0-1c94-43ba-8b0a-8db93eeb60e7"
      },
      "source": [
        "thisdict = {\n",
        "  \"brand\": \"Ford\",\n",
        "  \"model\": \"Mustang\",\n",
        "  \"year\": 1964\n",
        "}\n",
        "\n",
        "x = thisdict[\"model\"]\n",
        "y = thisdict.get(\"model\") # Another Method - Same result\n",
        "\n",
        "print(x)\n",
        "print(y)\n",
        "\n",
        "#Changing the values\n",
        "thisdict[\"year\"] = 2018\n",
        "print(thisdict)"
      ],
      "execution_count": 53,
      "outputs": [
        {
          "output_type": "stream",
          "name": "stdout",
          "text": [
            "Mustang\n",
            "Mustang\n",
            "{'brand': 'Ford', 'model': 'Mustang', 'year': 2018}\n"
          ]
        }
      ]
    },
    {
      "cell_type": "markdown",
      "source": [
        "**Accessing `Key-value` in a Python Dictionary - With `for` loop**"
      ],
      "metadata": {
        "id": "zOdGWrAzhrGL"
      }
    },
    {
      "cell_type": "code",
      "metadata": {
        "id": "N4XqKweuC4OM",
        "colab": {
          "base_uri": "https://localhost:8080/"
        },
        "outputId": "f9eba629-3066-401f-9455-0441763e7db3"
      },
      "source": [
        "# Method-1\n",
        "thisdict = {\n",
        "  \"brand\": \"Ford\",\n",
        "  \"model\": \"Mustang\",\n",
        "  \"year\": 1964\n",
        "} \n",
        "\n",
        "# This will print all the keys\n",
        "for key in thisdict:\n",
        "    print(key)"
      ],
      "execution_count": 54,
      "outputs": [
        {
          "output_type": "stream",
          "name": "stdout",
          "text": [
            "brand\n",
            "model\n",
            "year\n"
          ]
        }
      ]
    },
    {
      "cell_type": "code",
      "source": [
        "thisdict = {\n",
        "  \"brand\": \"Ford\",\n",
        "  \"model\": \"Mustang\",\n",
        "  \"year\": 1964\n",
        "} \n",
        "# This will print all the values\n",
        "for val in thisdict:\n",
        "    print(thisdict[val])"
      ],
      "metadata": {
        "colab": {
          "base_uri": "https://localhost:8080/"
        },
        "id": "qmfzMMoJhXUj",
        "outputId": "0bc4ca07-ad77-4a7d-d039-56ebe4df16da"
      },
      "execution_count": 55,
      "outputs": [
        {
          "output_type": "stream",
          "name": "stdout",
          "text": [
            "Ford\n",
            "Mustang\n",
            "1964\n"
          ]
        }
      ]
    },
    {
      "cell_type": "markdown",
      "source": [
        "`.keys` & `values` Method"
      ],
      "metadata": {
        "id": "R0-rPs5xktYq"
      }
    },
    {
      "cell_type": "code",
      "metadata": {
        "id": "V-n9rqBgEYq8",
        "colab": {
          "base_uri": "https://localhost:8080/"
        },
        "outputId": "fbb365fd-71e2-45d5-e99b-8bdbf44e8ed5"
      },
      "source": [
        "# Method-2\n",
        "thisdict = {\n",
        "  \"brand\": \"Ford\",\n",
        "  \"model\": \"Mustang\",\n",
        "  \"year\": 1964\n",
        "}\n",
        "\n",
        "for key in thisdict.keys():\n",
        "    print(key)"
      ],
      "execution_count": 56,
      "outputs": [
        {
          "output_type": "stream",
          "name": "stdout",
          "text": [
            "brand\n",
            "model\n",
            "year\n"
          ]
        }
      ]
    },
    {
      "cell_type": "code",
      "source": [
        "thisdict = {\n",
        "  \"brand\": \"Ford\",\n",
        "  \"model\": \"Mustang\",\n",
        "  \"year\": 1964\n",
        "}\n",
        "\n",
        "for val in thisdict.values():\n",
        "    print(val)"
      ],
      "metadata": {
        "colab": {
          "base_uri": "https://localhost:8080/"
        },
        "id": "1GJq1xbRhbRq",
        "outputId": "9eb33222-1405-4515-8671-660bacd96236"
      },
      "execution_count": 57,
      "outputs": [
        {
          "output_type": "stream",
          "name": "stdout",
          "text": [
            "Ford\n",
            "Mustang\n",
            "1964\n"
          ]
        }
      ]
    },
    {
      "cell_type": "markdown",
      "source": [
        "**Looping through both `key` and `values`**"
      ],
      "metadata": {
        "id": "4zb9xA5Dibhy"
      }
    },
    {
      "cell_type": "code",
      "metadata": {
        "id": "tLs3pmRtE7Vi",
        "colab": {
          "base_uri": "https://localhost:8080/"
        },
        "outputId": "6f028b20-d175-4eea-f3e0-36d0c958ebcf"
      },
      "source": [
        "thisdict = {\n",
        "  \"brand\": \"Ford\",\n",
        "  \"model\": \"Mustang\",\n",
        "  \"year\": 1964\n",
        "}\n",
        "for x in thisdict.items():\n",
        "    print(x)    "
      ],
      "execution_count": 58,
      "outputs": [
        {
          "output_type": "stream",
          "name": "stdout",
          "text": [
            "('brand', 'Ford')\n",
            "('model', 'Mustang')\n",
            "('year', 1964)\n"
          ]
        }
      ]
    },
    {
      "cell_type": "markdown",
      "metadata": {
        "id": "63Eu7YA6Fk_u"
      },
      "source": [
        "**Check if Key Exists**"
      ]
    },
    {
      "cell_type": "code",
      "metadata": {
        "id": "Y0obuFG7FkIy",
        "colab": {
          "base_uri": "https://localhost:8080/"
        },
        "outputId": "ede0e70f-dd07-4c74-e430-7a3ac83821e3"
      },
      "source": [
        "thisdict = {\n",
        "  \"k1\": \"tensor\",\n",
        "  \"k2\": \"password\",\n",
        "  \"k3\": 1984\n",
        "}\n",
        "\n",
        "key = input()\n",
        "\n",
        "if key in thisdict:\n",
        "    print(\"this key exist\")\n",
        "else:\n",
        "    print(\"You have enter worng key\") "
      ],
      "execution_count": 59,
      "outputs": [
        {
          "output_type": "stream",
          "name": "stdout",
          "text": [
            "k1\n",
            "this key exist\n"
          ]
        }
      ]
    },
    {
      "cell_type": "code",
      "metadata": {
        "id": "SHf2GXeRJeJV",
        "colab": {
          "base_uri": "https://localhost:8080/"
        },
        "outputId": "e8823813-df43-48a3-c1b3-8ecef6143d12"
      },
      "source": [
        "thisdict = {\n",
        "  \"k1\": \"cypher\",\n",
        "  \"k2\": \"password\",\n",
        "  \"k3\": 2022\n",
        "}\n",
        "\n",
        "print('Enter the key:')\n",
        "key = input()\n",
        "\n",
        "if key in thisdict:\n",
        "    print(\"The value of this key is {}\".format(thisdict[key]))\n",
        "else:\n",
        "    print(\"You have enter worng key\") "
      ],
      "execution_count": 60,
      "outputs": [
        {
          "output_type": "stream",
          "name": "stdout",
          "text": [
            "Enter the key:\n",
            "k2\n",
            "The value of this key is password\n"
          ]
        }
      ]
    },
    {
      "cell_type": "markdown",
      "source": [
        "**Check user Input is a `Number` or `String` in Python**"
      ],
      "metadata": {
        "id": "5fJB9nCSrSYH"
      }
    },
    {
      "cell_type": "markdown",
      "metadata": {
        "id": "8U3QjrE8Ir0R"
      },
      "source": [
        "**Python `input()` Function** "
      ]
    },
    {
      "cell_type": "code",
      "metadata": {
        "id": "TMFcJZMYHKwb",
        "colab": {
          "base_uri": "https://localhost:8080/"
        },
        "outputId": "c50b1996-d495-426a-eeaf-1e38b41d52e4"
      },
      "source": [
        "print('Enter the data type:')\n",
        "x = input()\n",
        "print(\"the type of data is {}\".format(type(x)))"
      ],
      "execution_count": 61,
      "outputs": [
        {
          "output_type": "stream",
          "name": "stdout",
          "text": [
            "Enter the data type:\n",
            "55\n",
            "the type of data is <class 'str'>\n"
          ]
        }
      ]
    },
    {
      "cell_type": "code",
      "source": [
        "print('Enter the data type:')\n",
        "x = int(input())\n",
        "print(\"the type of data is {}\".format(type(x)))"
      ],
      "metadata": {
        "colab": {
          "base_uri": "https://localhost:8080/"
        },
        "id": "v57NudxvaeYn",
        "outputId": "84112160-5555-4875-924e-11901166382a"
      },
      "execution_count": 62,
      "outputs": [
        {
          "output_type": "stream",
          "name": "stdout",
          "text": [
            "Enter the data type:\n",
            "55\n",
            "the type of data is <class 'int'>\n"
          ]
        }
      ]
    },
    {
      "cell_type": "markdown",
      "source": [
        "if we input the float in the code above it will output `ValueError`\n",
        "```python\n",
        "Enter the data type:\n",
        "77.5\n",
        "---------------------------------------------------------------------------\n",
        "ValueError                                Traceback (most recent call last)\n",
        "<ipython-input-2-8d09bb676eb0> in <module>()\n",
        "      1 print('Enter the data type:')\n",
        "----> 2 x = int(input())\n",
        "      3 print(\"the type of data is {}\".format(type(x)))\n",
        "\n",
        "ValueError: invalid literal for int() with base 10: '77.5'\n",
        "```\n",
        "\n",
        "to fix the problem above we can use the python `try` and `expect`"
      ],
      "metadata": {
        "id": "-h3l9rBbaveM"
      }
    },
    {
      "cell_type": "markdown",
      "source": [
        "Print one message if the try block raises a `NameError` and another for other errors:\n",
        "```python\n",
        "try:\n",
        "  print(x)\n",
        "except NameError:\n",
        "  print(\"Variable x is not defined\")\n",
        "except:\n",
        "  print(\"Something else went wrong\")\n",
        "```"
      ],
      "metadata": {
        "id": "DhGRVnzfGWkX"
      }
    },
    {
      "cell_type": "markdown",
      "source": [
        "The output shows the type of a variable as a string (`str`). To fix this We need to convert user input explicitly to `integer` and `float` to check if it’s a `number`. If the input string is a `number`, It will get converted to `int` or `float` without exception."
      ],
      "metadata": {
        "id": "88p8F3udqd6g"
      }
    },
    {
      "cell_type": "code",
      "source": [
        "def check_user_input(input):\n",
        "    try:\n",
        "        # Convert it into integer\n",
        "        val = int(input)\n",
        "        print(\"Input is an integer number. Number = {}\".format(val))\n",
        "    except ValueError:\n",
        "        try:\n",
        "            # Convert it into float\n",
        "            val = float(input)\n",
        "            print(\"Input is a float  number. Number = {}\".format(val))\n",
        "        except ValueError:\n",
        "            print(\"No.. input is not a number. It's a string\")\n",
        "\n",
        "\n",
        "input1 = input(\"Enter your int \")\n",
        "check_user_input(input1)\n",
        "\n",
        "input2 = input(\"Enter any float \")\n",
        "check_user_input(input2)\n",
        "\n",
        "input2 = input(\"Enter the last string \")\n",
        "check_user_input(input2)"
      ],
      "metadata": {
        "colab": {
          "base_uri": "https://localhost:8080/"
        },
        "id": "sk2yneIDq2OU",
        "outputId": "a6e811f0-562c-4597-f00e-fa7afbf3d846"
      },
      "execution_count": 63,
      "outputs": [
        {
          "output_type": "stream",
          "name": "stdout",
          "text": [
            "Enter your int 11\n",
            "Input is an integer number. Number = 11\n",
            "Enter any float 11.5\n",
            "Input is a float  number. Number = 11.5\n",
            "Enter the last string this is string\n",
            "No.. input is not a number. It's a string\n"
          ]
        }
      ]
    },
    {
      "cell_type": "markdown",
      "metadata": {
        "id": "4CZ0ESU_P_dy"
      },
      "source": [
        "**Removing Items**"
      ]
    },
    {
      "cell_type": "markdown",
      "source": [
        "`.pop`"
      ],
      "metadata": {
        "id": "EuVaztLk2S_Q"
      }
    },
    {
      "cell_type": "code",
      "metadata": {
        "id": "7ZSb6YNbP5fD",
        "colab": {
          "base_uri": "https://localhost:8080/"
        },
        "outputId": "84404080-fb7c-48b7-a850-51712510f268"
      },
      "source": [
        "thisdict = {\n",
        "  \"brand\": \"Ford\",\n",
        "  \"model\": \"Mustang\",\n",
        "  \"year\": 1964\n",
        "}\n",
        "\n",
        "thisdict.pop(\"model\")\n",
        "print(thisdict)"
      ],
      "execution_count": 64,
      "outputs": [
        {
          "output_type": "stream",
          "name": "stdout",
          "text": [
            "{'brand': 'Ford', 'year': 1964}\n"
          ]
        }
      ]
    },
    {
      "cell_type": "markdown",
      "source": [
        "`.del`"
      ],
      "metadata": {
        "id": "w64vjCaE2Vp7"
      }
    },
    {
      "cell_type": "code",
      "metadata": {
        "id": "g9Z3Ybhto8qh",
        "colab": {
          "base_uri": "https://localhost:8080/"
        },
        "outputId": "be60dab0-2cdf-4b88-ff1a-d88186f3eed8"
      },
      "source": [
        "thisdict = {\n",
        "  \"brand\": \"Ford\",\n",
        "  \"model\": \"Mustang\",\n",
        "  \"year\": 1964\n",
        "}\n",
        "del thisdict[\"model\"]\n",
        "print(thisdict)"
      ],
      "execution_count": 65,
      "outputs": [
        {
          "output_type": "stream",
          "name": "stdout",
          "text": [
            "{'brand': 'Ford', 'year': 1964}\n"
          ]
        }
      ]
    },
    {
      "cell_type": "markdown",
      "metadata": {
        "id": "TpsSvGt6phCO"
      },
      "source": [
        "`copy()`"
      ]
    },
    {
      "cell_type": "code",
      "metadata": {
        "id": "RhY0BKffpSTF",
        "colab": {
          "base_uri": "https://localhost:8080/"
        },
        "outputId": "0fe4a38b-6be4-4838-a507-2521c3e20450"
      },
      "source": [
        "thisdict = {\n",
        "  \"brand\": \"Ford\",\n",
        "  \"model\": \"Mustang\",\n",
        "  \"year\": 1964\n",
        "}\n",
        "mydict = thisdict.copy()\n",
        "print(mydict)"
      ],
      "execution_count": 66,
      "outputs": [
        {
          "output_type": "stream",
          "name": "stdout",
          "text": [
            "{'brand': 'Ford', 'model': 'Mustang', 'year': 1964}\n"
          ]
        }
      ]
    },
    {
      "cell_type": "markdown",
      "metadata": {
        "id": "k5CMWes7Nyvk"
      },
      "source": [
        "#### __Tuples__ `( )`\n",
        "\n",
        "- __Immutable__\n",
        "- __Ordered__\n",
        "- __Duplicates allowed__\n",
        "\n"
      ]
    },
    {
      "cell_type": "markdown",
      "source": [
        "`.count` and .`index`"
      ],
      "metadata": {
        "id": "mrD0TDSZfK-Y"
      }
    },
    {
      "cell_type": "code",
      "metadata": {
        "id": "ZF1dHQJXb3Li",
        "colab": {
          "base_uri": "https://localhost:8080/"
        },
        "outputId": "0ee0860d-5c31-4deb-9d9c-7ad62be044ca"
      },
      "source": [
        "t = ('a','a', 'b', 'e', 'f', 'c', 'c', 'c')\n",
        "\n",
        "print(t.count('c'))\n",
        "print(t.index('c')) #this return the very first time 'c' appers "
      ],
      "execution_count": 67,
      "outputs": [
        {
          "output_type": "stream",
          "name": "stdout",
          "text": [
            "3\n",
            "5\n"
          ]
        }
      ]
    },
    {
      "cell_type": "markdown",
      "source": [
        "Indexing and Slicing in tuple"
      ],
      "metadata": {
        "id": "QBkn1ioBf-D2"
      }
    },
    {
      "cell_type": "code",
      "metadata": {
        "id": "2hppnTbXc-r7",
        "colab": {
          "base_uri": "https://localhost:8080/"
        },
        "outputId": "6aaf033a-5667-4eb4-d0b5-c5a34e17b0db"
      },
      "source": [
        "# simple Slicing Tuples\n",
        "\n",
        "t = (0, 1, 2, 3, 4, 5, 6, 7, 8, 9, 10, 11, 12, 13)\n",
        "\n",
        "print(type(t))\n",
        "print(len(t))\n",
        "print(t[0])\n",
        "print(t[2:])\n",
        "print(t[:2])\n",
        "print(t[0:6:2])\n",
        "print(t[0::2]) # even \n",
        "print(t[1::2]) # Odd\n",
        "print(t[0:6:])\n",
        "print(t[:6:2])"
      ],
      "execution_count": 68,
      "outputs": [
        {
          "output_type": "stream",
          "name": "stdout",
          "text": [
            "<class 'tuple'>\n",
            "14\n",
            "0\n",
            "(2, 3, 4, 5, 6, 7, 8, 9, 10, 11, 12, 13)\n",
            "(0, 1)\n",
            "(0, 2, 4)\n",
            "(0, 2, 4, 6, 8, 10, 12)\n",
            "(1, 3, 5, 7, 9, 11, 13)\n",
            "(0, 1, 2, 3, 4, 5)\n",
            "(0, 2, 4)\n"
          ]
        }
      ]
    },
    {
      "cell_type": "code",
      "metadata": {
        "id": "0newOSpvQ3Oi",
        "colab": {
          "base_uri": "https://localhost:8080/"
        },
        "outputId": "d6d434fe-8a14-4a6b-a397-b6b020fedbd9"
      },
      "source": [
        "t = (['a', 2, 'c', 4], {'k1': 100}, {'k2':['apple', 'ball', 'cat']}, {'k3': 'github'})\n",
        "\n",
        "print(type(t))\n",
        "print(len(t))\n",
        "print(t[0])\n",
        "print(t[2:])\n",
        "print(t[0:3:2])\n",
        "print(t[1::2])\n",
        "print(t[:2])\n",
        "print(t[0:2:])\n",
        "print(t[:2:1])"
      ],
      "execution_count": 69,
      "outputs": [
        {
          "output_type": "stream",
          "name": "stdout",
          "text": [
            "<class 'tuple'>\n",
            "4\n",
            "['a', 2, 'c', 4]\n",
            "({'k2': ['apple', 'ball', 'cat']}, {'k3': 'github'})\n",
            "(['a', 2, 'c', 4], {'k2': ['apple', 'ball', 'cat']})\n",
            "({'k1': 100}, {'k3': 'github'})\n",
            "(['a', 2, 'c', 4], {'k1': 100})\n",
            "(['a', 2, 'c', 4], {'k1': 100})\n",
            "(['a', 2, 'c', 4], {'k1': 100})\n"
          ]
        }
      ]
    },
    {
      "cell_type": "code",
      "metadata": {
        "id": "GKFhBsZ7Zv3G"
      },
      "source": [
        "t = (['a', 2, 'c', 4], {'k1': 100}, {'k2':['apple', 'ball', 'cat']})"
      ],
      "execution_count": 70,
      "outputs": []
    },
    {
      "cell_type": "markdown",
      "metadata": {
        "id": "USOEx0qgJnim"
      },
      "source": [
        "`tuple` provides us the convenient source of whats is known as **DATA INTEGRITY**\n",
        "\n",
        "> Main use of `tuples` is when we are passing the **objects** in our program, we need to make sure that they acciedntly get changed.\n",
        "\n",
        "\n",
        "```python\n",
        "t = ('a', 1, 4, 'ONE', 'apple')\n",
        "t[0] = 'New'\n",
        "---------------------------------------------------------------------------\n",
        "TypeError                                 Traceback (most recent call last)\n",
        "<ipython-input-75-5371bb59b9a0> in <module>()\n",
        "      1 t = ('a', 1, 4, 'ONE', 'apple')\n",
        "----> 2 t[0] = 'New'\n",
        "\n",
        "TypeError: 'tuple' object does not support item assignment\n",
        "```\n",
        "\n"
      ]
    },
    {
      "cell_type": "markdown",
      "metadata": {
        "id": "V6d0EImNK-zZ"
      },
      "source": [
        "- `tuple` are faster than `list`.\n",
        "\n",
        "- It makes your code safer if you “write-protect” data that does not need to be changed.\n",
        "\n",
        "- Some `tuple` can be used as `dictionary-keys` (specifically, tuples that contain **immutable values** like *strings*, *numbers*, and other *tuples*)."
      ]
    },
    {
      "cell_type": "markdown",
      "metadata": {
        "id": "R3_TWl4vMO9X"
      },
      "source": [
        "**Change Tuple Values**\n",
        "\n",
        "- Once a tuple is created, you **cannot** change its values. Tuples are **unchangeable**, or **immutable**.\n",
        "\n",
        ">But there is a workaround. **we can convert the `tuple` into a `list`, change the `list`, and convert the `list` back into a `tuple`**."
      ]
    },
    {
      "cell_type": "code",
      "metadata": {
        "id": "vuSe4upUMM0g",
        "colab": {
          "base_uri": "https://localhost:8080/"
        },
        "outputId": "d6a0af64-b034-43b5-ba3f-4a0f013b4c78"
      },
      "source": [
        "t= ('apple', 'banana', 'fish', 1, 2, 3)\n",
        "l = list(t)\n",
        "l[2] = 'grapes'\n",
        "t = tuple(l)\n",
        "print(t)"
      ],
      "execution_count": 71,
      "outputs": [
        {
          "output_type": "stream",
          "name": "stdout",
          "text": [
            "('apple', 'banana', 'grapes', 1, 2, 3)\n"
          ]
        }
      ]
    },
    {
      "cell_type": "markdown",
      "metadata": {
        "id": "yqsEGZi1OtJp"
      },
      "source": [
        "__Loop Through a Tuple__"
      ]
    },
    {
      "cell_type": "code",
      "metadata": {
        "id": "F_cACP3sOvoM",
        "colab": {
          "base_uri": "https://localhost:8080/"
        },
        "outputId": "aee88c24-6853-468f-a297-6ea03464e383"
      },
      "source": [
        "my_tuple = ('apple', 'banana', 'orange')\n",
        "\n",
        "for x in my_tuple:\n",
        "    print(x)"
      ],
      "execution_count": 72,
      "outputs": [
        {
          "output_type": "stream",
          "name": "stdout",
          "text": [
            "apple\n",
            "banana\n",
            "orange\n"
          ]
        }
      ]
    },
    {
      "cell_type": "markdown",
      "metadata": {
        "id": "l6OzEtMoQFLp"
      },
      "source": [
        "**Check if Item Exists**"
      ]
    },
    {
      "cell_type": "code",
      "metadata": {
        "id": "n-WaGUSeP-fJ",
        "colab": {
          "base_uri": "https://localhost:8080/"
        },
        "outputId": "ff9f45ce-f582-42e5-e487-8f6f41da0fe2"
      },
      "source": [
        "this_tuple = (\"apple\", \"banana\", \"cherry\")\n",
        "\n",
        "if \"apple\" in this_tuple:\n",
        "  print(\"Yes, apple exist in this fruits tuple\")\n",
        "print(len(this_tuple))"
      ],
      "execution_count": 73,
      "outputs": [
        {
          "output_type": "stream",
          "name": "stdout",
          "text": [
            "Yes, apple exist in this fruits tuple\n",
            "3\n"
          ]
        }
      ]
    },
    {
      "cell_type": "markdown",
      "metadata": {
        "id": "on4ESfIVtog_"
      },
      "source": [
        "```python\n",
        "thistuple = (\"apple\", \"banana\", \"cherry\")\n",
        "del thistuple\n",
        "print(thistuple)  \n",
        "```\n",
        "Now if we delet this `tuple` using the `del` method and then try to print it agian it will genrate the following error because the tuple no longer exists\n",
        "\n",
        "```python\n",
        "NameError                                 Traceback (most recent call last)\n",
        "<ipython-input-78-8a57ed92fc5d> in <module>()\n",
        "      1 thistuple = (\"apple\", \"banana\", \"cherry\")\n",
        "      2 del thistuple\n",
        "----> 3 print(thistuple)\n",
        "NameError: name 'thistuple' is not defined\n",
        "```"
      ]
    },
    {
      "cell_type": "code",
      "metadata": {
        "id": "Yp-gJmPcTIhx",
        "colab": {
          "base_uri": "https://localhost:8080/"
        },
        "outputId": "2df4b548-c0c9-4ac0-d36f-5dceff28bee9"
      },
      "source": [
        "#joining Tuple\n",
        "\n",
        "tuple1 = (\"a\", \"b\" , \"c\")\n",
        "tuple2 = (1, 2, 3)\n",
        "\n",
        "tuple3 = tuple1 + tuple2\n",
        "print(tuple3)"
      ],
      "execution_count": 74,
      "outputs": [
        {
          "output_type": "stream",
          "name": "stdout",
          "text": [
            "('a', 'b', 'c', 1, 2, 3)\n"
          ]
        }
      ]
    },
    {
      "cell_type": "markdown",
      "metadata": {
        "id": "CTcyeH4rTWMb"
      },
      "source": [
        "**The `tuple()` Constructor**"
      ]
    },
    {
      "cell_type": "code",
      "metadata": {
        "id": "SQItFchyTT_p",
        "colab": {
          "base_uri": "https://localhost:8080/"
        },
        "outputId": "69ff7ef9-2104-42b7-f125-229f61392074"
      },
      "source": [
        "thistuple = tuple((\"apple\", \"banana\", \"cherry\")) \n",
        "print(thistuple)\n",
        "print(type(thistuple))"
      ],
      "execution_count": 75,
      "outputs": [
        {
          "output_type": "stream",
          "name": "stdout",
          "text": [
            "('apple', 'banana', 'cherry')\n",
            "<class 'tuple'>\n"
          ]
        }
      ]
    },
    {
      "cell_type": "markdown",
      "metadata": {
        "id": "LPkW_EZCNBnR"
      },
      "source": [
        "#### __Sets__ `{ }`\n",
        "\n",
        "- __Mutable__\n",
        "- __Unordered__\n",
        "- __No duplicate__"
      ]
    },
    {
      "cell_type": "markdown",
      "metadata": {
        "id": "wxgxrO3Ei0bw"
      },
      "source": [
        "**looping through the set**"
      ]
    },
    {
      "cell_type": "code",
      "metadata": {
        "id": "dsHCxAu8itZt",
        "colab": {
          "base_uri": "https://localhost:8080/"
        },
        "outputId": "7fe2bebf-313c-4161-afed-343b9ea7dcd7"
      },
      "source": [
        "thisset = {\"apple\", \"banana\", \"cherry\"}\n",
        "\n",
        "for x in thisset:\n",
        "  print(x)"
      ],
      "execution_count": 76,
      "outputs": [
        {
          "output_type": "stream",
          "name": "stdout",
          "text": [
            "banana\n",
            "apple\n",
            "cherry\n"
          ]
        }
      ]
    },
    {
      "cell_type": "markdown",
      "source": [
        "`in`"
      ],
      "metadata": {
        "id": "ulCNUIGvtwNE"
      }
    },
    {
      "cell_type": "code",
      "metadata": {
        "id": "bn3st0Tui66Z",
        "colab": {
          "base_uri": "https://localhost:8080/"
        },
        "outputId": "6ed717e2-195d-4c58-b5ae-f226d793ac49"
      },
      "source": [
        "thisset = {\"apple\", \"banana\", \"cherry\"}\n",
        "\n",
        "print(\"banana\" in thisset)"
      ],
      "execution_count": 77,
      "outputs": [
        {
          "output_type": "stream",
          "name": "stdout",
          "text": [
            "True\n"
          ]
        }
      ]
    },
    {
      "cell_type": "markdown",
      "metadata": {
        "id": "6E_qoM51joA3"
      },
      "source": [
        "`.add`"
      ]
    },
    {
      "cell_type": "code",
      "metadata": {
        "id": "Cnku8q6Ijwll",
        "colab": {
          "base_uri": "https://localhost:8080/"
        },
        "outputId": "c7953fb7-5b56-47ca-adec-6f3c5fccf373"
      },
      "source": [
        "thisset = {\"apple\", \"banana\", \"cherry\"}\n",
        "thisset.add(\"orange\")\n",
        "print(thisset)"
      ],
      "execution_count": 78,
      "outputs": [
        {
          "output_type": "stream",
          "name": "stdout",
          "text": [
            "{'orange', 'banana', 'apple', 'cherry'}\n"
          ]
        }
      ]
    },
    {
      "cell_type": "markdown",
      "metadata": {
        "id": "-w3ClG37kBPU"
      },
      "source": [
        "**Add multiple items to a set**"
      ]
    },
    {
      "cell_type": "markdown",
      "source": [
        "`.update`"
      ],
      "metadata": {
        "id": "pHNyQCQCuLPX"
      }
    },
    {
      "cell_type": "code",
      "metadata": {
        "id": "5RbylWNLj5N-",
        "colab": {
          "base_uri": "https://localhost:8080/"
        },
        "outputId": "d8cfa053-67bb-458a-921c-2b0ad8b6f2bc"
      },
      "source": [
        "thisset = {\"apple\", \"banana\", \"cherry\"}\n",
        "thisset.update([\"orange\", \"mango\", \"grapes\"])\n",
        "print(thisset)"
      ],
      "execution_count": 79,
      "outputs": [
        {
          "output_type": "stream",
          "name": "stdout",
          "text": [
            "{'apple', 'grapes', 'orange', 'banana', 'cherry', 'mango'}\n"
          ]
        }
      ]
    },
    {
      "cell_type": "code",
      "metadata": {
        "id": "DBQKvdfJk8ma",
        "colab": {
          "base_uri": "https://localhost:8080/"
        },
        "outputId": "99a3f174-eba9-40b1-e06e-9d26fe042bc2"
      },
      "source": [
        "thisset = {\"apple\", \"banana\", \"cherry\"}\n",
        "\n",
        "print(len(thisset))\n",
        "\n",
        "thisset.remove(\"banana\")\n",
        "\n",
        "print(thisset)\n",
        "print(len(thisset))"
      ],
      "execution_count": 80,
      "outputs": [
        {
          "output_type": "stream",
          "name": "stdout",
          "text": [
            "3\n",
            "{'apple', 'cherry'}\n",
            "2\n"
          ]
        }
      ]
    },
    {
      "cell_type": "markdown",
      "metadata": {
        "id": "lqzVUgmClnJ4"
      },
      "source": [
        "**Remove the last item by using the` pop()` method:**"
      ]
    },
    {
      "cell_type": "markdown",
      "source": [
        "`pop`"
      ],
      "metadata": {
        "id": "i2RoLJBauRID"
      }
    },
    {
      "cell_type": "code",
      "metadata": {
        "id": "zl1LL8kMlU0W",
        "colab": {
          "base_uri": "https://localhost:8080/"
        },
        "outputId": "4af3a250-baa9-4381-b8d3-fb3ad480e173"
      },
      "source": [
        "thisset = {\"apple\", \"banana\", \"cherry\"}\n",
        "\n",
        "x = thisset.pop()\n",
        "\n",
        "print(x)\n",
        "print(thisset)"
      ],
      "execution_count": 81,
      "outputs": [
        {
          "output_type": "stream",
          "name": "stdout",
          "text": [
            "banana\n",
            "{'apple', 'cherry'}\n"
          ]
        }
      ]
    },
    {
      "cell_type": "code",
      "metadata": {
        "id": "c9AJdnLkZzx9",
        "colab": {
          "base_uri": "https://localhost:8080/"
        },
        "outputId": "bd8b7a19-c463-4c27-9d52-5ae23647e99d"
      },
      "source": [
        "myset = set()\n",
        "\n",
        "myset.add(1)\n",
        "print(myset)\n",
        "\n",
        "myset.add(2)\n",
        "print(myset)\n",
        "\n",
        "myset.add(2)\n",
        "print(myset) #it has to be unique to get added to the set\n",
        "\n",
        "myset.add(5)\n",
        "print(myset)"
      ],
      "execution_count": 82,
      "outputs": [
        {
          "output_type": "stream",
          "name": "stdout",
          "text": [
            "{1}\n",
            "{1, 2}\n",
            "{1, 2}\n",
            "{1, 2, 5}\n"
          ]
        }
      ]
    },
    {
      "cell_type": "code",
      "metadata": {
        "id": "rr_ArHBSbSfy",
        "colab": {
          "base_uri": "https://localhost:8080/"
        },
        "outputId": "2fca720c-e552-48f8-d305-39808a8805c8"
      },
      "source": [
        "mylist = [1, 1, 1, 1, 2, 2, 3, 3, 3, 4, 5, 6, 6, 6, 7, 7, 8, 8, 9, 9]\n",
        "print(set(mylist)) "
      ],
      "execution_count": 83,
      "outputs": [
        {
          "output_type": "stream",
          "name": "stdout",
          "text": [
            "{1, 2, 3, 4, 5, 6, 7, 8, 9}\n"
          ]
        }
      ]
    },
    {
      "cell_type": "code",
      "metadata": {
        "id": "d3Hob6lndtrj",
        "colab": {
          "base_uri": "https://localhost:8080/"
        },
        "outputId": "04364d6b-a97a-4858-81a7-cec7faabe8e7"
      },
      "source": [
        "set('Mississippi')"
      ],
      "execution_count": 84,
      "outputs": [
        {
          "output_type": "execute_result",
          "data": {
            "text/plain": [
              "{'M', 'i', 'p', 's'}"
            ]
          },
          "metadata": {},
          "execution_count": 84
        }
      ]
    },
    {
      "cell_type": "markdown",
      "metadata": {
        "id": "WBAmOuILl09I"
      },
      "source": [
        "`.Union()` Joining two sets"
      ]
    },
    {
      "cell_type": "code",
      "source": [
        "A = {2, 3, 4}\n",
        "B = {1, 3, 5}\n",
        "\n",
        "# compute union \n",
        "print('A U B = {}'.format(A.union(B)))"
      ],
      "metadata": {
        "colab": {
          "base_uri": "https://localhost:8080/"
        },
        "id": "euOtX0Nmvm_0",
        "outputId": "8a1c4ed8-8e72-49b4-dc5d-a8abe57d86bf"
      },
      "execution_count": 85,
      "outputs": [
        {
          "output_type": "stream",
          "name": "stdout",
          "text": [
            "A U B = {1, 2, 3, 4, 5}\n"
          ]
        }
      ]
    },
    {
      "cell_type": "code",
      "source": [
        "A = {'a', 'b', 'c'}\n",
        "B = {'b', 'c', 3 }\n",
        "C = {1, 2, 3}\n",
        "\n",
        "print('A U B = {}'.format(A.union(B)))\n",
        "print('B U C = {}'.format(B.union(C)))\n",
        "print('A U B U C = {}'.format(A.union(B, C)))\n",
        "\n",
        "print('A.union() = {}'.format(A.union()))"
      ],
      "metadata": {
        "colab": {
          "base_uri": "https://localhost:8080/"
        },
        "id": "fa-g6s_IwlhN",
        "outputId": "af4d8513-98ba-41e0-fabb-5cc15400ef2d"
      },
      "execution_count": 86,
      "outputs": [
        {
          "output_type": "stream",
          "name": "stdout",
          "text": [
            "A U B = {'b', 'c', 3, 'a'}\n",
            "B U C = {'b', 'c', 3, 1, 2}\n",
            "A U B U C = {'b', 'c', 3, 1, 2, 'a'}\n",
            "A.union() = {'b', 'c', 'a'}\n"
          ]
        }
      ]
    },
    {
      "cell_type": "markdown",
      "metadata": {
        "id": "4T3AFyJfmz50"
      },
      "source": [
        "Using the `.update()` method to inserts the items of `set1` into `set2`:"
      ]
    },
    {
      "cell_type": "code",
      "metadata": {
        "id": "hha1Uk-smoFz",
        "colab": {
          "base_uri": "https://localhost:8080/"
        },
        "outputId": "ed13ed16-3423-42fd-f99c-ea8d24afad75"
      },
      "source": [
        "A = {2, 3, 4}\n",
        "B = {1, 3, 5}\n",
        "\n",
        "A.update(B)\n",
        "print(A)"
      ],
      "execution_count": 87,
      "outputs": [
        {
          "output_type": "stream",
          "name": "stdout",
          "text": [
            "{1, 2, 3, 4, 5}\n"
          ]
        }
      ]
    },
    {
      "cell_type": "markdown",
      "metadata": {
        "id": "B9CaBrb6eAIh"
      },
      "source": [
        "#### __Booleans__ `True/False`"
      ]
    },
    {
      "cell_type": "markdown",
      "metadata": {
        "id": "o-loBw5fgvOX"
      },
      "source": [
        "- **Booleans** are the operaters that allow you to convey **True** or **false** statements.\n",
        "\n",
        "- These are important where we have to deal with control $flow$ and $logic$!"
      ]
    },
    {
      "cell_type": "code",
      "metadata": {
        "id": "G7x2mhTlht6G",
        "colab": {
          "base_uri": "https://localhost:8080/"
        },
        "outputId": "d507809c-865f-44c0-cf9f-203cb5135666"
      },
      "source": [
        "print(type(True))\n",
        "print(type(False))"
      ],
      "execution_count": 88,
      "outputs": [
        {
          "output_type": "stream",
          "name": "stdout",
          "text": [
            "<class 'bool'>\n",
            "<class 'bool'>\n"
          ]
        }
      ]
    },
    {
      "cell_type": "code",
      "metadata": {
        "id": "Tyouukrjh-Si",
        "colab": {
          "base_uri": "https://localhost:8080/"
        },
        "outputId": "1ed124c0-51c2-41cf-ac6c-cebd0ac6abf3"
      },
      "source": [
        "1 > 2"
      ],
      "execution_count": 89,
      "outputs": [
        {
          "output_type": "execute_result",
          "data": {
            "text/plain": [
              "False"
            ]
          },
          "metadata": {},
          "execution_count": 89
        }
      ]
    },
    {
      "cell_type": "code",
      "metadata": {
        "id": "mREtcBSNiN_u",
        "colab": {
          "base_uri": "https://localhost:8080/"
        },
        "outputId": "ec56fdf6-a243-473f-a26e-9d7785a11fb2"
      },
      "source": [
        "1 == 1"
      ],
      "execution_count": 90,
      "outputs": [
        {
          "output_type": "execute_result",
          "data": {
            "text/plain": [
              "True"
            ]
          },
          "metadata": {},
          "execution_count": 90
        }
      ]
    },
    {
      "cell_type": "code",
      "metadata": {
        "id": "fvytpaShiVq3",
        "colab": {
          "base_uri": "https://localhost:8080/"
        },
        "outputId": "f864cff4-bd87-4dd9-ab55-652b804db1ed"
      },
      "source": [
        "b = None #used as a placeholder\n",
        "print(b)"
      ],
      "execution_count": 91,
      "outputs": [
        {
          "output_type": "stream",
          "name": "stdout",
          "text": [
            "None\n"
          ]
        }
      ]
    },
    {
      "cell_type": "markdown",
      "metadata": {
        "id": "2uh8xHGqqXxj"
      },
      "source": [
        "### __6. I/O with Basic Files in Python__"
      ]
    },
    {
      "cell_type": "code",
      "metadata": {
        "id": "Ip8ueqQ48r2t",
        "colab": {
          "base_uri": "https://localhost:8080/"
        },
        "outputId": "e88e699f-9df7-4792-ad7e-e7ea350a6789"
      },
      "source": [
        "# writing my file\n",
        "%%writefile myfile.txt\n",
        "“Democracy is not a state. It is an act, and each generation must do its part.”"
      ],
      "execution_count": 92,
      "outputs": [
        {
          "output_type": "stream",
          "name": "stdout",
          "text": [
            "Writing myfile.txt\n"
          ]
        }
      ]
    },
    {
      "cell_type": "code",
      "metadata": {
        "id": "WOB7s-JhAkjI",
        "colab": {
          "base_uri": "https://localhost:8080/"
        },
        "outputId": "4c0918a9-d916-4c44-e2f6-5d11db95b995"
      },
      "source": [
        "ls"
      ],
      "execution_count": 93,
      "outputs": [
        {
          "output_type": "stream",
          "name": "stdout",
          "text": [
            "myfile.txt  \u001b[0m\u001b[01;34msample_data\u001b[0m/\n"
          ]
        }
      ]
    },
    {
      "cell_type": "code",
      "metadata": {
        "id": "M6OgXYDoAnWB",
        "colab": {
          "base_uri": "https://localhost:8080/",
          "height": 35
        },
        "outputId": "dee2bbbb-f3c3-4813-8984-ded00246bbf1"
      },
      "source": [
        "pwd"
      ],
      "execution_count": 94,
      "outputs": [
        {
          "output_type": "execute_result",
          "data": {
            "text/plain": [
              "'/content'"
            ],
            "application/vnd.google.colaboratory.intrinsic+json": {
              "type": "string"
            }
          },
          "metadata": {},
          "execution_count": 94
        }
      ]
    },
    {
      "cell_type": "code",
      "metadata": {
        "id": "SiXvUxwu_8uz"
      },
      "source": [
        "myfile = open('/content/myfile.txt')"
      ],
      "execution_count": 95,
      "outputs": []
    },
    {
      "cell_type": "code",
      "metadata": {
        "id": "qXBHwfvgHYBC",
        "colab": {
          "base_uri": "https://localhost:8080/",
          "height": 35
        },
        "outputId": "b16ae3bc-0846-4caa-f0e1-0f484a48380f"
      },
      "source": [
        "#this will output everything as a single string\n",
        "myfile.read()"
      ],
      "execution_count": 96,
      "outputs": [
        {
          "output_type": "execute_result",
          "data": {
            "text/plain": [
              "'“Democracy is not a state. It is an act, and each generation must do its part.”'"
            ],
            "application/vnd.google.colaboratory.intrinsic+json": {
              "type": "string"
            }
          },
          "metadata": {},
          "execution_count": 96
        }
      ]
    },
    {
      "cell_type": "markdown",
      "metadata": {
        "id": "KT8PpY1cH5ID"
      },
      "source": [
        "> if we run this again we recive an `empty string` this happen **because there a cursor at the begining of a file and when you read it the cursor goes all the way to the end**.\n",
        "        \n"
      ]
    },
    {
      "cell_type": "code",
      "metadata": {
        "id": "U7h07PZAHpc8",
        "colab": {
          "base_uri": "https://localhost:8080/",
          "height": 35
        },
        "outputId": "366e1b0f-5108-4d75-8797-46855fcab1e0"
      },
      "source": [
        "myfile.read() "
      ],
      "execution_count": 97,
      "outputs": [
        {
          "output_type": "execute_result",
          "data": {
            "text/plain": [
              "''"
            ],
            "application/vnd.google.colaboratory.intrinsic+json": {
              "type": "string"
            }
          },
          "metadata": {},
          "execution_count": 97
        }
      ]
    },
    {
      "cell_type": "markdown",
      "metadata": {
        "id": "Bcs3vf27Ix7r"
      },
      "source": [
        "In order to read this file again we have to **reset the cursor**"
      ]
    },
    {
      "cell_type": "code",
      "metadata": {
        "id": "vxEHfaB_JAEr",
        "colab": {
          "base_uri": "https://localhost:8080/"
        },
        "outputId": "e57f63b9-63a9-42ca-b4bb-3bac3ef4281b"
      },
      "source": [
        "# Reseting the cursor\n",
        "myfile.seek(0)"
      ],
      "execution_count": 98,
      "outputs": [
        {
          "output_type": "execute_result",
          "data": {
            "text/plain": [
              "0"
            ]
          },
          "metadata": {},
          "execution_count": 98
        }
      ]
    },
    {
      "cell_type": "code",
      "metadata": {
        "id": "g3D97zHvJJMC",
        "colab": {
          "base_uri": "https://localhost:8080/",
          "height": 35
        },
        "outputId": "5b39d039-4b05-4c21-8e37-9e3580bc6f44"
      },
      "source": [
        "myfile.read()"
      ],
      "execution_count": 99,
      "outputs": [
        {
          "output_type": "execute_result",
          "data": {
            "text/plain": [
              "'“Democracy is not a state. It is an act, and each generation must do its part.”'"
            ],
            "application/vnd.google.colaboratory.intrinsic+json": {
              "type": "string"
            }
          },
          "metadata": {},
          "execution_count": 99
        }
      ]
    },
    {
      "cell_type": "code",
      "metadata": {
        "id": "6oKwrumRRJdz",
        "colab": {
          "base_uri": "https://localhost:8080/"
        },
        "outputId": "95f09047-e48e-4847-8cd2-921bf6b7bfbd"
      },
      "source": [
        "myfile.seek(0)\n",
        "myfile.readlines()"
      ],
      "execution_count": 100,
      "outputs": [
        {
          "output_type": "execute_result",
          "data": {
            "text/plain": [
              "['“Democracy is not a state. It is an act, and each generation must do its part.”']"
            ]
          },
          "metadata": {},
          "execution_count": 100
        }
      ]
    },
    {
      "cell_type": "code",
      "metadata": {
        "id": "BWMV_0n5Rgs1"
      },
      "source": [
        "#closing the file\n",
        "myfile.close()"
      ],
      "execution_count": 101,
      "outputs": []
    },
    {
      "cell_type": "markdown",
      "metadata": {
        "id": "Lyna7NhXeq2a"
      },
      "source": [
        "> __So any code within the indented code of block will use myfile as a varible of this text file$\\downarrow$__\n",
        "\n"
      ]
    },
    {
      "cell_type": "code",
      "metadata": {
        "id": "vpNFqK6jdSJl",
        "colab": {
          "base_uri": "https://localhost:8080/"
        },
        "outputId": "6e65bc61-f36c-4210-8e19-bae36c20bc84"
      },
      "source": [
        "with open('/content/myfile.txt') as my_new_file:\n",
        "    content = my_new_file.read() \n",
        "print(content)                                          "
      ],
      "execution_count": 102,
      "outputs": [
        {
          "output_type": "stream",
          "name": "stdout",
          "text": [
            "“Democracy is not a state. It is an act, and each generation must do its part.”\n"
          ]
        }
      ]
    },
    {
      "cell_type": "code",
      "metadata": {
        "id": "JhRa6q8Gzhvb",
        "colab": {
          "base_uri": "https://localhost:8080/"
        },
        "outputId": "afc0b082-6833-4c09-c091-52d77fa271d1"
      },
      "source": [
        "with open('/content/myfile.txt', mode = 'r') as myfile:\n",
        "    content = myfile.read()\n",
        "print(content)"
      ],
      "execution_count": 103,
      "outputs": [
        {
          "output_type": "stream",
          "name": "stdout",
          "text": [
            "“Democracy is not a state. It is an act, and each generation must do its part.”\n"
          ]
        }
      ]
    },
    {
      "cell_type": "code",
      "metadata": {
        "id": "ekUZMMSo01fe",
        "colab": {
          "base_uri": "https://localhost:8080/"
        },
        "outputId": "562fb62f-6316-4f3d-da57-5bd5ff29423f"
      },
      "source": [
        "#overwriting the files\n",
        "%%writefile myfile.txt\n",
        "One On first\n",
        "Two On second\n",
        "Three On Third"
      ],
      "execution_count": 104,
      "outputs": [
        {
          "output_type": "stream",
          "name": "stdout",
          "text": [
            "Overwriting myfile.txt\n"
          ]
        }
      ]
    },
    {
      "cell_type": "code",
      "metadata": {
        "id": "CYLeDowy1OFi",
        "colab": {
          "base_uri": "https://localhost:8080/"
        },
        "outputId": "4a8f8451-4a9f-4bc5-b0e4-de0ac3a94369"
      },
      "source": [
        "with open('/content/myfile.txt', mode = 'r') as f:\n",
        "    print(f.read())"
      ],
      "execution_count": 105,
      "outputs": [
        {
          "output_type": "stream",
          "name": "stdout",
          "text": [
            "One On first\n",
            "Two On second\n",
            "Three On Third\n"
          ]
        }
      ]
    },
    {
      "cell_type": "code",
      "metadata": {
        "id": "Il7hhHap2UEx"
      },
      "source": [
        "# Adding the new line to this \n",
        "\n",
        "with open('/content/myfile', mode = 'a') as f:\n",
        "    f.write('\\nFour On Forth')\n"
      ],
      "execution_count": 106,
      "outputs": []
    },
    {
      "cell_type": "code",
      "metadata": {
        "id": "CnHcdh0q6OzB",
        "colab": {
          "base_uri": "https://localhost:8080/"
        },
        "outputId": "f0139662-8faf-4553-8f97-029bccb157e6"
      },
      "source": [
        "with open('/content/myfile.txt', mode = 'r') as f:\n",
        "    print(f.read())"
      ],
      "execution_count": 107,
      "outputs": [
        {
          "output_type": "stream",
          "name": "stdout",
          "text": [
            "One On first\n",
            "Two On second\n",
            "Three On Third\n"
          ]
        }
      ]
    },
    {
      "cell_type": "code",
      "metadata": {
        "id": "u-XToBr-6s4T"
      },
      "source": [
        "with open('/content/xyz.txt', mode = 'w') as f:\n",
        "    f.write('I created a new file')"
      ],
      "execution_count": 108,
      "outputs": []
    },
    {
      "cell_type": "code",
      "metadata": {
        "id": "SBXuLCCl7Qma",
        "colab": {
          "base_uri": "https://localhost:8080/"
        },
        "outputId": "55acae3d-7373-47e0-c8d1-0e3e9e656b6a"
      },
      "source": [
        "with open('/content/xyz.txt', mode = 'r') as f:\n",
        "    print(f.read())"
      ],
      "execution_count": 109,
      "outputs": [
        {
          "output_type": "stream",
          "name": "stdout",
          "text": [
            "I created a new file\n"
          ]
        }
      ]
    },
    {
      "cell_type": "markdown",
      "metadata": {
        "id": "9MH3wrztyJFw"
      },
      "source": [
        "### __7. Operaters__"
      ]
    },
    {
      "cell_type": "markdown",
      "metadata": {
        "id": "hqLWgr7DgPkV"
      },
      "source": [
        "1. __Arithmetic operators__\n",
        "2. __Assignment operators__\n",
        "3. __Comparison Operators__\n",
        "4. __Logical Operators__\n",
        "5. __Identity Operators__\n",
        "6. __Membership Operators__\n",
        "7. __Bitwise__"
      ]
    },
    {
      "cell_type": "code",
      "metadata": {
        "id": "Wk_ATpMFhrZ2",
        "colab": {
          "base_uri": "https://localhost:8080/"
        },
        "outputId": "00f2c151-06b4-482b-df8c-495697843a8b"
      },
      "source": [
        "# What Boolean will be the output of the following:\n",
        "2 < 3 > 10"
      ],
      "execution_count": 110,
      "outputs": [
        {
          "output_type": "execute_result",
          "data": {
            "text/plain": [
              "False"
            ]
          },
          "metadata": {},
          "execution_count": 110
        }
      ]
    },
    {
      "cell_type": "code",
      "metadata": {
        "id": "p-bPE9iUhzGU",
        "colab": {
          "base_uri": "https://localhost:8080/"
        },
        "outputId": "475c10e8-8acf-4bc0-8889-b1f37e6b00bd"
      },
      "source": [
        "# What Boolean will be the output of the following:\n",
        "2 <= 3 >= 1"
      ],
      "execution_count": 111,
      "outputs": [
        {
          "output_type": "execute_result",
          "data": {
            "text/plain": [
              "True"
            ]
          },
          "metadata": {},
          "execution_count": 111
        }
      ]
    },
    {
      "cell_type": "code",
      "metadata": {
        "id": "ejH1lXOyV48T",
        "colab": {
          "base_uri": "https://localhost:8080/"
        },
        "outputId": "0af8c701-ac6a-4548-af26-2b884b6391c9"
      },
      "source": [
        "1 < 2 and 2 < 3"
      ],
      "execution_count": 112,
      "outputs": [
        {
          "output_type": "execute_result",
          "data": {
            "text/plain": [
              "True"
            ]
          },
          "metadata": {},
          "execution_count": 112
        }
      ]
    },
    {
      "cell_type": "code",
      "metadata": {
        "id": "iA3_wimsdMvA",
        "colab": {
          "base_uri": "https://localhost:8080/"
        },
        "outputId": "ef5ba0bf-e405-4f5a-cf1e-107e9310fee3"
      },
      "source": [
        "'h' == 'h' and 2 == 2"
      ],
      "execution_count": 113,
      "outputs": [
        {
          "output_type": "execute_result",
          "data": {
            "text/plain": [
              "True"
            ]
          },
          "metadata": {},
          "execution_count": 113
        }
      ]
    },
    {
      "cell_type": "code",
      "metadata": {
        "id": "i3sJqJV1dp9n",
        "colab": {
          "base_uri": "https://localhost:8080/"
        },
        "outputId": "4d104738-98bd-4f20-e946-608a4e748fc5"
      },
      "source": [
        "100 == 200 or 2 == 2"
      ],
      "execution_count": 114,
      "outputs": [
        {
          "output_type": "execute_result",
          "data": {
            "text/plain": [
              "True"
            ]
          },
          "metadata": {},
          "execution_count": 114
        }
      ]
    },
    {
      "cell_type": "code",
      "metadata": {
        "id": "dkPIgqhhdvhn",
        "colab": {
          "base_uri": "https://localhost:8080/"
        },
        "outputId": "14692d31-a933-4742-92df-13a38eb00806"
      },
      "source": [
        "1 == 1"
      ],
      "execution_count": 115,
      "outputs": [
        {
          "output_type": "execute_result",
          "data": {
            "text/plain": [
              "True"
            ]
          },
          "metadata": {},
          "execution_count": 115
        }
      ]
    },
    {
      "cell_type": "code",
      "metadata": {
        "id": "7XfbhQ52dxzr",
        "colab": {
          "base_uri": "https://localhost:8080/"
        },
        "outputId": "fefada31-b8ae-4499-ca72-1ba26fbb3d8d"
      },
      "source": [
        "1 != 1"
      ],
      "execution_count": 116,
      "outputs": [
        {
          "output_type": "execute_result",
          "data": {
            "text/plain": [
              "False"
            ]
          },
          "metadata": {},
          "execution_count": 116
        }
      ]
    },
    {
      "cell_type": "code",
      "metadata": {
        "id": "4bdUM_0-d80H",
        "colab": {
          "base_uri": "https://localhost:8080/"
        },
        "outputId": "9f81bc55-44b4-4161-be2b-05d64d564428"
      },
      "source": [
        "not 1 == 1"
      ],
      "execution_count": 117,
      "outputs": [
        {
          "output_type": "execute_result",
          "data": {
            "text/plain": [
              "False"
            ]
          },
          "metadata": {},
          "execution_count": 117
        }
      ]
    },
    {
      "cell_type": "code",
      "metadata": {
        "id": "CCSQavphhXVN",
        "colab": {
          "base_uri": "https://localhost:8080/"
        },
        "outputId": "ad43d2f3-6e30-436f-9821-55790d8a3e61"
      },
      "source": [
        "not 400 > 3000"
      ],
      "execution_count": 118,
      "outputs": [
        {
          "output_type": "execute_result",
          "data": {
            "text/plain": [
              "True"
            ]
          },
          "metadata": {},
          "execution_count": 118
        }
      ]
    },
    {
      "cell_type": "markdown",
      "metadata": {
        "id": "7Z78Sx0f_v8e"
      },
      "source": [
        "### __8. Control Flow__"
      ]
    },
    {
      "cell_type": "markdown",
      "metadata": {
        "id": "ykmHV-SJsck3"
      },
      "source": [
        "**Python Loops**\n",
        "\n",
        "Python has two primitive loop commands:\n",
        "\n",
        "- `while` loops\n",
        "- `for` loops\n"
      ]
    },
    {
      "cell_type": "markdown",
      "metadata": {
        "id": "4Ezte2QvGe69"
      },
      "source": [
        "#### a. `while ` __Loop__"
      ]
    },
    {
      "cell_type": "markdown",
      "metadata": {
        "id": "Bz91CHuhGvS3"
      },
      "source": [
        "<strong><font size = 5 color ='red' >Note:<font><strong>\n",
        "\n",
        "Remember to increment `i`, or else the loop will continue forever.\n",
        "\n"
      ]
    },
    {
      "cell_type": "code",
      "metadata": {
        "id": "zT2k0n4Tssor",
        "colab": {
          "base_uri": "https://localhost:8080/"
        },
        "outputId": "f5b44226-bed7-4acb-b84f-bfaf5e0a00d5"
      },
      "source": [
        "i = 1\n",
        "\n",
        "while i < 6:\n",
        "    print(i)\n",
        "    i += 1"
      ],
      "execution_count": 119,
      "outputs": [
        {
          "output_type": "stream",
          "name": "stdout",
          "text": [
            "1\n",
            "2\n",
            "3\n",
            "4\n",
            "5\n"
          ]
        }
      ]
    },
    {
      "cell_type": "markdown",
      "metadata": {
        "id": "zJJuikHp-2WG"
      },
      "source": [
        "`break` Statement"
      ]
    },
    {
      "cell_type": "code",
      "metadata": {
        "id": "OXxhWnYE-j1H",
        "colab": {
          "base_uri": "https://localhost:8080/"
        },
        "outputId": "d6c1fca7-ab00-4c16-dd53-00aaa908047e"
      },
      "source": [
        "i = 1\n",
        "\n",
        "while i < 6:\n",
        "    print(i)\n",
        "    i += 1\n",
        "    if i == 4:\n",
        "        break"
      ],
      "execution_count": 120,
      "outputs": [
        {
          "output_type": "stream",
          "name": "stdout",
          "text": [
            "1\n",
            "2\n",
            "3\n"
          ]
        }
      ]
    },
    {
      "cell_type": "code",
      "metadata": {
        "id": "GUCoka35H5SJ",
        "colab": {
          "base_uri": "https://localhost:8080/"
        },
        "outputId": "f1fc21ed-8bec-49d2-e69c-ec23b5f99b48"
      },
      "source": [
        "i = 1\n",
        "\n",
        "while i < 6:\n",
        "    print(i)\n",
        "    if i == 4:\n",
        "        break\n",
        "    i += 1"
      ],
      "execution_count": 121,
      "outputs": [
        {
          "output_type": "stream",
          "name": "stdout",
          "text": [
            "1\n",
            "2\n",
            "3\n",
            "4\n"
          ]
        }
      ]
    },
    {
      "cell_type": "markdown",
      "metadata": {
        "id": "o7T6ja1JHhcV"
      },
      "source": [
        "`continue` Statement"
      ]
    },
    {
      "cell_type": "code",
      "metadata": {
        "id": "YkDn4vhYHkvB",
        "colab": {
          "base_uri": "https://localhost:8080/"
        },
        "outputId": "7120dde9-73f9-4b34-be8c-f0163464fe6b"
      },
      "source": [
        "i = 0\n",
        "while i < 6:\n",
        "    i += 1\n",
        "    if i == 4:   # we can stop the current iteration\n",
        "        continue # continue with the next:\n",
        "    print(i)   "
      ],
      "execution_count": 122,
      "outputs": [
        {
          "output_type": "stream",
          "name": "stdout",
          "text": [
            "1\n",
            "2\n",
            "3\n",
            "5\n",
            "6\n"
          ]
        }
      ]
    },
    {
      "cell_type": "markdown",
      "metadata": {
        "id": "_ge5UJzHOMuh"
      },
      "source": [
        "`else` Statement"
      ]
    },
    {
      "cell_type": "code",
      "metadata": {
        "id": "gb8pDjj3OMD3",
        "colab": {
          "base_uri": "https://localhost:8080/"
        },
        "outputId": "a3e31488-d767-4e77-a099-68b205e78cca"
      },
      "source": [
        "i = 1\n",
        "while i < 6:\n",
        "    print(i)\n",
        "    i += 1\n",
        "else:\n",
        "    print('i is no longer less then 6')"
      ],
      "execution_count": 123,
      "outputs": [
        {
          "output_type": "stream",
          "name": "stdout",
          "text": [
            "1\n",
            "2\n",
            "3\n",
            "4\n",
            "5\n",
            "i is no longer less then 6\n"
          ]
        }
      ]
    },
    {
      "cell_type": "markdown",
      "metadata": {
        "id": "8eVkrvwSPa87"
      },
      "source": [
        "#### b. `for` __loop__"
      ]
    },
    {
      "cell_type": "markdown",
      "metadata": {
        "id": "x54BRHw1P7fP"
      },
      "source": [
        "A **for loop** is used for iterating over a sequence (that is either a `list`, a `tuple`, a `dict`, a `set`, or a `str`)."
      ]
    },
    {
      "cell_type": "code",
      "metadata": {
        "id": "4yaIOJNIPZ1a",
        "colab": {
          "base_uri": "https://localhost:8080/"
        },
        "outputId": "af20f355-b213-4a34-e521-b9644a9adb74"
      },
      "source": [
        "# Looping over a list\n",
        "\n",
        "thelist = ['apple', 'banana', 'orange']\n",
        "\n",
        "for i in thelist:\n",
        "    print(i)"
      ],
      "execution_count": 124,
      "outputs": [
        {
          "output_type": "stream",
          "name": "stdout",
          "text": [
            "apple\n",
            "banana\n",
            "orange\n"
          ]
        }
      ]
    },
    {
      "cell_type": "code",
      "metadata": {
        "id": "SCml9OAZVNcS",
        "colab": {
          "base_uri": "https://localhost:8080/"
        },
        "outputId": "571cbc17-8a67-49d3-af1b-e1bf30aa31ad"
      },
      "source": [
        "# Looping over a string\n",
        "\n",
        "for i in 'cat':\n",
        "    print(i)"
      ],
      "execution_count": 125,
      "outputs": [
        {
          "output_type": "stream",
          "name": "stdout",
          "text": [
            "c\n",
            "a\n",
            "t\n"
          ]
        }
      ]
    },
    {
      "cell_type": "code",
      "metadata": {
        "id": "Xh7lVvx1VfIf",
        "colab": {
          "base_uri": "https://localhost:8080/"
        },
        "outputId": "a7195e89-1f39-4169-f61a-b1b465518811"
      },
      "source": [
        "# The break Statement\n",
        "\n",
        "thelist = [1, 2, 3, 4, 5]\n",
        "for i in thelist:\n",
        "    print(i)\n",
        "    if i == 4:\n",
        "        break"
      ],
      "execution_count": 126,
      "outputs": [
        {
          "output_type": "stream",
          "name": "stdout",
          "text": [
            "1\n",
            "2\n",
            "3\n",
            "4\n"
          ]
        }
      ]
    },
    {
      "cell_type": "code",
      "metadata": {
        "id": "YzGjBeyBZt-Q",
        "colab": {
          "base_uri": "https://localhost:8080/"
        },
        "outputId": "3248a792-6235-4a6b-c308-8560f396e915"
      },
      "source": [
        "thelist = [1, 2, 'a', 4, 5, 'b']\n",
        "\n",
        "for i in thelist:\n",
        "    if i == 'a':\n",
        "        break\n",
        "    print(i) "
      ],
      "execution_count": 127,
      "outputs": [
        {
          "output_type": "stream",
          "name": "stdout",
          "text": [
            "1\n",
            "2\n"
          ]
        }
      ]
    },
    {
      "cell_type": "code",
      "metadata": {
        "id": "oniS1_K8aeSt",
        "colab": {
          "base_uri": "https://localhost:8080/"
        },
        "outputId": "5de7e2db-320d-4051-bce7-6ffe50844b05"
      },
      "source": [
        "# Continue Statement\n",
        "\n",
        "thelist = [1, 2, 'a', 4, 5, 'b']\n",
        "\n",
        "for i in thelist:\n",
        "    if i == 'a':\n",
        "        continue\n",
        "    print(i)"
      ],
      "execution_count": 128,
      "outputs": [
        {
          "output_type": "stream",
          "name": "stdout",
          "text": [
            "1\n",
            "2\n",
            "4\n",
            "5\n",
            "b\n"
          ]
        }
      ]
    },
    {
      "cell_type": "markdown",
      "source": [
        "`range()` $\\Rightarrow$  The `range()` function returns a sequence of numbers, starting from `0` by default, and increments by `1` (by default), and stops before a specified number"
      ],
      "metadata": {
        "id": "TvqQGJ_q7_Yq"
      }
    },
    {
      "cell_type": "markdown",
      "source": [
        "```python\n",
        "range(4)        # [0, 1, 2, 3] 0 through 4, excluding 4\n",
        "range(1, 4)     # [1, 2, 3] 1 through 4, excluding 4\n",
        "range(1, 10, 2) # [1, 3, 5, 7, 9] 1 through 10, counting by 2s\n",
        "```"
      ],
      "metadata": {
        "id": "dXtyaP5Y-D_I"
      }
    },
    {
      "cell_type": "code",
      "source": [
        "for i in range(4):\n",
        "    print(i)"
      ],
      "metadata": {
        "colab": {
          "base_uri": "https://localhost:8080/"
        },
        "id": "VB8fDZXo-r2_",
        "outputId": "6594d7b5-5a40-4626-f10c-4e34360c7bea"
      },
      "execution_count": 129,
      "outputs": [
        {
          "output_type": "stream",
          "name": "stdout",
          "text": [
            "0\n",
            "1\n",
            "2\n",
            "3\n"
          ]
        }
      ]
    },
    {
      "cell_type": "code",
      "source": [
        "for i in range(1, 4):\n",
        "    print(i)"
      ],
      "metadata": {
        "colab": {
          "base_uri": "https://localhost:8080/"
        },
        "id": "QlZpIPxd-tC-",
        "outputId": "9226d169-7ec7-4d1a-c6fd-013ee71452df"
      },
      "execution_count": 130,
      "outputs": [
        {
          "output_type": "stream",
          "name": "stdout",
          "text": [
            "1\n",
            "2\n",
            "3\n"
          ]
        }
      ]
    },
    {
      "cell_type": "code",
      "source": [
        "for i in range(1, 10, 2):\n",
        "    print(i)"
      ],
      "metadata": {
        "colab": {
          "base_uri": "https://localhost:8080/"
        },
        "id": "YTjLQaKI-tsO",
        "outputId": "e784813e-f42b-4f6c-b9f9-045108c61364"
      },
      "execution_count": 131,
      "outputs": [
        {
          "output_type": "stream",
          "name": "stdout",
          "text": [
            "1\n",
            "3\n",
            "5\n",
            "7\n",
            "9\n"
          ]
        }
      ]
    },
    {
      "cell_type": "markdown",
      "source": [
        "```python\n",
        "range(inclusive, exclusive)\n",
        "range(0, 3) # 0, 1, 2\n",
        "```"
      ],
      "metadata": {
        "id": "eBa3tWPG-L83"
      }
    },
    {
      "cell_type": "code",
      "metadata": {
        "id": "c6is3JOdeXGG",
        "colab": {
          "base_uri": "https://localhost:8080/"
        },
        "outputId": "0ef60218-ff13-415a-a750-5885412eec59"
      },
      "source": [
        "# Range function\n",
        "\n",
        "for i in range(0,10,3):\n",
        "    print(i)\n",
        "else:\n",
        "    print('Finally Finished')"
      ],
      "execution_count": 132,
      "outputs": [
        {
          "output_type": "stream",
          "name": "stdout",
          "text": [
            "0\n",
            "3\n",
            "6\n",
            "9\n",
            "Finally Finished\n"
          ]
        }
      ]
    },
    {
      "cell_type": "markdown",
      "source": [
        "**Nested loop**"
      ],
      "metadata": {
        "id": "hpDpndj68Flh"
      }
    },
    {
      "cell_type": "code",
      "metadata": {
        "id": "sddtKv4ffj9c",
        "colab": {
          "base_uri": "https://localhost:8080/"
        },
        "outputId": "39027550-16f7-46cc-9265-feafc00ed583"
      },
      "source": [
        "# Nested loops\n",
        "\n",
        "list_1 = [1, 2, 3]\n",
        "list_2 = ['a', 'b', 'c']\n",
        "\n",
        "for i in list_1:\n",
        "    for j in list_2:\n",
        "        print(i, j)"
      ],
      "execution_count": 133,
      "outputs": [
        {
          "output_type": "stream",
          "name": "stdout",
          "text": [
            "1 a\n",
            "1 b\n",
            "1 c\n",
            "2 a\n",
            "2 b\n",
            "2 c\n",
            "3 a\n",
            "3 b\n",
            "3 c\n"
          ]
        }
      ]
    },
    {
      "cell_type": "markdown",
      "metadata": {
        "id": "VTZVMN3BkZiC"
      },
      "source": [
        "`for` loops cannot be **empty**, but if for some reason we want have a `for` loop with **NO CONTENT** for later use, put in the `pass` statement to avoid getting an error."
      ]
    },
    {
      "cell_type": "code",
      "metadata": {
        "id": "vewhO-obkKh4"
      },
      "source": [
        "# Pass Statement\n",
        "\n",
        "for x in [0, 1, 2]:\n",
        "  pass"
      ],
      "execution_count": 134,
      "outputs": []
    },
    {
      "cell_type": "markdown",
      "metadata": {
        "id": "zT3NAYKemNOI"
      },
      "source": [
        "### **Genrating Random Number**"
      ]
    },
    {
      "cell_type": "markdown",
      "source": [
        "Python range syntax\n",
        "```\n",
        "range(stop)\n",
        "range(start, stop, step)\n",
        "```"
      ],
      "metadata": {
        "id": "k6a-A8-DcgIr"
      }
    },
    {
      "cell_type": "markdown",
      "source": [
        "`random.randint`"
      ],
      "metadata": {
        "id": "Whwn61ZRYw-r"
      }
    },
    {
      "cell_type": "code",
      "metadata": {
        "id": "aHscESr6_qxd",
        "colab": {
          "base_uri": "https://localhost:8080/"
        },
        "outputId": "ee54a968-b9ed-4593-b43d-4e31ca490fb7"
      },
      "source": [
        "import random\n",
        "\n",
        "n = random.randint(0, 100)\n",
        "print(n)"
      ],
      "execution_count": 135,
      "outputs": [
        {
          "output_type": "stream",
          "name": "stdout",
          "text": [
            "39\n"
          ]
        }
      ]
    },
    {
      "cell_type": "code",
      "metadata": {
        "id": "vYMTQmLB432L",
        "colab": {
          "base_uri": "https://localhost:8080/"
        },
        "outputId": "ab2d66a7-5cca-4267-c2c5-b772d7e127f0"
      },
      "source": [
        "import random\n",
        "randomlist = []\n",
        "\n",
        "for i in range(0, 5):        # length of the random list\n",
        "    n = random.randint(0,100)\n",
        "    randomlist.append(n)\n",
        "\n",
        "print(\"Random list: {}\".format(randomlist))"
      ],
      "execution_count": 136,
      "outputs": [
        {
          "output_type": "stream",
          "name": "stdout",
          "text": [
            "Random list: [4, 35, 68, 9, 63]\n"
          ]
        }
      ]
    },
    {
      "cell_type": "markdown",
      "source": [
        "`, end = \"\"` appends space instead of newline.\n",
        "\n",
        "```python \n",
        "print(\"There is no line break here!\", end=\"\")\n",
        "```"
      ],
      "metadata": {
        "id": "NgJQvet1XrlP"
      }
    },
    {
      "cell_type": "markdown",
      "source": [
        "`.choice`"
      ],
      "metadata": {
        "id": "73QPoFKjWD__"
      }
    },
    {
      "cell_type": "code",
      "metadata": {
        "id": "4rcr0H0Jmi1v",
        "colab": {
          "base_uri": "https://localhost:8080/"
        },
        "outputId": "17039141-e99f-48bb-984f-99bb6e68f70b"
      },
      "source": [
        "print(\"A random number from list  : \", end = \" \") \n",
        "print(random.choice([1, 2, 3, 4, 5, 6]))"
      ],
      "execution_count": 137,
      "outputs": [
        {
          "output_type": "stream",
          "name": "stdout",
          "text": [
            "A random number from list  :  4\n"
          ]
        }
      ]
    },
    {
      "cell_type": "markdown",
      "source": [
        "`.randrange`"
      ],
      "metadata": {
        "id": "o0UZjc8jWGre"
      }
    },
    {
      "cell_type": "code",
      "metadata": {
        "id": "dNQhPIYyp6l5",
        "colab": {
          "base_uri": "https://localhost:8080/"
        },
        "outputId": "11ce7c30-1fc8-4539-a94d-e88d5713aa5a"
      },
      "source": [
        "print(\"A random number from range  : \", end =\" \") \n",
        "print(\"A random number from range  : \", random.randrange(0, 10, 2)) "
      ],
      "execution_count": 138,
      "outputs": [
        {
          "output_type": "stream",
          "name": "stdout",
          "text": [
            "A random number from range  :  A random number from range  :  8\n"
          ]
        }
      ]
    },
    {
      "cell_type": "markdown",
      "source": [
        "`.random.random`"
      ],
      "metadata": {
        "id": "7MTWFfGwWQ0A"
      }
    },
    {
      "cell_type": "code",
      "metadata": {
        "id": "SL8fvd5KqFa5",
        "colab": {
          "base_uri": "https://localhost:8080/"
        },
        "outputId": "0abc24de-2ae5-4433-fa4e-c000cbfb46dc"
      },
      "source": [
        "# This function generates a float random number\n",
        "# less than 1 and also greater than or equal to 0.\n",
        "\n",
        "print(random.random())"
      ],
      "execution_count": 139,
      "outputs": [
        {
          "output_type": "stream",
          "name": "stdout",
          "text": [
            "0.19817209482797948\n"
          ]
        }
      ]
    },
    {
      "cell_type": "markdown",
      "metadata": {
        "id": "UZgjcOFgqXIR"
      },
      "source": [
        "`shuffle()`"
      ]
    },
    {
      "cell_type": "code",
      "metadata": {
        "id": "adye4e_bqcRu",
        "colab": {
          "base_uri": "https://localhost:8080/"
        },
        "outputId": "dd0ec7ee-7e25-4bb2-ac33-dcba50829885"
      },
      "source": [
        "list_1 = [1, 3, 5, 10, 4] \n",
        "\n",
        "print(f\"length of list = {len(list_1)}\")\n",
        "\n",
        "\n",
        "print(\"list before shuffling : \", end= \"\") \n",
        "\n",
        "for x in range(0, len(list_1)): \n",
        "   print(list_1[x], end=\" \")\n",
        "\n",
        "# adding the new line\n",
        "print(\"\\n\")\n",
        "\n",
        "random.shuffle(list_1)\n",
        "\n",
        "print(\"list after shuffling  : \", end= \"\") \n",
        "\n",
        "for x in range(0, len(list_1)): \n",
        "   print(list_1[x], end=\" \")"
      ],
      "execution_count": 140,
      "outputs": [
        {
          "output_type": "stream",
          "name": "stdout",
          "text": [
            "length of list = 5\n",
            "list before shuffling : 1 3 5 10 4 \n",
            "\n",
            "list after shuffling  : 5 10 1 4 3 "
          ]
        }
      ]
    },
    {
      "cell_type": "code",
      "metadata": {
        "id": "gwwXd_UsrkIs",
        "colab": {
          "base_uri": "https://localhost:8080/"
        },
        "outputId": "22edaf6c-eefe-487d-ffb6-4cf8a04569e3"
      },
      "source": [
        "list_1 = [1, 3, 5, 10, 4] \n",
        "\n",
        "print(\"list before shuffling : \")\n",
        "\n",
        "for x in range(0, 5): \n",
        "   print(list_1[x]) \n",
        "   \n",
        "print('\\n')\n",
        "\n",
        "random.shuffle(list_1) \n",
        "print(\"After shuffling\") \n",
        "\n",
        "for x in range(0, 5): \n",
        "   print(list_1[x])"
      ],
      "execution_count": 141,
      "outputs": [
        {
          "output_type": "stream",
          "name": "stdout",
          "text": [
            "list before shuffling : \n",
            "1\n",
            "3\n",
            "5\n",
            "10\n",
            "4\n",
            "\n",
            "\n",
            "After shuffling\n",
            "5\n",
            "3\n",
            "10\n",
            "1\n",
            "4\n"
          ]
        }
      ]
    },
    {
      "cell_type": "markdown",
      "source": [
        "```python\n",
        "print(list(own_range(0, 10, 2)))\n",
        "```\n",
        "this wiil genrate the value error\n",
        "```python\n",
        "---------------------------------------------------------------------------\n",
        "ValueError                                Traceback (most recent call last)\n",
        "<ipython-input-96-c54805a4dc08> in <module>()\n",
        "     15                         start += step\n",
        "     16 \n",
        "---> 17 print(list(own_range(0, 10, 0)))\n",
        "\n",
        "<ipython-input-96-c54805a4dc08> in own_range(start, end, step)\n",
        "      1 def own_range(start=0, end=0, step=1):\n",
        "      2         if step == 0:\n",
        "----> 3                 raise ValueError(\"own_range() arg 3 must be not zero\")\n",
        "      4         if start > end and step < 0:\n",
        "      5                 while start > end:\n",
        "\n",
        "ValueError: own_range() arg 3 must be not zero\n",
        "```"
      ],
      "metadata": {
        "id": "KA7O2UPFeORx"
      }
    },
    {
      "cell_type": "markdown",
      "source": [
        "### __Resources for More Basic Practice__\n",
        "\n",
        "[1. Basic Practice](http://codingbat.com/python)\n",
        "\n",
        "[2. More Mathematical (and Harder) Practice](https://projecteuler.net/archives)\n",
        "\n",
        "\n",
        "\n",
        "[3. List of Practice Problems](http://www.codeabbey.com/index/task_list)\n",
        "\n",
        "[4. A SubReddit Devoted to Daily Practice Problems](https://www.reddit.com/r/dailyprogrammer)\n",
        "\n",
        "[5. A very tricky website with very few hints and touch problems (Not for beginners but still interesting)](http://www.pythonchallenge.com/)"
      ],
      "metadata": {
        "id": "0pbhMMiptUeK"
      }
    },
    {
      "cell_type": "markdown",
      "source": [
        "### Connect with me:\n",
        "\n",
        "\n",
        "[<img align=\"left\" alt=\"codeSTACKr | Twitter\" width=\"22px\" src=\"https://cdn.jsdelivr.net/npm/simple-icons@v3/icons/twitter.svg\" />][twitter]\n",
        "[<img align=\"left\" alt=\"codeSTACKr | LinkedIn\" width=\"22px\" src=\"https://cdn.jsdelivr.net/npm/simple-icons@v3/icons/linkedin.svg\" />][linkedin]\n",
        "[<img align=\"left\" alt=\"codeSTACKr.com\" width=\"22px\" src=\"https://raw.githubusercontent.com/iconic/open-iconic/master/svg/globe.svg\" />][StackExchange AI]\n",
        "\n",
        "[twitter]: https://twitter.com/F4izy\n",
        "[linkedin]: https://www.linkedin.com/in/mohd-faizy/\n",
        "[StackExchange AI]: https://ai.stackexchange.com/users/36737/cypher\n",
        "\n",
        "\n",
        "---\n",
        "\n",
        "\n"
      ],
      "metadata": {
        "id": "tq49OCGxYjMu"
      }
    }
  ]
}