{
  "nbformat": 4,
  "nbformat_minor": 0,
  "metadata": {
    "colab": {
      "name": "02_Object_&_Data_Structure.ipynb",
      "provenance": [],
      "collapsed_sections": [],
      "toc_visible": true
    },
    "kernelspec": {
      "name": "python3",
      "display_name": "Python 3"
    }
  },
  "cells": [
    {
      "cell_type": "markdown",
      "metadata": {
        "id": "view-in-github"
      },
      "source": [
        "<center>\n",
        "        <a href=\"https://colab.research.google.com/drive/192n9xDtqwF7280o_0bn4blIf330BrDtF#scrollTo=view-in-github\" target=\"_parent\">\n",
        "        <img src=\"https://colab.research.google.com/assets/colab-badge.svg\" alt=\"Open In Colab\"/>\n",
        "        </a>\n",
        "</center>\n",
        "\n",
        "# <center><b>Python Object and Data Structure Basics</b></center>\n",
        "\n",
        "\n"
      ]
    },
    {
      "cell_type": "markdown",
      "source": [
        "<table>\n",
        "    <caption>Data Structure</caption>\n",
        "    <tbody>\n",
        "        <tr>\n",
        "            <th colspan=\"1\" scope=\"colgroup\">Premitive</th>\n",
        "            <th colspan=\"2\" scope=\"colgroup\">Non-Premitive</th>\n",
        "        </tr>\n",
        "        <tr>\n",
        "            <th scope=\"col\">&nbsp;</th>\n",
        "            <th scope=\"col\">Built-in</th>\n",
        "            <th scope=\"col\">User-defined</th>\n",
        "        </tr>\n",
        "        <tr>\n",
        "            <td>Integer</td>\n",
        "            <td>List</td>\n",
        "            <td>Stack</td>\n",
        "        </tr>\n",
        "        <tr>\n",
        "            <td>Float</td>\n",
        "            <td>Tuple</td>\n",
        "            <td>Queue</td>\n",
        "        </tr>\n",
        "        <tr>\n",
        "            <td>String</td>\n",
        "            <td>Dictionary</td>\n",
        "            <td>Tree</td>\n",
        "        </tr>\n",
        "        <tr>\n",
        "            <td>Boolean</td>\n",
        "            <td>Set</td>\n",
        "            <td>Graph</td>\n",
        "        </tr>\n",
        "    </tbody>\n",
        "</table>"
      ],
      "metadata": {
        "id": "gDTOCggtbyc6"
      }
    },
    {
      "cell_type": "markdown",
      "source": [
        "- **Data Structures**\n",
        "    - *Preimitive*\n",
        "        - Integer\n",
        "        - Float\n",
        "        - String\n",
        "        - Boolean\n",
        "    \n",
        "    - *Non-Preimitive*\n",
        "        - *Built-in*\n",
        "            - List\n",
        "            - Tuple\n",
        "            - Dictionary\n",
        "            - Set\n",
        "\n",
        "        - *User-defined*\n",
        "            - Stack\n",
        "            - Queue\n",
        "            - Tree\n",
        "            - Graph"
      ],
      "metadata": {
        "id": "R-oOk9yA9zfv"
      }
    },
    {
      "cell_type": "markdown",
      "metadata": {
        "id": "2VSzQMfbAhbt"
      },
      "source": [
        "\n",
        "### __1. Numbers__"
      ]
    },
    {
      "cell_type": "code",
      "metadata": {
        "id": "RNGSy8Xa_vng",
        "colab": {
          "base_uri": "https://localhost:8080/"
        },
        "outputId": "48ce0e16-bf17-4932-e0a9-1569bd526828"
      },
      "source": [
        "# Basic Arithmetic\n",
        "\n",
        "a = 2+1  # Addition\n",
        "b = 2-1  # Subtraction\n",
        "c = 2*2  # Multiplication\n",
        "d = 3/2  # Division\n",
        "e = 7//4 # Floor Division\n",
        "f = 7%4  # modulo Divison\n",
        "g = 2**3 # Powers\n",
        "\n",
        "print(a)\n",
        "print(b)\n",
        "print(c)\n",
        "print(d)\n",
        "print(e)\n",
        "print(f)\n",
        "print(g)"
      ],
      "execution_count": null,
      "outputs": [
        {
          "output_type": "stream",
          "text": [
            "3\n",
            "1\n",
            "4\n",
            "1.5\n",
            "1\n",
            "3\n",
            "8\n"
          ],
          "name": "stdout"
        }
      ]
    },
    {
      "cell_type": "code",
      "metadata": {
        "id": "Be6vWSib_vof",
        "colab": {
          "base_uri": "https://localhost:8080/"
        },
        "outputId": "79729f1a-076c-4816-d49b-588ae955ce88"
      },
      "source": [
        "# Order of Operations followed in Python\n",
        "a = 2 + 10 * 10 + 3\n",
        "b = (2+10) * (10+3)\n",
        "\n",
        "print(a)\n",
        "print(b)"
      ],
      "execution_count": null,
      "outputs": [
        {
          "output_type": "stream",
          "text": [
            "105\n",
            "156\n"
          ],
          "name": "stdout"
        }
      ]
    },
    {
      "cell_type": "markdown",
      "metadata": {
        "id": "1v76EYrFC0ur"
      },
      "source": [
        "### __2. Variable__"
      ]
    },
    {
      "cell_type": "code",
      "metadata": {
        "id": "xfg7xPlR_von",
        "colab": {
          "base_uri": "https://localhost:8080/"
        },
        "outputId": "b536938a-adcb-4d76-e460-ae8ae412c7f5"
      },
      "source": [
        "# Let's create an object called \"a\" and assign it the number 5\n",
        "b = 5\n",
        "t = b + b # Adding the objects\n",
        "print(t)"
      ],
      "execution_count": null,
      "outputs": [
        {
          "output_type": "stream",
          "text": [
            "10\n"
          ],
          "name": "stdout"
        }
      ]
    },
    {
      "cell_type": "markdown",
      "metadata": {
        "id": "VneWcYLG_vpP"
      },
      "source": [
        "**The names you use when creating these labels need to follow a few rules:**\n",
        "\n",
        "    1. Names can not start with a number.\n",
        "    2. There can be no spaces in the name, use _ instead.\n",
        "    3. Can't use any of these symbols :'\",<>/?|\\()!@#$%^&*~-+\n",
        "    4. It's considered best practice (PEP8) that names are lowercase.\n",
        "    5. Avoid using the characters 'l' (lowercase letter el), 'O' (uppercase letter oh), \n",
        "       or 'I' (uppercase letter eye) as single character variable names.\n",
        "    6. Avoid using words that have special meaning in Python like \"list\" and \"str\"\n",
        "\n",
        "\n",
        "__Using variable names can be a very useful way to keep track of different variables in Python.__"
      ]
    },
    {
      "cell_type": "code",
      "metadata": {
        "id": "oJ-wTghr_vpQ",
        "colab": {
          "base_uri": "https://localhost:8080/"
        },
        "outputId": "7524cf09-98a7-4617-c245-a766321c95cf"
      },
      "source": [
        "# Use object names to keep better track of what's going on in your code!\n",
        "my_income = 100\n",
        "tax_rate = 0.1\n",
        "my_taxes = my_income * tax_rate\n",
        "print(my_taxes)"
      ],
      "execution_count": null,
      "outputs": [
        {
          "output_type": "stream",
          "text": [
            "10.0\n"
          ],
          "name": "stdout"
        }
      ]
    },
    {
      "cell_type": "markdown",
      "metadata": {
        "id": "mr_9P-YuBzdC"
      },
      "source": [
        "**Rules for variable names**\n",
        "\n",
        "* names can not start with a number\n",
        "* names **can not contain spaces**, **use _ intead**\n",
        "* names **can not contain** any of these symbols:\n",
        "\n",
        "      :'\",<>/?|\\!@#%^&*~-+\n",
        "       \n",
        "* it's considered best practice ([PEP8](https://www.python.org/dev/peps/pep-0008/#function-and-variable-names)) that names are lowercase with underscores\n",
        "* avoid using Python built-in keywords like `list` and `str`\n",
        "* avoid using the single characters `l` (lowercase letter el), `O` (uppercase letter oh) and `I` (uppercase letter eye) as they can be confused with `1` and `0`"
      ]
    },
    {
      "cell_type": "markdown",
      "metadata": {
        "id": "saVdEf9mBzdD"
      },
      "source": [
        "> __Dynamic Typing__\n",
        "\n",
        "Python uses __dynamic typing__, meaning you can reassign variables to different data types. This makes Python very flexible in assigning data types; it differs from other languages that are __statically typed__."
      ]
    },
    {
      "cell_type": "code",
      "metadata": {
        "id": "FWyFt8lsBzdF"
      },
      "source": [
        "my_dogs = 2"
      ],
      "execution_count": null,
      "outputs": []
    },
    {
      "cell_type": "code",
      "metadata": {
        "id": "svFApYWvBzdL",
        "colab": {
          "base_uri": "https://localhost:8080/"
        },
        "outputId": "38ea64e5-c369-47e1-babc-aca812b27bda"
      },
      "source": [
        "my_dogs"
      ],
      "execution_count": null,
      "outputs": [
        {
          "output_type": "execute_result",
          "data": {
            "text/plain": [
              "2"
            ]
          },
          "metadata": {
            "tags": []
          },
          "execution_count": 6
        }
      ]
    },
    {
      "cell_type": "code",
      "metadata": {
        "id": "DMk7vqZFBzdR"
      },
      "source": [
        "my_dogs = ['Sammy', 'Frankie']"
      ],
      "execution_count": null,
      "outputs": []
    },
    {
      "cell_type": "code",
      "metadata": {
        "id": "WuhWWO-fBzdV",
        "colab": {
          "base_uri": "https://localhost:8080/"
        },
        "outputId": "11fc3a03-ac31-45b3-acff-9b74d372dc3a"
      },
      "source": [
        "my_dogs"
      ],
      "execution_count": null,
      "outputs": [
        {
          "output_type": "execute_result",
          "data": {
            "text/plain": [
              "['Sammy', 'Frankie']"
            ]
          },
          "metadata": {
            "tags": []
          },
          "execution_count": 8
        }
      ]
    },
    {
      "cell_type": "markdown",
      "metadata": {
        "id": "3a0Rz1MUBzdb"
      },
      "source": [
        "> __Pros__:\n",
        "- easy to work with\n",
        "- faster development time \n",
        "\n",
        ">__Cons__\n",
        "- may result in unexpected bugs!\n",
        "- you need to be aware of `type()\n",
        "\n"
      ]
    },
    {
      "cell_type": "markdown",
      "metadata": {
        "id": "lT97pbnbBzdb"
      },
      "source": [
        "**Assigning Variables**\n",
        "\n",
        "Variable assignment follows `name = object`, where a single equals sign `=` is an *assignment operator*"
      ]
    },
    {
      "cell_type": "code",
      "metadata": {
        "id": "n6Yl4i3CBzdc",
        "colab": {
          "base_uri": "https://localhost:8080/"
        },
        "outputId": "387d2f1f-53ff-4cfd-810c-f5be217c3fc1"
      },
      "source": [
        "y_1 = 5\n",
        "print(y_1)"
      ],
      "execution_count": null,
      "outputs": [
        {
          "output_type": "stream",
          "text": [
            "5\n"
          ],
          "name": "stdout"
        }
      ]
    },
    {
      "cell_type": "markdown",
      "metadata": {
        "id": "n8hHhDLjBzdm"
      },
      "source": [
        "Here we assigned the integer object `5` to the variable name `y`.<br>Let's assign `y` to something else:"
      ]
    },
    {
      "cell_type": "markdown",
      "metadata": {
        "id": "NZ1wEPDmBzd2"
      },
      "source": [
        "**Reassigning Variables**\n",
        "Python lets you reassign variables with a reference to the same object."
      ]
    },
    {
      "cell_type": "code",
      "metadata": {
        "id": "vkgrJ0TeBzd3"
      },
      "source": [
        "a = a + 10"
      ],
      "execution_count": null,
      "outputs": []
    },
    {
      "cell_type": "code",
      "metadata": {
        "id": "zcK9sjd3Bzd8",
        "colab": {
          "base_uri": "https://localhost:8080/"
        },
        "outputId": "64cc5642-fc96-4e81-a0e1-638c4e4019bc"
      },
      "source": [
        "a"
      ],
      "execution_count": null,
      "outputs": [
        {
          "output_type": "execute_result",
          "data": {
            "text/plain": [
              "115"
            ]
          },
          "metadata": {
            "tags": []
          },
          "execution_count": 11
        }
      ]
    },
    {
      "cell_type": "markdown",
      "metadata": {
        "id": "KqZZix28BzeA"
      },
      "source": [
        "There's actually a shortcut for this. Python lets you add, subtract, multiply and divide numbers with reassignment using `+=`, `-=`, `*=`, and `/=`."
      ]
    },
    {
      "cell_type": "code",
      "metadata": {
        "id": "cGnWB0BrBzeB",
        "colab": {
          "base_uri": "https://localhost:8080/"
        },
        "outputId": "268a5a79-ef39-42e2-d8b6-194c9e1615ee"
      },
      "source": [
        "a += 10\n",
        "print(a)"
      ],
      "execution_count": null,
      "outputs": [
        {
          "output_type": "stream",
          "text": [
            "125\n"
          ],
          "name": "stdout"
        }
      ]
    },
    {
      "cell_type": "code",
      "metadata": {
        "id": "wpnYbG4xBzeI"
      },
      "source": [
        "a *= 2"
      ],
      "execution_count": null,
      "outputs": []
    },
    {
      "cell_type": "code",
      "metadata": {
        "id": "B0RQaMnjBzeM",
        "colab": {
          "base_uri": "https://localhost:8080/"
        },
        "outputId": "ca6eb46d-50e1-4d21-fae4-6886ef2342f2"
      },
      "source": [
        "a"
      ],
      "execution_count": null,
      "outputs": [
        {
          "output_type": "execute_result",
          "data": {
            "text/plain": [
              "250"
            ]
          },
          "metadata": {
            "tags": []
          },
          "execution_count": 14
        }
      ]
    },
    {
      "cell_type": "markdown",
      "metadata": {
        "id": "VyYbRp2cBzeQ"
      },
      "source": [
        "**Determining variable type** with `type()`\n",
        "You can check what type of object is assigned to a variable using Python's built-in `type()` function. \n",
        "\n",
        "__Common data types include:__\n",
        "\n",
        "\n",
        "* `int` \n",
        "* `float`\n",
        "* `str` \n",
        "* `list`\n",
        "* `tuple`\n",
        "* `dict` \n",
        "* `set`\n",
        "* `bool` "
      ]
    },
    {
      "cell_type": "code",
      "metadata": {
        "id": "4D8HKKrPBzeR",
        "colab": {
          "base_uri": "https://localhost:8080/"
        },
        "outputId": "2a08b0d7-6c35-4bcc-de4f-8349fee0e9e6"
      },
      "source": [
        "type(a)"
      ],
      "execution_count": null,
      "outputs": [
        {
          "output_type": "execute_result",
          "data": {
            "text/plain": [
              "int"
            ]
          },
          "metadata": {
            "tags": []
          },
          "execution_count": 15
        }
      ]
    },
    {
      "cell_type": "code",
      "metadata": {
        "id": "mFPqKajoBuwG",
        "colab": {
          "base_uri": "https://localhost:8080/"
        },
        "outputId": "bd9d3721-477b-49ed-c98b-ee6f0da87f05"
      },
      "source": [
        "a = [1, 2]\n",
        "type(c) "
      ],
      "execution_count": null,
      "outputs": [
        {
          "output_type": "execute_result",
          "data": {
            "text/plain": [
              "int"
            ]
          },
          "metadata": {
            "tags": []
          },
          "execution_count": 16
        }
      ]
    },
    {
      "cell_type": "code",
      "metadata": {
        "id": "V7qqn04EBzeX",
        "colab": {
          "base_uri": "https://localhost:8080/"
        },
        "outputId": "f2d89754-bfc6-4c80-9cfe-2034e91e28ae"
      },
      "source": [
        "b = (1,2)\n",
        "type(b)"
      ],
      "execution_count": null,
      "outputs": [
        {
          "output_type": "execute_result",
          "data": {
            "text/plain": [
              "tuple"
            ]
          },
          "metadata": {
            "tags": []
          },
          "execution_count": 17
        }
      ]
    },
    {
      "cell_type": "code",
      "metadata": {
        "id": "vDnVG9HaCCUI",
        "colab": {
          "base_uri": "https://localhost:8080/"
        },
        "outputId": "bde230cf-2351-45bc-9298-16d81db4ce98"
      },
      "source": [
        "c = {\"a\": 2, \"b\": 1}\n",
        "type(c)"
      ],
      "execution_count": null,
      "outputs": [
        {
          "output_type": "execute_result",
          "data": {
            "text/plain": [
              "dict"
            ]
          },
          "metadata": {
            "tags": []
          },
          "execution_count": 18
        }
      ]
    },
    {
      "cell_type": "code",
      "metadata": {
        "id": "IxK3h7_2Bzea",
        "colab": {
          "base_uri": "https://localhost:8080/"
        },
        "outputId": "bde233e2-0a8d-40ef-9b2c-e79a6955df9b"
      },
      "source": [
        "d = {1, 2, 3, 4}\n",
        "type(d)"
      ],
      "execution_count": null,
      "outputs": [
        {
          "output_type": "execute_result",
          "data": {
            "text/plain": [
              "set"
            ]
          },
          "metadata": {
            "tags": []
          },
          "execution_count": 19
        }
      ]
    },
    {
      "cell_type": "markdown",
      "metadata": {
        "id": "rZdVj53AptGE"
      },
      "source": [
        "### __3. String Formatting__\n"
      ]
    },
    {
      "cell_type": "code",
      "metadata": {
        "id": "o8_KH5xaa49j",
        "colab": {
          "base_uri": "https://localhost:8080/"
        },
        "outputId": "6a4a951d-c4ce-40f6-eca6-995e4c61e7f6"
      },
      "source": [
        "#Method-1\n",
        "age = 36\n",
        "txt = \"My name is John, and I am {}\"\n",
        "print(txt.format(age))"
      ],
      "execution_count": null,
      "outputs": [
        {
          "output_type": "stream",
          "text": [
            "My name is John, and I am 36\n"
          ],
          "name": "stdout"
        }
      ]
    },
    {
      "cell_type": "code",
      "metadata": {
        "id": "ABKN-yGAp2sI",
        "colab": {
          "base_uri": "https://localhost:8080/"
        },
        "outputId": "10548fba-f25a-4dad-f381-c5ffa0d1ff89"
      },
      "source": [
        "print('this is a string {}'.format('inserted'))"
      ],
      "execution_count": null,
      "outputs": [
        {
          "output_type": "stream",
          "text": [
            "this is a string inserted\n"
          ],
          "name": "stdout"
        }
      ]
    },
    {
      "cell_type": "code",
      "metadata": {
        "id": "QqszugqOq0q9",
        "colab": {
          "base_uri": "https://localhost:8080/"
        },
        "outputId": "93b3c356-4a0d-498d-c276-846edee632c7"
      },
      "source": [
        "print(\"the {} {} {}\".format(\"big\", \"brown\", \"bear\"))"
      ],
      "execution_count": null,
      "outputs": [
        {
          "output_type": "stream",
          "text": [
            "the big brown bear\n"
          ],
          "name": "stdout"
        }
      ]
    },
    {
      "cell_type": "code",
      "metadata": {
        "id": "ffC_7ZD8rb4T",
        "colab": {
          "base_uri": "https://localhost:8080/"
        },
        "outputId": "42fa8b26-080a-489c-933f-7ded66f36f9f"
      },
      "source": [
        "print(\"the {1} {0} {2}\".format(\"big\", \"brown\", \"bear\"))"
      ],
      "execution_count": null,
      "outputs": [
        {
          "output_type": "stream",
          "text": [
            "the brown big bear\n"
          ],
          "name": "stdout"
        }
      ]
    },
    {
      "cell_type": "code",
      "metadata": {
        "id": "_10DyDrsrq1Y",
        "colab": {
          "base_uri": "https://localhost:8080/"
        },
        "outputId": "29f2123b-d995-4c69-fecd-7cc1b7d87a12"
      },
      "source": [
        "print(\"the {0} {0} {0}\".format(\"big\", \"brown\", \"bear\"))"
      ],
      "execution_count": null,
      "outputs": [
        {
          "output_type": "stream",
          "text": [
            "the big big big\n"
          ],
          "name": "stdout"
        }
      ]
    },
    {
      "cell_type": "code",
      "metadata": {
        "id": "lQeYTdGpr6zc",
        "colab": {
          "base_uri": "https://localhost:8080/"
        },
        "outputId": "a0cf064c-1462-4557-c93c-5607e2086440"
      },
      "source": [
        "print(\"the {f} {s} {d}\".format(f=\"big\", s = \"brown\", d = \"bear\"))"
      ],
      "execution_count": null,
      "outputs": [
        {
          "output_type": "stream",
          "text": [
            "the big brown bear\n"
          ],
          "name": "stdout"
        }
      ]
    },
    {
      "cell_type": "markdown",
      "metadata": {
        "id": "BkWY34D8AYg5"
      },
      "source": [
        "### __4. Float formatting__\n"
      ]
    },
    {
      "cell_type": "markdown",
      "metadata": {
        "id": "4Um0fnpLdaWW"
      },
      "source": [
        "$syntax:$\n",
        "\n",
        "`{value:width.precison f}`\n"
      ]
    },
    {
      "cell_type": "code",
      "metadata": {
        "id": "FD_rLrw6_ilI",
        "colab": {
          "base_uri": "https://localhost:8080/"
        },
        "outputId": "314a2893-4e79-4590-8f82-3cfd40b2c3aa"
      },
      "source": [
        "result = 22/7\n",
        "print(\"the result is {r}\".format(r = result))"
      ],
      "execution_count": null,
      "outputs": [
        {
          "output_type": "stream",
          "text": [
            "the result is 3.142857142857143\n"
          ],
          "name": "stdout"
        }
      ]
    },
    {
      "cell_type": "code",
      "metadata": {
        "id": "VqcdXQAqAzOc",
        "colab": {
          "base_uri": "https://localhost:8080/"
        },
        "outputId": "7e2c62d7-b251-4bf6-9fbe-f7f551a5d848"
      },
      "source": [
        "result = 22/7\n",
        "print(\"the result is {r:10.5f}\".format(r = result))"
      ],
      "execution_count": null,
      "outputs": [
        {
          "output_type": "stream",
          "text": [
            "the result is    3.14286\n"
          ],
          "name": "stdout"
        }
      ]
    },
    {
      "cell_type": "code",
      "metadata": {
        "id": "Psszq0y6BaOt",
        "colab": {
          "base_uri": "https://localhost:8080/"
        },
        "outputId": "40c11ff2-eb0b-46f3-f0fb-b7dfc0a1d2b6"
      },
      "source": [
        "name = \"faizy\"\n",
        "print(\"hello my name is {}\".format(name))"
      ],
      "execution_count": null,
      "outputs": [
        {
          "output_type": "stream",
          "text": [
            "hello my name is faizy\n"
          ],
          "name": "stdout"
        }
      ]
    },
    {
      "cell_type": "code",
      "metadata": {
        "id": "89QCE2_7B_2k",
        "colab": {
          "base_uri": "https://localhost:8080/"
        },
        "outputId": "a3b75e6c-df48-4ee8-ba52-08640b112b7a"
      },
      "source": [
        "name = \"faizy\"\n",
        "print(f\"hello! my name is {name}\")"
      ],
      "execution_count": null,
      "outputs": [
        {
          "output_type": "stream",
          "text": [
            "hello! my name is faizy\n"
          ],
          "name": "stdout"
        }
      ]
    },
    {
      "cell_type": "code",
      "metadata": {
        "id": "5bBVond-CTeR",
        "colab": {
          "base_uri": "https://localhost:8080/"
        },
        "outputId": "a56b7047-6717-4d57-fa09-2e133ba6c1ca"
      },
      "source": [
        "name = \"faizy\"\n",
        "collage = \"Jamia Millia Islamia\"\n",
        "print(f\"hello my name is {name} and i studied in {collage}\")\n"
      ],
      "execution_count": null,
      "outputs": [
        {
          "output_type": "stream",
          "text": [
            "hello my name is faizy and i studied in Jamia Millia Islamia\n"
          ],
          "name": "stdout"
        }
      ]
    },
    {
      "cell_type": "markdown",
      "metadata": {
        "id": "VvsdWHLwPc9K"
      },
      "source": [
        "### __5. Python: Data Types__"
      ]
    },
    {
      "cell_type": "markdown",
      "metadata": {
        "id": "gL0rAhOEPMKO"
      },
      "source": [
        "<img src = 'https://miro.medium.com/max/1400/1*oErPCXv1PFcuuizXqGEEbw.png'>\n",
        "\n"
      ]
    },
    {
      "cell_type": "markdown",
      "metadata": {
        "id": "mKjrzZ0CPaha"
      },
      "source": [
        "<center><img src = 'https://miro.medium.com/max/1316/1*uFlTNY4W3czywyU18zxl8w.png'></center>\n"
      ]
    },
    {
      "cell_type": "markdown",
      "metadata": {
        "id": "rKm0-IteUNG-"
      },
      "source": [
        "#### __Strings__\n"
      ]
    },
    {
      "cell_type": "markdown",
      "metadata": {
        "id": "4XVnMex2UXIG"
      },
      "source": [
        "- Strings are the sequence of characters using the syntax of either single quotes or double.\n",
        "\n",
        "\n",
        "```\n",
        "\"hello World\"\n",
        "'hello'\n",
        "```\n",
        "\n",
        "- A string is a **sequence** of charactes.\n",
        "\n",
        "- It is **immutable**.\n",
        "\n",
        "- It is created by enclosing text with single, double or triple quotes"
      ]
    },
    {
      "cell_type": "markdown",
      "metadata": {
        "id": "z7bvZExqE2yN"
      },
      "source": [
        "#### __List__ `[ ]`\n",
        "\n",
        "\n",
        "- __Mutable__\n",
        "- __Ordered__\n",
        "- __Allows duplicate__\n",
        "\n",
        "\n",
        "\n",
        "\n"
      ]
    },
    {
      "cell_type": "code",
      "metadata": {
        "id": "bqAITq6UF6IF",
        "colab": {
          "base_uri": "https://localhost:8080/"
        },
        "outputId": "6187faf0-c48e-4aaa-a6a7-1b0b522948e4"
      },
      "source": [
        "my_list = ['string', 100, 23.4,6,'monkey',7,8,10]\n",
        "\n",
        "'''\n",
        "syntax[start:stop:step]\n",
        "\n",
        "'''\n",
        "print(type(my_list))\n",
        "print(len(my_list))\n",
        "print(my_list[0])\n",
        "print(my_list[2:])\n",
        "print(my_list[:2])\n",
        "print(my_list[0:6:2])\n",
        "print(my_list[0::2])\n",
        "print(my_list[0:6:])\n",
        "print(my_list[:6:2])"
      ],
      "execution_count": null,
      "outputs": [
        {
          "output_type": "stream",
          "text": [
            "<class 'list'>\n",
            "8\n",
            "string\n",
            "[23.4, 6, 'monkey', 7, 8, 10]\n",
            "['string', 100]\n",
            "['string', 23.4, 'monkey']\n",
            "['string', 23.4, 'monkey', 8]\n",
            "['string', 100, 23.4, 6, 'monkey', 7]\n",
            "['string', 23.4, 'monkey']\n"
          ],
          "name": "stdout"
        }
      ]
    },
    {
      "cell_type": "code",
      "metadata": {
        "id": "Z_4T1_kXwlo3",
        "colab": {
          "base_uri": "https://localhost:8080/"
        },
        "outputId": "57fdc5be-c95a-4708-d62b-48b10a2ca7e6"
      },
      "source": [
        "#list Concatination\n",
        "my_list_1 = ['bear', 100, 23.4,6,'monkey',7,'cat',10]\n",
        "my_list_2 = ['home',78, 23.4,6,'key',7,'room',10]\n",
        "my_list_3 = my_list_1 + my_list_2\n",
        "print(my_list_3)"
      ],
      "execution_count": null,
      "outputs": [
        {
          "output_type": "stream",
          "text": [
            "['bear', 100, 23.4, 6, 'monkey', 7, 'cat', 10, 'home', 78, 23.4, 6, 'key', 7, 'room', 10]\n"
          ],
          "name": "stdout"
        }
      ]
    },
    {
      "cell_type": "code",
      "metadata": {
        "id": "08d8rVKRyHcm",
        "colab": {
          "base_uri": "https://localhost:8080/"
        },
        "outputId": "0c903a17-57a4-4eca-c3e5-04553954f4ab"
      },
      "source": [
        "my_list_1"
      ],
      "execution_count": null,
      "outputs": [
        {
          "output_type": "execute_result",
          "data": {
            "text/plain": [
              "['bear', 100, 23.4, 6, 'monkey', 7, 'cat', 10]"
            ]
          },
          "metadata": {
            "tags": []
          },
          "execution_count": 33
        }
      ]
    },
    {
      "cell_type": "code",
      "metadata": {
        "id": "EW8vTwIcytkF",
        "colab": {
          "base_uri": "https://localhost:8080/"
        },
        "outputId": "01b8d3a6-4802-4e24-9bb6-e6f2ce69cf01"
      },
      "source": [
        "#List are mutable\n",
        "my_list_1[0] = 'lion'\n",
        "print(my_list_1)"
      ],
      "execution_count": null,
      "outputs": [
        {
          "output_type": "stream",
          "text": [
            "['lion', 100, 23.4, 6, 'monkey', 7, 'cat', 10]\n"
          ],
          "name": "stdout"
        }
      ]
    },
    {
      "cell_type": "code",
      "metadata": {
        "id": "aYtcHbMwz9x6",
        "colab": {
          "base_uri": "https://localhost:8080/"
        },
        "outputId": "31b26312-b1db-445f-fe5d-09800970f812"
      },
      "source": [
        "#adding item to the list\n",
        "my_list_1.append('tiger')\n",
        "print(my_list_1)"
      ],
      "execution_count": null,
      "outputs": [
        {
          "output_type": "stream",
          "text": [
            "['lion', 100, 23.4, 6, 'monkey', 7, 'cat', 10, 'tiger']\n"
          ],
          "name": "stdout"
        }
      ]
    },
    {
      "cell_type": "markdown",
      "metadata": {
        "id": "3BZdpK1x1j_K"
      },
      "source": [
        "**pop()** is an inbuilt function in Python that *removes and returns* **last value** from the list or the given **index value**\n",
        "\n",
        "- by default index location is [-1]\n"
      ]
    },
    {
      "cell_type": "code",
      "metadata": {
        "id": "iRs6zkMq0Xzj",
        "colab": {
          "base_uri": "https://localhost:8080/"
        },
        "outputId": "0aa2d2ea-ad46-4c5b-dffb-8aaad7ef651c"
      },
      "source": [
        "#removing the item form the list\n",
        "my_list_1.pop()\n",
        "print(my_list_1)"
      ],
      "execution_count": null,
      "outputs": [
        {
          "output_type": "stream",
          "text": [
            "['lion', 100, 23.4, 6, 'monkey', 7, 'cat', 10]\n"
          ],
          "name": "stdout"
        }
      ]
    },
    {
      "cell_type": "markdown",
      "metadata": {
        "id": "wyeUkcxY2cK8"
      },
      "source": [
        "**Sorting the list**"
      ]
    },
    {
      "cell_type": "code",
      "metadata": {
        "id": "p4qFNT3w2jHJ",
        "colab": {
          "base_uri": "https://localhost:8080/"
        },
        "outputId": "866a1769-f8fc-4f3f-a8a2-4d099f76c2e2"
      },
      "source": [
        "new_list_1 = ['b', 'd', 'f', 'a', 'c', 'e']\n",
        "new_list_2 = [2, 4, 6, 8, 1, 3, 5, 7, 9]\n",
        "\n",
        "new_list_1.sort()\n",
        "new_list_2.sort()\n",
        "\n",
        "print(new_list_1)\n",
        "print(new_list_2)"
      ],
      "execution_count": null,
      "outputs": [
        {
          "output_type": "stream",
          "text": [
            "['a', 'b', 'c', 'd', 'e', 'f']\n",
            "[1, 2, 3, 4, 5, 6, 7, 8, 9]\n"
          ],
          "name": "stdout"
        }
      ]
    },
    {
      "cell_type": "markdown",
      "metadata": {
        "id": "19M0qXG63veW"
      },
      "source": [
        "- In Python, **None** keyword is an object, and it is a **data type** of the class **NoneType**.\n",
        "\n",
        "- We can assign None to any variable, but you can not create other NoneType objects. \n",
        "\n",
        "- New instances of None are not created."
      ]
    },
    {
      "cell_type": "code",
      "metadata": {
        "id": "aIawg_0s4K4Y",
        "colab": {
          "base_uri": "https://localhost:8080/"
        },
        "outputId": "7ea7b435-4772-4a98-85ca-02e1467e09f2"
      },
      "source": [
        "new_list_3 = [1, 2, 3, 4, 5, 6, 7, 8, 9]\n",
        "new_list_3.reverse()\n",
        "print(new_list_3)"
      ],
      "execution_count": null,
      "outputs": [
        {
          "output_type": "stream",
          "text": [
            "[9, 8, 7, 6, 5, 4, 3, 2, 1]\n"
          ],
          "name": "stdout"
        }
      ]
    },
    {
      "cell_type": "markdown",
      "metadata": {
        "id": "g426QH__LB8t"
      },
      "source": [
        "__Loooping through a loop__"
      ]
    },
    {
      "cell_type": "code",
      "metadata": {
        "id": "Mq9CYS7H72ot",
        "colab": {
          "base_uri": "https://localhost:8080/"
        },
        "outputId": "0bf7db18-419c-48c6-c1db-8a5627a91d61"
      },
      "source": [
        "thelist = ['apple', 'banana', 'ornage']\n",
        "for x in thelist:\n",
        "    print(x)"
      ],
      "execution_count": null,
      "outputs": [
        {
          "output_type": "stream",
          "text": [
            "apple\n",
            "banana\n",
            "ornage\n"
          ],
          "name": "stdout"
        }
      ]
    },
    {
      "cell_type": "markdown",
      "metadata": {
        "id": "P8KckB-bK0Kf"
      },
      "source": [
        "**Checking if the item exist in the list.**"
      ]
    },
    {
      "cell_type": "code",
      "metadata": {
        "id": "4IotMQPS8uUO",
        "colab": {
          "base_uri": "https://localhost:8080/"
        },
        "outputId": "47e9c881-690b-46be-c422-0e8b73507c75"
      },
      "source": [
        "if 'apple' in thelist:\n",
        "    print('Yes')\n",
        "print(len(thelist))"
      ],
      "execution_count": null,
      "outputs": [
        {
          "output_type": "stream",
          "text": [
            "Yes\n",
            "3\n"
          ],
          "name": "stdout"
        }
      ]
    },
    {
      "cell_type": "markdown",
      "metadata": {
        "id": "4wFIWJvrK6bW"
      },
      "source": [
        "__Appending the item to the list__"
      ]
    },
    {
      "cell_type": "code",
      "metadata": {
        "id": "15LbXURC9Zv3",
        "colab": {
          "base_uri": "https://localhost:8080/"
        },
        "outputId": "4f964bba-8ba9-467b-a561-d8de582101b0"
      },
      "source": [
        "thelist = ['apple', 'banana', 'ornage']\n",
        "thelist.append('apricot')\n",
        "print(thelist)"
      ],
      "execution_count": null,
      "outputs": [
        {
          "output_type": "stream",
          "text": [
            "['apple', 'banana', 'ornage', 'apricot']\n"
          ],
          "name": "stdout"
        }
      ]
    },
    {
      "cell_type": "markdown",
      "metadata": {
        "id": "9XMf-XYh9yiz"
      },
      "source": [
        "**`insert()` method:**\n",
        "\n"
      ]
    },
    {
      "cell_type": "code",
      "metadata": {
        "id": "moA-eLuG9vUX",
        "colab": {
          "base_uri": "https://localhost:8080/"
        },
        "outputId": "bf9e28fe-4d21-4f8b-bf2c-3dadea00db41"
      },
      "source": [
        "thelist = ['apple', 'banana', 'ornage']\n",
        "thelist.insert(1, 'papaya')\n",
        "print(thelist)"
      ],
      "execution_count": null,
      "outputs": [
        {
          "output_type": "stream",
          "text": [
            "['apple', 'papaya', 'banana', 'ornage']\n"
          ],
          "name": "stdout"
        }
      ]
    },
    {
      "cell_type": "code",
      "metadata": {
        "id": "RUV73-jo-VAO",
        "colab": {
          "base_uri": "https://localhost:8080/"
        },
        "outputId": "6b0dab34-37a3-465c-8491-e3d9549a9e9e"
      },
      "source": [
        "thelist = ['apple', 'papaya', 'banana', 'ornage']\n",
        "thelist.remove('papaya')\n",
        "print(thelist)"
      ],
      "execution_count": null,
      "outputs": [
        {
          "output_type": "stream",
          "text": [
            "['apple', 'banana', 'ornage']\n"
          ],
          "name": "stdout"
        }
      ]
    },
    {
      "cell_type": "markdown",
      "metadata": {
        "id": "Pb08Fwub_pUT"
      },
      "source": [
        "__`.pop()` method removes the specified index__"
      ]
    },
    {
      "cell_type": "code",
      "metadata": {
        "id": "-uZiPYMX_Wmm",
        "colab": {
          "base_uri": "https://localhost:8080/"
        },
        "outputId": "4551f12f-11be-4f3d-f8ba-5e13f532fa7f"
      },
      "source": [
        "thelist = ['apple', 'papaya', 'banana', 'ornage']\n",
        "thelist.pop()\n",
        "print(thelist)"
      ],
      "execution_count": null,
      "outputs": [
        {
          "output_type": "stream",
          "text": [
            "['apple', 'papaya', 'banana']\n"
          ],
          "name": "stdout"
        }
      ]
    },
    {
      "cell_type": "markdown",
      "metadata": {
        "id": "qYRcrRQOAbLR"
      },
      "source": [
        "__The `del` keyword can also delete the list completely__"
      ]
    },
    {
      "cell_type": "code",
      "metadata": {
        "id": "S7m1Vi7_ACvs"
      },
      "source": [
        "mylist1 = [\"apple\", \"banana\", \"cherry\"]\n",
        "del mylist1"
      ],
      "execution_count": null,
      "outputs": []
    },
    {
      "cell_type": "markdown",
      "metadata": {
        "id": "c_Y6Kbi8Azt0"
      },
      "source": [
        "__The clear() method empties the list__"
      ]
    },
    {
      "cell_type": "code",
      "metadata": {
        "id": "Mg3iJIbXAybc",
        "colab": {
          "base_uri": "https://localhost:8080/"
        },
        "outputId": "3a6cbf19-e1d6-4c09-93fa-6a3aa9096493"
      },
      "source": [
        "mylist = [\"apple\", \"banana\", \"cherry\"]\n",
        "mylist.clear()\n",
        "print(mylist)"
      ],
      "execution_count": null,
      "outputs": [
        {
          "output_type": "stream",
          "text": [
            "[]\n"
          ],
          "name": "stdout"
        }
      ]
    },
    {
      "cell_type": "markdown",
      "metadata": {
        "id": "_huzPwrTJ8QM"
      },
      "source": [
        "__Reversing the list__"
      ]
    },
    {
      "cell_type": "code",
      "metadata": {
        "id": "Lis14lpHIx-x",
        "colab": {
          "base_uri": "https://localhost:8080/"
        },
        "outputId": "a37748af-d254-41a5-a1dd-f8d297620e65"
      },
      "source": [
        "mylist = [\"apple\", \"banana\", \"cherry\"]\n",
        "mylist.reverse()\n",
        "print(mylist)"
      ],
      "execution_count": null,
      "outputs": [
        {
          "output_type": "stream",
          "text": [
            "['cherry', 'banana', 'apple']\n"
          ],
          "name": "stdout"
        }
      ]
    },
    {
      "cell_type": "markdown",
      "metadata": {
        "id": "zKF1vE3RCzOR"
      },
      "source": [
        "**Copying the List**"
      ]
    },
    {
      "cell_type": "code",
      "metadata": {
        "id": "c7cbdAieBWcL",
        "colab": {
          "base_uri": "https://localhost:8080/"
        },
        "outputId": "e10a9ae9-13ac-4680-c9af-c17d1f3fda40"
      },
      "source": [
        "#Method_1\n",
        "list_1 = ['apple', 'papaya', 'banana', 'ornage']\n",
        "list_2 = list_1.copy()\n",
        "print(list_2)"
      ],
      "execution_count": null,
      "outputs": [
        {
          "output_type": "stream",
          "text": [
            "['apple', 'papaya', 'banana', 'ornage']\n"
          ],
          "name": "stdout"
        }
      ]
    },
    {
      "cell_type": "code",
      "metadata": {
        "id": "_84t5xzSC6Px",
        "colab": {
          "base_uri": "https://localhost:8080/"
        },
        "outputId": "0f8612a4-9742-49fc-e2e2-b9d620bd93ed"
      },
      "source": [
        "#Method_2\n",
        "tlist1 = ['apple', 'papaya', 'banana', 'ornage']\n",
        "tlist2 = list(tlist1)\n",
        "print(tlist2)"
      ],
      "execution_count": null,
      "outputs": [
        {
          "output_type": "stream",
          "text": [
            "['apple', 'papaya', 'banana', 'ornage']\n"
          ],
          "name": "stdout"
        }
      ]
    },
    {
      "cell_type": "markdown",
      "metadata": {
        "id": "IlSswV52DQyu"
      },
      "source": [
        "**Join Two Lists**"
      ]
    },
    {
      "cell_type": "code",
      "metadata": {
        "id": "wjFqxvTBDV5P",
        "colab": {
          "base_uri": "https://localhost:8080/"
        },
        "outputId": "fafc6e3b-12b8-4e41-a283-9871d196b936"
      },
      "source": [
        "list1 = ['a', 'b', 'c']\n",
        "list2 = [1, 2, 3]\n",
        "list3 = list1 +list2\n",
        "print(list3)"
      ],
      "execution_count": null,
      "outputs": [
        {
          "output_type": "stream",
          "text": [
            "['a', 'b', 'c', 1, 2, 3]\n"
          ],
          "name": "stdout"
        }
      ]
    },
    {
      "cell_type": "markdown",
      "metadata": {
        "id": "Gj3KWTCdE_ig"
      },
      "source": [
        "**Append list2 into list1:**"
      ]
    },
    {
      "cell_type": "code",
      "metadata": {
        "id": "p71Fth_WE-Bm",
        "colab": {
          "base_uri": "https://localhost:8080/"
        },
        "outputId": "c9f65601-7658-460d-f417-616ea549827a"
      },
      "source": [
        "list1 = ['a', 'b', 'c']\n",
        "list2 = [1, 2, 3]\n",
        "for x in list2:\n",
        "    list1.append(x)\n",
        "print(list1)"
      ],
      "execution_count": null,
      "outputs": [
        {
          "output_type": "stream",
          "text": [
            "['a', 'b', 'c', 1, 2, 3]\n"
          ],
          "name": "stdout"
        }
      ]
    },
    {
      "cell_type": "code",
      "metadata": {
        "id": "9MeJ2oILFy4M",
        "colab": {
          "base_uri": "https://localhost:8080/"
        },
        "outputId": "823d66e1-1d0b-430d-accf-bd09026a84db"
      },
      "source": [
        "list1 = [\"a\", \"b\" , \"c\"]\n",
        "list2 = [1, 2, 3]\n",
        "\n",
        "list1.extend(list2)\n",
        "print(list1)\n"
      ],
      "execution_count": null,
      "outputs": [
        {
          "output_type": "stream",
          "text": [
            "['a', 'b', 'c', 1, 2, 3]\n"
          ],
          "name": "stdout"
        }
      ]
    },
    {
      "cell_type": "markdown",
      "metadata": {
        "id": "yZB80h_6GE4s"
      },
      "source": [
        "**The list() Constructor**"
      ]
    },
    {
      "cell_type": "code",
      "metadata": {
        "id": "nsXQFAAqGD7w",
        "colab": {
          "base_uri": "https://localhost:8080/"
        },
        "outputId": "8878fd5b-f9d6-46ce-8572-757afb4c25ed"
      },
      "source": [
        "thelist = list((\"a\", \"b\" , \"c\"))\n",
        "print(thelist)"
      ],
      "execution_count": null,
      "outputs": [
        {
          "output_type": "stream",
          "text": [
            "['a', 'b', 'c']\n"
          ],
          "name": "stdout"
        }
      ]
    },
    {
      "cell_type": "markdown",
      "metadata": {
        "id": "z-7qjmvR4w3C"
      },
      "source": [
        "####  __Dictionary__ `{key:value}`\n",
        "\n",
        "\n",
        "- __Mutable__\n",
        "- __Unordered__\n"
      ]
    },
    {
      "cell_type": "code",
      "metadata": {
        "id": "7uwHY9CZ4vTb",
        "colab": {
          "base_uri": "https://localhost:8080/"
        },
        "outputId": "bd70546c-36c3-40d9-c665-783772326776"
      },
      "source": [
        "price_lookup = {'apple':100, 'banana':40, 'milk':29}\n",
        "price_lookup['apple']"
      ],
      "execution_count": null,
      "outputs": [
        {
          "output_type": "execute_result",
          "data": {
            "text/plain": [
              "100"
            ]
          },
          "metadata": {
            "tags": []
          },
          "execution_count": 54
        }
      ]
    },
    {
      "cell_type": "code",
      "metadata": {
        "id": "ixSZieUXABSv",
        "colab": {
          "base_uri": "https://localhost:8080/"
        },
        "outputId": "c18a7e7d-e272-4793-e65c-e0751cd78a4b"
      },
      "source": [
        "d = {'k1':123, 'k2':[0, 1, 2], 'k3':{'inside_key':100}, 'k4':['apple', 'ball', 'cat']}\n",
        "print(d['k1'])\n",
        "print(d['k2'])\n",
        "print(d['k2'][2])\n",
        "print(d['k3']['inside_key'])\n",
        "\n",
        "d2 = d['k4'][1]\n",
        "print(d2.upper())\n",
        "\n",
        "print(d['k4'][2].upper())"
      ],
      "execution_count": null,
      "outputs": [
        {
          "output_type": "stream",
          "text": [
            "123\n",
            "[0, 1, 2]\n",
            "2\n",
            "100\n",
            "BALL\n",
            "CAT\n"
          ],
          "name": "stdout"
        }
      ]
    },
    {
      "cell_type": "markdown",
      "metadata": {
        "id": "Sp0Cqwb4LssU"
      },
      "source": [
        "**Adding new key:value pairs**"
      ]
    },
    {
      "cell_type": "code",
      "metadata": {
        "id": "bu01fsPeGt1M",
        "colab": {
          "base_uri": "https://localhost:8080/"
        },
        "outputId": "3f3c6b1c-6eb4-4aa1-d001-5343c7004259"
      },
      "source": [
        "my_dic = {'k1':100, 'k2':200, 'k3':300}\n",
        "my_dic['k4'] = 400\n",
        "print(my_dic)"
      ],
      "execution_count": null,
      "outputs": [
        {
          "output_type": "stream",
          "text": [
            "{'k1': 100, 'k2': 200, 'k3': 300, 'k4': 400}\n"
          ],
          "name": "stdout"
        }
      ]
    },
    {
      "cell_type": "markdown",
      "metadata": {
        "id": "IaYu2uiRL3WN"
      },
      "source": [
        "**Overwriting key:value pairs**"
      ]
    },
    {
      "cell_type": "code",
      "metadata": {
        "id": "_yHE4LuBHp35",
        "colab": {
          "base_uri": "https://localhost:8080/"
        },
        "outputId": "7eecb905-2fab-42fd-c143-ad98f7bc03ee"
      },
      "source": [
        "my_dic = {'k1':100, 'k2':200, 'k3':300}\n",
        "my_dic['k2'] = 'New Value'\n",
        "print(my_dic)"
      ],
      "execution_count": null,
      "outputs": [
        {
          "output_type": "stream",
          "text": [
            "{'k1': 100, 'k2': 'New Value', 'k3': 300}\n"
          ],
          "name": "stdout"
        }
      ]
    },
    {
      "cell_type": "code",
      "metadata": {
        "id": "LJeJ1R3lH-GT",
        "colab": {
          "base_uri": "https://localhost:8080/"
        },
        "outputId": "17ae38e9-48a6-4fdc-da0e-974725b8ddaa"
      },
      "source": [
        "my_dic = {'k1':100, 'k2':200, 'k3':300}\n",
        "my_dic.keys()"
      ],
      "execution_count": null,
      "outputs": [
        {
          "output_type": "execute_result",
          "data": {
            "text/plain": [
              "dict_keys(['k1', 'k2', 'k3'])"
            ]
          },
          "metadata": {
            "tags": []
          },
          "execution_count": 58
        }
      ]
    },
    {
      "cell_type": "code",
      "metadata": {
        "id": "H72rN3dqILHM",
        "colab": {
          "base_uri": "https://localhost:8080/"
        },
        "outputId": "57eab1e3-d9ff-4a68-b0a8-00fc1dc13551"
      },
      "source": [
        "my_dic = {'k1':100, 'k2':200, 'k3':300}\n",
        "my_dic.values()"
      ],
      "execution_count": null,
      "outputs": [
        {
          "output_type": "execute_result",
          "data": {
            "text/plain": [
              "dict_values([100, 200, 300])"
            ]
          },
          "metadata": {
            "tags": []
          },
          "execution_count": 59
        }
      ]
    },
    {
      "cell_type": "code",
      "metadata": {
        "id": "ocHfbvxKIno1",
        "colab": {
          "base_uri": "https://localhost:8080/"
        },
        "outputId": "7927c3af-5845-4e48-bb0c-386f68af3f2c"
      },
      "source": [
        "'''\n",
        "return Tuple\n",
        "\n",
        "'''\n",
        "my_dic = {'k1':100, 'k2':200, 'k3':300}\n",
        "my_dic.items()"
      ],
      "execution_count": null,
      "outputs": [
        {
          "output_type": "execute_result",
          "data": {
            "text/plain": [
              "dict_items([('k1', 100), ('k2', 200), ('k3', 300)])"
            ]
          },
          "metadata": {
            "tags": []
          },
          "execution_count": 60
        }
      ]
    },
    {
      "cell_type": "code",
      "metadata": {
        "id": "grJnVPZHBo9F",
        "colab": {
          "base_uri": "https://localhost:8080/"
        },
        "outputId": "273c0948-f915-41ca-881d-ee9c03877094"
      },
      "source": [
        "thisdict = {\n",
        "  \"brand\": \"Ford\",\n",
        "  \"model\": \"Mustang\",\n",
        "  \"year\": 1964\n",
        "}\n",
        "\n",
        "x = thisdict[\"model\"]\n",
        "y = thisdict.get(\"model\") #Another Method -Same result\n",
        "\n",
        "print(x)\n",
        "print(y)\n",
        "\n",
        "#Changing the values\n",
        "thisdict[\"year\"] = 2018\n",
        "print(thisdict)"
      ],
      "execution_count": null,
      "outputs": [
        {
          "output_type": "stream",
          "text": [
            "Mustang\n",
            "Mustang\n",
            "{'brand': 'Ford', 'model': 'Mustang', 'year': 2018}\n"
          ],
          "name": "stdout"
        }
      ]
    },
    {
      "cell_type": "code",
      "metadata": {
        "id": "N4XqKweuC4OM",
        "colab": {
          "base_uri": "https://localhost:8080/"
        },
        "outputId": "9d8844cf-9006-41ee-ecc4-9e30f84629fc"
      },
      "source": [
        "thisdict = {\n",
        "  \"brand\": \"Ford\",\n",
        "  \"model\": \"Mustang\",\n",
        "  \"year\": 1964\n",
        "} \n",
        "\n",
        "# This will print all the keys\n",
        "for key in thisdict:\n",
        "    print(key)\n",
        "\n",
        "# This will print all the values\n",
        "for val in thisdict:\n",
        "    print(thisdict[val])\n",
        "    "
      ],
      "execution_count": null,
      "outputs": [
        {
          "output_type": "stream",
          "text": [
            "brand\n",
            "model\n",
            "year\n",
            "Ford\n",
            "Mustang\n",
            "1964\n"
          ],
          "name": "stdout"
        }
      ]
    },
    {
      "cell_type": "code",
      "metadata": {
        "id": "V-n9rqBgEYq8",
        "colab": {
          "base_uri": "https://localhost:8080/"
        },
        "outputId": "46bcb2dd-f0b6-4b6d-a92b-e89b15f67aed"
      },
      "source": [
        "thisdict = {\n",
        "  \"brand\": \"Ford\",\n",
        "  \"model\": \"Mustang\",\n",
        "  \"year\": 1964\n",
        "}\n",
        "for vals in thisdict.values():\n",
        "    print(vals)\n",
        "\n",
        "for keys in thisdict.keys():\n",
        "    print(keys)"
      ],
      "execution_count": null,
      "outputs": [
        {
          "output_type": "stream",
          "text": [
            "Ford\n",
            "Mustang\n",
            "1964\n",
            "brand\n",
            "model\n",
            "year\n"
          ],
          "name": "stdout"
        }
      ]
    },
    {
      "cell_type": "code",
      "metadata": {
        "id": "tLs3pmRtE7Vi",
        "colab": {
          "base_uri": "https://localhost:8080/"
        },
        "outputId": "cecfcfcf-1b37-4d2c-a56e-95199d55150c"
      },
      "source": [
        "# Looping through both key and values\n",
        "thisdict = {\n",
        "  \"brand\": \"Ford\",\n",
        "  \"model\": \"Mustang\",\n",
        "  \"year\": 1964\n",
        "}\n",
        "for x in thisdict.items():\n",
        "    print(x)\n",
        "    "
      ],
      "execution_count": null,
      "outputs": [
        {
          "output_type": "stream",
          "text": [
            "('brand', 'Ford')\n",
            "('model', 'Mustang')\n",
            "('year', 1964)\n"
          ],
          "name": "stdout"
        }
      ]
    },
    {
      "cell_type": "markdown",
      "metadata": {
        "id": "63Eu7YA6Fk_u"
      },
      "source": [
        "**Check if Key Exists**"
      ]
    },
    {
      "cell_type": "code",
      "metadata": {
        "id": "Y0obuFG7FkIy",
        "colab": {
          "base_uri": "https://localhost:8080/"
        },
        "outputId": "3cc5ec5c-d393-4539-aecd-8c2f7c53ed34"
      },
      "source": [
        "thisdict = {\n",
        "  \"k1\": \"tensor\",\n",
        "  \"k2\": \"password\",\n",
        "  \"k3\": 1984\n",
        "}\n",
        "\n",
        "key = input()\n",
        "\n",
        "if key in thisdict:\n",
        "    print(\"this key exist\")\n",
        "else:\n",
        "    print(\"You have enter worng key\") "
      ],
      "execution_count": null,
      "outputs": [
        {
          "output_type": "stream",
          "text": [
            "S1\n",
            "You have enter worng key\n"
          ],
          "name": "stdout"
        }
      ]
    },
    {
      "cell_type": "code",
      "metadata": {
        "id": "SHf2GXeRJeJV",
        "colab": {
          "base_uri": "https://localhost:8080/"
        },
        "outputId": "77c8db37-b730-4db6-803a-f5b99372bc3d"
      },
      "source": [
        "thisdict = {\n",
        "  \"k1\": \"tensor\",\n",
        "  \"k2\": \"password\",\n",
        "  \"k3\": 1984\n",
        "}\n",
        "\n",
        "print('Enter the key:')\n",
        "key = input()\n",
        "\n",
        "if key in thisdict:\n",
        "    print(\"The value of this key is\", thisdict[key])\n",
        "else:\n",
        "    print(\"You have enter worng key\") \n"
      ],
      "execution_count": null,
      "outputs": [
        {
          "output_type": "stream",
          "text": [
            "Enter the key:\n",
            "k3\n",
            "The value of this key is 1984\n"
          ],
          "name": "stdout"
        }
      ]
    },
    {
      "cell_type": "markdown",
      "metadata": {
        "id": "8U3QjrE8Ir0R"
      },
      "source": [
        "**Python `input()` Function** "
      ]
    },
    {
      "cell_type": "code",
      "metadata": {
        "id": "TMFcJZMYHKwb",
        "colab": {
          "base_uri": "https://localhost:8080/"
        },
        "outputId": "86e48258-c446-4388-c543-29901cab3d6d"
      },
      "source": [
        "print('Enter your name:')\n",
        "x = input()\n",
        "print('Hello, ' + x)"
      ],
      "execution_count": null,
      "outputs": [
        {
          "output_type": "stream",
          "text": [
            "Enter your name:\n",
            "FAIZY\n",
            "Hello, FAIZY\n"
          ],
          "name": "stdout"
        }
      ]
    },
    {
      "cell_type": "markdown",
      "metadata": {
        "id": "4CZ0ESU_P_dy"
      },
      "source": [
        "**Removing Items**"
      ]
    },
    {
      "cell_type": "code",
      "metadata": {
        "id": "7ZSb6YNbP5fD",
        "colab": {
          "base_uri": "https://localhost:8080/"
        },
        "outputId": "8f3acc07-57c6-4dfd-d930-e953f8cf4cdd"
      },
      "source": [
        "thisdict = {\n",
        "  \"brand\": \"Ford\",\n",
        "  \"model\": \"Mustang\",\n",
        "  \"year\": 1964\n",
        "}\n",
        "thisdict.pop(\"model\")\n",
        "print(thisdict)"
      ],
      "execution_count": null,
      "outputs": [
        {
          "output_type": "stream",
          "text": [
            "{'brand': 'Ford', 'year': 1964}\n"
          ],
          "name": "stdout"
        }
      ]
    },
    {
      "cell_type": "markdown",
      "metadata": {
        "id": "KKP6CYuZpBlr"
      },
      "source": [
        "Removes the item with the specified key name:"
      ]
    },
    {
      "cell_type": "code",
      "metadata": {
        "id": "g9Z3Ybhto8qh",
        "colab": {
          "base_uri": "https://localhost:8080/"
        },
        "outputId": "cd5e5830-04ee-4445-cd82-d419fe286a2a"
      },
      "source": [
        "thisdict = {\n",
        "  \"brand\": \"Ford\",\n",
        "  \"model\": \"Mustang\",\n",
        "  \"year\": 1964\n",
        "}\n",
        "del thisdict[\"model\"]\n",
        "print(thisdict)"
      ],
      "execution_count": null,
      "outputs": [
        {
          "output_type": "stream",
          "text": [
            "{'brand': 'Ford', 'year': 1964}\n"
          ],
          "name": "stdout"
        }
      ]
    },
    {
      "cell_type": "markdown",
      "metadata": {
        "id": "TpsSvGt6phCO"
      },
      "source": [
        "Make a copy of a dictionary with the `copy()`"
      ]
    },
    {
      "cell_type": "code",
      "metadata": {
        "id": "RhY0BKffpSTF",
        "colab": {
          "base_uri": "https://localhost:8080/"
        },
        "outputId": "8c8c9abd-a2a3-4576-c0fd-165b12e860a9"
      },
      "source": [
        "thisdict = {\n",
        "  \"brand\": \"Ford\",\n",
        "  \"model\": \"Mustang\",\n",
        "  \"year\": 1964\n",
        "}\n",
        "mydict = thisdict.copy()\n",
        "print(mydict)"
      ],
      "execution_count": null,
      "outputs": [
        {
          "output_type": "stream",
          "text": [
            "{'brand': 'Ford', 'model': 'Mustang', 'year': 1964}\n"
          ],
          "name": "stdout"
        }
      ]
    },
    {
      "cell_type": "markdown",
      "metadata": {
        "id": "k5CMWes7Nyvk"
      },
      "source": [
        "#### __Tuples__ `( )`\n",
        "\n",
        "- __Immutable__\n",
        "- __Ordered__\n",
        "- __Duplicates allowed__\n",
        "\n"
      ]
    },
    {
      "cell_type": "code",
      "metadata": {
        "id": "ZF1dHQJXb3Li",
        "colab": {
          "base_uri": "https://localhost:8080/"
        },
        "outputId": "e19519de-3e54-4fcf-ef4e-587b64199d54"
      },
      "source": [
        "t = ('a','a', 'b', 'e', 'f', 'c', 'c', 'c')\n",
        "print(t.count('c'))\n",
        "print(t.index('c')) #this return the very first time 'c' appers \n"
      ],
      "execution_count": null,
      "outputs": [
        {
          "output_type": "stream",
          "text": [
            "3\n",
            "5\n"
          ],
          "name": "stdout"
        }
      ]
    },
    {
      "cell_type": "code",
      "metadata": {
        "id": "2hppnTbXc-r7",
        "colab": {
          "base_uri": "https://localhost:8080/"
        },
        "outputId": "f6ce1873-f45e-4684-e7f5-ca861ee9e0e6"
      },
      "source": [
        "# simple Slicing Tuples\n",
        "\n",
        "t = (0, 1, 2, 3, 4, 5, 6, 7, 8, 9, 10, 11, 12, 13)\n",
        "print(type(t))\n",
        "print(len(t))\n",
        "\n",
        "print(t[0])\n",
        "print(t[2:])\n",
        "print(t[:2])\n",
        "print(t[0:6:2])\n",
        "print(t[0::2])\n",
        "print(t[0:6:])\n",
        "print(t[:6:2])"
      ],
      "execution_count": null,
      "outputs": [
        {
          "output_type": "stream",
          "text": [
            "<class 'tuple'>\n",
            "14\n",
            "0\n",
            "(2, 3, 4, 5, 6, 7, 8, 9, 10, 11, 12, 13)\n",
            "(0, 1)\n",
            "(0, 2, 4)\n",
            "(0, 2, 4, 6, 8, 10, 12)\n",
            "(0, 1, 2, 3, 4, 5)\n",
            "(0, 2, 4)\n"
          ],
          "name": "stdout"
        }
      ]
    },
    {
      "cell_type": "code",
      "metadata": {
        "id": "0newOSpvQ3Oi",
        "colab": {
          "base_uri": "https://localhost:8080/"
        },
        "outputId": "6e0e9a3a-1f31-48eb-8d2f-ec4bcb3496fb"
      },
      "source": [
        "# Slicing Tuples\n",
        "\n",
        "t = (['a', 2, 'c', 4], {'k1': 100}, {'k2':['apple', 'ball', 'cat']})\n",
        "\n",
        "print(type(t))\n",
        "print(len(t))\n",
        "\n",
        "print(t[0])\n",
        "print(t[2:])\n",
        "print(t[:2])\n",
        "print(t[0:1:2])\n",
        "print(t[0::2])\n",
        "print(t[0:1:])\n",
        "print(t[:1:2])\n",
        "\n"
      ],
      "execution_count": null,
      "outputs": [
        {
          "output_type": "stream",
          "text": [
            "<class 'tuple'>\n",
            "3\n",
            "['a', 2, 'c', 4]\n",
            "({'k2': ['apple', 'ball', 'cat']},)\n",
            "(['a', 2, 'c', 4], {'k1': 100})\n",
            "(['a', 2, 'c', 4],)\n",
            "(['a', 2, 'c', 4], {'k2': ['apple', 'ball', 'cat']})\n",
            "(['a', 2, 'c', 4],)\n",
            "(['a', 2, 'c', 4],)\n"
          ],
          "name": "stdout"
        }
      ]
    },
    {
      "cell_type": "code",
      "metadata": {
        "id": "GKFhBsZ7Zv3G"
      },
      "source": [
        "t = (['a', 2, 'c', 4], {'k1': 100}, {'k2':['apple', 'ball', 'cat']})"
      ],
      "execution_count": null,
      "outputs": []
    },
    {
      "cell_type": "markdown",
      "metadata": {
        "id": "USOEx0qgJnim"
      },
      "source": [
        "Tuple provides us the convenient source of whats is known as **data integratity**\n",
        "\n",
        "- Main use of tuples is when we are passing the **objects** in our program, we need to make sure that theyacciedntly get changed\n",
        "\n",
        "\n",
        "```python\n",
        "t = ('a', 1, 4, 'ONE', 'apple')\n",
        "t[0] = 'New'\n",
        "```\n",
        "```python\n",
        "---------------------------------------------------------------------------\n",
        "TypeError                                 Traceback (most recent call last)\n",
        "<ipython-input-75-5371bb59b9a0> in <module>()\n",
        "      1 t = ('a', 1, 4, 'ONE', 'apple')\n",
        "----> 2 t[0] = 'New'\n",
        "\n",
        "TypeError: 'tuple' object does not support item assignment\n",
        "```\n",
        "\n"
      ]
    },
    {
      "cell_type": "markdown",
      "metadata": {
        "id": "V6d0EImNK-zZ"
      },
      "source": [
        "- Tuples are faster than lists.\n",
        "\n",
        "- It makes your code safer if you “write-protect” data that does not need to be changed.\n",
        "\n",
        "- Some tuples can be used as **dictionary keys** (specifically, tuples that contain **immutable value**s like strings, numbers, and other tuples)."
      ]
    },
    {
      "cell_type": "markdown",
      "metadata": {
        "id": "R3_TWl4vMO9X"
      },
      "source": [
        "**Change Tuple Values**\n",
        "\n",
        "- Once a tuple is created, you cannot change its values. Tuples are unchangeable, or immutable as it also is called.\n",
        "\n",
        "- But there is a workaround. You can convert the tuple into a list, change the list, and convert the list back into a tuple."
      ]
    },
    {
      "cell_type": "code",
      "metadata": {
        "id": "vuSe4upUMM0g",
        "colab": {
          "base_uri": "https://localhost:8080/"
        },
        "outputId": "6b1b5dca-241f-4a60-e247-38ac54fa2002"
      },
      "source": [
        "tup1 = ('a', 'b', 'c', 1, 2, 3)\n",
        "lis1 = list(tup1)\n",
        "lis1[0] = 'apple'\n",
        "tup1 = tuple(lis1)\n",
        "print(tup1)"
      ],
      "execution_count": null,
      "outputs": [
        {
          "output_type": "stream",
          "text": [
            "('apple', 'b', 'c', 1, 2, 3)\n"
          ],
          "name": "stdout"
        }
      ]
    },
    {
      "cell_type": "markdown",
      "metadata": {
        "id": "yqsEGZi1OtJp"
      },
      "source": [
        "__Loop Through a Tuple__"
      ]
    },
    {
      "cell_type": "code",
      "metadata": {
        "id": "F_cACP3sOvoM",
        "colab": {
          "base_uri": "https://localhost:8080/"
        },
        "outputId": "61879b25-7fe9-4149-ca84-bacca0d58924"
      },
      "source": [
        "mytup = ('apple', 'banana', 'orange')\n",
        "for x in mytup:\n",
        "    print(x)"
      ],
      "execution_count": null,
      "outputs": [
        {
          "output_type": "stream",
          "text": [
            "apple\n",
            "banana\n",
            "orange\n"
          ],
          "name": "stdout"
        }
      ]
    },
    {
      "cell_type": "markdown",
      "metadata": {
        "id": "l6OzEtMoQFLp"
      },
      "source": [
        "**Check if Item Exists**"
      ]
    },
    {
      "cell_type": "code",
      "metadata": {
        "id": "n-WaGUSeP-fJ",
        "colab": {
          "base_uri": "https://localhost:8080/"
        },
        "outputId": "4847743b-e89a-4cc2-d307-ba9fdb726dbb"
      },
      "source": [
        "thistuple = (\"apple\", \"banana\", \"cherry\")\n",
        "if \"apple\" in thistuple:\n",
        "  print(\"Yes, 'apple' is in the fruits tuple\")\n",
        "print(len(thistuple))"
      ],
      "execution_count": null,
      "outputs": [
        {
          "output_type": "stream",
          "text": [
            "Yes, 'apple' is in the fruits tuple\n",
            "3\n"
          ],
          "name": "stdout"
        }
      ]
    },
    {
      "cell_type": "markdown",
      "metadata": {
        "id": "VjBoJR-CmqB1"
      },
      "source": [
        "```python\n",
        "# You cannot add items to a tuple:\n",
        "thistuple = (\"apple\", \"banana\", \"cherry\")\n",
        "thistuple[3] = \"orange\" # This will raise an error\n",
        "\n",
        "print(thistuple)\n",
        "```\n",
        "\n",
        "```python\n",
        "---------------------------------------------------------------------------\n",
        "TypeError                                 Traceback (most recent call last)\n",
        "<ipython-input-79-9e68b03fd462> in <module>()\n",
        "      1 # You cannot add items to a tuple:\n",
        "      2 thistuple = (\"apple\", \"banana\", \"cherry\")\n",
        "----> 3 thistuple[3] = \"orange\" # This will raise an error\n",
        "      4 print(thistuple)\n",
        "\n",
        "TypeError: 'tuple' object does not support item assignment\n",
        "```\n"
      ]
    },
    {
      "cell_type": "markdown",
      "metadata": {
        "id": "on4ESfIVtog_"
      },
      "source": [
        "```python\n",
        "thistuple = (\"apple\", \"banana\", \"cherry\")\n",
        "del thistuple\n",
        "print(thistuple) #this will raise an error because the tuple no longer exists\n",
        "```\n",
        "\n",
        "```python\n",
        "NameError                                 Traceback (most recent call last)\n",
        "<ipython-input-78-8a57ed92fc5d> in <module>()\n",
        "      1 thistuple = (\"apple\", \"banana\", \"cherry\")\n",
        "      2 del thistuple\n",
        "----> 3 print(thistuple) #this will raise an error because the tuple no longer exists\n",
        "\n",
        "NameError: name 'thistuple' is not defined\n",
        "```"
      ]
    },
    {
      "cell_type": "code",
      "metadata": {
        "id": "Yp-gJmPcTIhx",
        "colab": {
          "base_uri": "https://localhost:8080/"
        },
        "outputId": "26dc079a-e99b-4f60-95d9-e1f373a7c701"
      },
      "source": [
        "#joining Tuple\n",
        "\n",
        "tuple1 = (\"a\", \"b\" , \"c\")\n",
        "tuple2 = (1, 2, 3)\n",
        "\n",
        "tuple3 = tuple1 + tuple2\n",
        "print(tuple3)"
      ],
      "execution_count": null,
      "outputs": [
        {
          "output_type": "stream",
          "text": [
            "('a', 'b', 'c', 1, 2, 3)\n"
          ],
          "name": "stdout"
        }
      ]
    },
    {
      "cell_type": "markdown",
      "metadata": {
        "id": "CTcyeH4rTWMb"
      },
      "source": [
        "**The tuple() Constructor**"
      ]
    },
    {
      "cell_type": "code",
      "metadata": {
        "id": "SQItFchyTT_p",
        "colab": {
          "base_uri": "https://localhost:8080/"
        },
        "outputId": "7008fffa-4d4f-4765-88b8-9a3d9a2c877e"
      },
      "source": [
        "thistuple = tuple((\"apple\", \"banana\", \"cherry\")) \n",
        "print(thistuple)\n",
        "print(type(thistuple))"
      ],
      "execution_count": null,
      "outputs": [
        {
          "output_type": "stream",
          "text": [
            "('apple', 'banana', 'cherry')\n",
            "<class 'tuple'>\n"
          ],
          "name": "stdout"
        }
      ]
    },
    {
      "cell_type": "markdown",
      "metadata": {
        "id": "LPkW_EZCNBnR"
      },
      "source": [
        "#### __Sets__ `{ }`\n",
        "\n",
        "- __Mutable__\n",
        "- __Unordered__\n",
        "- __No duplicate__\n",
        "\n",
        "```\n",
        "# This is formatted as code\n",
        "```\n",
        "\n"
      ]
    },
    {
      "cell_type": "markdown",
      "metadata": {
        "id": "wxgxrO3Ei0bw"
      },
      "source": [
        "**Access Items**"
      ]
    },
    {
      "cell_type": "code",
      "metadata": {
        "id": "dsHCxAu8itZt",
        "colab": {
          "base_uri": "https://localhost:8080/"
        },
        "outputId": "4c7f4e1b-24d3-4620-9c5b-595db2b2cabd"
      },
      "source": [
        "thisset = {\"apple\", \"banana\", \"cherry\"}\n",
        "\n",
        "for x in thisset:\n",
        "  print(x)"
      ],
      "execution_count": null,
      "outputs": [
        {
          "output_type": "stream",
          "text": [
            "apple\n",
            "banana\n",
            "cherry\n"
          ],
          "name": "stdout"
        }
      ]
    },
    {
      "cell_type": "code",
      "metadata": {
        "id": "bn3st0Tui66Z",
        "colab": {
          "base_uri": "https://localhost:8080/"
        },
        "outputId": "0e9e2662-7f1d-4ef1-ae83-f94a4b7cae43"
      },
      "source": [
        "thisset = {\"apple\", \"banana\", \"cherry\"}\n",
        "\n",
        "print(\"banana\" in thisset)"
      ],
      "execution_count": null,
      "outputs": [
        {
          "output_type": "stream",
          "text": [
            "True\n"
          ],
          "name": "stdout"
        }
      ]
    },
    {
      "cell_type": "markdown",
      "metadata": {
        "id": "6E_qoM51joA3"
      },
      "source": [
        "**Add Items**"
      ]
    },
    {
      "cell_type": "code",
      "metadata": {
        "id": "Cnku8q6Ijwll",
        "colab": {
          "base_uri": "https://localhost:8080/"
        },
        "outputId": "229641da-09a5-4065-a452-31c53f3a85f7"
      },
      "source": [
        "thisset = {\"apple\", \"banana\", \"cherry\"}\n",
        "thisset.add(\"orange\")\n",
        "print(thisset)"
      ],
      "execution_count": null,
      "outputs": [
        {
          "output_type": "stream",
          "text": [
            "{'apple', 'banana', 'cherry', 'orange'}\n"
          ],
          "name": "stdout"
        }
      ]
    },
    {
      "cell_type": "markdown",
      "metadata": {
        "id": "-w3ClG37kBPU"
      },
      "source": [
        "**Add multiple items to a set**"
      ]
    },
    {
      "cell_type": "code",
      "metadata": {
        "id": "5RbylWNLj5N-",
        "colab": {
          "base_uri": "https://localhost:8080/"
        },
        "outputId": "7e23c948-3b58-4316-91a2-2e8b2dabcad7"
      },
      "source": [
        "hisset = {\"apple\", \"banana\", \"cherry\"}\n",
        "thisset.update([\"orange\", \"mango\", \"grapes\"])\n",
        "print(thisset)"
      ],
      "execution_count": null,
      "outputs": [
        {
          "output_type": "stream",
          "text": [
            "{'apple', 'orange', 'cherry', 'grapes', 'mango', 'banana'}\n"
          ],
          "name": "stdout"
        }
      ]
    },
    {
      "cell_type": "code",
      "metadata": {
        "id": "DBQKvdfJk8ma",
        "colab": {
          "base_uri": "https://localhost:8080/"
        },
        "outputId": "add1af2d-08a2-4a35-8a9d-dcf6e83d4b3b"
      },
      "source": [
        "thisset = {\"apple\", \"banana\", \"cherry\"}\n",
        "\n",
        "print(len(thisset))\n",
        "\n",
        "thisset.remove(\"banana\")\n",
        "\n",
        "print(thisset)\n",
        "print(len(thisset))"
      ],
      "execution_count": null,
      "outputs": [
        {
          "output_type": "stream",
          "text": [
            "3\n",
            "{'apple', 'cherry'}\n",
            "2\n"
          ],
          "name": "stdout"
        }
      ]
    },
    {
      "cell_type": "markdown",
      "metadata": {
        "id": "lqzVUgmClnJ4"
      },
      "source": [
        "**Remove the last item by using the` pop()` method:**"
      ]
    },
    {
      "cell_type": "code",
      "metadata": {
        "id": "zl1LL8kMlU0W",
        "colab": {
          "base_uri": "https://localhost:8080/"
        },
        "outputId": "0fb04aea-e852-4d73-a7e7-bb14f2ef41f8"
      },
      "source": [
        "thisset = {\"apple\", \"banana\", \"cherry\"}\n",
        "\n",
        "x = thisset.pop()\n",
        "\n",
        "print(x)\n",
        "\n",
        "print(thisset)"
      ],
      "execution_count": null,
      "outputs": [
        {
          "output_type": "stream",
          "text": [
            "apple\n",
            "{'banana', 'cherry'}\n"
          ],
          "name": "stdout"
        }
      ]
    },
    {
      "cell_type": "code",
      "metadata": {
        "id": "c9AJdnLkZzx9",
        "colab": {
          "base_uri": "https://localhost:8080/"
        },
        "outputId": "513d2585-4c2e-4b63-b979-661f27325fc4"
      },
      "source": [
        "myset = set()\n",
        "\n",
        "myset.add(1)\n",
        "print(myset)\n",
        "\n",
        "myset.add(2)\n",
        "print(myset)\n",
        "\n",
        "\n",
        "myset.add(2)\n",
        "print(myset) #it has to be unique to get added to the set\n",
        "\n",
        "myset.add(5)\n",
        "print(myset)"
      ],
      "execution_count": null,
      "outputs": [
        {
          "output_type": "stream",
          "text": [
            "{1}\n",
            "{1, 2}\n",
            "{1, 2}\n",
            "{1, 2, 5}\n"
          ],
          "name": "stdout"
        }
      ]
    },
    {
      "cell_type": "code",
      "metadata": {
        "id": "rr_ArHBSbSfy",
        "colab": {
          "base_uri": "https://localhost:8080/"
        },
        "outputId": "55e55c4c-fe9a-4b54-97b4-f7953380750b"
      },
      "source": [
        "mylist = [1, 1, 1, 1, 2, 2, 3, 3, 3, 4, 5, 6, 6, 6, 7, 7, 8, 8, 9, 9]\n",
        "print(set(mylist)) "
      ],
      "execution_count": null,
      "outputs": [
        {
          "output_type": "stream",
          "text": [
            "{1, 2, 3, 4, 5, 6, 7, 8, 9}\n"
          ],
          "name": "stdout"
        }
      ]
    },
    {
      "cell_type": "code",
      "metadata": {
        "id": "d3Hob6lndtrj",
        "colab": {
          "base_uri": "https://localhost:8080/"
        },
        "outputId": "69ab0fd5-cddf-440b-8e1f-94be8ed4d87d"
      },
      "source": [
        "set('Mississippi')"
      ],
      "execution_count": null,
      "outputs": [
        {
          "output_type": "execute_result",
          "data": {
            "text/plain": [
              "{'M', 'i', 'p', 's'}"
            ]
          },
          "metadata": {
            "tags": []
          },
          "execution_count": 89
        }
      ]
    },
    {
      "cell_type": "markdown",
      "metadata": {
        "id": "WBAmOuILl09I"
      },
      "source": [
        "`.Union()` Joining two sets"
      ]
    },
    {
      "cell_type": "code",
      "metadata": {
        "id": "8nUKXs35l0KF",
        "colab": {
          "base_uri": "https://localhost:8080/"
        },
        "outputId": "3d23c1ca-f79d-4f2b-ba32-d13a312d4b32"
      },
      "source": [
        "set1 = {\"a\", \"b\" , \"c\"}\n",
        "set2 = {1, 2, 3}\n",
        "\n",
        "set3 = set1.union(set2)\n",
        "print(set3)"
      ],
      "execution_count": null,
      "outputs": [
        {
          "output_type": "stream",
          "text": [
            "{1, 'b', 2, 3, 'a', 'c'}\n"
          ],
          "name": "stdout"
        }
      ]
    },
    {
      "cell_type": "markdown",
      "metadata": {
        "id": "4T3AFyJfmz50"
      },
      "source": [
        "The update() method inserts the items in set2 into set1:"
      ]
    },
    {
      "cell_type": "code",
      "metadata": {
        "id": "hha1Uk-smoFz",
        "colab": {
          "base_uri": "https://localhost:8080/"
        },
        "outputId": "14dcf9ea-e408-4417-cb7b-1ed1f2f1222b"
      },
      "source": [
        "set1 = {\"a\", \"b\" , \"c\"}\n",
        "set2 = {1, 2, 3}\n",
        "\n",
        "set1.update(set2)\n",
        "print(set1)"
      ],
      "execution_count": null,
      "outputs": [
        {
          "output_type": "stream",
          "text": [
            "{1, 'b', 2, 3, 'a', 'c'}\n"
          ],
          "name": "stdout"
        }
      ]
    },
    {
      "cell_type": "markdown",
      "metadata": {
        "id": "B9CaBrb6eAIh"
      },
      "source": [
        "#### __Booleans__ `True/False`"
      ]
    },
    {
      "cell_type": "markdown",
      "metadata": {
        "id": "o-loBw5fgvOX"
      },
      "source": [
        "- **Booleans** are the operaters that allow you to convey **True** or **false** statements.\n",
        "\n",
        "- These are important where we have to deal with control $flow$ and $logic$!"
      ]
    },
    {
      "cell_type": "code",
      "metadata": {
        "id": "G7x2mhTlht6G",
        "colab": {
          "base_uri": "https://localhost:8080/"
        },
        "outputId": "21ec7831-0547-467b-d80f-4e762fe13f63"
      },
      "source": [
        " print(type(True))\n",
        " print(type(False))"
      ],
      "execution_count": null,
      "outputs": [
        {
          "output_type": "stream",
          "text": [
            "<class 'bool'>\n",
            "<class 'bool'>\n"
          ],
          "name": "stdout"
        }
      ]
    },
    {
      "cell_type": "code",
      "metadata": {
        "id": "Tyouukrjh-Si",
        "colab": {
          "base_uri": "https://localhost:8080/"
        },
        "outputId": "61b7964e-54e6-4bb5-9092-9124f48dced7"
      },
      "source": [
        "1 > 2"
      ],
      "execution_count": null,
      "outputs": [
        {
          "output_type": "execute_result",
          "data": {
            "text/plain": [
              "False"
            ]
          },
          "metadata": {
            "tags": []
          },
          "execution_count": 93
        }
      ]
    },
    {
      "cell_type": "code",
      "metadata": {
        "id": "mREtcBSNiN_u",
        "colab": {
          "base_uri": "https://localhost:8080/"
        },
        "outputId": "c6a683bd-9b83-49d4-b7d7-82a4c0452453"
      },
      "source": [
        "1 == 1"
      ],
      "execution_count": null,
      "outputs": [
        {
          "output_type": "execute_result",
          "data": {
            "text/plain": [
              "True"
            ]
          },
          "metadata": {
            "tags": []
          },
          "execution_count": 94
        }
      ]
    },
    {
      "cell_type": "code",
      "metadata": {
        "id": "fvytpaShiVq3",
        "colab": {
          "base_uri": "https://localhost:8080/"
        },
        "outputId": "38a7f006-75eb-4a0e-e997-707d67bb1969"
      },
      "source": [
        "b = None #used as a placeholder\n",
        "print(b)"
      ],
      "execution_count": null,
      "outputs": [
        {
          "output_type": "stream",
          "text": [
            "None\n"
          ],
          "name": "stdout"
        }
      ]
    },
    {
      "cell_type": "markdown",
      "metadata": {
        "id": "2uh8xHGqqXxj"
      },
      "source": [
        "### __6. I/O with Basic Files in Python__"
      ]
    },
    {
      "cell_type": "code",
      "metadata": {
        "id": "Ip8ueqQ48r2t",
        "colab": {
          "base_uri": "https://localhost:8080/"
        },
        "outputId": "487d9cae-f713-40a3-c34b-7cf7db2f0c2c"
      },
      "source": [
        "# writing my file\n",
        "%%writefile myfile.txt\n",
        "“Democracy is not a state. It is an act, and each generation must do its part.”"
      ],
      "execution_count": null,
      "outputs": [
        {
          "output_type": "stream",
          "text": [
            "Writing myfile.txt\n"
          ],
          "name": "stdout"
        }
      ]
    },
    {
      "cell_type": "code",
      "metadata": {
        "id": "WOB7s-JhAkjI",
        "colab": {
          "base_uri": "https://localhost:8080/"
        },
        "outputId": "ec40b9b9-a921-4547-a7c5-8b8508d00d3f"
      },
      "source": [
        "ls"
      ],
      "execution_count": null,
      "outputs": [
        {
          "output_type": "stream",
          "text": [
            "myfile.txt  \u001b[0m\u001b[01;34msample_data\u001b[0m/\n"
          ],
          "name": "stdout"
        }
      ]
    },
    {
      "cell_type": "code",
      "metadata": {
        "id": "M6OgXYDoAnWB",
        "colab": {
          "base_uri": "https://localhost:8080/",
          "height": 35
        },
        "outputId": "71d913ac-9426-4451-92be-e378222a1c70"
      },
      "source": [
        "pwd"
      ],
      "execution_count": null,
      "outputs": [
        {
          "output_type": "execute_result",
          "data": {
            "application/vnd.google.colaboratory.intrinsic+json": {
              "type": "string"
            },
            "text/plain": [
              "'/content'"
            ]
          },
          "metadata": {
            "tags": []
          },
          "execution_count": 98
        }
      ]
    },
    {
      "cell_type": "code",
      "metadata": {
        "id": "SiXvUxwu_8uz"
      },
      "source": [
        "myfile = open('/content/myfile.txt')"
      ],
      "execution_count": null,
      "outputs": []
    },
    {
      "cell_type": "code",
      "metadata": {
        "id": "qXBHwfvgHYBC",
        "colab": {
          "base_uri": "https://localhost:8080/",
          "height": 35
        },
        "outputId": "8550967b-2d0e-4440-d18f-c82fe5a72668"
      },
      "source": [
        "#this will output everything as a single string\n",
        "myfile.read()"
      ],
      "execution_count": null,
      "outputs": [
        {
          "output_type": "execute_result",
          "data": {
            "application/vnd.google.colaboratory.intrinsic+json": {
              "type": "string"
            },
            "text/plain": [
              "'“Democracy is not a state. It is an act, and each generation must do its part.”'"
            ]
          },
          "metadata": {
            "tags": []
          },
          "execution_count": 100
        }
      ]
    },
    {
      "cell_type": "markdown",
      "metadata": {
        "id": "KT8PpY1cH5ID"
      },
      "source": [
        "- if we run this again we recive an empty string this happen because there a cursor at the begining of a file and when you read it the cursor goes all the way to the end.\n",
        "        \n"
      ]
    },
    {
      "cell_type": "code",
      "metadata": {
        "id": "U7h07PZAHpc8",
        "colab": {
          "base_uri": "https://localhost:8080/",
          "height": 35
        },
        "outputId": "faf7601a-0d3a-47cb-c780-b49ec5abff81"
      },
      "source": [
        "myfile.read() "
      ],
      "execution_count": null,
      "outputs": [
        {
          "output_type": "execute_result",
          "data": {
            "application/vnd.google.colaboratory.intrinsic+json": {
              "type": "string"
            },
            "text/plain": [
              "''"
            ]
          },
          "metadata": {
            "tags": []
          },
          "execution_count": 101
        }
      ]
    },
    {
      "cell_type": "markdown",
      "metadata": {
        "id": "Bcs3vf27Ix7r"
      },
      "source": [
        "- in order to read this file again we have to reset the cursor"
      ]
    },
    {
      "cell_type": "code",
      "metadata": {
        "id": "vxEHfaB_JAEr",
        "colab": {
          "base_uri": "https://localhost:8080/"
        },
        "outputId": "4630bf38-801d-4b7f-b125-5e89aa822d25"
      },
      "source": [
        "# Reseting the cursor\n",
        "myfile.seek(0)"
      ],
      "execution_count": null,
      "outputs": [
        {
          "output_type": "execute_result",
          "data": {
            "text/plain": [
              "0"
            ]
          },
          "metadata": {
            "tags": []
          },
          "execution_count": 102
        }
      ]
    },
    {
      "cell_type": "code",
      "metadata": {
        "id": "g3D97zHvJJMC",
        "colab": {
          "base_uri": "https://localhost:8080/",
          "height": 35
        },
        "outputId": "3eafa98b-90aa-42ea-8b62-d5951119fe11"
      },
      "source": [
        "myfile.read()"
      ],
      "execution_count": null,
      "outputs": [
        {
          "output_type": "execute_result",
          "data": {
            "application/vnd.google.colaboratory.intrinsic+json": {
              "type": "string"
            },
            "text/plain": [
              "'“Democracy is not a state. It is an act, and each generation must do its part.”'"
            ]
          },
          "metadata": {
            "tags": []
          },
          "execution_count": 103
        }
      ]
    },
    {
      "cell_type": "code",
      "metadata": {
        "id": "6oKwrumRRJdz",
        "colab": {
          "base_uri": "https://localhost:8080/"
        },
        "outputId": "4e248987-98e4-417f-cc9a-972c257b1e47"
      },
      "source": [
        "myfile.seek(0)\n",
        "myfile.readlines()"
      ],
      "execution_count": null,
      "outputs": [
        {
          "output_type": "execute_result",
          "data": {
            "text/plain": [
              "['“Democracy is not a state. It is an act, and each generation must do its part.”']"
            ]
          },
          "metadata": {
            "tags": []
          },
          "execution_count": 104
        }
      ]
    },
    {
      "cell_type": "code",
      "metadata": {
        "id": "BWMV_0n5Rgs1"
      },
      "source": [
        "#closing the file\n",
        "myfile.close()"
      ],
      "execution_count": null,
      "outputs": []
    },
    {
      "cell_type": "markdown",
      "metadata": {
        "id": "Lyna7NhXeq2a"
      },
      "source": [
        "> __So any code within the indented code of block will use myfile as a varible of this text file$\\downarrow$__\n",
        "\n"
      ]
    },
    {
      "cell_type": "code",
      "metadata": {
        "id": "vpNFqK6jdSJl",
        "colab": {
          "base_uri": "https://localhost:8080/"
        },
        "outputId": "0250445d-445b-46fa-ad24-61b5fa1dfd80"
      },
      "source": [
        "with open('/content/myfile.txt') as my_new_file:\n",
        "    content = my_new_file.read() \n",
        "print(content)                                          "
      ],
      "execution_count": null,
      "outputs": [
        {
          "output_type": "stream",
          "text": [
            "“Democracy is not a state. It is an act, and each generation must do its part.”\n"
          ],
          "name": "stdout"
        }
      ]
    },
    {
      "cell_type": "code",
      "metadata": {
        "id": "JhRa6q8Gzhvb",
        "colab": {
          "base_uri": "https://localhost:8080/"
        },
        "outputId": "90dadab7-11cd-42d6-f4d7-2b69f4c9da94"
      },
      "source": [
        "with open('/content/myfile.txt', mode = 'r') as myfile:\n",
        "    content = myfile.read()\n",
        "print(content)"
      ],
      "execution_count": null,
      "outputs": [
        {
          "output_type": "stream",
          "text": [
            "“Democracy is not a state. It is an act, and each generation must do its part.”\n"
          ],
          "name": "stdout"
        }
      ]
    },
    {
      "cell_type": "code",
      "metadata": {
        "id": "ekUZMMSo01fe",
        "colab": {
          "base_uri": "https://localhost:8080/"
        },
        "outputId": "f3b7b511-63f6-4c7d-8ef2-91c0a06b7548"
      },
      "source": [
        "#overwriting the files\n",
        "%%writefile myfile.txt\n",
        "One On first\n",
        "Two On second\n",
        "Three On Third"
      ],
      "execution_count": null,
      "outputs": [
        {
          "output_type": "stream",
          "text": [
            "Overwriting myfile.txt\n"
          ],
          "name": "stdout"
        }
      ]
    },
    {
      "cell_type": "code",
      "metadata": {
        "id": "CYLeDowy1OFi",
        "colab": {
          "base_uri": "https://localhost:8080/"
        },
        "outputId": "fdeafdad-de10-479b-b034-e33615816aa3"
      },
      "source": [
        "with open('/content/myfile.txt', mode = 'r') as f:\n",
        "    print(f.read())"
      ],
      "execution_count": null,
      "outputs": [
        {
          "output_type": "stream",
          "text": [
            "One On first\n",
            "Two On second\n",
            "Three On Third\n"
          ],
          "name": "stdout"
        }
      ]
    },
    {
      "cell_type": "code",
      "metadata": {
        "id": "Il7hhHap2UEx"
      },
      "source": [
        "# Adding the new line to this \n",
        "\n",
        "with open('/content/myfile', mode = 'a') as f:\n",
        "    f.write('\\nFour On Forth')\n"
      ],
      "execution_count": null,
      "outputs": []
    },
    {
      "cell_type": "code",
      "metadata": {
        "id": "CnHcdh0q6OzB",
        "colab": {
          "base_uri": "https://localhost:8080/"
        },
        "outputId": "80d685e4-d34b-4cb3-8f16-27fecf1b101b"
      },
      "source": [
        "with open('/content/myfile.txt', mode = 'r') as f:\n",
        "    print(f.read())"
      ],
      "execution_count": null,
      "outputs": [
        {
          "output_type": "stream",
          "text": [
            "One On first\n",
            "Two On second\n",
            "Three On Third\n"
          ],
          "name": "stdout"
        }
      ]
    },
    {
      "cell_type": "code",
      "metadata": {
        "id": "u-XToBr-6s4T"
      },
      "source": [
        "with open('/content/xyz.txt', mode = 'w') as f:\n",
        "    f.write('I created a new file')"
      ],
      "execution_count": null,
      "outputs": []
    },
    {
      "cell_type": "code",
      "metadata": {
        "id": "SBXuLCCl7Qma",
        "colab": {
          "base_uri": "https://localhost:8080/"
        },
        "outputId": "f08ec6ae-d694-433a-ed77-37c0961325fb"
      },
      "source": [
        "with open('/content/xyz.txt', mode = 'r') as f:\n",
        "    print(f.read())"
      ],
      "execution_count": null,
      "outputs": [
        {
          "output_type": "stream",
          "text": [
            "I created a new file\n"
          ],
          "name": "stdout"
        }
      ]
    },
    {
      "cell_type": "markdown",
      "metadata": {
        "id": "9MH3wrztyJFw"
      },
      "source": [
        "### __7. Operaters__"
      ]
    },
    {
      "cell_type": "markdown",
      "metadata": {
        "id": "hqLWgr7DgPkV"
      },
      "source": [
        "1. __Arithmetic operators__\n",
        "2. __Assignment operators__\n",
        "3. __Comparison Operators__\n",
        "4. __Logical Operators__\n",
        "5. __Identity Operators__\n",
        "6. __Membership Operators__\n",
        "7. __Bitwise__"
      ]
    },
    {
      "cell_type": "code",
      "metadata": {
        "id": "Wk_ATpMFhrZ2",
        "colab": {
          "base_uri": "https://localhost:8080/"
        },
        "outputId": "a0bb177a-9f83-4022-e7c5-2edd98085188"
      },
      "source": [
        "# What Boolean will be the output of the following:\n",
        "2 < 3 > 10"
      ],
      "execution_count": null,
      "outputs": [
        {
          "output_type": "execute_result",
          "data": {
            "text/plain": [
              "False"
            ]
          },
          "metadata": {
            "tags": []
          },
          "execution_count": 120
        }
      ]
    },
    {
      "cell_type": "code",
      "metadata": {
        "id": "p-bPE9iUhzGU",
        "colab": {
          "base_uri": "https://localhost:8080/"
        },
        "outputId": "f779aaec-5714-4689-a4e3-c42035af15b4"
      },
      "source": [
        "# What Boolean will be the output of the following:\n",
        "2 <= 3 >= 1"
      ],
      "execution_count": null,
      "outputs": [
        {
          "output_type": "execute_result",
          "data": {
            "text/plain": [
              "True"
            ]
          },
          "metadata": {
            "tags": []
          },
          "execution_count": 121
        }
      ]
    },
    {
      "cell_type": "code",
      "metadata": {
        "id": "ejH1lXOyV48T",
        "colab": {
          "base_uri": "https://localhost:8080/"
        },
        "outputId": "14e44db5-e93a-4648-8315-f3ac8ab47bd5"
      },
      "source": [
        "1 < 2 and 2 < 3"
      ],
      "execution_count": null,
      "outputs": [
        {
          "output_type": "execute_result",
          "data": {
            "text/plain": [
              "True"
            ]
          },
          "metadata": {
            "tags": []
          },
          "execution_count": 122
        }
      ]
    },
    {
      "cell_type": "code",
      "metadata": {
        "id": "iA3_wimsdMvA",
        "colab": {
          "base_uri": "https://localhost:8080/"
        },
        "outputId": "15f6e80b-af5d-4cfc-c5d6-c72acfe34730"
      },
      "source": [
        "'h' == 'h' and 2 == 2"
      ],
      "execution_count": null,
      "outputs": [
        {
          "output_type": "execute_result",
          "data": {
            "text/plain": [
              "True"
            ]
          },
          "metadata": {
            "tags": []
          },
          "execution_count": 123
        }
      ]
    },
    {
      "cell_type": "code",
      "metadata": {
        "id": "i3sJqJV1dp9n",
        "colab": {
          "base_uri": "https://localhost:8080/"
        },
        "outputId": "354b027b-cb9c-4f70-8776-8a77db927919"
      },
      "source": [
        "100 == 200 or 2 == 2"
      ],
      "execution_count": null,
      "outputs": [
        {
          "output_type": "execute_result",
          "data": {
            "text/plain": [
              "True"
            ]
          },
          "metadata": {
            "tags": []
          },
          "execution_count": 124
        }
      ]
    },
    {
      "cell_type": "code",
      "metadata": {
        "id": "dkPIgqhhdvhn",
        "colab": {
          "base_uri": "https://localhost:8080/"
        },
        "outputId": "bf08ee04-db52-477d-a490-d1d0cbee785a"
      },
      "source": [
        "1 == 1"
      ],
      "execution_count": null,
      "outputs": [
        {
          "output_type": "execute_result",
          "data": {
            "text/plain": [
              "True"
            ]
          },
          "metadata": {
            "tags": []
          },
          "execution_count": 125
        }
      ]
    },
    {
      "cell_type": "code",
      "metadata": {
        "id": "7XfbhQ52dxzr",
        "colab": {
          "base_uri": "https://localhost:8080/"
        },
        "outputId": "15255740-bfe5-468e-8bee-cb8e5b6e2c39"
      },
      "source": [
        "1 != 1"
      ],
      "execution_count": null,
      "outputs": [
        {
          "output_type": "execute_result",
          "data": {
            "text/plain": [
              "False"
            ]
          },
          "metadata": {
            "tags": []
          },
          "execution_count": 126
        }
      ]
    },
    {
      "cell_type": "code",
      "metadata": {
        "id": "4bdUM_0-d80H",
        "colab": {
          "base_uri": "https://localhost:8080/"
        },
        "outputId": "15346045-2353-473b-a4c2-3788772ebcd7"
      },
      "source": [
        "not 1 == 1"
      ],
      "execution_count": null,
      "outputs": [
        {
          "output_type": "execute_result",
          "data": {
            "text/plain": [
              "False"
            ]
          },
          "metadata": {
            "tags": []
          },
          "execution_count": 127
        }
      ]
    },
    {
      "cell_type": "code",
      "metadata": {
        "id": "CCSQavphhXVN",
        "colab": {
          "base_uri": "https://localhost:8080/"
        },
        "outputId": "6b764fb9-6728-45fe-cc7f-ad4d5edbe285"
      },
      "source": [
        "not 400 > 3000"
      ],
      "execution_count": null,
      "outputs": [
        {
          "output_type": "execute_result",
          "data": {
            "text/plain": [
              "True"
            ]
          },
          "metadata": {
            "tags": []
          },
          "execution_count": 128
        }
      ]
    },
    {
      "cell_type": "markdown",
      "metadata": {
        "id": "7Z78Sx0f_v8e"
      },
      "source": [
        "### __8. Control Flow__"
      ]
    },
    {
      "cell_type": "markdown",
      "metadata": {
        "id": "ykmHV-SJsck3"
      },
      "source": [
        "**Python Loops**\n",
        "\n",
        "Python has two primitive loop commands:\n",
        "\n",
        "- __while__ loops\n",
        "- __for__ loops\n"
      ]
    },
    {
      "cell_type": "markdown",
      "metadata": {
        "id": "4Ezte2QvGe69"
      },
      "source": [
        "#### a. `while ` __Loop__"
      ]
    },
    {
      "cell_type": "markdown",
      "metadata": {
        "id": "Bz91CHuhGvS3"
      },
      "source": [
        "<strong><font size = 5 color ='red' >Note:<font><strong>\n",
        "\n",
        "Remember to increment `i`, or else the loop will continue forever.\n",
        "\n"
      ]
    },
    {
      "cell_type": "code",
      "metadata": {
        "id": "zT2k0n4Tssor",
        "colab": {
          "base_uri": "https://localhost:8080/"
        },
        "outputId": "5c732272-a141-48d7-c72d-32a417a90438"
      },
      "source": [
        "i = 1\n",
        "while i < 6:\n",
        "    print(i)\n",
        "    i += 1"
      ],
      "execution_count": null,
      "outputs": [
        {
          "output_type": "stream",
          "text": [
            "1\n",
            "2\n",
            "3\n",
            "4\n",
            "5\n"
          ],
          "name": "stdout"
        }
      ]
    },
    {
      "cell_type": "markdown",
      "metadata": {
        "id": "zJJuikHp-2WG"
      },
      "source": [
        "**The break Statement**"
      ]
    },
    {
      "cell_type": "code",
      "metadata": {
        "id": "OXxhWnYE-j1H",
        "colab": {
          "base_uri": "https://localhost:8080/"
        },
        "outputId": "c8ea07be-5aa4-45f5-c9ed-1a2b3541df85"
      },
      "source": [
        "i = 1\n",
        "while i < 6:\n",
        "    i += 1\n",
        "    print(i)\n",
        "    if i == 4:\n",
        "        break\n",
        "    "
      ],
      "execution_count": null,
      "outputs": [
        {
          "output_type": "stream",
          "text": [
            "2\n",
            "3\n",
            "4\n"
          ],
          "name": "stdout"
        }
      ]
    },
    {
      "cell_type": "code",
      "metadata": {
        "id": "GUCoka35H5SJ",
        "colab": {
          "base_uri": "https://localhost:8080/"
        },
        "outputId": "f0c7d897-8bac-42fb-f893-3f0740b3c9aa"
      },
      "source": [
        "i = 1\n",
        "while i < 6:\n",
        "    print(i)\n",
        "    if i == 4:\n",
        "        break\n",
        "    i += 1"
      ],
      "execution_count": null,
      "outputs": [
        {
          "output_type": "stream",
          "text": [
            "1\n",
            "2\n",
            "3\n",
            "4\n"
          ],
          "name": "stdout"
        }
      ]
    },
    {
      "cell_type": "markdown",
      "metadata": {
        "id": "o7T6ja1JHhcV"
      },
      "source": [
        "**The continue Statement**"
      ]
    },
    {
      "cell_type": "code",
      "metadata": {
        "id": "YkDn4vhYHkvB",
        "colab": {
          "base_uri": "https://localhost:8080/"
        },
        "outputId": "595e70ab-c6ff-41a0-c052-59917b1f13eb"
      },
      "source": [
        "i = 0\n",
        "while i < 6:\n",
        "    i += 1\n",
        "    if i == 4:   # we can stop the current iteration\n",
        "        continue # continue with the next:\n",
        "    print(i)\n",
        "    \n",
        "      "
      ],
      "execution_count": null,
      "outputs": [
        {
          "output_type": "stream",
          "text": [
            "1\n",
            "2\n",
            "3\n",
            "5\n",
            "6\n"
          ],
          "name": "stdout"
        }
      ]
    },
    {
      "cell_type": "markdown",
      "metadata": {
        "id": "_ge5UJzHOMuh"
      },
      "source": [
        "**The else Statement**"
      ]
    },
    {
      "cell_type": "code",
      "metadata": {
        "id": "gb8pDjj3OMD3",
        "colab": {
          "base_uri": "https://localhost:8080/"
        },
        "outputId": "10e92a9f-dbb7-4a29-d69d-1b56db14f61d"
      },
      "source": [
        "i = 1\n",
        "while i < 6:\n",
        "    print(i)\n",
        "    i += 1\n",
        "else:\n",
        "    print('i is no longer less then 1')"
      ],
      "execution_count": null,
      "outputs": [
        {
          "output_type": "stream",
          "text": [
            "1\n",
            "2\n",
            "3\n",
            "4\n",
            "5\n",
            "i is no longer less then 1\n"
          ],
          "name": "stdout"
        }
      ]
    },
    {
      "cell_type": "markdown",
      "metadata": {
        "id": "8eVkrvwSPa87"
      },
      "source": [
        "#### b. `for` __loop__"
      ]
    },
    {
      "cell_type": "markdown",
      "metadata": {
        "id": "x54BRHw1P7fP"
      },
      "source": [
        "A **for loop** is used for iterating over a sequence (that is either a **list, a tuple, a dictionary, a set, or a string**)."
      ]
    },
    {
      "cell_type": "code",
      "metadata": {
        "id": "4yaIOJNIPZ1a",
        "colab": {
          "base_uri": "https://localhost:8080/"
        },
        "outputId": "dc2b90d4-a9b7-43a5-957d-c8df180a2ab6"
      },
      "source": [
        "# itration over a list\n",
        "thelist = ['apple', 'banana', 'orange']\n",
        "for x in thelist:\n",
        "    print(x)"
      ],
      "execution_count": null,
      "outputs": [
        {
          "output_type": "stream",
          "text": [
            "apple\n",
            "banana\n",
            "orange\n"
          ],
          "name": "stdout"
        }
      ]
    },
    {
      "cell_type": "code",
      "metadata": {
        "id": "SCml9OAZVNcS",
        "colab": {
          "base_uri": "https://localhost:8080/"
        },
        "outputId": "274d5366-aa51-4bf0-96cd-eacf29635aab"
      },
      "source": [
        "# Looping Through a String\n",
        "for x in 'cat':\n",
        "    print(x)"
      ],
      "execution_count": null,
      "outputs": [
        {
          "output_type": "stream",
          "text": [
            "c\n",
            "a\n",
            "t\n"
          ],
          "name": "stdout"
        }
      ]
    },
    {
      "cell_type": "code",
      "metadata": {
        "id": "Xh7lVvx1VfIf",
        "colab": {
          "base_uri": "https://localhost:8080/"
        },
        "outputId": "e935223f-7ae3-4399-c87c-9cc6d7f559c4"
      },
      "source": [
        "# The break Statement\n",
        "thelist = [1, 2, 3, 4, 5]\n",
        "for x in thelist:\n",
        "    print(x)\n",
        "    if x == 4:\n",
        "        break"
      ],
      "execution_count": null,
      "outputs": [
        {
          "output_type": "stream",
          "text": [
            "1\n",
            "2\n",
            "3\n",
            "4\n"
          ],
          "name": "stdout"
        }
      ]
    },
    {
      "cell_type": "code",
      "metadata": {
        "id": "YzGjBeyBZt-Q",
        "colab": {
          "base_uri": "https://localhost:8080/"
        },
        "outputId": "113391a5-46f1-47a5-cc36-1658a2ff75ee"
      },
      "source": [
        "thelist = [1, 2, 3, 4, 5]\n",
        "for x in thelist:\n",
        "    if x == 4:\n",
        "        break\n",
        "    print(x) "
      ],
      "execution_count": null,
      "outputs": [
        {
          "output_type": "stream",
          "text": [
            "1\n",
            "2\n",
            "3\n"
          ],
          "name": "stdout"
        }
      ]
    },
    {
      "cell_type": "code",
      "metadata": {
        "id": "oniS1_K8aeSt",
        "colab": {
          "base_uri": "https://localhost:8080/"
        },
        "outputId": "2309187b-aa0c-4baa-f77f-d98a44c2eb35"
      },
      "source": [
        "# Continue Statement\n",
        "thelist = [1, 2, 'a', 4, 5, 'b']\n",
        "for x in thelist:\n",
        "    if x == 'a':\n",
        "        continue\n",
        "    print(x)\n",
        "    \n"
      ],
      "execution_count": null,
      "outputs": [
        {
          "output_type": "stream",
          "text": [
            "1\n",
            "2\n",
            "4\n",
            "5\n",
            "b\n"
          ],
          "name": "stdout"
        }
      ]
    },
    {
      "cell_type": "code",
      "metadata": {
        "id": "c6is3JOdeXGG",
        "colab": {
          "base_uri": "https://localhost:8080/"
        },
        "outputId": "210d7cfd-bf02-4a15-9799-24589130e9da"
      },
      "source": [
        "# Range function\n",
        "for x in range(0,10,4):\n",
        "    print(x)\n",
        "else:\n",
        "    print('Finally Finished')"
      ],
      "execution_count": null,
      "outputs": [
        {
          "output_type": "stream",
          "text": [
            "0\n",
            "4\n",
            "8\n",
            "Finally Finished\n"
          ],
          "name": "stdout"
        }
      ]
    },
    {
      "cell_type": "code",
      "metadata": {
        "id": "sddtKv4ffj9c",
        "colab": {
          "base_uri": "https://localhost:8080/"
        },
        "outputId": "0b83ea50-2cff-46ca-9d21-9f3add5bb78b"
      },
      "source": [
        "# Nested loops\n",
        "lis1 = [1, 2, 3]\n",
        "lis2 = ['a', 'b', 'c']\n",
        "\n",
        "for x in lis1:\n",
        "    for y in lis2:\n",
        "        print(x, y)"
      ],
      "execution_count": null,
      "outputs": [
        {
          "output_type": "stream",
          "text": [
            "1 a\n",
            "1 b\n",
            "1 c\n",
            "2 a\n",
            "2 b\n",
            "2 c\n",
            "3 a\n",
            "3 b\n",
            "3 c\n"
          ],
          "name": "stdout"
        }
      ]
    },
    {
      "cell_type": "markdown",
      "metadata": {
        "id": "VTZVMN3BkZiC"
      },
      "source": [
        "**for loops** cannot be **empty**, but if you for some reason you want have a for loop with **no content** for later use, put in the pass statement to avoid getting an error."
      ]
    },
    {
      "cell_type": "code",
      "metadata": {
        "id": "vewhO-obkKh4"
      },
      "source": [
        "# Pass Statement\n",
        "for x in [0, 1, 2]:\n",
        "  pass"
      ],
      "execution_count": null,
      "outputs": []
    },
    {
      "cell_type": "markdown",
      "metadata": {
        "id": "_QzwharE9aEc"
      },
      "source": [
        "### __Resources for More Basic Practice__\n",
        "\n",
        "[1. Basic Practice](http://codingbat.com/python)\n",
        "\n",
        "[2. More Mathematical (and Harder) Practice](https://projecteuler.net/archives)\n",
        "\n",
        "\n",
        "\n",
        "[3. List of Practice Problems](http://www.codeabbey.com/index/task_list)\n",
        "\n",
        "[4. A SubReddit Devoted to Daily Practice Problems](https://www.reddit.com/r/dailyprogrammer)\n",
        "\n",
        "[5. A very tricky website with very few hints and touch problems (Not for beginners but still interesting)](http://www.pythonchallenge.com/)"
      ]
    },
    {
      "cell_type": "markdown",
      "metadata": {
        "id": "zT3NAYKemNOI"
      },
      "source": [
        "### **Genrating Random Number**"
      ]
    },
    {
      "cell_type": "code",
      "metadata": {
        "id": "aHscESr6_qxd",
        "colab": {
          "base_uri": "https://localhost:8080/"
        },
        "outputId": "9d145344-93f0-42b6-e9db-847583c0d33c"
      },
      "source": [
        "import random\n",
        "n = random.randint(0,22)\n",
        "print(n)"
      ],
      "execution_count": null,
      "outputs": [
        {
          "output_type": "stream",
          "text": [
            "6\n"
          ],
          "name": "stdout"
        }
      ]
    },
    {
      "cell_type": "code",
      "metadata": {
        "id": "vYMTQmLB432L",
        "colab": {
          "base_uri": "https://localhost:8080/"
        },
        "outputId": "f6a87b1a-2f6a-4019-8916-b6abe0ad4b1b"
      },
      "source": [
        "import random\n",
        "randomlist = []\n",
        "for i in range(0,5):\n",
        "    n = random.randint(0,100)\n",
        "    randomlist.append(n)\n",
        "print(randomlist)"
      ],
      "execution_count": null,
      "outputs": [
        {
          "output_type": "stream",
          "text": [
            "[24, 50, 30, 38, 31]\n"
          ],
          "name": "stdout"
        }
      ]
    },
    {
      "cell_type": "markdown",
      "metadata": {
        "id": "x7MsfOn4pAB9"
      },
      "source": [
        "**choice()**:\n",
        "This function can be used to generate one random number from a collection of numbers."
      ]
    },
    {
      "cell_type": "markdown",
      "metadata": {
        "id": "nDM9DO5ppgAR"
      },
      "source": [
        "Python’s print() function comes with a parameter called **‘end’**. By default, the value of this parameter is **‘\\n’**, i.e. the new line character. You can end a print statement with any character/string using this paramete"
      ]
    },
    {
      "cell_type": "code",
      "metadata": {
        "id": "4rcr0H0Jmi1v",
        "colab": {
          "base_uri": "https://localhost:8080/"
        },
        "outputId": "48cc34db-fb61-45ba-c9e5-6551ce55b304"
      },
      "source": [
        "print (\"A random number from list  : \",end=\"\") \n",
        "print (random.choice([1, 4, 6, 100, 31]))"
      ],
      "execution_count": null,
      "outputs": [
        {
          "output_type": "stream",
          "text": [
            "A random number from list  : 31\n"
          ],
          "name": "stdout"
        }
      ]
    },
    {
      "cell_type": "code",
      "metadata": {
        "id": "dNQhPIYyp6l5",
        "colab": {
          "base_uri": "https://localhost:8080/"
        },
        "outputId": "ddb770dd-66f4-4810-9eac-ef4114e64c81"
      },
      "source": [
        "print (\"A random number from range  : \",end=\"\") \n",
        "print (random.randrange(2, 10, 3)) "
      ],
      "execution_count": null,
      "outputs": [
        {
          "output_type": "stream",
          "text": [
            "A random number from range  : 8\n"
          ],
          "name": "stdout"
        }
      ]
    },
    {
      "cell_type": "code",
      "metadata": {
        "id": "SL8fvd5KqFa5",
        "colab": {
          "base_uri": "https://localhost:8080/"
        },
        "outputId": "a5b2850e-385c-48ce-a690-08a39be374eb"
      },
      "source": [
        "# This function generates a float random number less than 1 and also greater than or equal to 0.\n",
        "print (random.random())"
      ],
      "execution_count": null,
      "outputs": [
        {
          "output_type": "stream",
          "text": [
            "0.8910851266052987\n"
          ],
          "name": "stdout"
        }
      ]
    },
    {
      "cell_type": "markdown",
      "metadata": {
        "id": "UZgjcOFgqXIR"
      },
      "source": [
        "`shuffle()`:\n",
        "This function __shuffle__ the list and randomly arrange them"
      ]
    },
    {
      "cell_type": "code",
      "metadata": {
        "id": "adye4e_bqcRu",
        "colab": {
          "base_uri": "https://localhost:8080/"
        },
        "outputId": "a759504e-17d5-42e4-a7ac-0faa13feafe2"
      },
      "source": [
        "list_1 = [1, 3, 5, 10, 4] \n",
        "\n",
        "print (\"list before shuffling : \", end=\"\") \n",
        "\n",
        "for x in range(0, len(list_1)): \n",
        "   print (list_1[x], end=\" \") \n",
        "print(\"\\n\") \n",
        "random.shuffle(list_1) \n",
        "print (\"list after shuffling  : \", end=\"\") \n",
        "for x in range(0, len(list_1)): \n",
        "   print (list_1[x], end=\" \")"
      ],
      "execution_count": null,
      "outputs": [
        {
          "output_type": "stream",
          "text": [
            "list before shuffling : 1 3 5 10 4 \n",
            "\n",
            "list after shuffling  : 4 5 10 1 3 "
          ],
          "name": "stdout"
        }
      ]
    },
    {
      "cell_type": "code",
      "metadata": {
        "id": "gwwXd_UsrkIs",
        "colab": {
          "base_uri": "https://localhost:8080/"
        },
        "outputId": "cb082e9d-636f-43ba-c556-a1a39f23d153"
      },
      "source": [
        "list_1 = [1, 3, 5, 10, 4] \n",
        "\n",
        "print (\"list before shuffling : \", end=\"\")\n",
        "\n",
        "for x in range(0, 5): \n",
        "   print (list_1[x], end=\" \") \n",
        "   \n",
        "print('\\n')\n",
        "\n",
        "random.shuffle(list_1) \n",
        "print (\"After shuffling\") \n",
        "for x in range(0, 5): \n",
        "   print (list_1[x])"
      ],
      "execution_count": null,
      "outputs": [
        {
          "output_type": "stream",
          "text": [
            "list before shuffling : 1 3 5 10 4 \n",
            "\n",
            "After shuffling\n",
            "1\n",
            "5\n",
            "4\n",
            "3\n",
            "10\n"
          ],
          "name": "stdout"
        }
      ]
    }
  ]
}