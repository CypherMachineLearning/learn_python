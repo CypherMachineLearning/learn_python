{
  "nbformat": 4,
  "nbformat_minor": 0,
  "metadata": {
    "colab": {
      "name": "04_Methods_&_Functions_P1.ipynb",
      "provenance": [],
      "collapsed_sections": [],
      "toc_visible": true
    },
    "kernelspec": {
      "name": "python3",
      "display_name": "Python 3"
    }
  },
  "cells": [
    {
      "cell_type": "markdown",
      "metadata": {
        "id": "sfFeGlFxAAho"
      },
      "source": [
        "<strong  align='center'>\n",
        "    <h1>Methods & Functions</h1>\n",
        "</strong>\n",
        "\n",
        "\n"
      ]
    },
    {
      "cell_type": "markdown",
      "metadata": {
        "id": "maCFb9Cz-cBq"
      },
      "source": [
        "We've already seen a few example of methods when learning about Object and Data Structure Types in Python. Methods are essentially functions built into objects. Later on in the course we will learn about how to create our own objects and methods using Object Oriented Programming (OOP) and classes.\n",
        "\n",
        "Methods perform specific actions on an object and can also take arguments, just like a function. This lecture will serve as just a brief introduction to methods and get you thinking about overall design methods that we will touch back upon when we reach OOP in the course.\n",
        "\n",
        "Methods are in the form:\n",
        "\n",
        "    object.method(arg1,arg2,etc...)\n",
        "    \n",
        "we'll later see that we can think of methods as having an argument 'self' referring to the object itself. we can't see this argument but we will be using it later on in the course during the OOP."
      ]
    },
    {
      "cell_type": "markdown",
      "metadata": {
        "id": "nu_F3uTI_72U"
      },
      "source": [
        "### __functions__"
      ]
    },
    {
      "cell_type": "markdown",
      "metadata": {
        "id": "qJmLy3ft1LQm"
      },
      "source": [
        "functions allows us to create blocks of codes that can be easily executed many times, without needing to constantly rewrite the entire block of code.\n",
        "\n",
        "- You can pass data, known as __parameters__, into a function.\n",
        "\n",
        "- A function can __return__ data as a __result__."
      ]
    },
    {
      "cell_type": "markdown",
      "metadata": {
        "id": "kz4DftEp0hQ7"
      },
      "source": [
        "**Arguments**\n",
        "\n",
        "- Information can be passed into functions as **arguments**.\n",
        "\n",
        "- Arguments are specified after the function name, inside the parentheses. we can add as many arguments as you want, just separate them with a comma."
      ]
    },
    {
      "cell_type": "markdown",
      "metadata": {
        "id": "gS98u4oO2cno"
      },
      "source": [
        "__`return`__ keyword:\n",
        "\n",
        "- typically we use the __`return`__ keyword to send back the result of the function, insted of just printing it out.\n",
        "\n",
        "- __`return`__ allows us to assign the output of a function to new varible,\n"
      ]
    },
    {
      "cell_type": "code",
      "metadata": {
        "id": "WaLWmvKL2cEm"
      },
      "source": [
        "def name_function():\n",
        "    '''\n",
        "    DOCSTRING: Infomation about the function\n",
        "    INPUT: \n",
        "    OUTPUT:\n",
        "    '''\n",
        "    print('Hello')"
      ],
      "execution_count": null,
      "outputs": []
    },
    {
      "cell_type": "code",
      "metadata": {
        "id": "Bgsm_k0QMISk",
        "colab": {
          "base_uri": "https://localhost:8080/"
        },
        "outputId": "b6bbd635-aec3-470c-b686-cdb21b1fd215"
      },
      "source": [
        "help(name_function)"
      ],
      "execution_count": null,
      "outputs": [
        {
          "output_type": "stream",
          "text": [
            "Help on function name_function in module __main__:\n",
            "\n",
            "name_function()\n",
            "    DOCSTRING: Infomation about the function\n",
            "    INPUT: \n",
            "    OUTPUT:\n",
            "\n"
          ],
          "name": "stdout"
        }
      ]
    },
    {
      "cell_type": "code",
      "metadata": {
        "id": "A-NptYx2Mb4D",
        "colab": {
          "base_uri": "https://localhost:8080/",
          "height": 35
        },
        "outputId": "6eb76568-cb95-45b0-d976-559da62b14b4"
      },
      "source": [
        "def say_hello(name):\n",
        "    #print('hello ' + name)\n",
        "    return 'hello ' + name\n",
        "\n",
        "result = say_hello('faizy')\n",
        "result # We do not get any thing for the result"
      ],
      "execution_count": null,
      "outputs": [
        {
          "output_type": "execute_result",
          "data": {
            "application/vnd.google.colaboratory.intrinsic+json": {
              "type": "string"
            },
            "text/plain": [
              "'hello faizy'"
            ]
          },
          "metadata": {
            "tags": []
          },
          "execution_count": 44
        }
      ]
    },
    {
      "cell_type": "markdown",
      "metadata": {
        "id": "Mo1pFMzoUO0_"
      },
      "source": [
        "when we uses the __print__ function insted of __return__ then the type it return is  __NoneType__ because the function isn't  returning something\n",
        "hence we need to use the __return__ keyword is used."
      ]
    },
    {
      "cell_type": "code",
      "metadata": {
        "id": "FZ-WYS30N2jc",
        "colab": {
          "base_uri": "https://localhost:8080/"
        },
        "outputId": "4d89972d-500b-4af5-e780-da549f97b40e"
      },
      "source": [
        "type(result)"
      ],
      "execution_count": null,
      "outputs": [
        {
          "output_type": "execute_result",
          "data": {
            "text/plain": [
              "str"
            ]
          },
          "metadata": {
            "tags": []
          },
          "execution_count": 45
        }
      ]
    },
    {
      "cell_type": "code",
      "metadata": {
        "id": "-eFwY7qNVCHP",
        "colab": {
          "base_uri": "https://localhost:8080/"
        },
        "outputId": "17dc0b87-db9d-4d6d-e378-4adca6f7fc16"
      },
      "source": [
        "# Add Function \n",
        "def add(n1,n2):\n",
        "    return n1+n2\n",
        "\n",
        "result = add(50,60)\n",
        "print(result)"
      ],
      "execution_count": null,
      "outputs": [
        {
          "output_type": "stream",
          "text": [
            "110\n"
          ],
          "name": "stdout"
        }
      ]
    },
    {
      "cell_type": "markdown",
      "metadata": {
        "id": "G84nCcoJVy8b"
      },
      "source": [
        "Typically when using the function we have to use the __return__ keyword as we can assign the result to a varible and can use it later."
      ]
    },
    {
      "cell_type": "markdown",
      "metadata": {
        "id": "b9cymFrtaywm"
      },
      "source": [
        "> __find out if the specific word is in the string__"
      ]
    },
    {
      "cell_type": "code",
      "metadata": {
        "id": "8k2Q8g-QbDpz"
      },
      "source": [
        "# beginner approch\n",
        "\n",
        "def dog_check(mystring):\n",
        "    if 'dog' in mystring.lower():\n",
        "    # No needs if statement as the statement is iteslf a boolean \n",
        "        return True\n",
        "    else:\n",
        "        return False"
      ],
      "execution_count": null,
      "outputs": []
    },
    {
      "cell_type": "code",
      "metadata": {
        "id": "yUqzNhFSbxPD",
        "colab": {
          "base_uri": "https://localhost:8080/"
        },
        "outputId": "5be3133c-2789-44d9-af17-1dd50cbb6ed4"
      },
      "source": [
        "dog_check('My dog ran away')"
      ],
      "execution_count": null,
      "outputs": [
        {
          "output_type": "execute_result",
          "data": {
            "text/plain": [
              "True"
            ]
          },
          "metadata": {
            "tags": []
          },
          "execution_count": 48
        }
      ]
    },
    {
      "cell_type": "code",
      "metadata": {
        "id": "u2eGSDYUddvZ"
      },
      "source": [
        "# Pro Approch\n",
        "\n",
        "def dog_check(mystring):\n",
        "    return 'dog' in mystring.lower()"
      ],
      "execution_count": null,
      "outputs": []
    },
    {
      "cell_type": "code",
      "metadata": {
        "id": "GN91XRUQd4BI",
        "colab": {
          "base_uri": "https://localhost:8080/"
        },
        "outputId": "efe14416-0f22-4aa6-8a71-122ef15b9ce0"
      },
      "source": [
        "dog_check('My dog ran away')"
      ],
      "execution_count": null,
      "outputs": [
        {
          "output_type": "execute_result",
          "data": {
            "text/plain": [
              "True"
            ]
          },
          "metadata": {
            "tags": []
          },
          "execution_count": 50
        }
      ]
    },
    {
      "cell_type": "code",
      "metadata": {
        "id": "urXjkHF8Zfv0",
        "colab": {
          "base_uri": "https://localhost:8080/"
        },
        "outputId": "87854649-66ce-411b-bd9c-a948ec3d9ceb"
      },
      "source": [
        "fruits = [\"apple\", \"banana\", \"cherry\"]\n",
        "\n",
        "def my_function(fruits):\n",
        "  for x in fruits:\n",
        "    print(x)\n",
        "\n",
        "my_function(fruits)"
      ],
      "execution_count": null,
      "outputs": [
        {
          "output_type": "stream",
          "name": "stdout",
          "text": [
            "apple\n",
            "banana\n",
            "cherry\n"
          ]
        }
      ]
    },
    {
      "cell_type": "markdown",
      "metadata": {
        "id": "PeFvqrzjdd_H"
      },
      "source": [
        "#### __Recursion__"
      ]
    },
    {
      "cell_type": "markdown",
      "metadata": {
        "id": "WedY9OgwdYbh"
      },
      "source": [
        "Python also accepts function **recursion**, which means a defined function can call itself.\n",
        "\n",
        "**Recursion** is a common mathematical and programming concept. It means that a **function calls itself**. This has the benefit of meaning that you can loop through data to reach a result.\n",
        "\n",
        "The developer should be very careful with **recursion** as it can be quite easy to slip into writing a function which never terminates, or one that uses excess amounts of memory or processor power. However, when written correctly recursion can be a very efficient and mathematically-elegant approach to programming."
      ]
    },
    {
      "cell_type": "markdown",
      "source": [
        "<p align='center'>\n",
        "  <a href=\"#\">\n",
        "    <img src='https://d1jnx9ba8s6j9r.cloudfront.net/blog/wp-content/uploads/2019/08/2019-08-06-12_31_29-Window.png'>\n",
        "  </a>\n",
        "</p>"
      ],
      "metadata": {
        "id": "lDXqljut6kcC"
      }
    },
    {
      "cell_type": "code",
      "metadata": {
        "id": "GLIy0z-jeyt-",
        "colab": {
          "base_uri": "https://localhost:8080/"
        },
        "outputId": "fc745c0f-de0f-4f27-b02b-7c6c2173d8ef"
      },
      "source": [
        "# Reccursion in python \n",
        "def factorial_recursive(n):\n",
        "    if n == 1:\n",
        "        return 1 \n",
        "    else:\n",
        "        return n * factorial_recursive(n-1)\n",
        "    # 5 * factorial_recursive(4)\n",
        "    # 5 * 4 * factorial_recursive(3)\n",
        "    # 5 * 4 * 3 * factorial_recursive(2)\n",
        "    # 5 * 4 * 3 * 2 * factorial_recursive(1)\n",
        "    # 5 * 4 * 3 * 2 * 1 = 120\n",
        "\n",
        "recursive_method(5)"
      ],
      "execution_count": null,
      "outputs": [
        {
          "output_type": "execute_result",
          "data": {
            "text/plain": [
              "120"
            ]
          },
          "metadata": {},
          "execution_count": 4
        }
      ]
    },
    {
      "cell_type": "markdown",
      "metadata": {
        "id": "Cvt1FtdFxrkz"
      },
      "source": [
        "#### __PIG LATIN Translater__ \n",
        "\n",
        "- if word start with a vowel, add `ay` to end.\n",
        "- if word does not start with a vowel, put first letter at the end,then add `ay`\n",
        "- word --> ordway\n",
        "- apple --> appleay"
      ]
    },
    {
      "cell_type": "code",
      "metadata": {
        "id": "Ap9nophNy1uy"
      },
      "source": [
        "def pig_latin(word):\n",
        "    first_letter = word[0]\n",
        "    # check if vowel\n",
        "    if first_letter in 'aieou':\n",
        "        pig_word = word + 'ay'\n",
        "    else:\n",
        "        pig_word = word[1:] + first_letter + 'ay'\n",
        "    return pig_word"
      ],
      "execution_count": null,
      "outputs": []
    },
    {
      "cell_type": "code",
      "metadata": {
        "id": "1yEUiJ0R9xXt",
        "colab": {
          "base_uri": "https://localhost:8080/",
          "height": 35
        },
        "outputId": "c3fc2b05-1a68-4a08-ef37-456e0bf3740b"
      },
      "source": [
        "pig_latin('apple')"
      ],
      "execution_count": null,
      "outputs": [
        {
          "output_type": "execute_result",
          "data": {
            "application/vnd.google.colaboratory.intrinsic+json": {
              "type": "string"
            },
            "text/plain": [
              "'appleay'"
            ]
          },
          "metadata": {
            "tags": []
          },
          "execution_count": 55
        }
      ]
    },
    {
      "cell_type": "code",
      "metadata": {
        "id": "UkEYAKXE97ES",
        "colab": {
          "base_uri": "https://localhost:8080/",
          "height": 35
        },
        "outputId": "b9811d12-30b7-45ea-f857-a2240170ce69"
      },
      "source": [
        "pig_latin('word')"
      ],
      "execution_count": null,
      "outputs": [
        {
          "output_type": "execute_result",
          "data": {
            "application/vnd.google.colaboratory.intrinsic+json": {
              "type": "string"
            },
            "text/plain": [
              "'ordway'"
            ]
          },
          "metadata": {
            "tags": []
          },
          "execution_count": 56
        }
      ]
    },
    {
      "cell_type": "markdown",
      "metadata": {
        "id": "Y2D0MwAodikS"
      },
      "source": [
        "### `*args` & `**kwargs` [arguments & Keywords arguments]"
      ]
    },
    {
      "cell_type": "markdown",
      "metadata": {
        "id": "yz5V9eXWmeMH"
      },
      "source": [
        "In Python, we can pass a variable number of arguments to a function using special symbols. There are two special symbols:\n",
        "\n",
        "- `*args` (Non Keyword Arguments)\n",
        "- `**kwargs` (Keyword Arguments)"
      ]
    },
    {
      "cell_type": "code",
      "metadata": {
        "id": "Zc8uN_mydw6A"
      },
      "source": [
        "# Return the 5% sum of a and b\n",
        "\n",
        "def myfunc(a,b):                # a, b are the example of positional arguments\n",
        "    return sum((a,b)) * 0.05    # passing the arguments as a tuple() or list[]"
      ],
      "execution_count": null,
      "outputs": []
    },
    {
      "cell_type": "markdown",
      "metadata": {
        "id": "5w12YJCGg1P6"
      },
      "source": [
        "While working with multiple positional arguments. In the sum functional we have to pass them as a `tuple()` or `list[  ]`"
      ]
    },
    {
      "cell_type": "code",
      "metadata": {
        "id": "92DvlkoXfK5P",
        "colab": {
          "base_uri": "https://localhost:8080/"
        },
        "outputId": "9b37076c-6972-4428-8bce-aa589998c86a"
      },
      "source": [
        "myfunc(40, 60)"
      ],
      "execution_count": null,
      "outputs": [
        {
          "output_type": "execute_result",
          "data": {
            "text/plain": [
              "5.0"
            ]
          },
          "metadata": {
            "tags": []
          },
          "execution_count": 58
        }
      ]
    },
    {
      "cell_type": "markdown",
      "metadata": {
        "id": "48827om_iex8"
      },
      "source": [
        "__Working with the multiple arguments:__\n"
      ]
    },
    {
      "cell_type": "code",
      "metadata": {
        "id": "0VicuXU9isK1"
      },
      "source": [
        "def myfunc(a=0, b=0, c=0, d=0, e=0):\n",
        "    return sum((a, b, c, d, e)) * 0.05"
      ],
      "execution_count": null,
      "outputs": []
    },
    {
      "cell_type": "code",
      "metadata": {
        "id": "F2IVZcyYjBo_",
        "colab": {
          "base_uri": "https://localhost:8080/"
        },
        "outputId": "d1114beb-814c-4c90-dc03-0a2f127d077a"
      },
      "source": [
        "myfunc(40, 60, 70, 30, 100)"
      ],
      "execution_count": null,
      "outputs": [
        {
          "output_type": "execute_result",
          "data": {
            "text/plain": [
              "15.0"
            ]
          },
          "metadata": {},
          "execution_count": 8
        }
      ]
    },
    {
      "cell_type": "markdown",
      "metadata": {
        "id": "ZxwqA2HXzMZJ"
      },
      "source": [
        "#### `*args`"
      ]
    },
    {
      "cell_type": "markdown",
      "metadata": {
        "id": "36Yx4Dbg1NMt"
      },
      "source": [
        "If the number of arguments is **unknown**, add a `*` before the parameter name:\n",
        "\n",
        "Python `*args` allow us to pass the variable number of non-keyword arguments to function.\n",
        "\n",
        ">The arguments are passed as a `tuple`"
      ]
    },
    {
      "cell_type": "code",
      "metadata": {
        "id": "JZYxiPoamzOV"
      },
      "source": [
        "def myfunc_1(*args): \n",
        "# This allow us treat this as a tuple of the arguments that are comming in\n",
        "    return sum(args) * 0.05"
      ],
      "execution_count": null,
      "outputs": []
    },
    {
      "cell_type": "code",
      "metadata": {
        "id": "YOaHd-tKn9tu",
        "colab": {
          "base_uri": "https://localhost:8080/"
        },
        "outputId": "be852ec8-ae67-4347-e6ec-7687606e59b5"
      },
      "source": [
        "myfunc_1(40,60,70,30,100,500,100)"
      ],
      "execution_count": null,
      "outputs": [
        {
          "output_type": "execute_result",
          "data": {
            "text/plain": [
              "45.0"
            ]
          },
          "metadata": {
            "tags": []
          },
          "execution_count": 62
        }
      ]
    },
    {
      "cell_type": "code",
      "metadata": {
        "id": "RDy4bTcho5ld"
      },
      "source": [
        "def myfunc_2(*args):\n",
        "\n",
        "    print(type(args))        # its just a tuple\n",
        "    print(args)\n",
        "    \n",
        "    print(f'Sum: {sum(args)}')\n",
        "\n",
        "    for items in args:\n",
        "        print(items)"
      ],
      "execution_count": null,
      "outputs": []
    },
    {
      "cell_type": "code",
      "metadata": {
        "id": "5Lju21pCpI_q",
        "colab": {
          "base_uri": "https://localhost:8080/"
        },
        "outputId": "62419dd8-579c-468c-ba99-dd2be0b7df48"
      },
      "source": [
        "myfunc_2(40,60,70,30,100)    # input form ~ tuple values"
      ],
      "execution_count": null,
      "outputs": [
        {
          "output_type": "stream",
          "name": "stdout",
          "text": [
            "<class 'tuple'>\n",
            "(40, 60, 70, 30, 100)\n",
            "Sum: 300\n",
            "40\n",
            "60\n",
            "70\n",
            "30\n",
            "100\n"
          ]
        }
      ]
    },
    {
      "cell_type": "code",
      "metadata": {
        "id": "cbHHAae2Pwsi",
        "colab": {
          "base_uri": "https://localhost:8080/"
        },
        "outputId": "556f8a11-6bee-4955-dded-d22d2a01a0c5"
      },
      "source": [
        "def my_function(*args):\n",
        "  print(\"The youngest child is \" + args[2])\n",
        "\n",
        "my_function(\"Emlie\",\"Tony\" ,\"Linus\")"
      ],
      "execution_count": null,
      "outputs": [
        {
          "output_type": "stream",
          "name": "stdout",
          "text": [
            "The youngest child is Linus\n"
          ]
        }
      ]
    },
    {
      "cell_type": "markdown",
      "metadata": {
        "id": "LYPiHZ-UzWbJ"
      },
      "source": [
        "#### `**kwargs`\n",
        "\n",
        "`**kwargs` *allows us to pass the variable length of keyword arguments to the function.*\n",
        "\n",
        "> The arguments are passed as a `dictionary`"
      ]
    },
    {
      "cell_type": "code",
      "metadata": {
        "id": "gV1dbh11Qh01",
        "colab": {
          "base_uri": "https://localhost:8080/"
        },
        "outputId": "c1b3af7b-8670-4b8a-d411-8808f8c6f04b"
      },
      "source": [
        "def my_function(child3, child2, child1):\n",
        "  print(\"The youngest child is \" + child3)\n",
        "\n",
        "my_function(child1 = \"Emile\", child2 = \"Tony\", child3 = \"Linus\")"
      ],
      "execution_count": null,
      "outputs": [
        {
          "output_type": "stream",
          "text": [
            "The youngest child is Linus\n"
          ],
          "name": "stdout"
        }
      ]
    },
    {
      "cell_type": "code",
      "metadata": {
        "id": "g8UEPSioWWwe",
        "colab": {
          "base_uri": "https://localhost:8080/"
        },
        "outputId": "6e8ed2e7-925b-474a-e52b-b8ca2f63d312"
      },
      "source": [
        "def my_function(**kwargs):\n",
        "\n",
        "    print(type(kwargs))                         # its just a dictionary\n",
        "    print(kwargs)\n",
        "\n",
        "    print(\"His last name is \" + kwargs[\"lname\"])\n",
        "\n",
        "my_function(fname = \"Mohd\", lname = \"Faizy\")    # input form ~ keys:values"
      ],
      "execution_count": null,
      "outputs": [
        {
          "output_type": "stream",
          "name": "stdout",
          "text": [
            "<class 'dict'>\n",
            "{'fname': 'Mohd', 'lname': 'Faizy'}\n",
            "His last name is Faizy\n"
          ]
        }
      ]
    },
    {
      "cell_type": "code",
      "metadata": {
        "id": "EI_qIhyjptvB"
      },
      "source": [
        "def myfunc_3(**kwargs):   \n",
        "    if 'fruit' in kwargs:\n",
        "        print('My fruit of choice is {}'.format(kwargs['fruit']))\n",
        "    else:\n",
        "        print('I did not find any fruit here')"
      ],
      "execution_count": null,
      "outputs": []
    },
    {
      "cell_type": "code",
      "metadata": {
        "id": "tQ1tj75esLny",
        "colab": {
          "base_uri": "https://localhost:8080/"
        },
        "outputId": "bb45db76-5387-48b6-fbce-f7f5fbcd74be"
      },
      "source": [
        "myfunc_3(fruit = 'apple', veggie = 'lattuce')"
      ],
      "execution_count": null,
      "outputs": [
        {
          "output_type": "stream",
          "text": [
            "{'fruit': 'apple', 'veggie': 'lattuce'}\n",
            "My fruit of choice is apple\n"
          ],
          "name": "stdout"
        }
      ]
    },
    {
      "cell_type": "code",
      "metadata": {
        "id": "Vfk20XNOwfmR"
      },
      "source": [
        "def myfunc_4(*args, **kwargs):\n",
        "    print(args)\n",
        "    print(kwargs)\n",
        "    print('I would to have {} {}'.format(args[1], kwargs['food']))"
      ],
      "execution_count": null,
      "outputs": []
    },
    {
      "cell_type": "markdown",
      "metadata": {
        "id": "xR8z3Y25zLqB"
      },
      "source": [
        "In the __myfunc_4__ the positional argument is follwed by the keyword arguments.\n",
        "\n",
        "if we use the reverse order to genrate the output, this will produce the syntaz error."
      ]
    },
    {
      "cell_type": "code",
      "metadata": {
        "id": "KLqvpVwXxmii",
        "colab": {
          "base_uri": "https://localhost:8080/"
        },
        "outputId": "0b416323-439d-4d0c-f18d-c224784cb7c0"
      },
      "source": [
        "myfunc_4(5,10,15, fruit = 'orange', food = 'eggs' , animal = 'goat')"
      ],
      "execution_count": null,
      "outputs": [
        {
          "output_type": "stream",
          "text": [
            "(5, 10, 15)\n",
            "{'fruit': 'orange', 'food': 'eggs', 'animal': 'goat'}\n",
            "I would to have 10 eggs\n"
          ],
          "name": "stdout"
        }
      ]
    },
    {
      "cell_type": "markdown",
      "metadata": {
        "id": "55ndXc3jyVV_"
      },
      "source": [
        "**Things to Remember:**\n",
        "\n",
        "- `*args` and `*kwargs` are special keyword which allows function to take variable length argument.\n",
        "\n",
        "- `*args` passes variable number of non-keyworded arguments `tuple`.\n",
        "\n",
        "- `**kwargs` passes variable number of keyword arguments `dict`.\n",
        "\n",
        "- `*args` and `**kwarg` make the function **flexible**"
      ]
    },
    {
      "cell_type": "markdown",
      "metadata": {
        "id": "z-RmSu86Biv-"
      },
      "source": [
        "$\\color{red}{\\textbf{Que}}$  Define a function called `myfunc` that takes in arbitary number of arguments, and returns a `list` containing only those arguments that are even."
      ]
    },
    {
      "cell_type": "code",
      "metadata": {
        "id": "WbWOAjnNAmf8",
        "colab": {
          "base_uri": "https://localhost:8080/"
        },
        "outputId": "c6d0d1d5-72f4-44e7-d9a5-d7cf49f6c2ae"
      },
      "source": [
        "def myfunc(*args):  \n",
        "    list1 =[]\n",
        "    for num in args:\n",
        "        if num% 2== 0:\n",
        "            list1.append(num)\n",
        "    return list1\n",
        "\n",
        "myfunc(1,2,3,4,5,6,7,8,9,10)"
      ],
      "execution_count": null,
      "outputs": [
        {
          "output_type": "execute_result",
          "data": {
            "text/plain": [
              "[2, 4, 6, 8, 10]"
            ]
          },
          "metadata": {},
          "execution_count": 3
        }
      ]
    },
    {
      "cell_type": "markdown",
      "metadata": {
        "id": "7kJLaKTSCZBL"
      },
      "source": [
        "$\\color{red}{\\textbf{Que}}$  Define a function that takes a string , and returns every **even** letter in the **uppercase** and every **odd** letter in **lowercase**?"
      ]
    },
    {
      "cell_type": "code",
      "metadata": {
        "id": "7eP4d6daELNC",
        "colab": {
          "base_uri": "https://localhost:8080/",
          "height": 163
        },
        "outputId": "4e0b2cf7-902d-48e2-c825-537fa7bb4352"
      },
      "source": [
        "def myfunc(string):\n",
        "    list1 = []\n",
        "    for index in range(len(string)):\n",
        "        if index % 2 == 0:\n",
        "            list1.append(string[index].lower())\n",
        "        else:\n",
        "            list1.append(string[index].upper())\n",
        "    return ''.join(list1) \n",
        "    # return list1\n",
        "    # ['I', ' ', 'L', 'o', 'V', 'e', ' ', 'p', 'Y', 't', 'H', 'o', 'N']\n",
        "\n",
        "myfunc('i love python')"
      ],
      "execution_count": null,
      "outputs": [
        {
          "output_type": "stream",
          "name": "stdout",
          "text": [
            "i\n",
            "l\n",
            "v\n",
            " \n",
            "y\n",
            "h\n",
            "n\n"
          ]
        },
        {
          "output_type": "execute_result",
          "data": {
            "text/plain": [
              "'i lOvE PyThOn'"
            ],
            "application/vnd.google.colaboratory.intrinsic+json": {
              "type": "string"
            }
          },
          "metadata": {},
          "execution_count": 50
        }
      ]
    },
    {
      "cell_type": "code",
      "metadata": {
        "id": "oSnFUOfxi9n-",
        "colab": {
          "base_uri": "https://localhost:8080/",
          "height": 36
        },
        "outputId": "09773c4f-58b7-432b-b7c8-de37a6af3eed"
      },
      "source": [
        "def myfunc(x):\n",
        "    out = []\n",
        "    for i in range(len(x)):\n",
        "        if i%2==0:\n",
        "            out.append(x[i].lower())\n",
        "        else:\n",
        "            out.append(x[i].upper())\n",
        "    return ''.join(out)\n",
        "\n",
        "myfunc('abcdefghi')"
      ],
      "execution_count": null,
      "outputs": [
        {
          "output_type": "execute_result",
          "data": {
            "text/plain": [
              "'aBcDeFgHi'"
            ],
            "application/vnd.google.colaboratory.intrinsic+json": {
              "type": "string"
            }
          },
          "metadata": {},
          "execution_count": 56
        }
      ]
    },
    {
      "cell_type": "markdown",
      "source": [
        "`enumerate` - This lets you get the `index` of an element while iterating over a list or string."
      ],
      "metadata": {
        "id": "LY9dXa2ZHvRb"
      }
    },
    {
      "cell_type": "code",
      "source": [
        "languages = ['Python', 'Java', 'JavaScript'] # list\n",
        "\n",
        "enumerate_prime = enumerate(languages)\n",
        "\n",
        "# convert enumerate object to list\n",
        "print(list(enumerate_prime))"
      ],
      "metadata": {
        "colab": {
          "base_uri": "https://localhost:8080/"
        },
        "id": "7kZhQTRXHSCR",
        "outputId": "702d7018-7fb2-469d-96a9-7cfecaac61de"
      },
      "execution_count": null,
      "outputs": [
        {
          "output_type": "stream",
          "name": "stdout",
          "text": [
            "[(0, 'Python'), (1, 'Java'), (2, 'JavaScript')]\n"
          ]
        }
      ]
    },
    {
      "cell_type": "code",
      "source": [
        "word = 'python' # string\n",
        "\n",
        "enumerate_word = enumerate(word)\n",
        "\n",
        "# convert enumerate object to list\n",
        "print(list(enumerate_word))"
      ],
      "metadata": {
        "colab": {
          "base_uri": "https://localhost:8080/"
        },
        "id": "bUhit217GvH5",
        "outputId": "b92aeac7-1fa1-42ac-c7e8-93e2fb012e72"
      },
      "execution_count": null,
      "outputs": [
        {
          "output_type": "stream",
          "name": "stdout",
          "text": [
            "[(0, 'p'), (1, 'y'), (2, 't'), (3, 'h'), (4, 'o'), (5, 'n')]\n"
          ]
        }
      ]
    },
    {
      "cell_type": "code",
      "metadata": {
        "id": "3EaCh7eRkAw_",
        "colab": {
          "base_uri": "https://localhost:8080/",
          "height": 54
        },
        "outputId": "40ae092e-0164-4e0f-c39d-dce6d5392e0c"
      },
      "source": [
        "def myfunc(string):\n",
        "\n",
        "    list1 = []\n",
        "    #Iterate over the characters\n",
        "    for index, elm in enumerate(string):\n",
        "        if index % 2 == 0:\n",
        "            list1.append(elm.lower()) # `.lower` because index starts form `0`\n",
        "        else:\n",
        "            list1.append(elm.upper())\n",
        "\n",
        "    return ''.join(list1)\n",
        "\n",
        "print(list(enumerate('python')))\n",
        "myfunc('python')"
      ],
      "execution_count": null,
      "outputs": [
        {
          "output_type": "stream",
          "name": "stdout",
          "text": [
            "[(0, 'p'), (1, 'y'), (2, 't'), (3, 'h'), (4, 'o'), (5, 'n')]\n"
          ]
        },
        {
          "output_type": "execute_result",
          "data": {
            "text/plain": [
              "'pYtHoN'"
            ],
            "application/vnd.google.colaboratory.intrinsic+json": {
              "type": "string"
            }
          },
          "metadata": {},
          "execution_count": 70
        }
      ]
    },
    {
      "cell_type": "markdown",
      "source": [
        "`.join()` $\\rightarrow$ this method takes all items in an iterable and joins them into one string.\n",
        "```\n",
        "#Syntax\n",
        "string.join(iterable)\n",
        "```"
      ],
      "metadata": {
        "id": "-kWGzonB-mus"
      }
    },
    {
      "cell_type": "code",
      "source": [
        "myDict = {\"name\": \"John\", \"country\": \"Norway\"}\n",
        "mySeparator = \"-\"\n",
        "\n",
        "x = mySeparator.join(myDict.values()) #`.join(myDict)` - will joins keys\n",
        "\n",
        "print(x)"
      ],
      "metadata": {
        "colab": {
          "base_uri": "https://localhost:8080/"
        },
        "id": "3E4FmJPx-ca1",
        "outputId": "67df4b5e-09e1-41da-915e-35d5c7686079"
      },
      "execution_count": null,
      "outputs": [
        {
          "output_type": "stream",
          "name": "stdout",
          "text": [
            "John-Norway\n"
          ]
        }
      ]
    },
    {
      "cell_type": "markdown",
      "metadata": {
        "id": "4E9KJPAD_nTq"
      },
      "source": [
        "### `Lambda` Expressions, `Map`, and `Filter` Functions"
      ]
    },
    {
      "cell_type": "markdown",
      "metadata": {
        "id": "mtyktcIEUyIU"
      },
      "source": [
        "#### *`map` function*\n",
        "\n",
        "`map()` function returns a **map** object $\\color{red}{\\textbf{[which is an iterator]}}$ of the results after applying the given function to $\\color{red}{\\textbf{each item}}$ of a given iterable (**list**, **tuple** etc.)\n",
        "\n",
        "```\n",
        "Syntax :\n",
        "\n",
        "map(func, iter)\n",
        "```\n",
        "\n",
        "`func` : It is a function to which map passes each element of given iterable.\n",
        "\n",
        "`iter` : It is a iterable which is to be mapped\n"
      ]
    },
    {
      "cell_type": "code",
      "metadata": {
        "id": "SPwxX0c-506s",
        "colab": {
          "base_uri": "https://localhost:8080/"
        },
        "outputId": "bf6345de-6a4b-4f55-98d7-f2358d5ce5c8"
      },
      "source": [
        "def square(num):      # func\n",
        "    return num**2\n",
        "    \n",
        "my_nums = [1,2,3,4,5] # iter\n",
        "\n",
        "map(square, my_nums)  # map function\n",
        "\n",
        "# To get the results, either iterate through map() \n",
        "# just cast it to a list\n",
        "result = list(map(square, my_nums))\n",
        "print(result)"
      ],
      "execution_count": null,
      "outputs": [
        {
          "output_type": "stream",
          "text": [
            "[1, 4, 9, 16, 25]\n"
          ],
          "name": "stdout"
        }
      ]
    },
    {
      "cell_type": "code",
      "metadata": {
        "colab": {
          "base_uri": "https://localhost:8080/"
        },
        "id": "3ZEY-iuGuKXM",
        "outputId": "cd9d4421-00d3-4e87-dfbf-032b34c447b0"
      },
      "source": [
        "def addition(n): \n",
        "    return n + n \n",
        " \n",
        "numbers = (1, 2, 3, 4) \n",
        "result = map(addition, numbers)\n",
        " \n",
        "print(list(result)) "
      ],
      "execution_count": null,
      "outputs": [
        {
          "output_type": "stream",
          "text": [
            "[2, 4, 6, 8]\n"
          ],
          "name": "stdout"
        }
      ]
    },
    {
      "cell_type": "code",
      "metadata": {
        "id": "F506Occh506-",
        "colab": {
          "base_uri": "https://localhost:8080/",
          "height": 36
        },
        "outputId": "f6c5e84b-675c-46ae-bf62-82fe01fdb553"
      },
      "source": [
        "# mapping the complex function to an iterator\n",
        "\n",
        "def splicer(mystring):\n",
        "    if len(mystring) % 2 == 0:\n",
        "        return 'even'\n",
        "    else:\n",
        "        return mystring[0]\n",
        "\n",
        "mynames = ['John','Cindy','Sarah','Kelly','Mike'] # list of string\n",
        "\n",
        "list(map(splicer, mynames)) # iterate and apply to each item \n",
        "# splicer(mynames)          # Output: 'jhon' \n",
        "# splicer(mynames[0])       # Output: 'even'"
      ],
      "execution_count": null,
      "outputs": [
        {
          "output_type": "execute_result",
          "data": {
            "text/plain": [
              "'even'"
            ],
            "application/vnd.google.colaboratory.intrinsic+json": {
              "type": "string"
            }
          },
          "metadata": {},
          "execution_count": 81
        }
      ]
    },
    {
      "cell_type": "markdown",
      "metadata": {
        "id": "ZD8UbRbHd9wj"
      },
      "source": [
        "__Note__: \n",
        "\n",
        "- *we* are not using the open and close pranthesis in the function __square__ and __splicer__ because __map__ itself latter execute them.so inside an __map__ function we are passing our function as an argument."
      ]
    },
    {
      "cell_type": "markdown",
      "metadata": {
        "id": "FK7va-dSkEpc"
      },
      "source": [
        "#### *`Filter` function*"
      ]
    },
    {
      "cell_type": "markdown",
      "metadata": {
        "id": "aUjDpDYnnbK-"
      },
      "source": [
        "The `filter()` method filters the given sequence with the help of a function that tests each element in the sequence to be true or not.\n",
        "\n",
        "__syntax:__\n",
        "```\n",
        "filter(function, sequence)\n",
        "```\n",
        "__Parameters:__\n",
        "\n",
        "- `function:` function that tests if each element of a sequence true or not.\n",
        "\n",
        "- `sequence:` sequence which needs to be filtered, it can be sets, lists, tuples, or containers of any iterators.\n",
        "\n",
        "__Returns:__\n",
        "\n",
        "returns an iterator that is already filtered."
      ]
    },
    {
      "cell_type": "code",
      "metadata": {
        "id": "uYIEoWMkkTfl",
        "colab": {
          "base_uri": "https://localhost:8080/"
        },
        "outputId": "64ba2dde-53f9-4617-d6b0-655a3aa6fb94"
      },
      "source": [
        "def check_even(num):\n",
        "    return num%2 == 0\n",
        "\n",
        "num_list = [1,2,3,4,5,6,7,8,9,10]\n",
        "\n",
        "# filtering the even number from this list\n",
        "list(filter(check_even, num_list))"
      ],
      "execution_count": null,
      "outputs": [
        {
          "output_type": "execute_result",
          "data": {
            "text/plain": [
              "[2, 4, 6, 8, 10]"
            ]
          },
          "metadata": {},
          "execution_count": 88
        }
      ]
    },
    {
      "cell_type": "code",
      "metadata": {
        "id": "PwlX1GePpGd8",
        "colab": {
          "base_uri": "https://localhost:8080/"
        },
        "outputId": "3a9f4023-11f0-4a73-8a51-b226b8c70781"
      },
      "source": [
        "for n in filter(check_even, num_list):\n",
        "    print(n, end= ',')"
      ],
      "execution_count": null,
      "outputs": [
        {
          "output_type": "stream",
          "name": "stdout",
          "text": [
            "2,4,6,8,10,"
          ]
        }
      ]
    },
    {
      "cell_type": "code",
      "metadata": {
        "colab": {
          "base_uri": "https://localhost:8080/"
        },
        "id": "56webHe9AhUO",
        "outputId": "035a8f36-01c6-41a5-db2b-689bfce867d0"
      },
      "source": [
        "from warnings import filters\n",
        "# function that filters vowels \n",
        "def func(variable): \n",
        "\tletters = ['a', 'e', 'i', 'o', 'u'] \n",
        "\tif variable in letters: \n",
        "\t\treturn True\n",
        "\telse: \n",
        "\t\treturn False\n",
        "\n",
        "\n",
        "# sequence \n",
        "sequence = ['g', 'e', 'j', 'k', 's', 'p', 'r', 'a', 'i'] \n",
        "\n",
        "# using filter function \n",
        "filtered = filter(func, sequence) \n",
        "print(type(filtered))\n",
        "print(list(filtered))\n",
        " "
      ],
      "execution_count": null,
      "outputs": [
        {
          "output_type": "stream",
          "name": "stdout",
          "text": [
            "<class 'filter'>\n",
            "['e', 'a', 'i']\n"
          ]
        }
      ]
    },
    {
      "cell_type": "code",
      "source": [
        "# accesing the filtered elements\n",
        "print('The filtered letters are:') \n",
        "for elm in filtered: \n",
        "\tprint(elm)"
      ],
      "metadata": {
        "colab": {
          "base_uri": "https://localhost:8080/"
        },
        "id": "0GkcJtEaeV8H",
        "outputId": "a8031c3a-9617-46d5-8712-9f4fb6905f3b"
      },
      "execution_count": null,
      "outputs": [
        {
          "output_type": "stream",
          "name": "stdout",
          "text": [
            "The filtered letters are:\n"
          ]
        }
      ]
    },
    {
      "cell_type": "code",
      "source": [
        "def func(var):\n",
        "    lis = ['a','i','e','o','u']\n",
        "    for var  in lis:\n",
        "        return True\n",
        "    else:\n",
        "        return False"
      ],
      "metadata": {
        "id": "sXksr0YmdC2M"
      },
      "execution_count": null,
      "outputs": []
    },
    {
      "cell_type": "markdown",
      "source": [
        "- `return` statements are used to send information to the **calling function**.\n",
        "\n",
        "- Say we are given two integers and *we want to know whether first number is greater than second or not*.\n",
        "\n",
        "- In that case we can write a function say `isFirstgreater()` and pass the given numbers as *parameters*.\n",
        "\n",
        "```python\n",
        "def isFirstgreater(num1,num2): \n",
        "  if num1 > num2: \n",
        "     return true \n",
        "  return false \n",
        "\n",
        "```\n",
        "- The `return` `True` ends the function's execution and returns the boolean `True`. \n",
        "- Similarly `return` `False` ends the function's execution and returns the boolean False.\n",
        "- If we don't have a return statement then when the function exits it returns None. That is essentially meaningless, it does not indicate anything about why the function exited. It returns None because every function call must return something."
      ],
      "metadata": {
        "id": "HtIGQAMafHzs"
      }
    },
    {
      "cell_type": "markdown",
      "metadata": {
        "id": "RI0NDd91kUOz"
      },
      "source": [
        "#### *`Lamda` Function* "
      ]
    },
    {
      "cell_type": "markdown",
      "metadata": {
        "id": "VjC0FV0rTtoj"
      },
      "source": [
        "- `lamda` function can be used to creat what is known as **anonymous function**.\n",
        "\n",
        "- This is a **one time function** that doesn't requre the naming like other function\n",
        "\n",
        "- *we use them one time in our program and never refernce them again.*\n",
        "\n",
        "> A `lambda` function *can take any number of argument*s, *but can only have one expression.*\n",
        "\n",
        "\n",
        "__Syntax__\n",
        "```\n",
        "lambda arguments : expression\n",
        "```\n",
        "\n"
      ]
    },
    {
      "cell_type": "markdown",
      "metadata": {
        "id": "gvkCe2BEtoGp"
      },
      "source": [
        "- since lamda is a one time function so it doesn't requre the naming.\n"
      ]
    },
    {
      "cell_type": "code",
      "metadata": {
        "id": "km4Be9VMt9Ou",
        "colab": {
          "base_uri": "https://localhost:8080/"
        },
        "outputId": "0522c9c1-28eb-4df5-bf5b-133d8cecd309"
      },
      "source": [
        "square_l = lambda num:num**2 \n",
        "square_l(25)"
      ],
      "execution_count": null,
      "outputs": [
        {
          "output_type": "execute_result",
          "data": {
            "text/plain": [
              "625"
            ]
          },
          "metadata": {
            "tags": []
          },
          "execution_count": 12
        }
      ]
    },
    {
      "cell_type": "code",
      "metadata": {
        "colab": {
          "base_uri": "https://localhost:8080/"
        },
        "id": "586TUkriuRij",
        "outputId": "2f3bbc75-43d7-473f-90fe-57eecc8620e1"
      },
      "source": [
        "# Double all numbers using map and lambda \n",
        "  \n",
        "num = (1, 2, 3, 4) \n",
        "'''\n",
        "func: lambda x: x + x\n",
        "iter: numbers = (1, 2, 3, 4) \n",
        "'''\n",
        "result = map(lambda x: x + x, num)\n",
        "\n",
        "print(list(result))"
      ],
      "execution_count": null,
      "outputs": [
        {
          "output_type": "stream",
          "name": "stdout",
          "text": [
            "[2, 4, 6, 8]\n"
          ]
        }
      ]
    },
    {
      "cell_type": "code",
      "metadata": {
        "colab": {
          "base_uri": "https://localhost:8080/"
        },
        "id": "V2z0glxZue89",
        "outputId": "ce49af4c-2ddb-4c19-fdc7-96328b855838"
      },
      "source": [
        "# Add two lists using map and lambda \n",
        "  \n",
        "num1 = [1, 2, 3] \n",
        "num2 = [4, 5, 6] \n",
        "  \n",
        "result = map(lambda x, y: x + y, num1, num2) \n",
        "print(list(result)) "
      ],
      "execution_count": null,
      "outputs": [
        {
          "output_type": "stream",
          "name": "stdout",
          "text": [
            "[5, 7, 9]\n"
          ]
        }
      ]
    },
    {
      "cell_type": "markdown",
      "metadata": {
        "id": "XAmUs6IkuxWp"
      },
      "source": [
        "Lambda function is used in conjection with the other function.\n",
        "\n",
        "- Earlier when we are using the **map** function we are  defining the square function seprately--> thats using some extra space in the memory  hence to avoide this what we could do is to call the lambda function insted.\n"
      ]
    },
    {
      "cell_type": "code",
      "metadata": {
        "colab": {
          "base_uri": "https://localhost:8080/"
        },
        "id": "tTr2UUNBHTSO",
        "outputId": "b000123d-2f6c-4548-de7e-b8f94c611490"
      },
      "source": [
        "# a list contains both even and odd numbers. \n",
        "seq = [0, 1, 2, 3, 5, 8, 13] \n",
        "\n",
        "# result contains odd numbers of the list \n",
        "result = filter(lambda x: x%2 != 0, seq) \n",
        "print(list(result)) \n",
        "\n",
        "# result contains even numbers of the list \n",
        "result = filter(lambda x: x%2 == 0, seq) \n",
        "print(list(result)) \n"
      ],
      "execution_count": null,
      "outputs": [
        {
          "output_type": "stream",
          "text": [
            "[1, 3, 5, 13]\n",
            "[0, 2, 8]\n"
          ],
          "name": "stdout"
        }
      ]
    },
    {
      "cell_type": "code",
      "metadata": {
        "id": "GnbvrnHfwJVT",
        "colab": {
          "base_uri": "https://localhost:8080/"
        },
        "outputId": "59aab90c-1915-4381-8acd-bf505c9276d8"
      },
      "source": [
        "num_lis = [1,2,3,4,5,6,7,8,9,10]\n",
        "'''\n",
        "here we are genrating the square list by mapping\n",
        "the lambda expression to the num_lis\n",
        "'''\n",
        "list(map(lambda num:num**2, num_lis))"
      ],
      "execution_count": null,
      "outputs": [
        {
          "output_type": "execute_result",
          "data": {
            "text/plain": [
              "[1, 4, 9, 16, 25, 36, 49, 64, 81, 100]"
            ]
          },
          "metadata": {
            "tags": []
          },
          "execution_count": 13
        }
      ]
    },
    {
      "cell_type": "code",
      "metadata": {
        "colab": {
          "base_uri": "https://localhost:8080/"
        },
        "id": "-QYMTkKGJjFN",
        "outputId": "805a80a7-1e7e-49cc-de8e-72afd513a63b"
      },
      "source": [
        "# Python code to illustrate cube of a number \n",
        "# showing difference between def() and lambda(). \n",
        "def cube(y): \n",
        "\treturn y*y*y \n",
        "\n",
        "lambda_cube = lambda y: y*y*y \n",
        "\n",
        "# using the normally \n",
        "# defined function \n",
        "print(cube(5)) \n",
        "\n",
        "# using the lamda function \n",
        "print(lambda_cube(5)) "
      ],
      "execution_count": null,
      "outputs": [
        {
          "output_type": "stream",
          "text": [
            "125\n",
            "125\n"
          ],
          "name": "stdout"
        }
      ]
    },
    {
      "cell_type": "code",
      "metadata": {
        "colab": {
          "base_uri": "https://localhost:8080/"
        },
        "id": "_9D0C-nVJi-l",
        "outputId": "d4eaabb4-d47a-4146-f1c5-5a7aad5d9d2d"
      },
      "source": [
        "# map() with lambda()\n",
        " \n",
        "# to get double of a list. \n",
        "list1 = [1, 2, 3, 4, 5]\n",
        "final_list = list(map(lambda x : x*2, list1)) \n",
        "print(final_list) \n",
        "\n",
        "# Grabing the first letter of the name\n",
        "list2 = ['Captin', 'Aston', 'Timberlake']\n",
        "result_2 = list(map(lambda x : x[0], list2))\n",
        "print(result_2)\n",
        "\n",
        "# printing the list name in the reverse order\n",
        "result_3 = list(map(lambda x : x[::-1], list2))\n",
        "print(result_3)"
      ],
      "execution_count": null,
      "outputs": [
        {
          "output_type": "stream",
          "name": "stdout",
          "text": [
            "[10, 14, 44, 194, 108, 124, 154, 46, 146, 122]\n",
            "['C', 'A', 'T']\n",
            "['nitpaC', 'notsA', 'ekalrebmiT']\n"
          ]
        }
      ]
    },
    {
      "cell_type": "code",
      "metadata": {
        "id": "nVVXsFDc9A0J",
        "colab": {
          "base_uri": "https://localhost:8080/"
        },
        "outputId": "0022ab67-382b-4756-ccc5-623e818b2482"
      },
      "source": [
        "# Using lambda function with filter\n",
        "\n",
        "# Grabing the even number \n",
        "list1 = [1, 2, 3, 4, 5, 6]\n",
        "result_1 = list(filter(lambda num : num%2 == 0, list1))\n",
        "print(result_1)\n",
        "\n",
        "# Grabing the odd number\n",
        "list2 = [4, 5, 6, 7, 8, 9]\n",
        "final_list = list(filter(lambda x : x%2 != 0 , list2)) \n",
        "print(final_list) \n",
        "\n",
        "# filtering the people above 18 yrs \n",
        "ages = [13, 90, 17, 59, 21, 16, 12] \n",
        "adults = list(filter(lambda age : age>18, ages))   \n",
        "print(adults)"
      ],
      "execution_count": null,
      "outputs": [
        {
          "output_type": "stream",
          "name": "stdout",
          "text": [
            "[2, 4, 6]\n",
            "[5, 7, 9]\n",
            "[90, 59, 21]\n"
          ]
        }
      ]
    },
    {
      "cell_type": "markdown",
      "metadata": {
        "id": "LW-8vv42CYQR"
      },
      "source": [
        "###  __Nested Statements and Scope__"
      ]
    },
    {
      "cell_type": "markdown",
      "metadata": {
        "id": "UNGtI6gUCYMl"
      },
      "source": [
        "Now that we have gone over writing our own functions, it's important to understand how Python deals with the variable names you assign. When you create a variable name in Python the name is stored in a *name-space*. Variable names also have a *scope*, the scope determines the visibility of that variable name to other parts of your code.\n",
        "\n",
        "Let's start with a quick thought experiment; imagine the following code:"
      ]
    },
    {
      "cell_type": "code",
      "metadata": {
        "id": "PZ0FzWpgLD01"
      },
      "source": [
        "x = 25\n",
        "\n",
        "def printer():\n",
        "    x = 50\n",
        "    return x"
      ],
      "execution_count": null,
      "outputs": []
    },
    {
      "cell_type": "markdown",
      "metadata": {
        "id": "smgxjabdKzn6"
      },
      "source": [
        "What do you imagine the output of `printer()` is? `25` or `50`? What is the output of `print(x)`? `25` or `50`?"
      ]
    },
    {
      "cell_type": "code",
      "metadata": {
        "id": "FaKKn9sQKzn9",
        "colab": {
          "base_uri": "https://localhost:8080/"
        },
        "outputId": "c8f0d56f-7569-4937-975e-118f0fd1de0b"
      },
      "source": [
        "print(x)         # Printing the Global"
      ],
      "execution_count": null,
      "outputs": [
        {
          "output_type": "stream",
          "text": [
            "25\n"
          ],
          "name": "stdout"
        }
      ]
    },
    {
      "cell_type": "code",
      "metadata": {
        "id": "t-70qJE0KzoW",
        "colab": {
          "base_uri": "https://localhost:8080/"
        },
        "outputId": "65e5bc74-8d53-4ff0-9995-6d124a09d802"
      },
      "source": [
        "print(printer()) # Printing the Local"
      ],
      "execution_count": null,
      "outputs": [
        {
          "output_type": "stream",
          "text": [
            "50\n"
          ],
          "name": "stdout"
        }
      ]
    },
    {
      "cell_type": "markdown",
      "metadata": {
        "id": "WLhpBe_XKzou"
      },
      "source": [
        "Interesting! But how does Python know which **x** you're referring to in your code? This is where the idea of **scope** comes in.\n",
        "\n",
        "Python has a set of rules it follows to decide what variables (such as **x** in this case) you are referencing in your code. Lets break down the rules:"
      ]
    },
    {
      "cell_type": "markdown",
      "metadata": {
        "collapsed": true,
        "id": "ipdewaDHKzov"
      },
      "source": [
        "### **LEGB Rule:**\n",
        "\n",
        "- `L: Local` — Names assigned in any way within a function (`def` or `lambda`), and not declared `global` in that function.\n",
        "\n",
        "- `E: Enclosing function locals` — Names in the `local` scope of any and all enclosing functions (`def` or `lambda`), from inner to outer.\n",
        "\n",
        "- `G: Global (module)` — Names assigned at the top-level of a module file, or declared global in a def within the file.\n",
        "\n",
        "- `B: Built-in (Python)` — Names preassigned in the built-in names module : `open`, `range`, `SyntaxError`,..."
      ]
    },
    {
      "cell_type": "markdown",
      "metadata": {
        "id": "kEXBOg-DKzo2"
      },
      "source": [
        "### __Quick examples of LEGB__\n",
        "\n"
      ]
    },
    {
      "cell_type": "code",
      "metadata": {
        "id": "moNMtZ4vKzo8"
      },
      "source": [
        "# x is local here:\n",
        "f = lambda x:x**2"
      ],
      "execution_count": 1,
      "outputs": []
    },
    {
      "cell_type": "markdown",
      "source": [
        "#### *local*"
      ],
      "metadata": {
        "id": "-6J3-Rr9OMzp"
      }
    },
    {
      "cell_type": "code",
      "metadata": {
        "id": "bykCYs2PZEvE"
      },
      "source": [
        "'''LEGB Rule:'''\n",
        "\n",
        "# Global\n",
        "name = 'This is a global name' # This has Global Scope\n",
        "\n",
        "def greet():\n",
        "    # Enclosing function\n",
        "    name = 'This is Enclosing'\n",
        "    \n",
        "    def hello():\n",
        "        # local\n",
        "        name ='This is local'  # This has the SCOPE local to this function.\n",
        "        print('Hello '+ name)\n",
        "    hello()"
      ],
      "execution_count": 12,
      "outputs": []
    },
    {
      "cell_type": "code",
      "metadata": {
        "id": "O863tH1Ob47A",
        "colab": {
          "base_uri": "https://localhost:8080/"
        },
        "outputId": "bc31d860-2bab-4219-d84e-c1527c357a06"
      },
      "source": [
        "greet()"
      ],
      "execution_count": 13,
      "outputs": [
        {
          "output_type": "stream",
          "name": "stdout",
          "text": [
            "Hello This is local\n"
          ]
        }
      ]
    },
    {
      "cell_type": "markdown",
      "source": [
        "#### *Enclosing*"
      ],
      "metadata": {
        "id": "CNQXzVfkOSge"
      }
    },
    {
      "cell_type": "code",
      "metadata": {
        "id": "mOa8dG8tNscr"
      },
      "source": [
        "'''LEGB Rule:'''\n",
        "\n",
        "# Global\n",
        "name = 'This is a global name' # This has Global Scope\n",
        "\n",
        "def greet():\n",
        "    # Enclosing function\n",
        "    name = 'This is Enclosing'\n",
        "    \n",
        "    def hello():\n",
        "        # local\n",
        "        # name ='This is local'  # This has the SCOPE local to this function.\n",
        "        print('Hello '+ name)\n",
        "    hello()"
      ],
      "execution_count": 16,
      "outputs": []
    },
    {
      "cell_type": "code",
      "metadata": {
        "colab": {
          "base_uri": "https://localhost:8080/"
        },
        "outputId": "68b3a21c-6616-4457-9473-d3bfd8e39549",
        "id": "czCZH_4ENscr"
      },
      "source": [
        "greet()"
      ],
      "execution_count": 17,
      "outputs": [
        {
          "output_type": "stream",
          "name": "stdout",
          "text": [
            "Hello This is Enclosing\n"
          ]
        }
      ]
    },
    {
      "cell_type": "markdown",
      "source": [
        "#### *Global*"
      ],
      "metadata": {
        "id": "eU-7wWYtObcG"
      }
    },
    {
      "cell_type": "code",
      "metadata": {
        "id": "ByKm3FgDNsxK"
      },
      "source": [
        "'''LEGB Rule:'''\n",
        "\n",
        "# Global\n",
        "name = 'This is a global name' # This has Global Scope\n",
        "\n",
        "def greet():\n",
        "    # Enclosing function\n",
        "    # name = 'This is Enclosing'\n",
        "    \n",
        "    def hello():\n",
        "        # local\n",
        "        # name ='This is local'  # This has the SCOPE local to this function.\n",
        "        print('Hello '+ name)\n",
        "    hello()"
      ],
      "execution_count": 18,
      "outputs": []
    },
    {
      "cell_type": "code",
      "metadata": {
        "colab": {
          "base_uri": "https://localhost:8080/"
        },
        "outputId": "174dc618-7286-459d-f7f0-239184002527",
        "id": "vHb3p2h0NsxL"
      },
      "source": [
        "greet()"
      ],
      "execution_count": 19,
      "outputs": [
        {
          "output_type": "stream",
          "name": "stdout",
          "text": [
            "Hello This is a global name\n"
          ]
        }
      ]
    },
    {
      "cell_type": "code",
      "metadata": {
        "id": "wvdF0lTYKzpv",
        "colab": {
          "base_uri": "https://localhost:8080/"
        },
        "outputId": "b6c15aad-98d8-49e2-cdb4-b70de4f74bf2"
      },
      "source": [
        "print(name)"
      ],
      "execution_count": 20,
      "outputs": [
        {
          "output_type": "stream",
          "name": "stdout",
          "text": [
            "This is a global name\n"
          ]
        }
      ]
    },
    {
      "cell_type": "markdown",
      "metadata": {
        "id": "cYEFnIPyKzqJ"
      },
      "source": [
        "#### *Built-in*\n",
        "\n",
        "These are the built-in function names in Python (don't overwrite these!)"
      ]
    },
    {
      "cell_type": "code",
      "metadata": {
        "id": "sL4reC6YKzqK",
        "colab": {
          "base_uri": "https://localhost:8080/"
        },
        "outputId": "964a2b76-c933-4268-aff2-b293968242b3"
      },
      "source": [
        "len"
      ],
      "execution_count": null,
      "outputs": [
        {
          "output_type": "execute_result",
          "data": {
            "text/plain": [
              "<function len>"
            ]
          },
          "metadata": {
            "tags": []
          },
          "execution_count": 24
        }
      ]
    },
    {
      "cell_type": "markdown",
      "metadata": {
        "id": "TKc1_YodKzqf"
      },
      "source": [
        "### __Local Variables__\n",
        "\n",
        "When you declare variables inside a function definition, they are not related in any way to other variables with the same names used outside the function - i.e. variable names are local to the function. This is called the **scope** of the variable.\n",
        "\n",
        "All variables have the scope of the block they are declared in starting from the point of definition of the name.\n",
        "\n",
        "__Example:__"
      ]
    },
    {
      "cell_type": "code",
      "metadata": {
        "id": "codlcVadKzqh",
        "colab": {
          "base_uri": "https://localhost:8080/"
        },
        "outputId": "51127438-db22-45fc-f238-9148bdcc3b17"
      },
      "source": [
        "x = 50         # This has a Global Scope \n",
        "\n",
        "def func(x):\n",
        "    print('x is', x)\n",
        "    x = 2      # This has a local scope\n",
        "    print('Changed local x to', x)\n",
        "\n",
        "func(x)\n",
        "print('x is still', x)"
      ],
      "execution_count": null,
      "outputs": [
        {
          "output_type": "stream",
          "text": [
            "x is 50\n",
            "Changed local x to 2\n",
            "x is still 50\n"
          ],
          "name": "stdout"
        }
      ]
    },
    {
      "cell_type": "markdown",
      "metadata": {
        "id": "JfwB-a41Kzq4"
      },
      "source": [
        "The first time that we print the value of the name **x** with the first line in the function’s body, Python uses the value of the parameter declared in the main block, above the function definition.\n",
        "\n",
        "Next, we assign the value 2 to **x**. The name **x** is local to our function. So, when we change the value of **x** in the function, the **x** defined in the main block remains unaffected.\n",
        "\n",
        "With the last print statement, we display the value of **x** as defined in the main block, thereby confirming that it is actually unaffected by the local assignment within the previously called function.\n",
        "\n"
      ]
    },
    {
      "cell_type": "markdown",
      "metadata": {
        "id": "FqBlsvuk5CPO"
      },
      "source": [
        "### The <code>global</code> statement\n",
        "If you want to assign a value to a name defined at the top level of the program (i.e. not inside any kind of scope such as functions or classes), then you have to tell Python that the name is not local, but it is global. We do this using the <code>global</code> statement. It is impossible to assign a value to a variable defined outside a function without the global statement.\n",
        "\n",
        "You can use the values of such variables defined outside the function (assuming there is no variable with the same name within the function). However, this is not encouraged and should be avoided since it becomes unclear to the reader of the program as to where that variable’s definition is. Using the <code>global</code> statement makes it amply clear that the variable is defined in an outermost block.\n",
        "\n",
        "Example:"
      ]
    },
    {
      "cell_type": "code",
      "metadata": {
        "id": "x0oeRs-MKzq5",
        "colab": {
          "base_uri": "https://localhost:8080/"
        },
        "outputId": "79bc1d90-a83b-4d29-c791-913ddccc94ed"
      },
      "source": [
        "x = 50\n",
        "\n",
        "def func():\n",
        "    global x\n",
        "    print('This function is now using the global x!')\n",
        "    print('Because of global x is: ', x)\n",
        "    x = 2\n",
        "    print('Running `func()`, changed the global x to', x)\n",
        "\n",
        "print('Before calling `func()`, x is: ', x)\n",
        "func()\n",
        "print('Now Value of x outside of `func()` is: ', x)"
      ],
      "execution_count": 38,
      "outputs": [
        {
          "output_type": "stream",
          "name": "stdout",
          "text": [
            "Before calling `func()`, x is:  50\n",
            "This function is now using the global x!\n",
            "Because of global x is:  50\n",
            "Running `func()`, changed the global x to 2\n",
            "Now Value of x outside of `func()` is:  2\n"
          ]
        }
      ]
    },
    {
      "cell_type": "markdown",
      "metadata": {
        "collapsed": true,
        "id": "fykmt-z2KzrJ"
      },
      "source": [
        "The <code>global</code> statement is used to declare that `x` is a global variable, hence, when we assign a value to `x` inside the function, that change is reflected when we use the value of `x` in the main block.\n",
        "\n",
        "You can specify more than one global variable using the same global statement **e.g.** <code>global x, y, z</code>."
      ]
    },
    {
      "cell_type": "markdown",
      "source": [
        "> This is the much genral path  to  take  rather  then  using  the \n",
        "`global`  VARIBLE   because  with  the  larger  scripts  there  is  a\n",
        "possibility that you may write the `global` keyword inside a function\n",
        "without ever knowing it, & this will make the debugging of the code \n",
        "much harder."
      ],
      "metadata": {
        "id": "MtoawqMNULU9"
      }
    },
    {
      "cell_type": "code",
      "metadata": {
        "id": "y66cVylrunNK"
      },
      "source": [
        "x = 50\n",
        "\n",
        "def func(x):\n",
        "    print(f'X is {x}')\n",
        "\n",
        "    # LOCAL REASSIGNMENT ON A GLOBAL VARIBLE!!!\n",
        "    x = 25\n",
        "    print(f'I JUST LOCALLY CHANGED GLOBAL X TO {x}')\n",
        "    return x"
      ],
      "execution_count": 24,
      "outputs": []
    },
    {
      "cell_type": "code",
      "metadata": {
        "id": "nvGGQkWmv9Nw",
        "colab": {
          "base_uri": "https://localhost:8080/"
        },
        "outputId": "cf84ee10-4d98-47d7-ef37-c5521f3459e1"
      },
      "source": [
        "print(x)"
      ],
      "execution_count": 25,
      "outputs": [
        {
          "output_type": "stream",
          "name": "stdout",
          "text": [
            "50\n"
          ]
        }
      ]
    },
    {
      "cell_type": "code",
      "metadata": {
        "id": "hSVMQD3RwCB-",
        "colab": {
          "base_uri": "https://localhost:8080/"
        },
        "outputId": "230f2b7d-cbb0-40e0-b9ac-068ba23242b4"
      },
      "source": [
        "# This is much easier to debug because clear re-assignment is happening here\n",
        "x = func(x)"
      ],
      "execution_count": 26,
      "outputs": [
        {
          "output_type": "stream",
          "name": "stdout",
          "text": [
            "X is 50\n",
            "I JUST LOCALLY CHANGED GLOBAL X TO 25\n"
          ]
        }
      ]
    },
    {
      "cell_type": "code",
      "metadata": {
        "id": "tpzgaSNpxnaa",
        "colab": {
          "base_uri": "https://localhost:8080/"
        },
        "outputId": "7abcc9db-d6f6-40c7-824d-5417efcd6e52"
      },
      "source": [
        "print(x)"
      ],
      "execution_count": null,
      "outputs": [
        {
          "output_type": "stream",
          "text": [
            "NEW VALUE\n"
          ],
          "name": "stdout"
        }
      ]
    },
    {
      "cell_type": "markdown",
      "metadata": {
        "collapsed": true,
        "id": "VQKGFrhgKzrP"
      },
      "source": [
        "#### __Conclusion__\n",
        "You should now have a good understanding of Scope (you may have already intuitively felt right about Scope which is great!) One last mention is that you can use the **globals()** and **locals()** functions to check what are your current local and global variables.\n",
        "\n",
        "Another thing to keep in mind is that everything in Python is an object! I can assign variables to functions just like I can with numbers! We will go over this again in the decorator section of the course!"
      ]
    },
    {
      "cell_type": "markdown",
      "source": [
        "### $\\color{skyblue}{\\textbf{Connect with me:}}$\n",
        "\n",
        "\n",
        "[<img align=\"left\" src=\"https://cdn.jsdelivr.net/npm/simple-icons@v3/icons/twitter.svg\" width=\"32px\"/>][twitter]\n",
        "[<img align=\"left\" src=\"https://cdn.jsdelivr.net/npm/simple-icons@v3/icons/linkedin.svg\" width=\"32px\"/>][linkedin]\n",
        "[<img align=\"left\" src=\"https://raw.githubusercontent.com/iconic/open-iconic/master/svg/globe.svg\" width=\"32px\"/>][StackExchange AI]\n",
        "\n",
        "[twitter]: https://twitter.com/F4izy\n",
        "[linkedin]: https://www.linkedin.com/in/mohd-faizy/\n",
        "[StackExchange AI]: https://ai.stackexchange.com/users/36737/cypher\n",
        "\n",
        "\n",
        "---"
      ],
      "metadata": {
        "id": "VvEWuRAjZQ4a"
      }
    }
  ]
}