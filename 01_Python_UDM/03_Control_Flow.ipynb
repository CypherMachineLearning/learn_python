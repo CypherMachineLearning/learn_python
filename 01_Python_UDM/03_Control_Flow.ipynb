{
  "nbformat": 4,
  "nbformat_minor": 0,
  "metadata": {
    "colab": {
      "name": "03_Control_Flow.ipynb",
      "provenance": [],
      "collapsed_sections": [
        "EzWKi_PpwGSn",
        "j24R_yC6p1fJ",
        "ubPvHVApBr5W",
        "DEqlGaMZVWKj"
      ],
      "toc_visible": true
    },
    "kernelspec": {
      "name": "python3",
      "display_name": "Python 3"
    }
  },
  "cells": [
    {
      "cell_type": "markdown",
      "source": [
        "<center>\n",
        "        <a href=\"https://colab.research.google.com/drive/12B1VK-QLECECe-GpIhRRXFbqoSLxXGj5#scrollTo=xEUsse99e8Tj\" target=\"_parent\">\n",
        "        <img src=\"https://colab.research.google.com/assets/colab-badge.svg\" alt=\"Open In Colab\"/>\n",
        "        </a>\n",
        "</center>\n",
        "\n",
        "# <center><b>Control Flow - Python Statement</b></center>\n"
      ],
      "metadata": {
        "id": "xEUsse99e8Tj"
      }
    },
    {
      "cell_type": "markdown",
      "metadata": {
        "id": "EzWKi_PpwGSn"
      },
      "source": [
        "## **`if` `elif` & `else`**\n"
      ]
    },
    {
      "cell_type": "markdown",
      "source": [
        "```python\n",
        "if test expression:\n",
        "    statement(s)\n",
        "```\n"
      ],
      "metadata": {
        "id": "B4RWrCra3TWz"
      }
    },
    {
      "cell_type": "code",
      "metadata": {
        "id": "aukRatazeP8r",
        "outputId": "19dfa18d-b614-4132-86c7-79c48582af06",
        "colab": {
          "base_uri": "https://localhost:8080/"
        }
      },
      "source": [
        "hungry = True \n",
        "\n",
        "if hungry:\n",
        "    print('Feed Me!')\n",
        "else:\n",
        "    print('I m not hungry')"
      ],
      "execution_count": null,
      "outputs": [
        {
          "output_type": "stream",
          "text": [
            "Feed Me!\n"
          ],
          "name": "stdout"
        }
      ]
    },
    {
      "cell_type": "code",
      "metadata": {
        "id": "FnXmMawinvcg",
        "outputId": "71712d3e-2e7a-4d44-cf4f-24fe64b7a45f",
        "colab": {
          "base_uri": "https://localhost:8080/"
        }
      },
      "source": [
        "loc = 'Auto shop'\n",
        "\n",
        "if loc == 'Auto shop':\n",
        "    print('Cars are cool!')\n",
        "elif loc == 'Bank':\n",
        "    print('Monry is cool!')\n",
        "elif loc == 'Store':\n",
        "    print('Welcome to the Store!')\n",
        "else:\n",
        "    print('I do not know the much')"
      ],
      "execution_count": null,
      "outputs": [
        {
          "output_type": "stream",
          "text": [
            "Cars are cool!\n"
          ],
          "name": "stdout"
        }
      ]
    },
    {
      "cell_type": "code",
      "source": [
        "# If the number is positive, we print an appropriate message\n",
        "num = 3\n",
        "if num > 0:\n",
        "    print(num, \"is a positive number.\")\n",
        "\n",
        "print(\"This is always printed.\")       # as its outside the loop\n",
        "\n",
        "num = -1\n",
        "if num > 0:\n",
        "    print(num, \"is a positive number.\")\n",
        "\n",
        "print(\"This is also always printed.\")  # as its outside the loop"
      ],
      "metadata": {
        "colab": {
          "base_uri": "https://localhost:8080/"
        },
        "id": "C6UAnYp73eKW",
        "outputId": "f3f5d990-cdb7-411a-b1f1-2634254ccbdc"
      },
      "execution_count": null,
      "outputs": [
        {
          "output_type": "stream",
          "name": "stdout",
          "text": [
            "3 is a positive number.\n",
            "This is always printed.\n",
            "This is also always printed.\n"
          ]
        }
      ]
    },
    {
      "cell_type": "markdown",
      "metadata": {
        "id": "j24R_yC6p1fJ"
      },
      "source": [
        "## **`for` Loop**"
      ]
    },
    {
      "cell_type": "code",
      "metadata": {
        "id": "Yhf2y96NpfqO",
        "outputId": "4e26f71f-b002-4311-e230-bb94ddf615e3",
        "colab": {
          "base_uri": "https://localhost:8080/"
        }
      },
      "source": [
        "# Iterating through the list\n",
        "mylist = [1, 2, 3, 4, 5]\n",
        "\n",
        "for num in mylist:\n",
        "    print(num, end='  ')"
      ],
      "execution_count": null,
      "outputs": [
        {
          "output_type": "stream",
          "name": "stdout",
          "text": [
            "1  2  3  4  5  "
          ]
        }
      ]
    },
    {
      "cell_type": "code",
      "metadata": {
        "id": "yZZ__UzjsF6U",
        "outputId": "dd82bed7-f270-460a-c539-8f97ad5d2e1a",
        "colab": {
          "base_uri": "https://localhost:8080/"
        }
      },
      "source": [
        "mylist = [1, 2, 3, 4, 5]\n",
        "\n",
        "for num in mylist:\n",
        "    print('Hello!')"
      ],
      "execution_count": null,
      "outputs": [
        {
          "output_type": "stream",
          "text": [
            "Hello!\n",
            "Hello!\n",
            "Hello!\n",
            "Hello!\n",
            "Hello!\n"
          ],
          "name": "stdout"
        }
      ]
    },
    {
      "cell_type": "code",
      "metadata": {
        "id": "IHdVdUGZsYP8",
        "outputId": "1282fea9-da5c-4151-9965-47559d2f77f1",
        "colab": {
          "base_uri": "https://localhost:8080/"
        }
      },
      "source": [
        "# Printing odd and even number of a list\n",
        "\n",
        "my_list = [1, 2, 3, 4, 5, 6, 7, 8, 9, 10]\n",
        "\n",
        "for num in my_list:\n",
        "    if num % 2 == 0:\n",
        "        print(f'even Number: {num}')\n",
        "    else:\n",
        "        print(f'odd Number:  {num}')"
      ],
      "execution_count": null,
      "outputs": [
        {
          "output_type": "stream",
          "name": "stdout",
          "text": [
            "odd Number:  1\n",
            "even Number: 2\n",
            "odd Number:  3\n",
            "even Number: 4\n",
            "odd Number:  5\n",
            "even Number: 6\n",
            "odd Number:  7\n",
            "even Number: 8\n",
            "odd Number:  9\n",
            "even Number: 10\n"
          ]
        }
      ]
    },
    {
      "cell_type": "code",
      "metadata": {
        "id": "TxUAhX13-wFB",
        "outputId": "7ab08324-1104-4141-96c9-6bd61e6fd855",
        "colab": {
          "base_uri": "https://localhost:8080/"
        }
      },
      "source": [
        "my_list = [1, 2, 3, 4, 5, 6, 7, 8, 9, 10]\n",
        "\n",
        "list_sum = 0   \n",
        "\n",
        "for num in my_list:\n",
        "    list_sum = list_sum + num\n",
        "    print(list_sum, end = ', ')"
      ],
      "execution_count": null,
      "outputs": [
        {
          "output_type": "stream",
          "name": "stdout",
          "text": [
            "1, 3, 6, 10, 15, 21, 28, 36, 45, 55, "
          ]
        }
      ]
    },
    {
      "cell_type": "markdown",
      "metadata": {
        "id": "HKQcWm_6BiUk"
      },
      "source": [
        "- [How to remove last comma from `print(string, end=“, ”)`](https://newdevzone.com/posts/how-to-remove-last-comma-from-printstring-end)\n",
        "\n",
        "- [Why the we initlized the `sum=0`](https://stackoverflow.com/questions/56191112/i-dont-understand-the-why-is-sum-0)"
      ]
    },
    {
      "cell_type": "code",
      "source": [
        "my_list = [1, 2, 3, 4, 5, 6, 7, 8, 9, 10]\n",
        "\n",
        "list_sum = 0\n",
        "\n",
        "for num in my_list:\n",
        "    list_sum = list_sum + num\n",
        "    print(list_sum, end = ', ')\n",
        "\n",
        "print(\"\\b\\b \") # This removes the last comma.\n",
        "               # \\b is considered as an escape sequence in python\n",
        "               # It's is a Non-Graphic character used to replicate backspace"
      ],
      "metadata": {
        "colab": {
          "base_uri": "https://localhost:8080/"
        },
        "id": "id3adIQULrr_",
        "outputId": "512b7a27-44b2-4dce-aabd-8c8da3005abb"
      },
      "execution_count": null,
      "outputs": [
        {
          "output_type": "stream",
          "name": "stdout",
          "text": [
            "1, 3, 6, 10, 15, 21, 28, 36, 45, 55, \b\b \n"
          ]
        }
      ]
    },
    {
      "cell_type": "markdown",
      "source": [
        "**Iterating through string**"
      ],
      "metadata": {
        "id": "K9TD9P_6UUyb"
      }
    },
    {
      "cell_type": "code",
      "metadata": {
        "id": "D0E0cAuNC_2X",
        "outputId": "864d7c22-307c-460e-e915-c821639952ca",
        "colab": {
          "base_uri": "https://localhost:8080/"
        }
      },
      "source": [
        "mystring = 'APPLE'\n",
        "for letter in mystring:\n",
        "     print(letter, end =' ')"
      ],
      "execution_count": null,
      "outputs": [
        {
          "output_type": "stream",
          "name": "stdout",
          "text": [
            "A P P L E "
          ]
        }
      ]
    },
    {
      "cell_type": "code",
      "metadata": {
        "id": "VKO-9T_iDe2p",
        "outputId": "1298c126-623e-458f-b576-3584279e2a13",
        "colab": {
          "base_uri": "https://localhost:8080/"
        }
      },
      "source": [
        "for _ in 'ICE':\n",
        "    print('Cool!')"
      ],
      "execution_count": null,
      "outputs": [
        {
          "output_type": "stream",
          "text": [
            "Cool!\n",
            "Cool!\n",
            "Cool!\n"
          ],
          "name": "stdout"
        }
      ]
    },
    {
      "cell_type": "markdown",
      "source": [
        "**Iteration through Tuple**"
      ],
      "metadata": {
        "id": "Y968wa71UQvz"
      }
    },
    {
      "cell_type": "code",
      "metadata": {
        "id": "raFSgj4pE2cM",
        "outputId": "cb97aca3-d764-4b39-c606-b3b1a9b6db2e",
        "colab": {
          "base_uri": "https://localhost:8080/"
        }
      },
      "source": [
        "tup = (1, 2, 3)\n",
        "for item in tup:\n",
        "    print(item)"
      ],
      "execution_count": null,
      "outputs": [
        {
          "output_type": "stream",
          "name": "stdout",
          "text": [
            "1\n",
            "2\n",
            "3\n"
          ]
        }
      ]
    },
    {
      "cell_type": "markdown",
      "source": [
        "**Tuple Un-packing**\n"
      ],
      "metadata": {
        "id": "8fFp5BzbUJld"
      }
    },
    {
      "cell_type": "code",
      "metadata": {
        "id": "F3k-QqclFUxd",
        "outputId": "274b6666-a3a0-4891-a7c4-36880b1be247",
        "colab": {
          "base_uri": "https://localhost:8080/"
        }
      },
      "source": [
        "mylist_1 = [(1,2), (3,4), (5,6), (7,8)]\n",
        "\n",
        "for (a,b) in mylist_1:\n",
        "    print(a)"
      ],
      "execution_count": null,
      "outputs": [
        {
          "output_type": "stream",
          "name": "stdout",
          "text": [
            "1\n",
            "3\n",
            "5\n",
            "7\n"
          ]
        }
      ]
    },
    {
      "cell_type": "code",
      "metadata": {
        "id": "I4PUYNtOJ6JN",
        "outputId": "ccb1cb1b-8ba1-41d4-f3c4-268964ee6212",
        "colab": {
          "base_uri": "https://localhost:8080/"
        }
      },
      "source": [
        "my_list_1 = [(1,2,3), (4,5,6), (7,8,9)]\n",
        "\n",
        "for (a,b,c) in my_list_1:\n",
        "    print(a, c)"
      ],
      "execution_count": null,
      "outputs": [
        {
          "output_type": "stream",
          "name": "stdout",
          "text": [
            "1 3\n",
            "4 6\n",
            "7 9\n"
          ]
        }
      ]
    },
    {
      "cell_type": "markdown",
      "source": [
        "**Iteration through a dictionary**\n",
        "\n",
        "$\\color{red}{\\textbf{Note}}$ By default we iterate through Keys\n"
      ],
      "metadata": {
        "id": "YemlIVbWw_7B"
      }
    },
    {
      "cell_type": "code",
      "source": [
        "dict_1 = {'k1': 1, 'k2': 2, 'k3': 3}\n",
        "\n",
        "for i in dict_1.items():\n",
        "    print(i)"
      ],
      "metadata": {
        "colab": {
          "base_uri": "https://localhost:8080/"
        },
        "id": "g2oNz39By7ZU",
        "outputId": "eb2b8de9-4b0b-4cb4-afe1-5c03430a9092"
      },
      "execution_count": null,
      "outputs": [
        {
          "output_type": "stream",
          "name": "stdout",
          "text": [
            "('k1', 1)\n",
            "('k2', 2)\n",
            "('k3', 3)\n"
          ]
        }
      ]
    },
    {
      "cell_type": "markdown",
      "source": [
        "`keys`"
      ],
      "metadata": {
        "id": "p3U9gIolzWko"
      }
    },
    {
      "cell_type": "code",
      "source": [
        "dict_1 = {'k1': 1, 'k2': 2, 'k3': 3}\n",
        "\n",
        "for (keys, values) in dict_1.items():\n",
        "    print(keys)"
      ],
      "metadata": {
        "colab": {
          "base_uri": "https://localhost:8080/"
        },
        "id": "62N31UprzOIk",
        "outputId": "2760c4e0-5819-41bf-b79d-572a875e30d8"
      },
      "execution_count": null,
      "outputs": [
        {
          "output_type": "stream",
          "name": "stdout",
          "text": [
            "k1\n",
            "k2\n",
            "k3\n"
          ]
        }
      ]
    },
    {
      "cell_type": "code",
      "metadata": {
        "id": "hkCQk0xCKXEZ",
        "outputId": "9c17fb5e-136a-4261-cc7f-45286b8c047c",
        "colab": {
          "base_uri": "https://localhost:8080/"
        }
      },
      "source": [
        "dict_1 = {'k1': 1, 'k2': 2, 'k3': 3}\n",
        "\n",
        "for (keys, values) in dict_1.items():\n",
        "    print(values)"
      ],
      "execution_count": null,
      "outputs": [
        {
          "output_type": "stream",
          "name": "stdout",
          "text": [
            "1\n",
            "2\n",
            "3\n"
          ]
        }
      ]
    },
    {
      "cell_type": "markdown",
      "metadata": {
        "id": "ubPvHVApBr5W"
      },
      "source": [
        "## **`while` loop**"
      ]
    },
    {
      "cell_type": "code",
      "metadata": {
        "id": "6A1BVs60CPZ_",
        "outputId": "6292170b-2b47-4a37-81f8-f7defefc3c48",
        "colab": {
          "base_uri": "https://localhost:8080/"
        }
      },
      "source": [
        "x = 0\n",
        "\n",
        "while x < 5:\n",
        "    print(f'The current value of x is {x}')\n",
        "    x += 1\n",
        "else:\n",
        "    print('x is Not less then 5')"
      ],
      "execution_count": null,
      "outputs": [
        {
          "output_type": "stream",
          "name": "stdout",
          "text": [
            "The current value of x is 0\n",
            "The current value of x is 1\n",
            "The current value of x is 2\n",
            "The current value of x is 3\n",
            "The current value of x is 4\n",
            "x is Not less then 5\n"
          ]
        }
      ]
    },
    {
      "cell_type": "markdown",
      "metadata": {
        "id": "DEqlGaMZVWKj"
      },
      "source": [
        "## **`break, continue, pass`**\n",
        "\n"
      ]
    },
    {
      "cell_type": "markdown",
      "metadata": {
        "id": "orUORl2HWmdP"
      },
      "source": [
        "`pass` - *Do nothing at all*\n",
        "\n",
        "\n",
        ">Programer sometimes keep it as a `placeholder` to avoide errors to fill it later when working on the larger codes.\n"
      ]
    },
    {
      "cell_type": "code",
      "metadata": {
        "id": "9t4i68LlVVCw"
      },
      "source": [
        "x = [1,2,3]\n",
        " \n",
        "for items in x:\n",
        "    pass"
      ],
      "execution_count": null,
      "outputs": []
    },
    {
      "cell_type": "markdown",
      "metadata": {
        "id": "Is9gU9BYYQu-"
      },
      "source": [
        "__`continue`__"
      ]
    },
    {
      "cell_type": "code",
      "metadata": {
        "id": "GU1tgpf0Xs3l",
        "outputId": "1e5aef0e-c098-446b-92a6-273983f90774",
        "colab": {
          "base_uri": "https://localhost:8080/"
        }
      },
      "source": [
        "mystring = 'faizy'\n",
        "\n",
        "for letter in mystring:\n",
        "    if letter == 'a':\n",
        "        continue\n",
        "    print(letter)"
      ],
      "execution_count": null,
      "outputs": [
        {
          "output_type": "stream",
          "text": [
            "f\n",
            "i\n",
            "z\n",
            "y\n"
          ],
          "name": "stdout"
        }
      ]
    },
    {
      "cell_type": "markdown",
      "metadata": {
        "id": "oYjp5MaFqfOW"
      },
      "source": [
        "**`break`**"
      ]
    },
    {
      "cell_type": "code",
      "metadata": {
        "id": "NEYu-gdAqt-7",
        "outputId": "97f07f45-4f7d-4292-edeb-d0f6e213c1b1",
        "colab": {
          "base_uri": "https://localhost:8080/"
        }
      },
      "source": [
        "x = 0\n",
        "\n",
        "while x < 5:\n",
        "    if x == 3:\n",
        "        break\n",
        "    print(x)\n",
        "    x += 1 "
      ],
      "execution_count": null,
      "outputs": [
        {
          "output_type": "stream",
          "text": [
            "0\n",
            "1\n",
            "2\n"
          ],
          "name": "stdout"
        }
      ]
    },
    {
      "cell_type": "code",
      "source": [
        "my_list = [1, 2, 3, 4, 5]\n",
        "\n",
        "for num in my_list:\n",
        "    if num == 2:\n",
        "        continue\n",
        "    if num == 4:\n",
        "        break\n",
        "    print(num)"
      ],
      "metadata": {
        "colab": {
          "base_uri": "https://localhost:8080/"
        },
        "id": "5Qyq82Y118ul",
        "outputId": "de1416c1-b5c7-474f-b5be-7cd26be71af9"
      },
      "execution_count": null,
      "outputs": [
        {
          "output_type": "stream",
          "name": "stdout",
          "text": [
            "1\n",
            "3\n"
          ]
        }
      ]
    },
    {
      "cell_type": "markdown",
      "metadata": {
        "id": "1FJzpEwKxra2"
      },
      "source": [
        "## **Useful Operators in Python**"
      ]
    },
    {
      "cell_type": "markdown",
      "metadata": {
        "id": "xoJ4cN7A8VZx"
      },
      "source": [
        "**`range`** **operater**"
      ]
    },
    {
      "cell_type": "code",
      "metadata": {
        "id": "g-KtN3rgx0f-",
        "outputId": "10c6c557-97d4-41e7-f83f-2b2eff834106",
        "colab": {
          "base_uri": "https://localhost:8080/"
        }
      },
      "source": [
        "for num in range(0, 10, 2):\n",
        "    print(num)"
      ],
      "execution_count": null,
      "outputs": [
        {
          "output_type": "stream",
          "text": [
            "0\n",
            "2\n",
            "4\n",
            "6\n",
            "8\n"
          ],
          "name": "stdout"
        }
      ]
    },
    {
      "cell_type": "markdown",
      "metadata": {
        "id": "yOdD2i8c97yu"
      },
      "source": [
        "**Genrating the `list` of number**"
      ]
    },
    {
      "cell_type": "code",
      "metadata": {
        "id": "yYsBr7GV9S6s",
        "outputId": "022b3523-9259-436c-cf0e-0dcc75e1be0c",
        "colab": {
          "base_uri": "https://localhost:8080/"
        }
      },
      "source": [
        "list(range(0, 20, 3))"
      ],
      "execution_count": null,
      "outputs": [
        {
          "output_type": "execute_result",
          "data": {
            "text/plain": [
              "[0, 3, 6, 9, 12, 15, 18]"
            ]
          },
          "metadata": {
            "tags": []
          },
          "execution_count": 18
        }
      ]
    },
    {
      "cell_type": "markdown",
      "metadata": {
        "id": "QzJnQJKj93zF"
      },
      "source": [
        "`Enumertate`\n"
      ]
    },
    {
      "cell_type": "code",
      "metadata": {
        "id": "Z6DYFxMW927E",
        "outputId": "4eb413ff-cb3c-4017-9ceb-0455ad7ad659",
        "colab": {
          "base_uri": "https://localhost:8080/"
        }
      },
      "source": [
        "my_string = 'abcde'\n",
        "index_count = 0\n",
        "\n",
        "for letter in my_string:\n",
        "    print('At index {} the letter is {}'.format(index_count, letter))\n",
        "    index_count += 1"
      ],
      "execution_count": null,
      "outputs": [
        {
          "output_type": "stream",
          "name": "stdout",
          "text": [
            "At index 0 the letter is a\n",
            "At index 1 the letter is b\n",
            "At index 2 the letter is c\n",
            "At index 3 the letter is d\n",
            "At index 4 the letter is e\n"
          ]
        }
      ]
    },
    {
      "cell_type": "code",
      "metadata": {
        "id": "76fr_0UwHYPy",
        "outputId": "387a5fcd-8be5-4cde-9a54-7e0595ea5eff",
        "colab": {
          "base_uri": "https://localhost:8080/"
        }
      },
      "source": [
        "word = 'APPLE'\n",
        "index_counts = 0\n",
        "\n",
        "for letter in word:\n",
        "    print(word[index_counts])\n",
        "    index_counts += 1"
      ],
      "execution_count": null,
      "outputs": [
        {
          "output_type": "stream",
          "name": "stdout",
          "text": [
            "A\n",
            "P\n",
            "P\n",
            "L\n",
            "E\n"
          ]
        }
      ]
    },
    {
      "cell_type": "markdown",
      "metadata": {
        "id": "OFUwbIpvKj6M"
      },
      "source": [
        "`enumerate` function is an **index counter** and a **function** itself."
      ]
    },
    {
      "cell_type": "code",
      "metadata": {
        "id": "ZXqJv7YWJW-v",
        "outputId": "d31c8abc-c94f-42fd-9547-0b81f87eb021",
        "colab": {
          "base_uri": "https://localhost:8080/"
        }
      },
      "source": [
        "word = 'abcde'\n",
        "for items in enumerate(word):\n",
        "    print(items)             # Return the tuples              "
      ],
      "execution_count": null,
      "outputs": [
        {
          "output_type": "stream",
          "text": [
            "(0, 'a')\n",
            "(1, 'b')\n",
            "(2, 'c')\n",
            "(3, 'd')\n",
            "(4, 'e')\n"
          ],
          "name": "stdout"
        }
      ]
    },
    {
      "cell_type": "code",
      "metadata": {
        "id": "-llKUdbUIkhD",
        "outputId": "c8466aaf-5f6c-4671-86c1-4f3332fb4727",
        "colab": {
          "base_uri": "https://localhost:8080/"
        }
      },
      "source": [
        "word = 'CAT'\n",
        "for (index, letter) in enumerate(word):\n",
        "    print(index)\n",
        "    print(letter)\n",
        "    print('\\n')"
      ],
      "execution_count": null,
      "outputs": [
        {
          "output_type": "stream",
          "name": "stdout",
          "text": [
            "0\n",
            "C\n",
            "\n",
            "\n",
            "1\n",
            "A\n",
            "\n",
            "\n",
            "2\n",
            "T\n",
            "\n",
            "\n"
          ]
        }
      ]
    },
    {
      "cell_type": "markdown",
      "metadata": {
        "id": "-nFI6UGGLNdR"
      },
      "source": [
        "**Zip function** - zips the two list together"
      ]
    },
    {
      "cell_type": "code",
      "metadata": {
        "id": "HW3gACwrLMig",
        "outputId": "87f40aa8-4559-4a9f-fbf8-2bcf46e86f8b",
        "colab": {
          "base_uri": "https://localhost:8080/"
        }
      },
      "source": [
        "mylist1 = [1,2,3,4]       \n",
        "mylist2 = ['a', 'b', 'c']\n",
        "\n",
        "for items in zip(mylist1, mylist2):\n",
        "\n",
        "#the output will ignore everything that is extra & zip the shortest\n",
        "    print(items)                   \n"
      ],
      "execution_count": null,
      "outputs": [
        {
          "output_type": "stream",
          "text": [
            "(1, 'a')\n",
            "(2, 'b')\n",
            "(3, 'c')\n"
          ],
          "name": "stdout"
        }
      ]
    },
    {
      "cell_type": "code",
      "metadata": {
        "id": "jcqsoC5Bk9-Y",
        "outputId": "b3a19e22-77f9-4c85-875b-3e4a3c7c3ce6",
        "colab": {
          "base_uri": "https://localhost:8080/"
        }
      },
      "source": [
        "# To check wether the object is presrnt in the list/dict\n",
        "\n",
        "'a' in ['a', 'b', 'c']\n",
        "'k1' in {\"k1\":11, 'k2':22, 'k3':33} "
      ],
      "execution_count": null,
      "outputs": [
        {
          "output_type": "execute_result",
          "data": {
            "text/plain": [
              "True"
            ]
          },
          "metadata": {
            "tags": []
          },
          "execution_count": 24
        }
      ]
    },
    {
      "cell_type": "code",
      "metadata": {
        "id": "9ZkFjHW0ltdi",
        "outputId": "76701b25-8766-4e4a-c3ba-aeb1bd882c13",
        "colab": {
          "base_uri": "https://localhost:8080/"
        }
      },
      "source": [
        "d = {\"k1\":11, 'k2':22, 'k3':33}\n",
        "11 in d.values()"
      ],
      "execution_count": null,
      "outputs": [
        {
          "output_type": "execute_result",
          "data": {
            "text/plain": [
              "True"
            ]
          },
          "metadata": {
            "tags": []
          },
          "execution_count": 25
        }
      ]
    },
    {
      "cell_type": "code",
      "metadata": {
        "id": "5ccEf69Gl47-",
        "outputId": "63d17a15-233c-4f3d-89fe-631e96665747",
        "colab": {
          "base_uri": "https://localhost:8080/"
        }
      },
      "source": [
        "list_x = [10,20,30,40,50,100,101]\n",
        "print(min(list_x))\n",
        "print(max(list_x))"
      ],
      "execution_count": null,
      "outputs": [
        {
          "output_type": "stream",
          "text": [
            "10\n",
            "101\n"
          ],
          "name": "stdout"
        }
      ]
    },
    {
      "cell_type": "markdown",
      "metadata": {
        "id": "EbYMRNGPmhPO"
      },
      "source": [
        "__`Random`__ library"
      ]
    },
    {
      "cell_type": "code",
      "metadata": {
        "id": "UykQMktcm2HM",
        "outputId": "cd9fd8d7-e550-441e-af17-ef04bb341573",
        "colab": {
          "base_uri": "https://localhost:8080/"
        }
      },
      "source": [
        "from random import shuffle\n",
        "mylist_x = [1,2,3,4,5,6,7,8,9,10]\n",
        "shuffle(mylist_x)\n",
        "print(mylist_x)"
      ],
      "execution_count": null,
      "outputs": [
        {
          "output_type": "stream",
          "text": [
            "[6, 3, 1, 9, 2, 10, 7, 4, 8, 5]\n"
          ],
          "name": "stdout"
        }
      ]
    },
    {
      "cell_type": "code",
      "metadata": {
        "id": "O6csP_FJns4L",
        "outputId": "e3e57610-c160-45c3-d1dc-1b69c32ef985",
        "colab": {
          "base_uri": "https://localhost:8080/"
        }
      },
      "source": [
        "from random import randint\n",
        "\n",
        "mynum = randint(0,100)\n",
        "print(mynum)"
      ],
      "execution_count": null,
      "outputs": [
        {
          "output_type": "stream",
          "text": [
            "60\n"
          ],
          "name": "stdout"
        }
      ]
    },
    {
      "cell_type": "code",
      "metadata": {
        "id": "t0_O1IuEoxd-",
        "outputId": "4671cf8d-b434-4c14-a323-0948e012e049",
        "colab": {
          "base_uri": "https://localhost:8080/"
        }
      },
      "source": [
        "# input function \n",
        "result = input('Favorite Number:')\n",
        "type(result)\n",
        "print(int(result))"
      ],
      "execution_count": null,
      "outputs": [
        {
          "output_type": "stream",
          "text": [
            "Favorite Number:7\n",
            "7\n"
          ],
          "name": "stdout"
        }
      ]
    },
    {
      "cell_type": "markdown",
      "metadata": {
        "id": "pdWoUqtvuV1M"
      },
      "source": [
        "## **List Comprehensions**"
      ]
    },
    {
      "cell_type": "code",
      "metadata": {
        "id": "oN819GIC3h4D",
        "outputId": "45991bb2-9f15-41ab-9ea7-085ae41db2d4",
        "colab": {
          "base_uri": "https://localhost:8080/"
        }
      },
      "source": [
        "# Appending the item to the list\n",
        "  \n",
        "mystring = 'Hello'\n",
        "mylist = []\n",
        "\n",
        "for letter in mystring:\n",
        "    mylist.append(letter)\n",
        "print(mylist)"
      ],
      "execution_count": null,
      "outputs": [
        {
          "output_type": "stream",
          "text": [
            "['H', 'e', 'l', 'l', 'o']\n"
          ],
          "name": "stdout"
        }
      ]
    },
    {
      "cell_type": "code",
      "metadata": {
        "id": "BMqECtZ022DM",
        "outputId": "9b298ea7-a66b-4ae7-f720-4f8645875367",
        "colab": {
          "base_uri": "https://localhost:8080/"
        }
      },
      "source": [
        "# List Comprehensions -- flatning the for loop \n",
        "string_n ='FAIZY'\n",
        "mylist_n = [letter for letter in string_n]\n",
        "print(mylist_n)"
      ],
      "execution_count": null,
      "outputs": [
        {
          "output_type": "stream",
          "text": [
            "['F', 'A', 'I', 'Z', 'Y']\n"
          ],
          "name": "stdout"
        }
      ]
    },
    {
      "cell_type": "code",
      "metadata": {
        "id": "xa11iT-D3pjx",
        "outputId": "d947d482-70cf-497f-9ab9-885e74896c93",
        "colab": {
          "base_uri": "https://localhost:8080/"
        }
      },
      "source": [
        "list_n = [x for x in 'word']\n",
        "print(list_n)"
      ],
      "execution_count": null,
      "outputs": [
        {
          "output_type": "stream",
          "text": [
            "['w', 'o', 'r', 'd']\n"
          ],
          "name": "stdout"
        }
      ]
    },
    {
      "cell_type": "code",
      "metadata": {
        "id": "Jg23xccD4EgI",
        "outputId": "e9e5a63f-8459-4b43-9664-dfcbe63794e6",
        "colab": {
          "base_uri": "https://localhost:8080/"
        }
      },
      "source": [
        "mylist = [num**2 for num in range(0,11)]\n",
        "print(mylist)"
      ],
      "execution_count": null,
      "outputs": [
        {
          "output_type": "stream",
          "text": [
            "[0, 1, 4, 9, 16, 25, 36, 49, 64, 81, 100]\n"
          ],
          "name": "stdout"
        }
      ]
    },
    {
      "cell_type": "code",
      "metadata": {
        "id": "Y5EwMQy34uhV",
        "outputId": "82b852cd-d440-4b4f-8032-5d5e726e8d26",
        "colab": {
          "base_uri": "https://localhost:8080/"
        }
      },
      "source": [
        "# printing the even number in the flaten for loop\n",
        "\n",
        "mylist = [x**2 for x in range(0,11) if x%2 == 0]\n",
        "print(mylist)"
      ],
      "execution_count": null,
      "outputs": [
        {
          "output_type": "stream",
          "text": [
            "[0, 4, 16, 36, 64, 100]\n"
          ],
          "name": "stdout"
        }
      ]
    },
    {
      "cell_type": "code",
      "metadata": {
        "id": "wypWKuBv5RIQ",
        "outputId": "1e368b34-bcc0-4a60-c5e5-14118b61bce5",
        "colab": {
          "base_uri": "https://localhost:8080/"
        }
      },
      "source": [
        "# fahrenheit to celcius\n",
        "celcius = [0, 10, 20, 34.5, 100]\n",
        "fahrenheit = [((9/5)*temp +32) for temp in celcius]\n",
        "print(fahrenheit)"
      ],
      "execution_count": null,
      "outputs": [
        {
          "output_type": "stream",
          "text": [
            "[32.0, 50.0, 68.0, 94.1, 212.0]\n"
          ],
          "name": "stdout"
        }
      ]
    },
    {
      "cell_type": "code",
      "metadata": {
        "id": "gmU8-3UI63pp",
        "outputId": "47d9024b-8602-4e76-9cf7-3fec83f68719",
        "colab": {
          "base_uri": "https://localhost:8080/"
        }
      },
      "source": [
        "celcius = [0, 10, 20, 34.5, 100]\n",
        "fahrenheit = []\n",
        "\n",
        "for temp in celcius:\n",
        "    fahrenheit.append((9/5)*temp +32)\n",
        "print(fahrenheit)"
      ],
      "execution_count": null,
      "outputs": [
        {
          "output_type": "stream",
          "text": [
            "[32.0, 50.0, 68.0, 94.1, 212.0]\n"
          ],
          "name": "stdout"
        }
      ]
    },
    {
      "cell_type": "code",
      "metadata": {
        "id": "2GJGTUIT8KE0",
        "outputId": "21bd4b4c-0168-4aa0-91f5-ddc0fd023f78",
        "colab": {
          "base_uri": "https://localhost:8080/"
        }
      },
      "source": [
        "mylist = []\n",
        "\n",
        "for x in [1, 2, 3]:\n",
        "    for y in [2, 3, 4]:\n",
        "        mylist.append(x**y)\n",
        "print(mylist)"
      ],
      "execution_count": null,
      "outputs": [
        {
          "output_type": "stream",
          "text": [
            "[1, 1, 1, 4, 8, 16, 9, 27, 81]\n"
          ],
          "name": "stdout"
        }
      ]
    },
    {
      "cell_type": "markdown",
      "source": [
        "### $\\color{skyblue}{\\textbf{Connect with me:}}$\n",
        "\n",
        "\n",
        "[<img align=\"left\" alt=\"codeSTACKr | Twitter\" width=\"22px\" src=\"https://cdn.jsdelivr.net/npm/simple-icons@v3/icons/twitter.svg\" />][twitter]\n",
        "[<img align=\"left\" alt=\"codeSTACKr | LinkedIn\" width=\"22px\" src=\"https://cdn.jsdelivr.net/npm/simple-icons@v3/icons/linkedin.svg\" />][linkedin]\n",
        "[<img align=\"left\" alt=\"codeSTACKr.com\" width=\"22px\" src=\"https://raw.githubusercontent.com/iconic/open-iconic/master/svg/globe.svg\" />][StackExchange AI]\n",
        "\n",
        "[twitter]: https://twitter.com/F4izy\n",
        "[linkedin]: https://www.linkedin.com/in/mohd-faizy/\n",
        "[StackExchange AI]: https://ai.stackexchange.com/users/36737/cypher\n",
        "\n",
        "\n",
        "---"
      ],
      "metadata": {
        "id": "wslJOeVn1SAH"
      }
    }
  ]
}