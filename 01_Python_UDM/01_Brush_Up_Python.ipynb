{
  "nbformat": 4,
  "nbformat_minor": 0,
  "metadata": {
    "kernelspec": {
      "display_name": "Python 3",
      "language": "python",
      "name": "python3"
    },
    "language_info": {
      "codemirror_mode": {
        "name": "ipython",
        "version": 3
      },
      "file_extension": ".py",
      "mimetype": "text/x-python",
      "name": "python",
      "nbconvert_exporter": "python",
      "pygments_lexer": "ipython3",
      "version": "3.6.4"
    },
    "colab": {
      "name": "01_Brush_Up_Python.ipynb",
      "provenance": [],
      "collapsed_sections": [
        "KNrWyywx4AZl",
        "yAxE3Brv4AZy",
        "8dTuWdMs4AaP",
        "g45pDtTM4Aat",
        "JkLWI_g24AbU",
        "xF_7XNlffeK0",
        "gkvHJljk4Abr",
        "mG22HYcu4AcJ"
      ],
      "toc_visible": true
    }
  },
  "cells": [
    {
      "cell_type": "markdown",
      "metadata": {
        "id": "E6TTlvtY4yjX"
      },
      "source": [
        "<center>\n",
        "        <a href=\"https://colab.research.google.com/drive/1np0SLuRb5aG1biJjTV-hMyaITRVXMSJy\" target=\"_parent\">\n",
        "        <img src=\"https://colab.research.google.com/assets/colab-badge.svg\" alt=\"Open In Colab\"/>\n",
        "        </a>\n",
        "</center>\n",
        "\n",
        "# <center><b>Brush Up Python</b></center>\n",
        "\n",
        "\n"
      ]
    },
    {
      "cell_type": "markdown",
      "metadata": {
        "id": "KNrWyywx4AZl"
      },
      "source": [
        "## **1. Basics**"
      ]
    },
    {
      "cell_type": "code",
      "metadata": {
        "id": "5Aqwgx3v4AZo",
        "colab": {
          "base_uri": "https://localhost:8080/"
        },
        "outputId": "b0d16deb-2502-4c11-f164-ca605b795132"
      },
      "source": [
        "# printing any value\n",
        "print(\"Hello\")"
      ],
      "execution_count": 1,
      "outputs": [
        {
          "output_type": "stream",
          "name": "stdout",
          "text": [
            "Hello\n"
          ]
        }
      ]
    },
    {
      "cell_type": "code",
      "source": [
        "num = 10\n",
        "name = \"faizy\"\n",
        "\n",
        "print(num)\n",
        "print(name)"
      ],
      "metadata": {
        "colab": {
          "base_uri": "https://localhost:8080/"
        },
        "id": "Yb69QJRfAYt6",
        "outputId": "c71fffd3-5c28-43fb-9cee-54b19c540858"
      },
      "execution_count": 2,
      "outputs": [
        {
          "output_type": "stream",
          "name": "stdout",
          "text": [
            "10\n",
            "faizy\n"
          ]
        }
      ]
    },
    {
      "cell_type": "code",
      "source": [
        "print(\"My name is \",name,\". My roll number is \",num,\".\")"
      ],
      "metadata": {
        "colab": {
          "base_uri": "https://localhost:8080/"
        },
        "id": "oXnBo76DAvBA",
        "outputId": "f0e4f120-a14a-4f47-f821-5d705c619ffd"
      },
      "execution_count": 3,
      "outputs": [
        {
          "output_type": "stream",
          "name": "stdout",
          "text": [
            "My name is  faizy . My roll number is  10 .\n"
          ]
        }
      ]
    },
    {
      "cell_type": "code",
      "source": [
        "print(\"My name is \"+name+\". My roll number is \"+str(num)+\".\")"
      ],
      "metadata": {
        "colab": {
          "base_uri": "https://localhost:8080/"
        },
        "id": "8eoFdvfDA5nv",
        "outputId": "bd7451d2-17be-416c-c7f2-bf6aba071b32"
      },
      "execution_count": 4,
      "outputs": [
        {
          "output_type": "stream",
          "name": "stdout",
          "text": [
            "My name is faizy. My roll number is 10.\n"
          ]
        }
      ]
    },
    {
      "cell_type": "code",
      "source": [
        "print(\"My name is {}. My roll number is {}\".format(name, num))"
      ],
      "metadata": {
        "colab": {
          "base_uri": "https://localhost:8080/"
        },
        "id": "Wdltdf6UBlgn",
        "outputId": "96d39761-15ad-406a-86b6-13b0df0cb646"
      },
      "execution_count": 5,
      "outputs": [
        {
          "output_type": "stream",
          "name": "stdout",
          "text": [
            "My name is faizy. My roll number is 10\n"
          ]
        }
      ]
    },
    {
      "cell_type": "code",
      "source": [
        "print(f\"My name is {name}. My roll number is {num}.\")"
      ],
      "metadata": {
        "colab": {
          "base_uri": "https://localhost:8080/"
        },
        "id": "KH1fNji8B4E-",
        "outputId": "d4ad7d7b-466a-4270-9640-3f005e4284b4"
      },
      "execution_count": 6,
      "outputs": [
        {
          "output_type": "stream",
          "name": "stdout",
          "text": [
            "My name is faizy. My roll number is 10.\n"
          ]
        }
      ]
    },
    {
      "cell_type": "markdown",
      "metadata": {
        "id": "yAxE3Brv4AZy"
      },
      "source": [
        "## **2. Variable**\n",
        "A variable is a reserved memory location to store values. A varaiable name must begin alphabet/underscore followed by alphabets/numbers/underscores"
      ]
    },
    {
      "cell_type": "code",
      "source": [
        "var1 = 10\n",
        "var2 = 20\n",
        "var3 = var1 + var2\n",
        "var3"
      ],
      "metadata": {
        "colab": {
          "base_uri": "https://localhost:8080/"
        },
        "id": "h0Ri6tD8_pD2",
        "outputId": "1e581da8-574f-4279-eb5c-89cc3026c9c1"
      },
      "execution_count": 7,
      "outputs": [
        {
          "output_type": "execute_result",
          "data": {
            "text/plain": [
              "30"
            ]
          },
          "metadata": {},
          "execution_count": 7
        }
      ]
    },
    {
      "cell_type": "code",
      "metadata": {
        "id": "U9TUN8dL4AZz",
        "colab": {
          "base_uri": "https://localhost:8080/"
        },
        "outputId": "cd7ccc8a-eb98-4805-ff22-1f0db48a08bb"
      },
      "source": [
        "# python data types\n",
        "number = 3\n",
        "float_number = 99.99\n",
        "character = 'a'\n",
        "string = \"Hello, World!\"\n",
        "\n",
        "print(number, type(number))\n",
        "print(float_number, type(float_number))\n",
        "print(character, type(character))\n",
        "print(string, type(string))"
      ],
      "execution_count": 8,
      "outputs": [
        {
          "output_type": "stream",
          "name": "stdout",
          "text": [
            "3 <class 'int'>\n",
            "99.99 <class 'float'>\n",
            "a <class 'str'>\n",
            "Hello, World! <class 'str'>\n"
          ]
        }
      ]
    },
    {
      "cell_type": "code",
      "metadata": {
        "id": "4BQa0Ihj4AZ4",
        "colab": {
          "base_uri": "https://localhost:8080/"
        },
        "outputId": "e113969e-afeb-4800-d94e-35efc2654807"
      },
      "source": [
        "# Writing basic operations\n",
        "# Assigning the values to the varibles\n",
        "a = 4\n",
        "b = 3\n",
        "\n",
        "print(a+b)  # addition \n",
        "print(a-b)  # subtraction\n",
        "print(a*b)  # Multiplication\n",
        "print(a/b)  # divison\n",
        "print(a**b) # power of \n",
        "print('quotient = ', a//b) # floor division - How many times\n",
        "print('remainder = ',a%b)  # modulo division - remainder "
      ],
      "execution_count": 9,
      "outputs": [
        {
          "output_type": "stream",
          "name": "stdout",
          "text": [
            "7\n",
            "1\n",
            "12\n",
            "1.3333333333333333\n",
            "64\n",
            "quotient =  1\n",
            "remainder =  1\n"
          ]
        }
      ]
    },
    {
      "cell_type": "markdown",
      "source": [
        "**Modulus**\n",
        "\n",
        ">The modulus-function computes the remainder of a division, which is the \"leftover\" of an integral division. `Modulo divison can be used to find whether the given number is even or odd.`\n",
        "\n",
        "\n",
        "**Floor**\n",
        "\n",
        ">The floor-function provides the lower-bound of an integral division. The upper-bound is computed by the ceil function. (Basically speaking, the floor-function cuts off all decimals)."
      ],
      "metadata": {
        "id": "VlAy_1fXyBD-"
      }
    },
    {
      "cell_type": "code",
      "metadata": {
        "id": "PZcUeozh4AZ9",
        "colab": {
          "base_uri": "https://localhost:8080/"
        },
        "outputId": "282da66f-ca8f-42c6-f7c5-35be9b07c0b3"
      },
      "source": [
        "# getting input \n",
        "n1 = input(\"Enter a number: \")\n",
        "\n",
        "print(n1, type(n1))"
      ],
      "execution_count": 10,
      "outputs": [
        {
          "output_type": "stream",
          "name": "stdout",
          "text": [
            "Enter a number: 33\n",
            "33 <class 'str'>\n"
          ]
        }
      ]
    },
    {
      "cell_type": "markdown",
      "source": [
        "$\\color{red}{\\textbf{Que:}}$ **The `input()` function by default returns the value as _____ data type​?**\n",
        "\n",
        "$\\color{green}{\\textbf{ANS:}}$ *String data type* <class 'str'>\n",
        "\n",
        "> **Explanation:**\n",
        "In Python, we implement the `input()` function to get user input. The input function translates whatever you give it as input into a string. Even if an integer value is entered, the `input()` method accepts it as a string.​"
      ],
      "metadata": {
        "id": "pVRYrBYObqwy"
      }
    },
    {
      "cell_type": "code",
      "source": [
        "n2 = float(input())\n",
        "print(n2, type(n2))"
      ],
      "metadata": {
        "id": "BgofR-RKaTvD",
        "colab": {
          "base_uri": "https://localhost:8080/"
        },
        "outputId": "9e6f3861-eec0-4600-e8be-e4c55d159214"
      },
      "execution_count": 11,
      "outputs": [
        {
          "output_type": "stream",
          "name": "stdout",
          "text": [
            "33.33\n",
            "33.33 <class 'float'>\n"
          ]
        }
      ]
    },
    {
      "cell_type": "code",
      "metadata": {
        "id": "zTfDQM0G4AaI",
        "colab": {
          "base_uri": "https://localhost:8080/"
        },
        "outputId": "62458034-9acc-4c7a-d6c9-fbd4465dda9e"
      },
      "source": [
        " # casting string to integer\n",
        "n3 = int(input(\"Enter a number: \"))\n",
        "\n",
        "print(n3, type(n3))\n",
        "print(\"Square of the number:\", n3**2)"
      ],
      "execution_count": 12,
      "outputs": [
        {
          "output_type": "stream",
          "name": "stdout",
          "text": [
            "Enter a number: 34\n",
            "34 <class 'int'>\n",
            "Square of the number: 1156\n"
          ]
        }
      ]
    },
    {
      "cell_type": "code",
      "source": [
        " # casting string to integer\n",
        "n4 = float(input(\"Enter a number: \"))\n",
        "\n",
        "print(n4, type(n4))\n",
        "print(\"Square of the number:\", n4**2)"
      ],
      "metadata": {
        "id": "qVWdMljoen44",
        "colab": {
          "base_uri": "https://localhost:8080/"
        },
        "outputId": "8b039772-f6f9-4432-a51d-4d5fa07b4148"
      },
      "execution_count": 14,
      "outputs": [
        {
          "output_type": "stream",
          "name": "stdout",
          "text": [
            "Enter a number: 66.6\n",
            "66.6 <class 'float'>\n",
            "Square of the number: 4435.5599999999995\n"
          ]
        }
      ]
    },
    {
      "cell_type": "markdown",
      "metadata": {
        "id": "rwr__v2S4AaO"
      },
      "source": [
        "## **3. Python Built-in Data Structures**"
      ]
    },
    {
      "cell_type": "markdown",
      "metadata": {
        "id": "8dTuWdMs4AaP"
      },
      "source": [
        "### 3.1. List\n",
        "\n",
        "* List is an `ordered` collection of data. \n",
        "* It is `mutable` and `allow duplicates`. \n",
        "* It list is created by enclosing the data items with in square brackets delimited by \",\""
      ]
    },
    {
      "cell_type": "code",
      "metadata": {
        "id": "mzIvWCwN4AaQ",
        "colab": {
          "base_uri": "https://localhost:8080/"
        },
        "outputId": "26b9205e-fe0c-4477-c874-39788c8a58d8"
      },
      "source": [
        "# Creating a list\n",
        "marks = [35, 68, 96, 80, 90]\n",
        "\n",
        "print(marks)\n",
        "print(len(marks))"
      ],
      "execution_count": 15,
      "outputs": [
        {
          "output_type": "stream",
          "name": "stdout",
          "text": [
            "[35, 68, 96, 80, 90]\n",
            "5\n"
          ]
        }
      ]
    },
    {
      "cell_type": "markdown",
      "source": [
        "#### `int` \n"
      ],
      "metadata": {
        "id": "Y5R9BXS3UsM6"
      }
    },
    {
      "cell_type": "code",
      "metadata": {
        "id": "k1a5eCD34AaU",
        "colab": {
          "base_uri": "https://localhost:8080/"
        },
        "outputId": "82a97c29-027c-4f5f-c0ea-dae7fdbcae33"
      },
      "source": [
        "# Creating a list: int\n",
        "marks = [35, 68, 96, 80, 90]\n",
        "\n",
        "# Indexing list elements\n",
        "print(\"marks[0] : \", marks[0])\n",
        "print(\"marks[len(marks)-1] : \", marks[len(marks)-1])\n",
        "print(\"marks[-1] : \", marks[-1])\n",
        "print(\"marks[0] : \", marks[0])\n",
        "print(\"marks[len(marks)-1] :\", marks[len(marks)-1])\n",
        "print(\"marks[-1] :\", marks[-1])"
      ],
      "execution_count": 16,
      "outputs": [
        {
          "output_type": "stream",
          "name": "stdout",
          "text": [
            "marks[0] :  35\n",
            "marks[len(marks)-1] :  90\n",
            "marks[-1] :  90\n",
            "marks[0] :  35\n",
            "marks[len(marks)-1] : 90\n",
            "marks[-1] : 90\n"
          ]
        }
      ]
    },
    {
      "cell_type": "markdown",
      "source": [
        "#### `float`"
      ],
      "metadata": {
        "id": "g67bP_MVUuZt"
      }
    },
    {
      "cell_type": "code",
      "source": [
        "# Creating a list: float\n",
        "m1 = [45.5, 58.5, 86.5, 70.5, 93.5]\n",
        "\n",
        "# Indexing list elements\n",
        "print(\"marks[0] : \", m1[0])\n",
        "print(\"marks[len(marks)-1] : \", m1[len(m1)-1])\n",
        "print(\"marks[-1] : \", m1[-1])\n",
        "print(\"marks[0] :\", float(m1[0]))\n",
        "print(\"marks[len(marks)-1] :\", float(m1[len(m1)-1]))\n",
        "print(\"marks[-1] :\", float(m1[-1]))"
      ],
      "metadata": {
        "id": "jomsp5zPhci6",
        "colab": {
          "base_uri": "https://localhost:8080/"
        },
        "outputId": "33f0d800-08cb-4096-9249-b58865d3e1c5"
      },
      "execution_count": 17,
      "outputs": [
        {
          "output_type": "stream",
          "name": "stdout",
          "text": [
            "marks[0] :  45.5\n",
            "marks[len(marks)-1] :  93.5\n",
            "marks[-1] :  93.5\n",
            "marks[0] : 45.5\n",
            "marks[len(marks)-1] : 93.5\n",
            "marks[-1] : 93.5\n"
          ]
        }
      ]
    },
    {
      "cell_type": "code",
      "metadata": {
        "id": "qw7cbvvp4AaY",
        "colab": {
          "base_uri": "https://localhost:8080/"
        },
        "outputId": "baa3ce1c-e8b4-4a73-9269-1fe33591b0b2"
      },
      "source": [
        "# Modifying list elemets\n",
        "marks = [35, 68, 96, 80, 90]\n",
        "marks[0] = 38\n",
        "print(marks)"
      ],
      "execution_count": 18,
      "outputs": [
        {
          "output_type": "stream",
          "name": "stdout",
          "text": [
            "[38, 68, 96, 80, 90]\n"
          ]
        }
      ]
    },
    {
      "cell_type": "code",
      "metadata": {
        "id": "Fn8aHFJH4Aac",
        "colab": {
          "base_uri": "https://localhost:8080/"
        },
        "outputId": "f863c720-bee4-437a-f377-242b0760cfae"
      },
      "source": [
        "# Slicing the list\n",
        "# Syntax: list[start:end(exclusive)]\n",
        "marks = [35, 68, 96, 80, 90, 48, 76, 98, 63]\n",
        "\n",
        "print(marks[1:len(marks)])\n",
        "print(marks[:len(marks)])\n",
        "print(marks[:len(marks)-1])\n",
        "print(marks[0:])\n",
        "print(marks[:])\n",
        "print(marks[2:4])\n",
        "print(marks[1:9:3])\n",
        "print(marks[::2])"
      ],
      "execution_count": 19,
      "outputs": [
        {
          "output_type": "stream",
          "name": "stdout",
          "text": [
            "[68, 96, 80, 90, 48, 76, 98, 63]\n",
            "[35, 68, 96, 80, 90, 48, 76, 98, 63]\n",
            "[35, 68, 96, 80, 90, 48, 76, 98]\n",
            "[35, 68, 96, 80, 90, 48, 76, 98, 63]\n",
            "[35, 68, 96, 80, 90, 48, 76, 98, 63]\n",
            "[96, 80]\n",
            "[68, 90, 98]\n",
            "[35, 96, 90, 76, 63]\n"
          ]
        }
      ]
    },
    {
      "cell_type": "markdown",
      "source": [
        "```python\n",
        "marks.remove(1)\n",
        "print(marks)\n",
        "---------------------------------------\n",
        "ValueError                                Traceback (most recent call last)\n",
        "<ipython-input-8-ad42289a8415> in <module>()\n",
        "----> 1 marks.remove(1)\n",
        "      2 print(marks)\n",
        "\n",
        "ValueError: list.remove(x): x not in list\n",
        "```"
      ],
      "metadata": {
        "id": "2REpg6igoBKk"
      }
    },
    {
      "cell_type": "code",
      "source": [
        "l1= [38, 68, 96, 80, 90, 89, 89, 89, 89, 89, 89, 89]"
      ],
      "metadata": {
        "id": "CLP7V03uS3OS"
      },
      "execution_count": 20,
      "outputs": []
    },
    {
      "cell_type": "markdown",
      "source": [
        "#### `.append()`"
      ],
      "metadata": {
        "id": "vfAaRQzJSfF6"
      }
    },
    {
      "cell_type": "code",
      "source": [
        "l1.append(89)\n",
        "print(l1)"
      ],
      "metadata": {
        "id": "nna-YE2QS5tU",
        "colab": {
          "base_uri": "https://localhost:8080/"
        },
        "outputId": "c3f08bce-ddbd-4e03-fc52-983312ec012e"
      },
      "execution_count": 21,
      "outputs": [
        {
          "output_type": "stream",
          "name": "stdout",
          "text": [
            "[38, 68, 96, 80, 90, 89, 89, 89, 89, 89, 89, 89, 89]\n"
          ]
        }
      ]
    },
    {
      "cell_type": "markdown",
      "source": [
        "#### `.insert()`\n"
      ],
      "metadata": {
        "id": "ltlp1SWsTGsT"
      }
    },
    {
      "cell_type": "code",
      "source": [
        "l1.insert(1, 70)\n",
        "print(l1)"
      ],
      "metadata": {
        "id": "18gpdUE_S7Qr",
        "colab": {
          "base_uri": "https://localhost:8080/"
        },
        "outputId": "0b623b4a-effc-4285-917f-f8148e30e1be"
      },
      "execution_count": 22,
      "outputs": [
        {
          "output_type": "stream",
          "name": "stdout",
          "text": [
            "[38, 70, 68, 96, 80, 90, 89, 89, 89, 89, 89, 89, 89, 89]\n"
          ]
        }
      ]
    },
    {
      "cell_type": "markdown",
      "source": [
        "#### `.remove()`\n"
      ],
      "metadata": {
        "id": "50GDJvhfTIp5"
      }
    },
    {
      "cell_type": "code",
      "source": [
        "l1.remove(70)\n",
        "print(l1)"
      ],
      "metadata": {
        "id": "o56eztBcS8jB",
        "colab": {
          "base_uri": "https://localhost:8080/"
        },
        "outputId": "0eabf840-e5ce-4ed9-be99-fb39e5ef4a0c"
      },
      "execution_count": 23,
      "outputs": [
        {
          "output_type": "stream",
          "name": "stdout",
          "text": [
            "[38, 68, 96, 80, 90, 89, 89, 89, 89, 89, 89, 89, 89]\n"
          ]
        }
      ]
    },
    {
      "cell_type": "markdown",
      "source": [
        "#### `.copy()`\n"
      ],
      "metadata": {
        "id": "owePIo6GTKah"
      }
    },
    {
      "cell_type": "code",
      "source": [
        "# The copy() method returns a new list. It doesn't modify the original list.\n",
        "_l1 = l1.copy()\n",
        "print(_l1)"
      ],
      "metadata": {
        "id": "doe9wRRVS-AZ",
        "colab": {
          "base_uri": "https://localhost:8080/"
        },
        "outputId": "ee4b48c3-59e1-424f-aeaf-5e8901a02ac9"
      },
      "execution_count": 24,
      "outputs": [
        {
          "output_type": "stream",
          "name": "stdout",
          "text": [
            "[38, 68, 96, 80, 90, 89, 89, 89, 89, 89, 89, 89, 89]\n"
          ]
        }
      ]
    },
    {
      "cell_type": "markdown",
      "source": [
        "#### `.count()`"
      ],
      "metadata": {
        "id": "4s2mEErrTML5"
      }
    },
    {
      "cell_type": "code",
      "metadata": {
        "id": "DGmKPwPu4Aag",
        "colab": {
          "base_uri": "https://localhost:8080/"
        },
        "outputId": "4e7ff604-d8de-4ba3-82f4-6d1c7f919bfa"
      },
      "source": [
        "# returns the count of how many times a given object occurs in a List.\n",
        "print(l1.count(89))"
      ],
      "execution_count": 25,
      "outputs": [
        {
          "output_type": "stream",
          "name": "stdout",
          "text": [
            "8\n"
          ]
        }
      ]
    },
    {
      "cell_type": "markdown",
      "source": [
        "#### `.reverse()`"
      ],
      "metadata": {
        "id": "tRRGSlYNSX5T"
      }
    },
    {
      "cell_type": "code",
      "source": [
        "# Operating System List\n",
        "systems = ['windows', 'macOS', 'Linux']\n",
        "print('Original List:', systems)\n",
        "\n",
        "# List Reverse\n",
        "systems.reverse()\n",
        "\n",
        "# updated list\n",
        "print('Updated List:', systems)"
      ],
      "metadata": {
        "colab": {
          "base_uri": "https://localhost:8080/"
        },
        "id": "vqwqmzJVOMCu",
        "outputId": "3d2afe5d-3531-4c61-cca6-a708b10c0b0f"
      },
      "execution_count": 26,
      "outputs": [
        {
          "output_type": "stream",
          "name": "stdout",
          "text": [
            "Original List: ['windows', 'macOS', 'Linux']\n",
            "Updated List: ['Linux', 'macOS', 'windows']\n"
          ]
        }
      ]
    },
    {
      "cell_type": "markdown",
      "source": [
        "#### `.remove()`"
      ],
      "metadata": {
        "id": "GOHUFn4LSMOv"
      }
    },
    {
      "cell_type": "code",
      "source": [
        "# Operating System List\n",
        "systems = ['windows', 'macOS', 'Linux']\n",
        "print('Original List:', systems)\n",
        "\n",
        "# List Reverse\n",
        "systems.remove(\"macOS\")\n",
        "\n",
        "# updated list\n",
        "print('Updated List:', systems)"
      ],
      "metadata": {
        "colab": {
          "base_uri": "https://localhost:8080/"
        },
        "id": "tRt9iAV5OwsU",
        "outputId": "d41a4e2b-745c-491d-a9f3-29de047e381f"
      },
      "execution_count": 27,
      "outputs": [
        {
          "output_type": "stream",
          "name": "stdout",
          "text": [
            "Original List: ['windows', 'macOS', 'Linux']\n",
            "Updated List: ['windows', 'Linux']\n"
          ]
        }
      ]
    },
    {
      "cell_type": "markdown",
      "source": [
        "#### `pop()` "
      ],
      "metadata": {
        "id": "6OUkUcEMR4oS"
      }
    },
    {
      "cell_type": "code",
      "source": [
        "# create a list of prime numbers\n",
        "prime_numbers = [2, 3, 5, 7]\n",
        "\n",
        "# remove the element at index 2\n",
        "removed_element = prime_numbers.pop(2)\n",
        "\n",
        "print('Removed Element:', removed_element)\n",
        "print('Updated List:', prime_numbers)"
      ],
      "metadata": {
        "colab": {
          "base_uri": "https://localhost:8080/"
        },
        "id": "x_rfQOMSRxsW",
        "outputId": "b6651b2b-1728-4774-cb42-7f11ac17cd12"
      },
      "execution_count": 28,
      "outputs": [
        {
          "output_type": "stream",
          "name": "stdout",
          "text": [
            "Removed Element: 5\n",
            "Updated List: [2, 3, 7]\n"
          ]
        }
      ]
    },
    {
      "cell_type": "markdown",
      "source": [
        "#### `.sorted()`"
      ],
      "metadata": {
        "id": "8Rb6ffOqSHZt"
      }
    },
    {
      "cell_type": "code",
      "metadata": {
        "id": "DAjZazb94Aak",
        "colab": {
          "base_uri": "https://localhost:8080/"
        },
        "outputId": "be5efc73-2a2f-439b-c246-77d50dd04b8a"
      },
      "source": [
        "# sorting list elements\n",
        "list_1= [38, 68, 97, 80, 90, 89, 89, 99, 96, 84]\n",
        "print(sorted(list_1))\n",
        "print(sorted(list_1, reverse=True))"
      ],
      "execution_count": 29,
      "outputs": [
        {
          "output_type": "stream",
          "name": "stdout",
          "text": [
            "[38, 68, 80, 84, 89, 89, 90, 96, 97, 99]\n",
            "[99, 97, 96, 90, 89, 89, 84, 80, 68, 38]\n"
          ]
        }
      ]
    },
    {
      "cell_type": "markdown",
      "source": [
        "#### `.extend()`"
      ],
      "metadata": {
        "id": "O59GapTVTmSq"
      }
    },
    {
      "cell_type": "code",
      "source": [
        "# Example usage for extend:\n",
        "first_list = [1, 2, 3, 4, 5]\n",
        "second_list = [6, 7, 8, 9]\n",
        "first_list.extend(second_list)\n",
        "print(first_list)"
      ],
      "metadata": {
        "colab": {
          "base_uri": "https://localhost:8080/"
        },
        "id": "sLRIFjBUTiK8",
        "outputId": "38ece775-c3a5-4293-84f5-0fd0a549a47e"
      },
      "execution_count": 30,
      "outputs": [
        {
          "output_type": "stream",
          "name": "stdout",
          "text": [
            "[1, 2, 3, 4, 5, 6, 7, 8, 9]\n"
          ]
        }
      ]
    },
    {
      "cell_type": "markdown",
      "source": [
        "#### `clear()`"
      ],
      "metadata": {
        "id": "G6_dxlgNUh_U"
      }
    },
    {
      "cell_type": "markdown",
      "source": [
        " method removes all items from the list."
      ],
      "metadata": {
        "id": "wQISNaUL2RBW"
      }
    },
    {
      "cell_type": "code",
      "source": [
        "# list of cars\n",
        "cars = ['Benz',('volkswagen','BMW'),'Ford','Ferrari',('volkswagen','BMW')]\n",
        "numbers= [1,(1,3),5,7,(1,3),3,1,6,(1,3)]\n",
        "\n",
        "# clear the car list\n",
        "cars.clear()\n",
        "print(\"After clearing the car list = \",cars)\n",
        "\n",
        "# clear the number list\n",
        "numbers.clear()\n",
        "print(\"After clearing the number list = \",numbers)"
      ],
      "metadata": {
        "colab": {
          "base_uri": "https://localhost:8080/"
        },
        "id": "8TlUCWqUUVEU",
        "outputId": "11ac55bc-1382-4d83-a469-073bd6b3e0ff"
      },
      "execution_count": 31,
      "outputs": [
        {
          "output_type": "stream",
          "name": "stdout",
          "text": [
            "After clearing the car list =  []\n",
            "After clearing the number list =  []\n"
          ]
        }
      ]
    },
    {
      "cell_type": "markdown",
      "source": [
        "#### `List Comprehesion`"
      ],
      "metadata": {
        "id": "8M44CDI_ZXci"
      }
    },
    {
      "cell_type": "code",
      "metadata": {
        "id": "-aXXMnqv4Aap",
        "colab": {
          "base_uri": "https://localhost:8080/"
        },
        "outputId": "0f07bc88-7b36-4ba0-b2e7-f05de3c647f3"
      },
      "source": [
        "x = [1,2,3,4,5]\n",
        "output = []\n",
        "\n",
        "for i in x:\n",
        "    output.append(i**2)\n",
        "print(output)"
      ],
      "execution_count": 32,
      "outputs": [
        {
          "output_type": "stream",
          "name": "stdout",
          "text": [
            "[1, 4, 9, 16, 25]\n"
          ]
        }
      ]
    },
    {
      "cell_type": "markdown",
      "source": [
        "OR"
      ],
      "metadata": {
        "id": "3nMDhNx7ZEDE"
      }
    },
    {
      "cell_type": "code",
      "source": [
        "# List Comprehesion\n",
        "x = [1,2,3,4,5]\n",
        "output = []\n",
        "output = [i**2 for i in x]\n",
        "print(output)"
      ],
      "metadata": {
        "colab": {
          "base_uri": "https://localhost:8080/"
        },
        "id": "UsI_QtwtZDMM",
        "outputId": "f4b1354f-c88c-4b82-f3f0-ba8597a2df9e"
      },
      "execution_count": 33,
      "outputs": [
        {
          "output_type": "stream",
          "name": "stdout",
          "text": [
            "[1, 4, 9, 16, 25]\n"
          ]
        }
      ]
    },
    {
      "cell_type": "markdown",
      "metadata": {
        "id": "4arWxGwA4AbM"
      },
      "source": [
        "### 3.2. Dictionary\n",
        "* Dictionary is an `unordered` collection of `key-values` pairs. \n",
        "* It is `mutable`. `No duplicate` is allowed. \n",
        "* It is created by enclosing the key-value parirs (key:value) with in curly brackets delimited by \",\""
      ]
    },
    {
      "cell_type": "code",
      "source": [
        "d1 = {\"k1\":\"v1\",\"k2\":\"v2\",\"k3\":\"v3\"}\n",
        "d1"
      ],
      "metadata": {
        "colab": {
          "base_uri": "https://localhost:8080/"
        },
        "id": "9jFSqqvbPJ31",
        "outputId": "1e850e8a-a995-40ee-b3f2-f1a0d1b79a4a"
      },
      "execution_count": 34,
      "outputs": [
        {
          "output_type": "execute_result",
          "data": {
            "text/plain": [
              "{'k1': 'v1', 'k2': 'v2', 'k3': 'v3'}"
            ]
          },
          "metadata": {},
          "execution_count": 34
        }
      ]
    },
    {
      "cell_type": "code",
      "source": [
        "d1[\"k1\"]"
      ],
      "metadata": {
        "colab": {
          "base_uri": "https://localhost:8080/",
          "height": 36
        },
        "id": "lEF8c7sKPMyg",
        "outputId": "88d391f0-ccce-4f25-d4ae-3e7b30494f80"
      },
      "execution_count": 35,
      "outputs": [
        {
          "output_type": "execute_result",
          "data": {
            "text/plain": [
              "'v1'"
            ],
            "application/vnd.google.colaboratory.intrinsic+json": {
              "type": "string"
            }
          },
          "metadata": {},
          "execution_count": 35
        }
      ]
    },
    {
      "cell_type": "code",
      "metadata": {
        "id": "4q9xZeDa4AbN",
        "colab": {
          "base_uri": "https://localhost:8080/"
        },
        "outputId": "121d6247-d126-4a10-f742-2c546055f9ae"
      },
      "source": [
        "student = {\"name\":\"Faizy\", \"reg_no\":\"16NJI6\", \"course\":\"M.Tech\"}\n",
        "\n",
        "print(student)"
      ],
      "execution_count": 36,
      "outputs": [
        {
          "output_type": "stream",
          "name": "stdout",
          "text": [
            "{'name': 'Faizy', 'reg_no': '16NJI6', 'course': 'M.Tech'}\n"
          ]
        }
      ]
    },
    {
      "cell_type": "code",
      "source": [
        "student[\"name\"]"
      ],
      "metadata": {
        "colab": {
          "base_uri": "https://localhost:8080/",
          "height": 36
        },
        "id": "pPzDYno8Opyb",
        "outputId": "1f7973e8-e687-42bd-bc9d-c0233ff458a0"
      },
      "execution_count": 37,
      "outputs": [
        {
          "output_type": "execute_result",
          "data": {
            "text/plain": [
              "'Faizy'"
            ],
            "application/vnd.google.colaboratory.intrinsic+json": {
              "type": "string"
            }
          },
          "metadata": {},
          "execution_count": 37
        }
      ]
    },
    {
      "cell_type": "code",
      "metadata": {
        "id": "sgNdtURm4AbR",
        "colab": {
          "base_uri": "https://localhost:8080/"
        },
        "outputId": "51947d4b-1315-45d8-bf88-208738fd952a"
      },
      "source": [
        "# Accessing elements\n",
        "print(student[\"course\"])\n",
        "\n",
        "for key, value in student.items():\n",
        "    print(\"Key: {}, Value: {}\".format(key, value))"
      ],
      "execution_count": 38,
      "outputs": [
        {
          "output_type": "stream",
          "name": "stdout",
          "text": [
            "M.Tech\n",
            "Key: name, Value: Faizy\n",
            "Key: reg_no, Value: 16NJI6\n",
            "Key: course, Value: M.Tech\n"
          ]
        }
      ]
    },
    {
      "cell_type": "markdown",
      "source": [
        "#### `clear()`"
      ],
      "metadata": {
        "id": "jOeBPxhtp6Fe"
      }
    },
    {
      "cell_type": "code",
      "source": [
        "# dictionary\n",
        "numbers = {1: \"one\", 2: \"two\"}\n",
        "\n",
        "# removes all the items from the dictionary\n",
        "numbers.clear()\n",
        "\n",
        "print(numbers)"
      ],
      "metadata": {
        "colab": {
          "base_uri": "https://localhost:8080/"
        },
        "id": "cHmeNS3Cp5wO",
        "outputId": "1c3094b2-8794-4db6-e530-9693aa2c290e"
      },
      "execution_count": 40,
      "outputs": [
        {
          "output_type": "stream",
          "name": "stdout",
          "text": [
            "{}\n"
          ]
        }
      ]
    },
    {
      "cell_type": "markdown",
      "source": [
        "#### `copy()`"
      ],
      "metadata": {
        "id": "1ixMfmy_qIpt"
      }
    },
    {
      "cell_type": "markdown",
      "source": [
        " method returns a copy (shallow copy) of the dictionary."
      ],
      "metadata": {
        "id": "jR9Hr9uB2Vju"
      }
    },
    {
      "cell_type": "code",
      "source": [
        "original_marks = {'Physics':67, 'Maths':87}\n",
        "\n",
        "copied_marks = original_marks.copy()\n",
        "\n",
        "print('Original Marks:', original_marks)\n",
        "print('Copied Marks:', copied_marks)"
      ],
      "metadata": {
        "colab": {
          "base_uri": "https://localhost:8080/"
        },
        "id": "bW82SL6QqJd6",
        "outputId": "b8c79b64-b2d2-4d30-e014-df25c3519e43"
      },
      "execution_count": 41,
      "outputs": [
        {
          "output_type": "stream",
          "name": "stdout",
          "text": [
            "Original Marks: {'Physics': 67, 'Maths': 87}\n",
            "Copied Marks: {'Physics': 67, 'Maths': 87}\n"
          ]
        }
      ]
    },
    {
      "cell_type": "markdown",
      "source": [
        "#### `.fromkeys`"
      ],
      "metadata": {
        "id": "ouHYAkO8hIr0"
      }
    },
    {
      "cell_type": "code",
      "source": [
        "# keys for the dictionary\n",
        "x = ('key1', 'key2', 'key3')\n",
        "\n",
        "# value for the dictionary\n",
        "y = 0\n",
        "\n",
        "# creates a dictionary with keys and values\n",
        "thisdict = dict.fromkeys(x, y)\n",
        "\n",
        "print(thisdict)"
      ],
      "metadata": {
        "colab": {
          "base_uri": "https://localhost:8080/"
        },
        "id": "shFOXX5OhITH",
        "outputId": "84324ebf-6e93-41ff-8855-396e0144ab23"
      },
      "execution_count": 42,
      "outputs": [
        {
          "output_type": "stream",
          "name": "stdout",
          "text": [
            "{'key1': 0, 'key2': 0, 'key3': 0}\n"
          ]
        }
      ]
    },
    {
      "cell_type": "code",
      "source": [
        "key = (\"India\", \"Austria\", \"USA\", \"Pakistan\", \"Czech Republic\")\n",
        "value  = \"Country\"\n",
        "countries = dict.fromkeys(key, value) # function fromkeys\n",
        "countries"
      ],
      "metadata": {
        "colab": {
          "base_uri": "https://localhost:8080/"
        },
        "id": "2Tmso9SviR3c",
        "outputId": "521c4df1-cefe-4fe9-ab64-47d75324a445"
      },
      "execution_count": 43,
      "outputs": [
        {
          "output_type": "execute_result",
          "data": {
            "text/plain": [
              "{'Austria': 'Country',\n",
              " 'Czech Republic': 'Country',\n",
              " 'India': 'Country',\n",
              " 'Pakistan': 'Country',\n",
              " 'USA': 'Country'}"
            ]
          },
          "metadata": {},
          "execution_count": 43
        }
      ]
    },
    {
      "cell_type": "code",
      "source": [
        "key = \"Country\"\n",
        "value = (\"India\", \"Austria\", \"USA\", \"Pakistan\", \"Czech Republic\")\n",
        "countries = dict.fromkeys(key, value) # function fromkeys\n",
        "countries"
      ],
      "metadata": {
        "colab": {
          "base_uri": "https://localhost:8080/"
        },
        "id": "9my9_Zhfiokw",
        "outputId": "7cef7803-01f3-4dcc-88d0-5b488c31acdf"
      },
      "execution_count": 44,
      "outputs": [
        {
          "output_type": "execute_result",
          "data": {
            "text/plain": [
              "{'C': ('India', 'Austria', 'USA', 'Pakistan', 'Czech Republic'),\n",
              " 'n': ('India', 'Austria', 'USA', 'Pakistan', 'Czech Republic'),\n",
              " 'o': ('India', 'Austria', 'USA', 'Pakistan', 'Czech Republic'),\n",
              " 'r': ('India', 'Austria', 'USA', 'Pakistan', 'Czech Republic'),\n",
              " 't': ('India', 'Austria', 'USA', 'Pakistan', 'Czech Republic'),\n",
              " 'u': ('India', 'Austria', 'USA', 'Pakistan', 'Czech Republic'),\n",
              " 'y': ('India', 'Austria', 'USA', 'Pakistan', 'Czech Republic')}"
            ]
          },
          "metadata": {},
          "execution_count": 44
        }
      ]
    },
    {
      "cell_type": "markdown",
      "source": [
        "#### `.zip`"
      ],
      "metadata": {
        "id": "6w_mkbEThee2"
      }
    },
    {
      "cell_type": "code",
      "source": [
        "#creating dictionary from keys sequence and value sequence\n",
        "k = (12,13,14,15,16)\n",
        "v = (20,21,22,23,24)\n",
        "d = dict(zip(k,v))\n",
        "print(d)"
      ],
      "metadata": {
        "colab": {
          "base_uri": "https://localhost:8080/"
        },
        "id": "DncB4tophac2",
        "outputId": "4016a22c-c15d-4613-ba5c-83a1d5dccb01"
      },
      "execution_count": 45,
      "outputs": [
        {
          "output_type": "stream",
          "name": "stdout",
          "text": [
            "{12: 20, 13: 21, 14: 22, 15: 23, 16: 24}\n"
          ]
        }
      ]
    },
    {
      "cell_type": "markdown",
      "source": [
        "#### `items()` "
      ],
      "metadata": {
        "id": "OZUEnDdRpLnA"
      }
    },
    {
      "cell_type": "markdown",
      "source": [
        "method returns a view object that displays a list of dictionary's `(key, value)` `tuple` pairs."
      ],
      "metadata": {
        "id": "4zsmvBJc2ZS0"
      }
    },
    {
      "cell_type": "code",
      "source": [
        "d1 = {\"k1\":\"v1\",\"k2\":\"v2\",\"k3\":\"v3\"}\n",
        "d1.items()"
      ],
      "metadata": {
        "colab": {
          "base_uri": "https://localhost:8080/"
        },
        "id": "myUFwCDTnoaf",
        "outputId": "97fffc8a-7c0d-48d8-a864-60a20ecfef8b"
      },
      "execution_count": 46,
      "outputs": [
        {
          "output_type": "execute_result",
          "data": {
            "text/plain": [
              "dict_items([('k1', 'v1'), ('k2', 'v2'), ('k3', 'v3')])"
            ]
          },
          "metadata": {},
          "execution_count": 46
        }
      ]
    },
    {
      "cell_type": "markdown",
      "source": [
        "#### `del`"
      ],
      "metadata": {
        "id": "GdYD7wdspbB0"
      }
    },
    {
      "cell_type": "code",
      "source": [
        "# random sales dictionary\n",
        "sales = { 'apple': 2, 'orange': 3, 'grapes': 4 }\n",
        "items = sales.items()\n",
        "print('Original items: ', items)\n",
        "\n",
        "# delete an item from dictionary\n",
        "del[sales['apple']]\n",
        "print('Updated items: ', items)"
      ],
      "metadata": {
        "colab": {
          "base_uri": "https://localhost:8080/"
        },
        "id": "BsYPlTsJo-If",
        "outputId": "dc1742c8-affc-4a25-b566-1ccffea89720"
      },
      "execution_count": 47,
      "outputs": [
        {
          "output_type": "stream",
          "name": "stdout",
          "text": [
            "Original items:  dict_items([('apple', 2), ('orange', 3), ('grapes', 4)])\n",
            "Updated items:  dict_items([('orange', 3), ('grapes', 4)])\n"
          ]
        }
      ]
    },
    {
      "cell_type": "markdown",
      "source": [
        "#### `get()` "
      ],
      "metadata": {
        "id": "lZbKnX31q5TA"
      }
    },
    {
      "cell_type": "markdown",
      "source": [
        "method returns the value for the specified key if the key is in the dictionary."
      ],
      "metadata": {
        "id": "2gWmYn-N2hoa"
      }
    },
    {
      "cell_type": "code",
      "source": [
        "marks = {'Physics':67, 'Maths':87}\n",
        "\n",
        "print(marks.get('Physics'))"
      ],
      "metadata": {
        "colab": {
          "base_uri": "https://localhost:8080/"
        },
        "id": "lGr2opFEq46D",
        "outputId": "f9d96109-6202-4a4a-f67d-b98d47cf67bf"
      },
      "execution_count": 48,
      "outputs": [
        {
          "output_type": "stream",
          "name": "stdout",
          "text": [
            "67\n"
          ]
        }
      ]
    },
    {
      "cell_type": "markdown",
      "source": [
        "**or**"
      ],
      "metadata": {
        "id": "uFxMIvPRrZBN"
      }
    },
    {
      "cell_type": "code",
      "source": [
        "marks = {\"Physics\":67, \"Maths\":87}\n",
        "marks[\"Physics\"]"
      ],
      "metadata": {
        "colab": {
          "base_uri": "https://localhost:8080/"
        },
        "id": "4UAIz3oprEQe",
        "outputId": "46405ed8-cac2-4c9b-a5f1-095d2af4c1cd"
      },
      "execution_count": 49,
      "outputs": [
        {
          "output_type": "execute_result",
          "data": {
            "text/plain": [
              "67"
            ]
          },
          "metadata": {},
          "execution_count": 49
        }
      ]
    },
    {
      "cell_type": "markdown",
      "source": [
        "#### `.keys()` , `.values()`"
      ],
      "metadata": {
        "id": "QF2ifv7pr6HM"
      }
    },
    {
      "cell_type": "code",
      "source": [
        "d1 = {\"k1\":\"v1\",\"k2\":\"v2\",\"k3\":\"v3\"}\n",
        "print(d1.keys())\n",
        "print(d1.values())"
      ],
      "metadata": {
        "colab": {
          "base_uri": "https://localhost:8080/"
        },
        "id": "odmSechdrwA8",
        "outputId": "5f3634e4-924d-43ed-dcc4-e2cd0c9ec252"
      },
      "execution_count": 50,
      "outputs": [
        {
          "output_type": "stream",
          "name": "stdout",
          "text": [
            "dict_keys(['k1', 'k2', 'k3'])\n",
            "dict_values(['v1', 'v2', 'v3'])\n"
          ]
        }
      ]
    },
    {
      "cell_type": "markdown",
      "source": [
        "#### `.popitem()`"
      ],
      "metadata": {
        "id": "L5TN3FJY2D9q"
      }
    },
    {
      "cell_type": "markdown",
      "source": [
        " `popitem()` "
      ],
      "metadata": {
        "id": "GWDfAzNnsJE1"
      }
    },
    {
      "cell_type": "markdown",
      "source": [
        "method removes and returns the **last element** `(key, value)` pair inserted into the dictionary."
      ],
      "metadata": {
        "id": "Vw40fdRj2da2"
      }
    },
    {
      "cell_type": "code",
      "source": [
        "d1 = {\"k1\":\"v1\",\"k2\":\"v2\",\"k3\":\"v3\"}\n",
        "\n",
        "# (\"k3\":\"v3\") is inserted at the last, so it is removed.\n",
        "d1.popitem()\n",
        "\n",
        "print('d1 = ', d1)\n",
        "\n",
        "# inserting a new element pair\n",
        "d1['k3'] = 'New Element'\n",
        "print(d1)"
      ],
      "metadata": {
        "colab": {
          "base_uri": "https://localhost:8080/"
        },
        "id": "BL5zIJQnsGoe",
        "outputId": "3ea17381-a628-4d7a-e5aa-bd7800cdd085"
      },
      "execution_count": 51,
      "outputs": [
        {
          "output_type": "stream",
          "name": "stdout",
          "text": [
            "d1 =  {'k1': 'v1', 'k2': 'v2'}\n",
            "{'k1': 'v1', 'k2': 'v2', 'k3': 'New Element'}\n"
          ]
        }
      ]
    },
    {
      "cell_type": "markdown",
      "source": [
        "#### `pop()`"
      ],
      "metadata": {
        "id": "FJGVYPOoubRA"
      }
    },
    {
      "cell_type": "markdown",
      "source": [
        "method removes and returns an element from a dictionary having the given `key`."
      ],
      "metadata": {
        "id": "6ImXG8-92u3q"
      }
    },
    {
      "cell_type": "code",
      "source": [
        "d1 = {\"k1\":\"v1\",\"k2\":\"v2\",\"k3\":\"v3\"}\n",
        "\n",
        "d1_new = d1.pop(\"k2\")\n",
        "print(d1_new)"
      ],
      "metadata": {
        "colab": {
          "base_uri": "https://localhost:8080/"
        },
        "id": "_K3dfBROuZ5A",
        "outputId": "4abcb31a-6918-4373-ebff-af12a5425d10"
      },
      "execution_count": 52,
      "outputs": [
        {
          "output_type": "stream",
          "name": "stdout",
          "text": [
            "v2\n"
          ]
        }
      ]
    },
    {
      "cell_type": "markdown",
      "source": [
        "#### `setdefault`"
      ],
      "metadata": {
        "id": "RHsm9KhuxLeL"
      }
    },
    {
      "cell_type": "code",
      "source": [
        "car = {\n",
        "  \"brand\": \"Ford\",\n",
        "  \"model\": \"Mustang\",\n",
        "  \"year\": 1964\n",
        "}\n",
        "\n",
        "x = car.setdefault(\"model\", \"Bronco\")\n",
        "\n",
        "# since the key is already present, so its respective value is returned \n",
        "print(x)\n",
        "car"
      ],
      "metadata": {
        "colab": {
          "base_uri": "https://localhost:8080/"
        },
        "id": "L5cFEP-0v_fm",
        "outputId": "768fedae-1401-4145-c915-178976eadd5d"
      },
      "execution_count": 53,
      "outputs": [
        {
          "output_type": "stream",
          "name": "stdout",
          "text": [
            "Mustang\n"
          ]
        },
        {
          "output_type": "execute_result",
          "data": {
            "text/plain": [
              "{'brand': 'Ford', 'model': 'Mustang', 'year': 1964}"
            ]
          },
          "metadata": {},
          "execution_count": 53
        }
      ]
    },
    {
      "cell_type": "code",
      "source": [
        "car = {\n",
        "  \"brand\": \"Ford\",\n",
        "  \"model\": \"Mustang\",\n",
        "  \"year\": 1964\n",
        "}\n",
        "\n",
        "x = car.setdefault(\"color\", \"white\")\n",
        "\n",
        "# since the key is not present, so the key:value pair is added to the dict\n",
        "print(x)\n",
        "car"
      ],
      "metadata": {
        "colab": {
          "base_uri": "https://localhost:8080/"
        },
        "id": "RVn9k7nRwOLv",
        "outputId": "c948c4bc-8adc-48d1-d6b4-f97ba59ec64d"
      },
      "execution_count": 54,
      "outputs": [
        {
          "output_type": "stream",
          "name": "stdout",
          "text": [
            "white\n"
          ]
        },
        {
          "output_type": "execute_result",
          "data": {
            "text/plain": [
              "{'brand': 'Ford', 'color': 'white', 'model': 'Mustang', 'year': 1964}"
            ]
          },
          "metadata": {},
          "execution_count": 54
        }
      ]
    },
    {
      "cell_type": "markdown",
      "source": [
        "#### `.update()`"
      ],
      "metadata": {
        "id": "GegUwGAm07gT"
      }
    },
    {
      "cell_type": "code",
      "source": [
        "d = {1: \"one\", 2: \"three\"}\n",
        "d1 = {2: \"two\"}\n",
        "\n",
        "# updates the value of key 2\n",
        "d.update(d1)\n",
        "d1 = {3: \"three\"}\n",
        "\n",
        "# adds element with key 3\n",
        "d.update(d1)\n",
        "print(d)"
      ],
      "metadata": {
        "colab": {
          "base_uri": "https://localhost:8080/"
        },
        "id": "dMpbrG8F09B6",
        "outputId": "6b9bf890-ac7a-42a3-f955-27d9ab7dd121"
      },
      "execution_count": 55,
      "outputs": [
        {
          "output_type": "stream",
          "name": "stdout",
          "text": [
            "{1: 'one', 2: 'two', 3: 'three'}\n"
          ]
        }
      ]
    },
    {
      "cell_type": "markdown",
      "metadata": {
        "id": "g45pDtTM4Aat"
      },
      "source": [
        "### 3.3. Tuple\n",
        "* Tuple is an `ordered` collection of data. \n",
        "* It is `immutable` and `allow duplicates`. \n",
        "* It list is created by enclosing the data items with in round brackets delimited by \",\""
      ]
    },
    {
      "cell_type": "code",
      "source": [
        "t1 = (10,20,30)\n",
        "t1[1]"
      ],
      "metadata": {
        "colab": {
          "base_uri": "https://localhost:8080/"
        },
        "id": "Z62tA2GjeLvh",
        "outputId": "7e12ee1d-a9c3-4854-e3af-e914621acf69"
      },
      "execution_count": 56,
      "outputs": [
        {
          "output_type": "execute_result",
          "data": {
            "text/plain": [
              "20"
            ]
          },
          "metadata": {},
          "execution_count": 56
        }
      ]
    },
    {
      "cell_type": "code",
      "metadata": {
        "id": "7kbQlvDo4Aat",
        "colab": {
          "base_uri": "https://localhost:8080/"
        },
        "outputId": "fd700ea2-c546-45c0-8096-b4b2d5a84308"
      },
      "source": [
        "# Creating a tuple\n",
        "marks = (35, 68, 96, 80, 90)\n",
        "print(marks)"
      ],
      "execution_count": 57,
      "outputs": [
        {
          "output_type": "stream",
          "name": "stdout",
          "text": [
            "(35, 68, 96, 80, 90)\n"
          ]
        }
      ]
    },
    {
      "cell_type": "code",
      "metadata": {
        "id": "dKS2Lgw_4Aax",
        "colab": {
          "base_uri": "https://localhost:8080/"
        },
        "outputId": "bfbdabba-b7f4-4af4-e045-82240c0614ad"
      },
      "source": [
        "# Indexing tuple elements\n",
        "print(\"marks[0] : \", marks[0])\n",
        "print(\"marks[len(marks)-1] : \", marks[len(marks)-1])\n",
        "print(\"marks[-1] : \", marks[-1])"
      ],
      "execution_count": 58,
      "outputs": [
        {
          "output_type": "stream",
          "name": "stdout",
          "text": [
            "marks[0] :  35\n",
            "marks[len(marks)-1] :  90\n",
            "marks[-1] :  90\n"
          ]
        }
      ]
    },
    {
      "cell_type": "markdown",
      "source": [
        "$\\color{red}{\\textbf{Note}}$: We cannot modify the elemnts in a tuple\n",
        "\n",
        "```python\n",
        "marks = (35, 68, 96, 80, 90)\n",
        "marks[0] = 38\n",
        "---------------------------------------------------------------------------\n",
        "TypeError                                 Traceback (most recent call last)\n",
        "<ipython-input-11-125eb5cf945c> in <module>()\n",
        "      1 #  Note: We cannot modify the elemnts in a tuple\n",
        "----> 2 marks[0] = 38\n",
        "\n",
        "TypeError: 'tuple' object does not support item assignment\n",
        "```"
      ],
      "metadata": {
        "id": "xIf5qZRxagfF"
      }
    },
    {
      "cell_type": "code",
      "metadata": {
        "id": "4cebrSMp4Aa6",
        "colab": {
          "base_uri": "https://localhost:8080/"
        },
        "outputId": "b61016a5-3b9f-4234-bf11-c238d1ba21cb"
      },
      "source": [
        "# Slicing the tuple\n",
        "# Syntax: tuple[start:end(exclusive)]\n",
        "marks = (35, 68, 96, 80, 90, 11, 12, 37, 54)\n",
        "\n",
        "print(len(marks))\n",
        "print(marks[1:len(marks)])\n",
        "print(marks[:len(marks)])\n",
        "print(marks[:len(marks)-2])\n",
        "print(marks[0:])       \n",
        "print(marks[:6])\n",
        "print(marks[2:4])\n",
        "print(marks[1:7:2])"
      ],
      "execution_count": 59,
      "outputs": [
        {
          "output_type": "stream",
          "name": "stdout",
          "text": [
            "9\n",
            "(68, 96, 80, 90, 11, 12, 37, 54)\n",
            "(35, 68, 96, 80, 90, 11, 12, 37, 54)\n",
            "(35, 68, 96, 80, 90, 11, 12)\n",
            "(35, 68, 96, 80, 90, 11, 12, 37, 54)\n",
            "(35, 68, 96, 80, 90, 11)\n",
            "(96, 80)\n",
            "(68, 80, 11)\n"
          ]
        }
      ]
    },
    {
      "cell_type": "code",
      "metadata": {
        "id": "BAdUio0n4Aa-",
        "colab": {
          "base_uri": "https://localhost:8080/"
        },
        "outputId": "be16c8ee-9b08-4995-cb9f-06dd8fa69f0f"
      },
      "source": [
        "# tuple Comprehesion\n",
        "pass_mark = 50\n",
        "marks_new = tuple(mark for mark in marks if mark > pass_mark)\n",
        "print(sorted(marks_new))"
      ],
      "execution_count": 60,
      "outputs": [
        {
          "output_type": "stream",
          "name": "stdout",
          "text": [
            "[54, 68, 80, 90, 96]\n"
          ]
        }
      ]
    },
    {
      "cell_type": "markdown",
      "metadata": {
        "id": "oE2GdE7D4AbD"
      },
      "source": [
        "### 3.4. Set\n",
        "* Set is an `unordered` collection of data. \n",
        "* It is `mutable` and does `not allow duplicates`. \n",
        "* It is created by enclosing the data items with in curly brackets delimited by \",\""
      ]
    },
    {
      "cell_type": "code",
      "source": [
        "s1 = {1,2,3,4}\n",
        "s1"
      ],
      "metadata": {
        "colab": {
          "base_uri": "https://localhost:8080/"
        },
        "id": "nLFsG5R-fKxo",
        "outputId": "42782f86-0ab9-4cb0-bdbd-26a669bf521e"
      },
      "execution_count": 61,
      "outputs": [
        {
          "output_type": "execute_result",
          "data": {
            "text/plain": [
              "{1, 2, 3, 4}"
            ]
          },
          "metadata": {},
          "execution_count": 61
        }
      ]
    },
    {
      "cell_type": "code",
      "source": [
        "s2 = {1,1,1,2,2,2,3,3,3,4,4,4}\n",
        "s2"
      ],
      "metadata": {
        "colab": {
          "base_uri": "https://localhost:8080/"
        },
        "id": "F_idmnrHfPcI",
        "outputId": "38390f17-ea74-498e-fcbf-410c23c30e9b"
      },
      "execution_count": 62,
      "outputs": [
        {
          "output_type": "execute_result",
          "data": {
            "text/plain": [
              "{1, 2, 3, 4}"
            ]
          },
          "metadata": {},
          "execution_count": 62
        }
      ]
    },
    {
      "cell_type": "code",
      "metadata": {
        "id": "A-Xv_uZd4AbD",
        "colab": {
          "base_uri": "https://localhost:8080/"
        },
        "outputId": "0bd85b85-a2e0-4644-f88c-f4aaa52bc16f"
      },
      "source": [
        "cities = {\"Madras\", \"Delhi\", \"Bombay\", \"Calcutta\", \"Madras\"}\n",
        "\n",
        "print(cities)"
      ],
      "execution_count": 63,
      "outputs": [
        {
          "output_type": "stream",
          "name": "stdout",
          "text": [
            "{'Madras', 'Delhi', 'Bombay', 'Calcutta'}\n"
          ]
        }
      ]
    },
    {
      "cell_type": "code",
      "metadata": {
        "id": "5HmWl31O4AbG",
        "colab": {
          "base_uri": "https://localhost:8080/"
        },
        "outputId": "8230ad89-b0c5-482e-e27f-e85a0c85d305"
      },
      "source": [
        "# Set Operations\n",
        "a = {1, 2, 3, 4}\n",
        "b = {4, 5, 6}\n",
        "\n",
        "# Set Union\n",
        "print(a | b)\n",
        "\n",
        "# Set Intersection\n",
        "print(a & b)\n",
        "\n",
        "# Set Difference\n",
        "print(a - b)\n",
        "\n",
        "# Symmetric Difference\n",
        "print(a ^ b)"
      ],
      "execution_count": 64,
      "outputs": [
        {
          "output_type": "stream",
          "name": "stdout",
          "text": [
            "{1, 2, 3, 4, 5, 6}\n",
            "{4}\n",
            "{1, 2, 3}\n",
            "{1, 2, 3, 5, 6}\n"
          ]
        }
      ]
    },
    {
      "cell_type": "markdown",
      "metadata": {
        "id": "JkLWI_g24AbU"
      },
      "source": [
        "### 3.5. String\n",
        "* A string is a sequence of charactes\n",
        "* It is `immutable`. \n",
        "* It is created by enclosing text with single/double/triple quotes"
      ]
    },
    {
      "cell_type": "code",
      "source": [
        "\"a string is the sequence of character\""
      ],
      "metadata": {
        "colab": {
          "base_uri": "https://localhost:8080/",
          "height": 36
        },
        "id": "rbSX_sjm8VYA",
        "outputId": "b8b81ab0-1e61-4b08-e2be-808364c3ded8"
      },
      "execution_count": 65,
      "outputs": [
        {
          "output_type": "execute_result",
          "data": {
            "text/plain": [
              "'a string is the sequence of character'"
            ],
            "application/vnd.google.colaboratory.intrinsic+json": {
              "type": "string"
            }
          },
          "metadata": {},
          "execution_count": 65
        }
      ]
    },
    {
      "cell_type": "code",
      "source": [
        "\"string is immutable\""
      ],
      "metadata": {
        "colab": {
          "base_uri": "https://localhost:8080/",
          "height": 36
        },
        "id": "B-lBUsmS864T",
        "outputId": "ee2cd635-4ba6-4e41-9c1b-212ffc7ec799"
      },
      "execution_count": 66,
      "outputs": [
        {
          "output_type": "execute_result",
          "data": {
            "text/plain": [
              "'string is immutable'"
            ],
            "application/vnd.google.colaboratory.intrinsic+json": {
              "type": "string"
            }
          },
          "metadata": {},
          "execution_count": 66
        }
      ]
    },
    {
      "cell_type": "markdown",
      "source": [
        "**Varible**"
      ],
      "metadata": {
        "id": "tp9VPdYD9Lmz"
      }
    },
    {
      "cell_type": "code",
      "source": [
        "var = \"Knowledge\"\n",
        "var"
      ],
      "metadata": {
        "colab": {
          "base_uri": "https://localhost:8080/",
          "height": 36
        },
        "id": "JrgDIk5G9FwV",
        "outputId": "d212f495-d7d4-480a-9550-8e56f1285b64"
      },
      "execution_count": 67,
      "outputs": [
        {
          "output_type": "execute_result",
          "data": {
            "text/plain": [
              "'Knowledge'"
            ],
            "application/vnd.google.colaboratory.intrinsic+json": {
              "type": "string"
            }
          },
          "metadata": {},
          "execution_count": 67
        }
      ]
    },
    {
      "cell_type": "markdown",
      "source": [
        ">A variable name must start with a letter or the **underscore** character. A variable name *cannot* start with a **number**. A variable name can only `(A-z, 0-9, and _ )`. Variable names are `case-sensitive` (`name`, `Name` and `NAME` are three different variables).\n",
        "\n",
        "```python\n",
        "1var = 'Knowledge'\n",
        "1var\n",
        "---------------------------\n",
        " Input In [line Number]\n",
        "    1var = \"Knowledge\"\n",
        "     ^\n",
        "SyntaxError: invalid syntax\n",
        "---------------------------\n",
        "```"
      ],
      "metadata": {
        "id": "an5UIk2J9lk0"
      }
    },
    {
      "cell_type": "code",
      "source": [
        "var_1 = \"Knowledge\"\n",
        "var_1"
      ],
      "metadata": {
        "colab": {
          "base_uri": "https://localhost:8080/",
          "height": 36
        },
        "id": "jHoEtPli-R_6",
        "outputId": "241e5672-6345-4183-829e-582900b54fd1"
      },
      "execution_count": 68,
      "outputs": [
        {
          "output_type": "execute_result",
          "data": {
            "text/plain": [
              "'Knowledge'"
            ],
            "application/vnd.google.colaboratory.intrinsic+json": {
              "type": "string"
            }
          },
          "metadata": {},
          "execution_count": 68
        }
      ]
    },
    {
      "cell_type": "code",
      "source": [
        "_var1 = \"Knowledge\"\n",
        "_var1"
      ],
      "metadata": {
        "colab": {
          "base_uri": "https://localhost:8080/",
          "height": 36
        },
        "id": "0VRZmDcP-Ztk",
        "outputId": "949a524e-6fd0-4d9c-adc4-e1006e61eb55"
      },
      "execution_count": 69,
      "outputs": [
        {
          "output_type": "execute_result",
          "data": {
            "text/plain": [
              "'Knowledge'"
            ],
            "application/vnd.google.colaboratory.intrinsic+json": {
              "type": "string"
            }
          },
          "metadata": {},
          "execution_count": 69
        }
      ]
    },
    {
      "cell_type": "code",
      "metadata": {
        "id": "8fcBSeW-4AbV",
        "colab": {
          "base_uri": "https://localhost:8080/"
        },
        "outputId": "f79fb11b-691f-4639-b773-4ee6704dbd95"
      },
      "source": [
        "word = \"Malayalam\"\n",
        "print(word)"
      ],
      "execution_count": 70,
      "outputs": [
        {
          "output_type": "stream",
          "name": "stdout",
          "text": [
            "Malayalam\n"
          ]
        }
      ]
    },
    {
      "cell_type": "code",
      "metadata": {
        "id": "k6B77vE54AbY",
        "colab": {
          "base_uri": "https://localhost:8080/"
        },
        "outputId": "01e73459-cb54-4e25-e7e5-8d7fd5c9891c"
      },
      "source": [
        "# String operations\n",
        "\n",
        "print(word.lower())\n",
        "print(word.upper())\n",
        "print(len(word))\n",
        "print(word.startswith(\"A\"))\n",
        "print(word.endswith(\"m\"))"
      ],
      "execution_count": 71,
      "outputs": [
        {
          "output_type": "stream",
          "name": "stdout",
          "text": [
            "malayalam\n",
            "MALAYALAM\n",
            "9\n",
            "False\n",
            "True\n"
          ]
        }
      ]
    },
    {
      "cell_type": "code",
      "metadata": {
        "id": "PjmnRsLj4Abe",
        "colab": {
          "base_uri": "https://localhost:8080/"
        },
        "outputId": "8ffa1273-80c8-441d-98a2-f71429a2ea86"
      },
      "source": [
        "# Slicing the string\n",
        "print(word[0:5])"
      ],
      "execution_count": 72,
      "outputs": [
        {
          "output_type": "stream",
          "name": "stdout",
          "text": [
            "Malay\n"
          ]
        }
      ]
    },
    {
      "cell_type": "code",
      "metadata": {
        "id": "5kvZI2O54Abi",
        "colab": {
          "base_uri": "https://localhost:8080/"
        },
        "outputId": "4b5cc9f4-3baa-46ab-d385-a6770aa1504c"
      },
      "source": [
        "# Coverting string to a list of characters\n",
        "print(list(word))"
      ],
      "execution_count": 73,
      "outputs": [
        {
          "output_type": "stream",
          "name": "stdout",
          "text": [
            "['M', 'a', 'l', 'a', 'y', 'a', 'l', 'a', 'm']\n"
          ]
        }
      ]
    },
    {
      "cell_type": "code",
      "metadata": {
        "id": "buxflZi84Abl",
        "colab": {
          "base_uri": "https://localhost:8080/"
        },
        "outputId": "1cbf9923-1bf7-452a-adc5-7db9ba14c2cf"
      },
      "source": [
        "# splitting the text\n",
        "sentence = \"I love Machine Learning\"\n",
        "words = sentence.split(\" \")\n",
        "print(words)"
      ],
      "execution_count": 74,
      "outputs": [
        {
          "output_type": "stream",
          "name": "stdout",
          "text": [
            "['I', 'love', 'Machine', 'Learning']\n"
          ]
        }
      ]
    },
    {
      "cell_type": "code",
      "metadata": {
        "id": "QTBTzN_A4Abo",
        "colab": {
          "base_uri": "https://localhost:8080/"
        },
        "outputId": "248abb48-446c-49a5-f372-5ac30825822d"
      },
      "source": [
        "# finding length of a list\n",
        "print(len(words))"
      ],
      "execution_count": 75,
      "outputs": [
        {
          "output_type": "stream",
          "name": "stdout",
          "text": [
            "4\n"
          ]
        }
      ]
    },
    {
      "cell_type": "markdown",
      "source": [
        "### 3.6 Comparision & Logical Operators"
      ],
      "metadata": {
        "id": "xF_7XNlffeK0"
      }
    },
    {
      "cell_type": "code",
      "source": [
        "10 > 20"
      ],
      "metadata": {
        "colab": {
          "base_uri": "https://localhost:8080/"
        },
        "id": "5VAPW8LtfkKV",
        "outputId": "9987559d-eb38-4b80-ca99-f023138b5572"
      },
      "execution_count": 76,
      "outputs": [
        {
          "output_type": "execute_result",
          "data": {
            "text/plain": [
              "False"
            ]
          },
          "metadata": {},
          "execution_count": 76
        }
      ]
    },
    {
      "cell_type": "code",
      "source": [
        "10 < 20"
      ],
      "metadata": {
        "colab": {
          "base_uri": "https://localhost:8080/"
        },
        "id": "NOFzSAtIfq2H",
        "outputId": "1a5770d7-e7cf-478b-8249-20773feb65fc"
      },
      "execution_count": 77,
      "outputs": [
        {
          "output_type": "execute_result",
          "data": {
            "text/plain": [
              "True"
            ]
          },
          "metadata": {},
          "execution_count": 77
        }
      ]
    },
    {
      "cell_type": "code",
      "source": [
        "10 <= 20"
      ],
      "metadata": {
        "colab": {
          "base_uri": "https://localhost:8080/"
        },
        "id": "kss2zmFOftqv",
        "outputId": "c192a74e-773e-4e35-fc69-2711b2323567"
      },
      "execution_count": 78,
      "outputs": [
        {
          "output_type": "execute_result",
          "data": {
            "text/plain": [
              "True"
            ]
          },
          "metadata": {},
          "execution_count": 78
        }
      ]
    },
    {
      "cell_type": "code",
      "source": [
        "10 >= 20"
      ],
      "metadata": {
        "colab": {
          "base_uri": "https://localhost:8080/"
        },
        "id": "4PVufRo3fx85",
        "outputId": "79379b53-e110-4c54-c3c4-4c5cf003f05e"
      },
      "execution_count": 79,
      "outputs": [
        {
          "output_type": "execute_result",
          "data": {
            "text/plain": [
              "False"
            ]
          },
          "metadata": {},
          "execution_count": 79
        }
      ]
    },
    {
      "cell_type": "code",
      "source": [
        "10 == 10"
      ],
      "metadata": {
        "colab": {
          "base_uri": "https://localhost:8080/"
        },
        "id": "RnC1vd8Vf5DQ",
        "outputId": "c91d383c-5909-4995-c451-03a3fc442397"
      },
      "execution_count": 80,
      "outputs": [
        {
          "output_type": "execute_result",
          "data": {
            "text/plain": [
              "True"
            ]
          },
          "metadata": {},
          "execution_count": 80
        }
      ]
    },
    {
      "cell_type": "code",
      "source": [
        "10 == 20"
      ],
      "metadata": {
        "colab": {
          "base_uri": "https://localhost:8080/"
        },
        "id": "HtuXQkkWf9Jy",
        "outputId": "e6f09325-fc52-4683-e1e6-b3ad98bce963"
      },
      "execution_count": 81,
      "outputs": [
        {
          "output_type": "execute_result",
          "data": {
            "text/plain": [
              "False"
            ]
          },
          "metadata": {},
          "execution_count": 81
        }
      ]
    },
    {
      "cell_type": "code",
      "source": [
        "\"apple\" == \"apple\""
      ],
      "metadata": {
        "colab": {
          "base_uri": "https://localhost:8080/"
        },
        "id": "WXdvTq4ugIAp",
        "outputId": "8d328fb3-a469-46d4-c0e5-ebe737ee3266"
      },
      "execution_count": 82,
      "outputs": [
        {
          "output_type": "execute_result",
          "data": {
            "text/plain": [
              "True"
            ]
          },
          "metadata": {},
          "execution_count": 82
        }
      ]
    },
    {
      "cell_type": "code",
      "source": [
        "\"apple\" == \"mango\""
      ],
      "metadata": {
        "colab": {
          "base_uri": "https://localhost:8080/"
        },
        "id": "vIt5NP1hgWaN",
        "outputId": "4fa95d57-2b5b-4e14-cb9a-9b092111a845"
      },
      "execution_count": 83,
      "outputs": [
        {
          "output_type": "execute_result",
          "data": {
            "text/plain": [
              "False"
            ]
          },
          "metadata": {},
          "execution_count": 83
        }
      ]
    },
    {
      "cell_type": "code",
      "source": [
        "\"apple\" != \"apple\""
      ],
      "metadata": {
        "colab": {
          "base_uri": "https://localhost:8080/"
        },
        "id": "-QS5GDIZgP0J",
        "outputId": "3077f709-a03d-4b88-9a9c-9433fab01b18"
      },
      "execution_count": 85,
      "outputs": [
        {
          "output_type": "execute_result",
          "data": {
            "text/plain": [
              "False"
            ]
          },
          "metadata": {},
          "execution_count": 85
        }
      ]
    },
    {
      "cell_type": "code",
      "source": [
        "(10 > 20) and (20 < 30)"
      ],
      "metadata": {
        "colab": {
          "base_uri": "https://localhost:8080/"
        },
        "id": "vGv41RbWgdQu",
        "outputId": "cb474c21-fc3c-465e-80c9-58c6ac6489d7"
      },
      "execution_count": 86,
      "outputs": [
        {
          "output_type": "execute_result",
          "data": {
            "text/plain": [
              "False"
            ]
          },
          "metadata": {},
          "execution_count": 86
        }
      ]
    },
    {
      "cell_type": "code",
      "source": [
        "(10 < 20) and (20 < 30)"
      ],
      "metadata": {
        "colab": {
          "base_uri": "https://localhost:8080/"
        },
        "id": "zp6sogm5geBb",
        "outputId": "25eb944d-fa16-41bb-d4eb-740057f9112d"
      },
      "execution_count": 87,
      "outputs": [
        {
          "output_type": "execute_result",
          "data": {
            "text/plain": [
              "True"
            ]
          },
          "metadata": {},
          "execution_count": 87
        }
      ]
    },
    {
      "cell_type": "code",
      "source": [
        "(10 > 20) or (20 < 30)"
      ],
      "metadata": {
        "colab": {
          "base_uri": "https://localhost:8080/"
        },
        "id": "iLaOEPsqghdX",
        "outputId": "9b5dd14a-74f2-42d5-f33e-6477f180cefb"
      },
      "execution_count": 88,
      "outputs": [
        {
          "output_type": "execute_result",
          "data": {
            "text/plain": [
              "True"
            ]
          },
          "metadata": {},
          "execution_count": 88
        }
      ]
    },
    {
      "cell_type": "code",
      "source": [
        "(10 == 10) and (20 == 30) and (40 == 40)"
      ],
      "metadata": {
        "colab": {
          "base_uri": "https://localhost:8080/"
        },
        "id": "ni8BYs4cgjUC",
        "outputId": "99ce0079-a880-4c90-9e7f-3d9ddc7f712f"
      },
      "execution_count": 89,
      "outputs": [
        {
          "output_type": "execute_result",
          "data": {
            "text/plain": [
              "False"
            ]
          },
          "metadata": {},
          "execution_count": 89
        }
      ]
    },
    {
      "cell_type": "markdown",
      "metadata": {
        "id": "gkvHJljk4Abr"
      },
      "source": [
        "## **4. Control Structures**\n",
        "\n",
        "<b>'if...else' syntax:</b>\n",
        "    \n",
        "    if CONDITION:\n",
        "        code block 1\n",
        "    elif CONDITION:\n",
        "        code block 2\n",
        "    ...\n",
        "    else:\n",
        "        code block n"
      ]
    },
    {
      "cell_type": "code",
      "metadata": {
        "id": "sphwK0u84Abs"
      },
      "source": [
        "a = 3\n",
        "b = 5\n",
        "\n",
        "if a > b:\n",
        "    print(\"a is greater than b\")"
      ],
      "execution_count": 90,
      "outputs": []
    },
    {
      "cell_type": "code",
      "metadata": {
        "id": "16VoK1iK4Aby",
        "colab": {
          "base_uri": "https://localhost:8080/"
        },
        "outputId": "ef780a3e-81d7-4e0e-91ed-1b554a17d8f4"
      },
      "source": [
        "if a > b:\n",
        "    print(\"a is greater than b\")\n",
        "else:\n",
        "    print(\"b is greater than a\")"
      ],
      "execution_count": 91,
      "outputs": [
        {
          "output_type": "stream",
          "name": "stdout",
          "text": [
            "b is greater than a\n"
          ]
        }
      ]
    },
    {
      "cell_type": "code",
      "source": [
        "num1 = int(input(\"Enter the number:\"))\n",
        "\n",
        "if num1 > 30 and (num1 <= 40):\n",
        "    print(\"You have passed with 3rd Division.\")\n",
        "elif (num1 > 40) and (num1 < 60):\n",
        "    print(\"You have passed with 2nd Division.\")\n",
        "elif (num1 >= 60):\n",
        "    print(\"You have passed with 1st Division.\")\n",
        "else:\n",
        "    print(\"You are failed\")"
      ],
      "metadata": {
        "colab": {
          "base_uri": "https://localhost:8080/"
        },
        "id": "JSmnsF3bAzf3",
        "outputId": "82df8287-ea50-472d-84c9-17a9b843f342"
      },
      "execution_count": 92,
      "outputs": [
        {
          "output_type": "stream",
          "name": "stdout",
          "text": [
            "Enter the number:60\n",
            "You have passed with 1st Division.\n"
          ]
        }
      ]
    },
    {
      "cell_type": "code",
      "metadata": {
        "id": "HORIibnf4Ab4",
        "colab": {
          "base_uri": "https://localhost:8080/"
        },
        "outputId": "31d70cd2-4380-48ef-8927-a0bc8eeec677"
      },
      "source": [
        "score = 80\n",
        "grade = None\n",
        "\n",
        "if score > 90:\n",
        "    grade = \"A\"\n",
        "elif score >= 80:    \n",
        "    grade = \"B\"\n",
        "elif score > 70:    \n",
        "    grade = \"C\"\n",
        "elif score > 60:    \n",
        "    grade = \"D\"\n",
        "elif score > 50:    \n",
        "    grade = \"E\"\n",
        "else:\n",
        "    grade = \"F\"\n",
        "    \n",
        "print(\"Grade: \" + grade)"
      ],
      "execution_count": 93,
      "outputs": [
        {
          "output_type": "stream",
          "name": "stdout",
          "text": [
            "Grade: B\n"
          ]
        }
      ]
    },
    {
      "cell_type": "markdown",
      "metadata": {
        "id": "6sa-3LQn4Ab8"
      },
      "source": [
        "<b>'for' syntax:</b>\n",
        "    \n",
        "    for ELEMENT in SEQUENCE:\n",
        "        code block"
      ]
    },
    {
      "cell_type": "code",
      "metadata": {
        "id": "mJa5Dtnt4Ab9",
        "colab": {
          "base_uri": "https://localhost:8080/"
        },
        "outputId": "60cf1260-8e7b-42b8-ffbd-a20c30bd648b"
      },
      "source": [
        "my_team = [\"Ayush\", \"subash\", \"ashoke\", \"faziy\", \"prem\", \"ajay\"]\n",
        "\n",
        "for person in my_team:\n",
        "    mail = person + \"@gmail.com\"\n",
        "    print(mail)"
      ],
      "execution_count": 94,
      "outputs": [
        {
          "output_type": "stream",
          "name": "stdout",
          "text": [
            "Ayush@gmail.com\n",
            "subash@gmail.com\n",
            "ashoke@gmail.com\n",
            "faziy@gmail.com\n",
            "prem@gmail.com\n",
            "ajay@gmail.com\n"
          ]
        }
      ]
    },
    {
      "cell_type": "code",
      "metadata": {
        "id": "OS4jPecz4AcA",
        "colab": {
          "base_uri": "https://localhost:8080/"
        },
        "outputId": "3d3ed660-3a22-48db-985f-41fe447031f1"
      },
      "source": [
        "for i in range(len(my_team)):\n",
        "    mail = my_team[i] + \"@gmail.com\"\n",
        "    print(mail)"
      ],
      "execution_count": 95,
      "outputs": [
        {
          "output_type": "stream",
          "name": "stdout",
          "text": [
            "Ayush@gmail.com\n",
            "subash@gmail.com\n",
            "ashoke@gmail.com\n",
            "faziy@gmail.com\n",
            "prem@gmail.com\n",
            "ajay@gmail.com\n"
          ]
        }
      ]
    },
    {
      "cell_type": "markdown",
      "metadata": {
        "id": "QeNksfbF4AcF"
      },
      "source": [
        "<b>'while' syntax:</b>\n",
        "    \n",
        "    while CONDITION:\n",
        "        code block"
      ]
    },
    {
      "cell_type": "code",
      "metadata": {
        "id": "L6obCb3D4AcG",
        "colab": {
          "base_uri": "https://localhost:8080/"
        },
        "outputId": "f3f9185f-45e9-4a00-de16-305ab5377498"
      },
      "source": [
        "# Finding the factorial of number using while loop\n",
        "n = int(input(\"Enter a number: \"))\n",
        "n_factorial = 1\n",
        "x = 2\n",
        "\n",
        "while x <= n:\n",
        "    n_factorial = n_factorial * x\n",
        "    x = x+1\n",
        "    \n",
        "print(\"%d! = %d\" % (n, n_factorial))"
      ],
      "execution_count": 96,
      "outputs": [
        {
          "output_type": "stream",
          "name": "stdout",
          "text": [
            "Enter a number: 5\n",
            "5! = 120\n"
          ]
        }
      ]
    },
    {
      "cell_type": "markdown",
      "metadata": {
        "id": "mG22HYcu4AcJ"
      },
      "source": [
        "## **5. Functions**\n",
        "* A function is a block of code that can be reused. \n",
        "* It is defined using the 'def' keyword in python."
      ]
    },
    {
      "cell_type": "markdown",
      "metadata": {
        "id": "Xoj8A6ES4AcK"
      },
      "source": [
        "<b>Function syntax:</b>\n",
        "\n",
        "    def function_name(parameters):\n",
        "        code...\n",
        "        return value"
      ]
    },
    {
      "cell_type": "code",
      "metadata": {
        "id": "pq2C_ono4AcL",
        "colab": {
          "base_uri": "https://localhost:8080/"
        },
        "outputId": "7132b0d6-7fd1-4b2e-e411-2601c58675f9"
      },
      "source": [
        "# Defining the function\n",
        "def area_of_square(length, breadth):\n",
        "    area = length*breadth\n",
        "    return area\n",
        "\n",
        "# Calling the function\n",
        "area_of_square(2, 3)"
      ],
      "execution_count": 97,
      "outputs": [
        {
          "output_type": "execute_result",
          "data": {
            "text/plain": [
              "6"
            ]
          },
          "metadata": {},
          "execution_count": 97
        }
      ]
    },
    {
      "cell_type": "code",
      "metadata": {
        "id": "ygai5LLj4AcS",
        "colab": {
          "base_uri": "https://localhost:8080/"
        },
        "outputId": "5822b879-8749-45ec-e28f-0b61cc3bd4d0"
      },
      "source": [
        "# Function with default arguments\n",
        "def greet(name=\"\"):\n",
        "    print(\"Hello \" + name)\n",
        "\n",
        "greet(\"Faizy\")\n",
        "greet()"
      ],
      "execution_count": 98,
      "outputs": [
        {
          "output_type": "stream",
          "name": "stdout",
          "text": [
            "Hello Faizy\n",
            "Hello \n"
          ]
        }
      ]
    },
    {
      "cell_type": "code",
      "source": [
        "# Factorial using iterative - 1\n",
        "def fact_iterative(n):\n",
        "    f=1\n",
        "    for i in range(1, n+1):\n",
        "        f=f*i\n",
        "    return f\n",
        "\n",
        "x= 5 \n",
        "result=fact_iterative(x)\n",
        "print(result)"
      ],
      "metadata": {
        "colab": {
          "base_uri": "https://localhost:8080/"
        },
        "id": "CBVZeLaluAro",
        "outputId": "582d34cf-a296-4c0c-d89c-63ebca6bae09"
      },
      "execution_count": 99,
      "outputs": [
        {
          "output_type": "stream",
          "name": "stdout",
          "text": [
            "120\n"
          ]
        }
      ]
    },
    {
      "cell_type": "code",
      "source": [
        "# Factorial using iterative - 2 \n",
        "def fact_iterative(n):\n",
        "    f=1\n",
        "    for i in range(n):\n",
        "        f=f*(i+1)\n",
        "    return f\n",
        "\n",
        "x= 5 \n",
        "result=fact_iterative(x)\n",
        "print(result)"
      ],
      "metadata": {
        "colab": {
          "base_uri": "https://localhost:8080/"
        },
        "id": "BeI-p6870LAb",
        "outputId": "9f459b1f-bc4f-49b0-f363-64d5c197d0ed"
      },
      "execution_count": 100,
      "outputs": [
        {
          "output_type": "stream",
          "name": "stdout",
          "text": [
            "120\n"
          ]
        }
      ]
    },
    {
      "cell_type": "code",
      "source": [
        "# Factorial using Recursion\n",
        "def fact_recursive(n):\n",
        "    if n==0:\n",
        "        return 1 # factorial of 0!=1\n",
        "    else:\n",
        "        return n * fact_recursive(n-1)\n",
        "\n",
        "result=fact_recursive(5)\n",
        "print(result)"
      ],
      "metadata": {
        "colab": {
          "base_uri": "https://localhost:8080/"
        },
        "id": "AMuzMlhivvN2",
        "outputId": "e3238287-5014-4389-adb8-6c16e1c13bf7"
      },
      "execution_count": 101,
      "outputs": [
        {
          "output_type": "stream",
          "name": "stdout",
          "text": [
            "120\n"
          ]
        }
      ]
    },
    {
      "cell_type": "markdown",
      "source": [
        "### Connect with me:\n",
        "\n",
        "\n",
        "[<img align=\"left\" alt=\"codeSTACKr | Twitter\" width=\"22px\" src=\"https://cdn.jsdelivr.net/npm/simple-icons@v3/icons/twitter.svg\" />][twitter]\n",
        "[<img align=\"left\" alt=\"codeSTACKr | LinkedIn\" width=\"22px\" src=\"https://cdn.jsdelivr.net/npm/simple-icons@v3/icons/linkedin.svg\" />][linkedin]\n",
        "[<img align=\"left\" alt=\"codeSTACKr.com\" width=\"22px\" src=\"https://raw.githubusercontent.com/iconic/open-iconic/master/svg/globe.svg\" />][StackExchange AI]\n",
        "\n",
        "[twitter]: https://twitter.com/F4izy\n",
        "[linkedin]: https://www.linkedin.com/in/mohd-faizy/\n",
        "[StackExchange AI]: https://ai.stackexchange.com/users/36737/cypher\n",
        "\n",
        "\n",
        "---\n",
        "\n",
        "\n"
      ],
      "metadata": {
        "id": "eTVf-4ZSO3P4"
      }
    }
  ]
}