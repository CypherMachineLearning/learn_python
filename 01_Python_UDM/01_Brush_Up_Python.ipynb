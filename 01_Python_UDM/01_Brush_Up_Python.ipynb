{
  "cells": [
    {
      "cell_type": "markdown",
      "metadata": {
        "colab_type": "text",
        "id": "view-in-github"
      },
      "source": [
        "<a href=\"https://colab.research.google.com/github/mohd-faizy/00_Python_Notebooks_Concept/blob/master/00_Brush_Up_Python.ipynb\" target=\"_parent\"><img src=\"https://colab.research.google.com/assets/colab-badge.svg\" alt=\"Open In Colab\"/></a>"
      ]
    },
    {
      "cell_type": "markdown",
      "metadata": {
        "colab_type": "text",
        "id": "E6TTlvtY4yjX"
      },
      "source": [
        "# <center><b>Brush Up Python</b></center>\n",
        "\n"
      ]
    },
    {
      "cell_type": "markdown",
      "metadata": {
        "colab_type": "text",
        "id": "KNrWyywx4AZl"
      },
      "source": [
        "## **1. Basics**"
      ]
    },
    {
      "cell_type": "code",
      "execution_count": 1,
      "metadata": {
        "colab": {
          "base_uri": "https://localhost:8080/",
          "height": 34
        },
        "colab_type": "code",
        "id": "5Aqwgx3v4AZo",
        "outputId": "dff5ac38-599b-4f20-d31d-d4ca32073953"
      },
      "outputs": [
        {
          "name": "stdout",
          "output_type": "stream",
          "text": [
            "Hello\n"
          ]
        }
      ],
      "source": [
        "# printing any value\n",
        "print(\"Hello\")"
      ]
    },
    {
      "cell_type": "markdown",
      "metadata": {
        "colab_type": "text",
        "id": "yAxE3Brv4AZy"
      },
      "source": [
        "## 2. Variable\n",
        "A variable is a reserved memory location to store values. A varaiable name must begin alphabet/underscore followed by alphabets/numbers/underscores"
      ]
    },
    {
      "cell_type": "code",
      "execution_count": 2,
      "metadata": {
        "colab": {
          "base_uri": "https://localhost:8080/",
          "height": 85
        },
        "colab_type": "code",
        "id": "U9TUN8dL4AZz",
        "outputId": "65abffec-20cb-4c3a-ed98-4c600e9ee72d"
      },
      "outputs": [
        {
          "name": "stdout",
          "output_type": "stream",
          "text": [
            "3 <class 'int'>\n",
            "99.99 <class 'float'>\n",
            "a <class 'str'>\n",
            "Hello, World! <class 'str'>\n"
          ]
        }
      ],
      "source": [
        "# python data types\n",
        "number = 3\n",
        "float_number = 99.99\n",
        "character = 'a'\n",
        "string = \"Hello, World!\"\n",
        "\n",
        "print(number, type(number))\n",
        "print(float_number, type(float_number))\n",
        "print(character, type(character))\n",
        "print(string, type(string))"
      ]
    },
    {
      "cell_type": "code",
      "execution_count": 1,
      "metadata": {
        "colab": {
          "base_uri": "https://localhost:8080/",
          "height": 102
        },
        "colab_type": "code",
        "id": "4BQa0Ihj4AZ4",
        "outputId": "2f8887ae-2584-4ff1-b2ac-29d1b4ed86dc"
      },
      "outputs": [
        {
          "name": "stdout",
          "output_type": "stream",
          "text": [
            "8\n",
            "4\n",
            "12\n",
            "3.0\n",
            "0\n"
          ]
        }
      ],
      "source": [
        "# writing basic operations\n",
        "a = 6\n",
        "b = 2\n",
        "print(a+b)\n",
        "print(a-b)\n",
        "print(a*b)\n",
        "print(a/b)\n",
        "print(a%b)"
      ]
    },
    {
      "cell_type": "code",
      "execution_count": null,
      "metadata": {
        "colab": {
          "base_uri": "https://localhost:8080/",
          "height": 71
        },
        "colab_type": "code",
        "id": "PZcUeozh4AZ9",
        "outputId": "9feff2b4-1e5a-42dc-d093-0ce27d457ac4"
      },
      "outputs": [],
      "source": [
        "# getting input \n",
        "number = input(\"Enter a number: \")\n",
        "\n",
        "print(number, type(number))"
      ]
    },
    {
      "cell_type": "code",
      "execution_count": 5,
      "metadata": {
        "colab": {
          "base_uri": "https://localhost:8080/",
          "height": 88
        },
        "colab_type": "code",
        "id": "zTfDQM0G4AaI",
        "outputId": "29fcbeba-b0db-4d94-94a5-8e76a58b15f9"
      },
      "outputs": [
        {
          "name": "stdout",
          "output_type": "stream",
          "text": [
            "Enter a number: 07\n",
            "7 <class 'int'>\n",
            "Square of the number: 49\n"
          ]
        }
      ],
      "source": [
        "# casting string to integer\n",
        "number = int(input(\"Enter a number: \"))\n",
        "\n",
        "print(number, type(number))\n",
        "print(\"Square of the number:\", number**2)"
      ]
    },
    {
      "cell_type": "markdown",
      "metadata": {
        "colab_type": "text",
        "id": "rwr__v2S4AaO"
      },
      "source": [
        "## 3. Python Built-in Data Structures"
      ]
    },
    {
      "cell_type": "markdown",
      "metadata": {
        "colab_type": "text",
        "id": "8dTuWdMs4AaP"
      },
      "source": [
        "### 3.1. List\n",
        "* List is an ordered collection of data. \n",
        "* It is mutable and allow duplicates. \n",
        "* It list is created by enclosing the data items with in square brackets delimited by \",\""
      ]
    },
    {
      "cell_type": "code",
      "execution_count": 6,
      "metadata": {
        "colab": {
          "base_uri": "https://localhost:8080/",
          "height": 34
        },
        "colab_type": "code",
        "id": "mzIvWCwN4AaQ",
        "outputId": "a2f90f1f-cfb8-4cad-9794-950084bac36e"
      },
      "outputs": [
        {
          "name": "stdout",
          "output_type": "stream",
          "text": [
            "[35, 68, 96, 80, 90]\n"
          ]
        }
      ],
      "source": [
        "# Creating a list\n",
        "marks = [35, 68, 96, 80, 90]\n",
        "\n",
        "print(marks)"
      ]
    },
    {
      "cell_type": "code",
      "execution_count": 7,
      "metadata": {
        "colab": {
          "base_uri": "https://localhost:8080/",
          "height": 68
        },
        "colab_type": "code",
        "id": "k1a5eCD34AaU",
        "outputId": "da834436-42cd-42e5-f4f8-9147cd5e3753"
      },
      "outputs": [
        {
          "name": "stdout",
          "output_type": "stream",
          "text": [
            "marks[0] : 35\n",
            "marks[len(marks)-1] : 90\n",
            "marks[-1] : 90\n"
          ]
        }
      ],
      "source": [
        "# Indexing list elements\n",
        "print(\"marks[0] : %d\" % marks[0])\n",
        "print(\"marks[len(marks)-1] : %d\" % marks[len(marks)-1])\n",
        "print(\"marks[-1] : %d\" % marks[-1])"
      ]
    },
    {
      "cell_type": "code",
      "execution_count": 8,
      "metadata": {
        "colab": {
          "base_uri": "https://localhost:8080/",
          "height": 34
        },
        "colab_type": "code",
        "id": "qw7cbvvp4AaY",
        "outputId": "82913ef8-1802-4b6e-918b-e921de573bb2"
      },
      "outputs": [
        {
          "name": "stdout",
          "output_type": "stream",
          "text": [
            "[38, 68, 96, 80, 90]\n"
          ]
        }
      ],
      "source": [
        "# Modifying list elemets\n",
        "\n",
        "marks[0] = 38\n",
        "print(marks)"
      ]
    },
    {
      "cell_type": "code",
      "execution_count": 9,
      "metadata": {
        "colab": {
          "base_uri": "https://localhost:8080/",
          "height": 102
        },
        "colab_type": "code",
        "id": "Fn8aHFJH4Aac",
        "outputId": "8e6b426e-9a81-4e71-ba4a-41fb8547c400"
      },
      "outputs": [
        {
          "name": "stdout",
          "output_type": "stream",
          "text": [
            "[38, 68, 96, 80, 90]\n",
            "[38, 68, 96, 80, 90]\n",
            "[38, 68, 96, 80, 90]\n",
            "[38, 68, 96, 80, 90]\n",
            "[96, 80]\n"
          ]
        }
      ],
      "source": [
        "# Slicing the list\n",
        "# Syntax: list[start:end(exclusive)]\n",
        "\n",
        "print(marks[0:len(marks)])\n",
        "print(marks[:len(marks)])\n",
        "print(marks[0:])\n",
        "print(marks[:])\n",
        "print(marks[2:4])"
      ]
    },
    {
      "cell_type": "code",
      "execution_count": 10,
      "metadata": {
        "colab": {
          "base_uri": "https://localhost:8080/",
          "height": 68
        },
        "colab_type": "code",
        "id": "DGmKPwPu4Aag",
        "outputId": "0f94b64e-41e5-412e-b460-21526cd99467"
      },
      "outputs": [
        {
          "name": "stdout",
          "output_type": "stream",
          "text": [
            "[38, 68, 96, 80, 90, 89]\n",
            "[38, 70, 68, 96, 80, 90, 89]\n",
            "[38, 68, 96, 80, 90, 89]\n"
          ]
        }
      ],
      "source": [
        "# Adding and removing list elements\n",
        "\n",
        "marks.append(89)\n",
        "print(marks)\n",
        "\n",
        "marks.insert(1, 70)\n",
        "print(marks)\n",
        "\n",
        "marks.remove(70)\n",
        "print(marks)"
      ]
    },
    {
      "cell_type": "code",
      "execution_count": 11,
      "metadata": {
        "colab": {
          "base_uri": "https://localhost:8080/",
          "height": 51
        },
        "colab_type": "code",
        "id": "DAjZazb94Aak",
        "outputId": "e43e008c-74b0-411d-d3aa-8436db517a79"
      },
      "outputs": [
        {
          "name": "stdout",
          "output_type": "stream",
          "text": [
            "[38, 68, 80, 89, 90, 96]\n",
            "[96, 90, 89, 80, 68, 38]\n"
          ]
        }
      ],
      "source": [
        "# sorting list elements\n",
        "print(sorted(marks))\n",
        "print(sorted(marks, reverse=True))"
      ]
    },
    {
      "cell_type": "code",
      "execution_count": 12,
      "metadata": {
        "colab": {
          "base_uri": "https://localhost:8080/",
          "height": 34
        },
        "colab_type": "code",
        "id": "-aXXMnqv4Aap",
        "outputId": "fe66e662-f7f7-4135-86d0-a1539c70ce76"
      },
      "outputs": [
        {
          "name": "stdout",
          "output_type": "stream",
          "text": [
            "[68, 96, 80, 90, 89]\n"
          ]
        }
      ],
      "source": [
        "# List Comprehesion\n",
        "pass_mark = 50\n",
        "marks_new = [mark for mark in marks if mark > pass_mark]\n",
        "print(marks_new)"
      ]
    },
    {
      "cell_type": "markdown",
      "metadata": {
        "colab_type": "text",
        "id": "g45pDtTM4Aat"
      },
      "source": [
        "### 3.2. Tuple\n",
        "* Tuple is an ordered collection of data. \n",
        "* It is immutable and allow duplicates. \n",
        "* It list is created by enclosing the data items with in round brackets delimited by \",\""
      ]
    },
    {
      "cell_type": "code",
      "execution_count": 13,
      "metadata": {
        "colab": {
          "base_uri": "https://localhost:8080/",
          "height": 34
        },
        "colab_type": "code",
        "id": "7kbQlvDo4Aat",
        "outputId": "46517ad3-29de-4f41-fc63-a6952ffe0cf1"
      },
      "outputs": [
        {
          "name": "stdout",
          "output_type": "stream",
          "text": [
            "(35, 68, 96, 80, 90)\n"
          ]
        }
      ],
      "source": [
        "# Creating a tuple\n",
        "marks = (35, 68, 96, 80, 90)\n",
        "print(marks)"
      ]
    },
    {
      "cell_type": "code",
      "execution_count": 14,
      "metadata": {
        "colab": {
          "base_uri": "https://localhost:8080/",
          "height": 68
        },
        "colab_type": "code",
        "id": "dKS2Lgw_4Aax",
        "outputId": "d1051852-8e2a-4352-b5de-a92e85018cb7"
      },
      "outputs": [
        {
          "name": "stdout",
          "output_type": "stream",
          "text": [
            "marks[0] : 35\n",
            "marks[len(marks)-1] : 90\n",
            "marks[-1] : 90\n"
          ]
        }
      ],
      "source": [
        "# Indexing tuple elements\n",
        "print(\"marks[0] : %d\" % marks[0])\n",
        "print(\"marks[len(marks)-1] : %d\" % marks[len(marks)-1])\n",
        "print(\"marks[-1] : %d\" % marks[-1])"
      ]
    },
    {
      "cell_type": "code",
      "execution_count": 15,
      "metadata": {
        "colab": {
          "base_uri": "https://localhost:8080/",
          "height": 34
        },
        "colab_type": "code",
        "id": "HeGYm-Rf4Aa2",
        "outputId": "9bb57d6e-f66b-498f-a7e7-6f722132d41a"
      },
      "outputs": [
        {
          "name": "stdout",
          "output_type": "stream",
          "text": [
            "(35, 68, 96, 80, 90)\n"
          ]
        }
      ],
      "source": [
        "#  Note: We cannot modify the elemnts in a tuple\n",
        "#marks[0] = 38\n",
        "print(marks)"
      ]
    },
    {
      "cell_type": "code",
      "execution_count": 16,
      "metadata": {
        "colab": {
          "base_uri": "https://localhost:8080/",
          "height": 102
        },
        "colab_type": "code",
        "id": "4cebrSMp4Aa6",
        "outputId": "0ed326f7-c2f0-4a9c-84d7-c0551720c3d5"
      },
      "outputs": [
        {
          "name": "stdout",
          "output_type": "stream",
          "text": [
            "(35, 68, 96, 80, 90)\n",
            "(35, 68, 96, 80, 90)\n",
            "(35, 68, 96, 80, 90)\n",
            "(35, 68, 96, 80, 90)\n",
            "(96, 80)\n"
          ]
        }
      ],
      "source": [
        "# Slicing the tuple\n",
        "# Syntax: tuple[start:end(exclusive)]\n",
        "print(marks[0:len(marks)])\n",
        "print(marks[:len(marks)])\n",
        "print(marks[0:])\n",
        "print(marks[:])\n",
        "\n",
        "print(marks[2:4])"
      ]
    },
    {
      "cell_type": "code",
      "execution_count": 17,
      "metadata": {
        "colab": {
          "base_uri": "https://localhost:8080/",
          "height": 34
        },
        "colab_type": "code",
        "id": "BAdUio0n4Aa-",
        "outputId": "564c9a3f-6c9a-4a59-b0b1-64162c29ac0f"
      },
      "outputs": [
        {
          "name": "stdout",
          "output_type": "stream",
          "text": [
            "(68, 96, 80, 90)\n"
          ]
        }
      ],
      "source": [
        "# tuple Comprehesion\n",
        "pass_mark = 50\n",
        "marks_new = tuple((mark for mark in marks if mark > pass_mark))\n",
        "print(marks_new)"
      ]
    },
    {
      "cell_type": "markdown",
      "metadata": {
        "colab_type": "text",
        "id": "oE2GdE7D4AbD"
      },
      "source": [
        "### 3.3. Set\n",
        "* Set is an unordered collection of data. \n",
        "* It is mutable and does not allow duplicates. \n",
        "* It is created by enclosing the data items with in curly brackets delimited by \",\""
      ]
    },
    {
      "cell_type": "code",
      "execution_count": 18,
      "metadata": {
        "colab": {
          "base_uri": "https://localhost:8080/",
          "height": 34
        },
        "colab_type": "code",
        "id": "A-Xv_uZd4AbD",
        "outputId": "20885dab-8087-4d42-898a-5d9102cba66d"
      },
      "outputs": [
        {
          "name": "stdout",
          "output_type": "stream",
          "text": [
            "{'Madras', 'Bombay', 'Delhi', 'Calcutta'}\n"
          ]
        }
      ],
      "source": [
        "cities = {\"Madras\", \"Delhi\", \"Bombay\", \"Calcutta\", \"Madras\"}\n",
        "\n",
        "print(cities)"
      ]
    },
    {
      "cell_type": "code",
      "execution_count": 19,
      "metadata": {
        "colab": {
          "base_uri": "https://localhost:8080/",
          "height": 85
        },
        "colab_type": "code",
        "id": "5HmWl31O4AbG",
        "outputId": "1b7ef0b8-7971-4469-ff60-abdcb2292a96"
      },
      "outputs": [
        {
          "name": "stdout",
          "output_type": "stream",
          "text": [
            "{1, 2, 3, 4, 5, 6}\n",
            "{4}\n",
            "{1, 2, 3}\n",
            "{1, 2, 3, 5, 6}\n"
          ]
        }
      ],
      "source": [
        "# Set Operations\n",
        "a = {1, 2, 3, 4}\n",
        "b = {4, 5, 6}\n",
        "\n",
        "# Set Union\n",
        "print(a | b)\n",
        "\n",
        "# Set Intersection\n",
        "print(a & b)\n",
        "\n",
        "# Set Difference\n",
        "print(a - b)\n",
        "\n",
        "# Symmetric Difference\n",
        "print(a ^ b)"
      ]
    },
    {
      "cell_type": "code",
      "execution_count": 20,
      "metadata": {
        "colab": {
          "base_uri": "https://localhost:8080/",
          "height": 51
        },
        "colab_type": "code",
        "id": "YMKW1MYZ4AbJ",
        "outputId": "2f270f8f-51dd-44a6-cc92-07e996acdace"
      },
      "outputs": [
        {
          "name": "stdout",
          "output_type": "stream",
          "text": [
            "{1, 2, 3, 4, 7}\n",
            "{1, 2, 3, 4}\n"
          ]
        }
      ],
      "source": [
        "# Adding and removing set elements\n",
        "a.add(7)\n",
        "print(a)\n",
        "\n",
        "a.remove(7)\n",
        "print(a)"
      ]
    },
    {
      "cell_type": "markdown",
      "metadata": {
        "colab_type": "text",
        "id": "4arWxGwA4AbM"
      },
      "source": [
        "### 3.4. Dictionary\n",
        "* Dictionary is an unordered collection of key-values pairs. \n",
        "* It is mutable. \n",
        "* It is created by enclosing the key-value parirs (key:value) with in curly brackets delimited by \",\""
      ]
    },
    {
      "cell_type": "code",
      "execution_count": 21,
      "metadata": {
        "colab": {
          "base_uri": "https://localhost:8080/",
          "height": 34
        },
        "colab_type": "code",
        "id": "4q9xZeDa4AbN",
        "outputId": "95d9aef0-94ce-4625-f7f0-ac617a627716"
      },
      "outputs": [
        {
          "name": "stdout",
          "output_type": "stream",
          "text": [
            "{'name': 'Faizy', 'reg_no': '16NJI6', 'course': 'M.Tech'}\n"
          ]
        }
      ],
      "source": [
        "student = {\"name\":\"Faizy\", \"reg_no\":\"16NJI6\", \"course\":\"M.Tech\"}\n",
        "\n",
        "print(student)"
      ]
    },
    {
      "cell_type": "code",
      "execution_count": 22,
      "metadata": {
        "colab": {
          "base_uri": "https://localhost:8080/",
          "height": 85
        },
        "colab_type": "code",
        "id": "sgNdtURm4AbR",
        "outputId": "377bf7ad-d891-44ee-b4dc-ae2c353eb6a8"
      },
      "outputs": [
        {
          "name": "stdout",
          "output_type": "stream",
          "text": [
            "M.Tech\n",
            "Key: name ; Value: Faizy\n",
            "Key: reg_no ; Value: 16NJI6\n",
            "Key: course ; Value: M.Tech\n"
          ]
        }
      ],
      "source": [
        "# Accessing elements\n",
        "print(student[\"course\"])\n",
        "\n",
        "for key, value in student.items():\n",
        "    print(\"Key: %s ; Value: %s\" % (key, value))"
      ]
    },
    {
      "cell_type": "markdown",
      "metadata": {
        "colab_type": "text",
        "id": "JkLWI_g24AbU"
      },
      "source": [
        "### 3.5. String\n",
        "* A string is a sequence of charactes\n",
        "* It is immutable. \n",
        "* It is created by enclosing text with single/double/triple quotes"
      ]
    },
    {
      "cell_type": "code",
      "execution_count": 23,
      "metadata": {
        "colab": {
          "base_uri": "https://localhost:8080/",
          "height": 34
        },
        "colab_type": "code",
        "id": "8fcBSeW-4AbV",
        "outputId": "84661cd6-17dc-457d-e558-bc5e39a8a7ee"
      },
      "outputs": [
        {
          "name": "stdout",
          "output_type": "stream",
          "text": [
            "Malayalam\n"
          ]
        }
      ],
      "source": [
        "word = \"Malayalam\"\n",
        "print(word)"
      ]
    },
    {
      "cell_type": "code",
      "execution_count": 24,
      "metadata": {
        "colab": {
          "base_uri": "https://localhost:8080/",
          "height": 102
        },
        "colab_type": "code",
        "id": "k6B77vE54AbY",
        "outputId": "33930f98-16f4-492b-e534-eba71401e300"
      },
      "outputs": [
        {
          "name": "stdout",
          "output_type": "stream",
          "text": [
            "malayalam\n",
            "MALAYALAM\n",
            "9\n",
            "False\n",
            "True\n"
          ]
        }
      ],
      "source": [
        "# String operations\n",
        "\n",
        "print(word.lower())\n",
        "print(word.upper())\n",
        "print(len(word))\n",
        "print(word.startswith(\"A\"))\n",
        "print(word.endswith(\"m\"))"
      ]
    },
    {
      "cell_type": "code",
      "execution_count": 25,
      "metadata": {
        "colab": {
          "base_uri": "https://localhost:8080/",
          "height": 34
        },
        "colab_type": "code",
        "id": "PjmnRsLj4Abe",
        "outputId": "383d2365-596d-4f63-9516-a45fb83e3037"
      },
      "outputs": [
        {
          "name": "stdout",
          "output_type": "stream",
          "text": [
            "Malay\n"
          ]
        }
      ],
      "source": [
        "# Slicing the string\n",
        "print(word[0:5])"
      ]
    },
    {
      "cell_type": "code",
      "execution_count": 26,
      "metadata": {
        "colab": {
          "base_uri": "https://localhost:8080/",
          "height": 34
        },
        "colab_type": "code",
        "id": "5kvZI2O54Abi",
        "outputId": "79899f35-e65e-4eea-ca18-0cffdd2d901c"
      },
      "outputs": [
        {
          "name": "stdout",
          "output_type": "stream",
          "text": [
            "['M', 'a', 'l', 'a', 'y', 'a', 'l', 'a', 'm']\n"
          ]
        }
      ],
      "source": [
        "# Coverting string to a list of characters\n",
        "print(list(word))"
      ]
    },
    {
      "cell_type": "code",
      "execution_count": 27,
      "metadata": {
        "colab": {
          "base_uri": "https://localhost:8080/",
          "height": 34
        },
        "colab_type": "code",
        "id": "buxflZi84Abl",
        "outputId": "f96c89ac-dbd9-448e-c361-c9db7842ed49"
      },
      "outputs": [
        {
          "name": "stdout",
          "output_type": "stream",
          "text": [
            "['I', 'love', 'Machine', 'Learning']\n"
          ]
        }
      ],
      "source": [
        "# splitting the text\n",
        "sentence = \"I love Machine Learning\"\n",
        "words = sentence.split(\" \")\n",
        "print(words)"
      ]
    },
    {
      "cell_type": "code",
      "execution_count": 28,
      "metadata": {
        "colab": {
          "base_uri": "https://localhost:8080/",
          "height": 34
        },
        "colab_type": "code",
        "id": "QTBTzN_A4Abo",
        "outputId": "9994c2e3-1ecc-4821-b7e9-64f1cddec97d"
      },
      "outputs": [
        {
          "name": "stdout",
          "output_type": "stream",
          "text": [
            "4\n"
          ]
        }
      ],
      "source": [
        "# finding length of a list\n",
        "print(len(words))"
      ]
    },
    {
      "cell_type": "markdown",
      "metadata": {
        "colab_type": "text",
        "id": "gkvHJljk4Abr"
      },
      "source": [
        "## 4. Control Structures\n",
        "\n",
        "<b>'if...else' syntax:</b>\n",
        "    \n",
        "    if CONDITION:\n",
        "        code block 1\n",
        "    elif CONDITION:\n",
        "        code block 2\n",
        "    ...\n",
        "    else:\n",
        "        code block n"
      ]
    },
    {
      "cell_type": "code",
      "execution_count": 29,
      "metadata": {
        "colab": {},
        "colab_type": "code",
        "id": "sphwK0u84Abs"
      },
      "outputs": [],
      "source": [
        "a = 3\n",
        "b = 5\n",
        "\n",
        "if a > b:\n",
        "    print(\"a is greater than b\")"
      ]
    },
    {
      "cell_type": "code",
      "execution_count": 30,
      "metadata": {
        "colab": {
          "base_uri": "https://localhost:8080/",
          "height": 34
        },
        "colab_type": "code",
        "id": "16VoK1iK4Aby",
        "outputId": "783670ea-1087-4fab-9369-57a407ba2651"
      },
      "outputs": [
        {
          "name": "stdout",
          "output_type": "stream",
          "text": [
            "b is greater than a\n"
          ]
        }
      ],
      "source": [
        "if a > b:\n",
        "    print(\"a is greater than b\")\n",
        "else:\n",
        "    print(\"b is greater than a\")"
      ]
    },
    {
      "cell_type": "code",
      "execution_count": 31,
      "metadata": {
        "colab": {
          "base_uri": "https://localhost:8080/",
          "height": 34
        },
        "colab_type": "code",
        "id": "HORIibnf4Ab4",
        "outputId": "b980b311-b293-466a-8a93-ada40c1cafc0"
      },
      "outputs": [
        {
          "name": "stdout",
          "output_type": "stream",
          "text": [
            "Grade: C\n"
          ]
        }
      ],
      "source": [
        "score = 80\n",
        "grade = None\n",
        "\n",
        "if score > 90:\n",
        "    grade = \"A\"\n",
        "elif score > 80:    \n",
        "    grade = \"B\"\n",
        "elif score > 70:    \n",
        "    grade = \"C\"\n",
        "elif score > 60:    \n",
        "    grade = \"D\"\n",
        "elif score > 50:    \n",
        "    grade = \"E\"\n",
        "else:\n",
        "    grade = \"F\"\n",
        "    \n",
        "print(\"Grade: \" + grade)"
      ]
    },
    {
      "cell_type": "markdown",
      "metadata": {
        "colab_type": "text",
        "id": "6sa-3LQn4Ab8"
      },
      "source": [
        "<b>'for' syntax:</b>\n",
        "    \n",
        "    for ELEMENT in SEQUENCE:\n",
        "        code block"
      ]
    },
    {
      "cell_type": "code",
      "execution_count": 32,
      "metadata": {
        "colab": {
          "base_uri": "https://localhost:8080/",
          "height": 119
        },
        "colab_type": "code",
        "id": "mJa5Dtnt4Ab9",
        "outputId": "842fcdfa-ead5-44a6-a57b-0ecc8b328127"
      },
      "outputs": [
        {
          "name": "stdout",
          "output_type": "stream",
          "text": [
            "Ayush@gmail.com\n",
            "subash@gmail.com\n",
            "ashoke@gmail.com\n",
            "faziy@gmail.com\n",
            "prem@gmail.com\n",
            "ajay@gmail.com\n"
          ]
        }
      ],
      "source": [
        "my_team = [\"Ayush\", \"subash\", \"ashoke\", \"faziy\", \"prem\", \"ajay\"]\n",
        "for person in my_team:\n",
        "    mail = person + \"@gmail.com\"\n",
        "    print(mail)"
      ]
    },
    {
      "cell_type": "code",
      "execution_count": 33,
      "metadata": {
        "colab": {
          "base_uri": "https://localhost:8080/",
          "height": 119
        },
        "colab_type": "code",
        "id": "OS4jPecz4AcA",
        "outputId": "e6a72dc9-d4a3-4ddf-86cb-7cfb70c53a88"
      },
      "outputs": [
        {
          "name": "stdout",
          "output_type": "stream",
          "text": [
            "Ayush@gmail.com\n",
            "subash@gmail.com\n",
            "ashoke@gmail.com\n",
            "faziy@gmail.com\n",
            "prem@gmail.com\n",
            "ajay@gmail.com\n"
          ]
        }
      ],
      "source": [
        "for i in range(len(my_team)):\n",
        "    mail = my_team[i] + \"@gmail.com\"\n",
        "    print(mail)"
      ]
    },
    {
      "cell_type": "markdown",
      "metadata": {
        "colab_type": "text",
        "id": "QeNksfbF4AcF"
      },
      "source": [
        "<b>'while' syntax:</b>\n",
        "    \n",
        "    while CONDITION:\n",
        "        code block"
      ]
    },
    {
      "cell_type": "code",
      "execution_count": 34,
      "metadata": {
        "colab": {
          "base_uri": "https://localhost:8080/",
          "height": 71
        },
        "colab_type": "code",
        "id": "L6obCb3D4AcG",
        "outputId": "fa3da4c4-91d8-4e1a-ecfd-56599970b83c"
      },
      "outputs": [
        {
          "name": "stdout",
          "output_type": "stream",
          "text": [
            "Enter a number: 5\n",
            "5! = 120\n"
          ]
        }
      ],
      "source": [
        "n = int(input(\"Enter a number: \"))\n",
        "\n",
        "n_factorial = 1\n",
        "x = 2\n",
        "while x <= n:\n",
        "    n_factorial = n_factorial * x\n",
        "    x = x+1\n",
        "    \n",
        "print(\"%d! = %d\" % (n, n_factorial))"
      ]
    },
    {
      "cell_type": "markdown",
      "metadata": {
        "colab_type": "text",
        "id": "mG22HYcu4AcJ"
      },
      "source": [
        "## 5. Functions\n",
        "* A function is a block of code that can be reused. \n",
        "* It is defined using the 'def' keyword in python."
      ]
    },
    {
      "cell_type": "markdown",
      "metadata": {
        "colab_type": "text",
        "id": "Xoj8A6ES4AcK"
      },
      "source": [
        "<b>Function syntax:</b>\n",
        "\n",
        "    def function_name(parameters):\n",
        "        code...\n",
        "        return value"
      ]
    },
    {
      "cell_type": "code",
      "execution_count": 35,
      "metadata": {
        "colab": {},
        "colab_type": "code",
        "id": "pq2C_ono4AcL"
      },
      "outputs": [],
      "source": [
        "# Defining the function\n",
        "def area_of_square(length, breadth):\n",
        "    area = length*breadth\n",
        "    return area"
      ]
    },
    {
      "cell_type": "code",
      "execution_count": 36,
      "metadata": {
        "colab": {
          "base_uri": "https://localhost:8080/",
          "height": 34
        },
        "colab_type": "code",
        "id": "wsztH0rY4AcP",
        "outputId": "ffa69a0f-0ccf-4620-a888-b2c1f3d3fed4"
      },
      "outputs": [
        {
          "data": {
            "text/plain": [
              "6"
            ]
          },
          "execution_count": 36,
          "metadata": {
            "tags": []
          },
          "output_type": "execute_result"
        }
      ],
      "source": [
        "# Calling the function\n",
        "area_of_square(2, 3)"
      ]
    },
    {
      "cell_type": "code",
      "execution_count": 37,
      "metadata": {
        "colab": {
          "base_uri": "https://localhost:8080/",
          "height": 51
        },
        "colab_type": "code",
        "id": "ygai5LLj4AcS",
        "outputId": "86688a7c-34b7-4835-b227-25e66f1f9e18"
      },
      "outputs": [
        {
          "name": "stdout",
          "output_type": "stream",
          "text": [
            "Hello Faizy\n",
            "Hello \n"
          ]
        }
      ],
      "source": [
        "# Function with default arguments\n",
        "def greet(name=\"\"):\n",
        "    print(\"Hello \" + name)\n",
        "\n",
        "greet(\"Faizy\")\n",
        "greet()"
      ]
    }
  ],
  "metadata": {
    "colab": {
      "collapsed_sections": [],
      "include_colab_link": true,
      "name": "00_Brush_Up_Python.ipynb",
      "provenance": [],
      "toc_visible": true
    },
    "kernelspec": {
      "display_name": "Python 3.8.3 64-bit",
      "language": "python",
      "name": "python3"
    },
    "language_info": {
      "codemirror_mode": {
        "name": "ipython",
        "version": 3
      },
      "file_extension": ".py",
      "mimetype": "text/x-python",
      "name": "python",
      "nbconvert_exporter": "python",
      "pygments_lexer": "ipython3",
      "version": "3.8.3"
    },
    "vscode": {
      "interpreter": {
        "hash": "63771b42c6a1bf2d1c09fb21a9c2cf359f9c66fdbcbb2cee72f6e16a994ae6af"
      }
    }
  },
  "nbformat": 4,
  "nbformat_minor": 0
}
